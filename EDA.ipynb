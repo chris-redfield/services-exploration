{
 "cells": [
  {
   "cell_type": "code",
   "execution_count": 1,
   "id": "cd80f569-fd72-4fb3-b481-67b3686daad8",
   "metadata": {},
   "outputs": [],
   "source": [
    "import pandas as pd\n",
    "import numpy as np\n",
    "from openai import OpenAI\n",
    "from sklearn.manifold import TSNE\n",
    "import matplotlib.pyplot as plt\n",
    "from mpl_toolkits.mplot3d import Axes3D\n",
    "import seaborn as sns\n",
    "from tqdm.notebook import tqdm\n",
    "import pickle\n",
    "import os\n",
    "from dotenv import load_dotenv\n",
    "\n",
    "import plotly.graph_objects as go\n",
    "import plotly.express as px"
   ]
  },
  {
   "cell_type": "code",
   "execution_count": 2,
   "id": "6b5208a6-8666-4bfb-8d78-3bb3afa9cb2c",
   "metadata": {},
   "outputs": [],
   "source": [
    "\n",
    "load_dotenv()\n",
    "\n",
    "client = OpenAI()"
   ]
  },
  {
   "cell_type": "code",
   "execution_count": 33,
   "id": "cb9e45ca-3200-4002-a318-4259c42eb0e6",
   "metadata": {},
   "outputs": [],
   "source": [
    "def get_embedding(text, model=\"text-embedding-3-small\"):\n",
    "    \"\"\"Get embedding for a given text using OpenAI API\"\"\"\n",
    "    try:\n",
    "        text = text.replace(\"\\n\", \" \")\n",
    "        response = client.embeddings.create(input=[text], model=model)\n",
    "        return response.data[0].embedding\n",
    "    except Exception as e:\n",
    "        print(f\"Error getting embedding: {e}\")\n",
    "        return None\n",
    "\n",
    "def create_embeddings_dataframe(df):\n",
    "    \"\"\"Create embeddings for each row in the dataframe\"\"\"\n",
    "    print(\"Creating embeddings for Q&A pairs...\")\n",
    "    \n",
    "    embeddings_list = []\n",
    "    texts_list = []\n",
    "    \n",
    "    # Iterate through dataframe rows\n",
    "    for index, row in tqdm(df.iterrows(), total=len(df), desc=\"Processing rows\"):\n",
    "        # Combine question and answer for better semantic representation\n",
    "        combined_text = f\"Tópico: {row['Tópico']} | Programa: {row['Programa']} | Pergunta: {row['Pergunta']} \" #| Resposta: {row['Resposta']}\n",
    "        texts_list.append(combined_text)\n",
    "        \n",
    "        # Get embedding\n",
    "        embedding = get_embedding(combined_text)\n",
    "        \n",
    "        if embedding is not None:\n",
    "            embeddings_list.append(embedding)\n",
    "        else:\n",
    "            # If API call fails, add zeros (you might want to handle this differently)\n",
    "            print(f\"Failed to get embedding for row {index}\")\n",
    "            embeddings_list.append([0] * 1536)  # text-embedding-3-small has 1536 dimensions\n",
    "    \n",
    "    # Create embeddings dataframe\n",
    "    embeddings_df = pd.DataFrame(embeddings_list)\n",
    "    \n",
    "    # Add metadata columns\n",
    "    embeddings_df['original_index'] = df.index\n",
    "    embeddings_df['topico'] = df['Tópico'].values\n",
    "    embeddings_df['programa'] = df['Programa'].values\n",
    "    embeddings_df['pergunta'] = df['Pergunta'].values\n",
    "    embeddings_df['resposta'] = df['Resposta'].values\n",
    "    embeddings_df['combined_text'] = texts_list\n",
    "    \n",
    "    return embeddings_df\n",
    "\n",
    "def apply_tsne(embeddings_df):\n",
    "    \"\"\"Apply t-SNE dimensionality reduction\"\"\"\n",
    "    print(\"Applying t-SNE dimensionality reduction...\")\n",
    "    \n",
    "    # Extract only the embedding columns (exclude metadata)\n",
    "    embedding_cols = []\n",
    "    for name, dtype in zip(embeddings_df.columns, embeddings_df.dtypes):\n",
    "        if dtype == np.float64:\n",
    "            embedding_cols.append(name)\n",
    "    embeddings_matrix = embeddings_df[embedding_cols].values\n",
    "    \n",
    "    # t-SNE for 3D\n",
    "    print(\"Reducing to 3D...\")\n",
    "    tsne_3d = TSNE(n_components=3, random_state=42, perplexity=30, n_iter=1000)\n",
    "    embeddings_3d = tsne_3d.fit_transform(embeddings_matrix)\n",
    "    \n",
    "    # t-SNE for 2D\n",
    "    print(\"Reducing to 2D...\")\n",
    "    tsne_2d = TSNE(n_components=2, random_state=42, perplexity=30, n_iter=1000)\n",
    "    embeddings_2d = tsne_2d.fit_transform(embeddings_matrix)\n",
    "    \n",
    "    return embeddings_3d, embeddings_2d\n",
    "\n",
    "def create_3d_plot(embeddings_3d, embeddings_df):\n",
    "    \"\"\"Create interactive 3D visualization using Plotly\"\"\"\n",
    "    \n",
    "    # Get unique topics and assign colors\n",
    "    topics = embeddings_df['topico'].unique()\n",
    "    colors = px.colors.qualitative.Set3[:len(topics)]\n",
    "    \n",
    "    # Create the figure\n",
    "    fig = go.Figure()\n",
    "    \n",
    "    # Add trace for each topic\n",
    "    for i, topic in enumerate(topics):\n",
    "        mask = embeddings_df['topico'] == topic\n",
    "        topic_data = embeddings_df[mask]\n",
    "        topic_coords = embeddings_3d[mask]\n",
    "        \n",
    "        # Create hover text with pergunta\n",
    "        hover_text = [f\"Tópico: {topic}<br>Programa: {programa}<br>Pergunta: {pergunta}\" \n",
    "                     for programa, pergunta in zip(topic_data['programa'], topic_data['pergunta'])]\n",
    "        \n",
    "        fig.add_trace(go.Scatter3d(\n",
    "            x=topic_coords[:, 0],\n",
    "            y=topic_coords[:, 1],\n",
    "            z=topic_coords[:, 2],\n",
    "            mode='markers',\n",
    "            marker=dict(\n",
    "                size=6,\n",
    "                color=colors[i % len(colors)],\n",
    "                opacity=0.7\n",
    "            ),\n",
    "            name=topic,\n",
    "            text=hover_text,\n",
    "            hovertemplate='%{text}<extra></extra>'\n",
    "        ))\n",
    "    \n",
    "    # Update layout\n",
    "    fig.update_layout(\n",
    "        title=\"3D t-SNE Visualization of Q&A Embeddings\",\n",
    "        scene=dict(\n",
    "            xaxis_title=\"t-SNE 1\",\n",
    "            yaxis_title=\"t-SNE 2\",\n",
    "            zaxis_title=\"t-SNE 3\",\n",
    "            camera=dict(\n",
    "                eye=dict(x=1.5, y=1.5, z=1.5)\n",
    "            )\n",
    "        ),\n",
    "        width=1024,\n",
    "        height=768,\n",
    "        legend=dict(\n",
    "            yanchor=\"top\",\n",
    "            y=0.99,\n",
    "            xanchor=\"left\",\n",
    "            x=0.01\n",
    "        )\n",
    "    )\n",
    "    \n",
    "    fig.show()\n",
    "\n",
    "\n",
    "def create_2d_plot(embeddings_2d, embeddings_df):\n",
    "    \"\"\"Create 2D visualization\"\"\"\n",
    "    plt.figure(figsize=(12, 8))\n",
    "    \n",
    "    # Color by topic\n",
    "    topics = embeddings_df['topico'].unique()\n",
    "    \n",
    "    for i, topic in enumerate(topics):\n",
    "        mask = embeddings_df['topico'] == topic\n",
    "        plt.scatter(\n",
    "            embeddings_2d[mask, 0], \n",
    "            embeddings_2d[mask, 1],\n",
    "            label=topic, \n",
    "            alpha=0.7,\n",
    "            s=50\n",
    "        )\n",
    "    \n",
    "    plt.xlabel('t-SNE 1')\n",
    "    plt.ylabel('t-SNE 2')\n",
    "    plt.title('2D t-SNE Visualization of Q&A Embeddings')\n",
    "    plt.legend(bbox_to_anchor=(1.05, 1), loc='upper left')\n",
    "    plt.grid(True, alpha=0.3)\n",
    "    \n",
    "    plt.tight_layout()\n",
    "    plt.savefig('qa_embeddings_2d.png', dpi=300, bbox_inches='tight')\n",
    "    plt.show()"
   ]
  },
  {
   "cell_type": "code",
   "execution_count": 4,
   "id": "1e982514-8da0-417a-853e-b780cf14038c",
   "metadata": {},
   "outputs": [
    {
     "data": {
      "text/plain": [
       "(246, 4)"
      ]
     },
     "execution_count": 4,
     "metadata": {},
     "output_type": "execute_result"
    }
   ],
   "source": [
    "df = pd.read_excel(\"Base de Conhecimento - Jornada do Estudante 2025-08-14.xlsx\")\n",
    "df.shape"
   ]
  },
  {
   "cell_type": "code",
   "execution_count": 5,
   "id": "0c9c0e90-bded-4095-b472-87d3e406e634",
   "metadata": {},
   "outputs": [
    {
     "data": {
      "text/html": [
       "<div>\n",
       "<style scoped>\n",
       "    .dataframe tbody tr th:only-of-type {\n",
       "        vertical-align: middle;\n",
       "    }\n",
       "\n",
       "    .dataframe tbody tr th {\n",
       "        vertical-align: top;\n",
       "    }\n",
       "\n",
       "    .dataframe thead th {\n",
       "        text-align: right;\n",
       "    }\n",
       "</style>\n",
       "<table border=\"1\" class=\"dataframe\">\n",
       "  <thead>\n",
       "    <tr style=\"text-align: right;\">\n",
       "      <th></th>\n",
       "      <th>Tópico</th>\n",
       "      <th>Programa</th>\n",
       "      <th>Pergunta</th>\n",
       "      <th>Resposta</th>\n",
       "    </tr>\n",
       "  </thead>\n",
       "  <tbody>\n",
       "    <tr>\n",
       "      <th>0</th>\n",
       "      <td>Educação Básica</td>\n",
       "      <td>Programa Pé-de-Meia</td>\n",
       "      <td>A escola precisa realizar alguma ação no Progr...</td>\n",
       "      <td>A escola precisa garantir o envio dos dados do...</td>\n",
       "    </tr>\n",
       "    <tr>\n",
       "      <th>1</th>\n",
       "      <td>Educação Básica</td>\n",
       "      <td>Programa Pé-de-Meia</td>\n",
       "      <td>A Rede poderá corrigir os dados enviados a cad...</td>\n",
       "      <td>Sim, a cada mês haverá um período para eventua...</td>\n",
       "    </tr>\n",
       "    <tr>\n",
       "      <th>2</th>\n",
       "      <td>Educação Básica</td>\n",
       "      <td>Programa Pé-de-Meia</td>\n",
       "      <td>Atendo às condicionalidades, mas não quero ser...</td>\n",
       "      <td>O estudante que não quer ser beneficiário do P...</td>\n",
       "    </tr>\n",
       "    <tr>\n",
       "      <th>3</th>\n",
       "      <td>Educação Básica</td>\n",
       "      <td>Programa Pé-de-Meia</td>\n",
       "      <td>Calendário de pagamentos em 2025 para Ensino M...</td>\n",
       "      <td>CALENDÁRIO DE PAGAMENTOS ENSINO MÉDIO EJAParce...</td>\n",
       "    </tr>\n",
       "    <tr>\n",
       "      <th>4</th>\n",
       "      <td>Educação Básica</td>\n",
       "      <td>Programa Pé-de-Meia</td>\n",
       "      <td>Calendário de pagamentos em 2025 para Ensino M...</td>\n",
       "      <td>CALENDÁRIO DE PAGAMENTOS ENSINO MÉDIO REGULARP...</td>\n",
       "    </tr>\n",
       "    <tr>\n",
       "      <th>...</th>\n",
       "      <td>...</td>\n",
       "      <td>...</td>\n",
       "      <td>...</td>\n",
       "      <td>...</td>\n",
       "    </tr>\n",
       "    <tr>\n",
       "      <th>241</th>\n",
       "      <td>Formação técnica</td>\n",
       "      <td>Institutos Federais</td>\n",
       "      <td>Onde encontro cursos técnicos gratuitos perto ...</td>\n",
       "      <td>Os Institutos Federais e outras escolas técnic...</td>\n",
       "    </tr>\n",
       "    <tr>\n",
       "      <th>242</th>\n",
       "      <td>Formação técnica</td>\n",
       "      <td>Institutos Federais</td>\n",
       "      <td>Posso fazer um curso técnico sem ter feito o E...</td>\n",
       "      <td>Cada escola técnica ou Instituto Federal tem s...</td>\n",
       "    </tr>\n",
       "    <tr>\n",
       "      <th>243</th>\n",
       "      <td>Formação técnica</td>\n",
       "      <td>Institutos Federais</td>\n",
       "      <td>Quanto tempo dura um curso técnico?</td>\n",
       "      <td>A maioria dos cursos técnicos pós-médio dura e...</td>\n",
       "    </tr>\n",
       "    <tr>\n",
       "      <th>244</th>\n",
       "      <td>Formação técnica</td>\n",
       "      <td>Institutos Federais</td>\n",
       "      <td>Que áreas de cursos técnicos posso fazer?</td>\n",
       "      <td>Existem opções como informática, enfermagem, l...</td>\n",
       "    </tr>\n",
       "    <tr>\n",
       "      <th>245</th>\n",
       "      <td>Formação técnica</td>\n",
       "      <td>Institutos Federais</td>\n",
       "      <td>Existe bolsa ou ajuda de custo para quem faz c...</td>\n",
       "      <td>Em alguns casos, sim. Instituições públicas po...</td>\n",
       "    </tr>\n",
       "  </tbody>\n",
       "</table>\n",
       "<p>246 rows × 4 columns</p>\n",
       "</div>"
      ],
      "text/plain": [
       "               Tópico             Programa  \\\n",
       "0     Educação Básica  Programa Pé-de-Meia   \n",
       "1     Educação Básica  Programa Pé-de-Meia   \n",
       "2     Educação Básica  Programa Pé-de-Meia   \n",
       "3     Educação Básica  Programa Pé-de-Meia   \n",
       "4     Educação Básica  Programa Pé-de-Meia   \n",
       "..                ...                  ...   \n",
       "241  Formação técnica  Institutos Federais   \n",
       "242  Formação técnica  Institutos Federais   \n",
       "243  Formação técnica  Institutos Federais   \n",
       "244  Formação técnica  Institutos Federais   \n",
       "245  Formação técnica  Institutos Federais   \n",
       "\n",
       "                                              Pergunta  \\\n",
       "0    A escola precisa realizar alguma ação no Progr...   \n",
       "1    A Rede poderá corrigir os dados enviados a cad...   \n",
       "2    Atendo às condicionalidades, mas não quero ser...   \n",
       "3    Calendário de pagamentos em 2025 para Ensino M...   \n",
       "4    Calendário de pagamentos em 2025 para Ensino M...   \n",
       "..                                                 ...   \n",
       "241  Onde encontro cursos técnicos gratuitos perto ...   \n",
       "242  Posso fazer um curso técnico sem ter feito o E...   \n",
       "243                Quanto tempo dura um curso técnico?   \n",
       "244          Que áreas de cursos técnicos posso fazer?   \n",
       "245  Existe bolsa ou ajuda de custo para quem faz c...   \n",
       "\n",
       "                                              Resposta  \n",
       "0    A escola precisa garantir o envio dos dados do...  \n",
       "1    Sim, a cada mês haverá um período para eventua...  \n",
       "2    O estudante que não quer ser beneficiário do P...  \n",
       "3    CALENDÁRIO DE PAGAMENTOS ENSINO MÉDIO EJAParce...  \n",
       "4    CALENDÁRIO DE PAGAMENTOS ENSINO MÉDIO REGULARP...  \n",
       "..                                                 ...  \n",
       "241  Os Institutos Federais e outras escolas técnic...  \n",
       "242  Cada escola técnica ou Instituto Federal tem s...  \n",
       "243  A maioria dos cursos técnicos pós-médio dura e...  \n",
       "244  Existem opções como informática, enfermagem, l...  \n",
       "245  Em alguns casos, sim. Instituições públicas po...  \n",
       "\n",
       "[246 rows x 4 columns]"
      ]
     },
     "execution_count": 5,
     "metadata": {},
     "output_type": "execute_result"
    }
   ],
   "source": [
    "df"
   ]
  },
  {
   "cell_type": "code",
   "execution_count": 6,
   "id": "75858e86-0a1c-4694-85e7-d0259e64858e",
   "metadata": {},
   "outputs": [
    {
     "name": "stdout",
     "output_type": "stream",
     "text": [
      "Creating embeddings for Q&A pairs...\n"
     ]
    },
    {
     "data": {
      "application/vnd.jupyter.widget-view+json": {
       "model_id": "d4d1aeb1edca4b9296353434c36b82c9",
       "version_major": 2,
       "version_minor": 0
      },
      "text/plain": [
       "Processing rows:   0%|          | 0/246 [00:00<?, ?it/s]"
      ]
     },
     "metadata": {},
     "output_type": "display_data"
    }
   ],
   "source": [
    "embeddings_df = create_embeddings_dataframe(df)"
   ]
  },
  {
   "cell_type": "code",
   "execution_count": 13,
   "id": "b149b7e8-9fd2-4767-9920-27429dcf3481",
   "metadata": {},
   "outputs": [
    {
     "data": {
      "text/html": [
       "<div>\n",
       "<style scoped>\n",
       "    .dataframe tbody tr th:only-of-type {\n",
       "        vertical-align: middle;\n",
       "    }\n",
       "\n",
       "    .dataframe tbody tr th {\n",
       "        vertical-align: top;\n",
       "    }\n",
       "\n",
       "    .dataframe thead th {\n",
       "        text-align: right;\n",
       "    }\n",
       "</style>\n",
       "<table border=\"1\" class=\"dataframe\">\n",
       "  <thead>\n",
       "    <tr style=\"text-align: right;\">\n",
       "      <th></th>\n",
       "      <th>0</th>\n",
       "      <th>1</th>\n",
       "      <th>2</th>\n",
       "      <th>3</th>\n",
       "      <th>4</th>\n",
       "      <th>5</th>\n",
       "      <th>6</th>\n",
       "      <th>7</th>\n",
       "      <th>8</th>\n",
       "      <th>9</th>\n",
       "      <th>...</th>\n",
       "      <th>1532</th>\n",
       "      <th>1533</th>\n",
       "      <th>1534</th>\n",
       "      <th>1535</th>\n",
       "      <th>original_index</th>\n",
       "      <th>topico</th>\n",
       "      <th>programa</th>\n",
       "      <th>pergunta</th>\n",
       "      <th>resposta</th>\n",
       "      <th>combined_text</th>\n",
       "    </tr>\n",
       "  </thead>\n",
       "  <tbody>\n",
       "    <tr>\n",
       "      <th>0</th>\n",
       "      <td>0.012805</td>\n",
       "      <td>0.032942</td>\n",
       "      <td>0.017282</td>\n",
       "      <td>0.027930</td>\n",
       "      <td>0.004832</td>\n",
       "      <td>0.029750</td>\n",
       "      <td>0.023541</td>\n",
       "      <td>0.052119</td>\n",
       "      <td>-0.005991</td>\n",
       "      <td>-0.018753</td>\n",
       "      <td>...</td>\n",
       "      <td>-0.007294</td>\n",
       "      <td>0.021471</td>\n",
       "      <td>0.018616</td>\n",
       "      <td>-0.007656</td>\n",
       "      <td>0</td>\n",
       "      <td>Educação Básica</td>\n",
       "      <td>Programa Pé-de-Meia</td>\n",
       "      <td>A escola precisa realizar alguma ação no Progr...</td>\n",
       "      <td>A escola precisa garantir o envio dos dados do...</td>\n",
       "      <td>Tópico: Educação Básica | Programa: Programa P...</td>\n",
       "    </tr>\n",
       "    <tr>\n",
       "      <th>1</th>\n",
       "      <td>0.019040</td>\n",
       "      <td>0.045539</td>\n",
       "      <td>0.019824</td>\n",
       "      <td>0.045231</td>\n",
       "      <td>0.007982</td>\n",
       "      <td>0.022508</td>\n",
       "      <td>-0.007471</td>\n",
       "      <td>0.054685</td>\n",
       "      <td>-0.026416</td>\n",
       "      <td>-0.011076</td>\n",
       "      <td>...</td>\n",
       "      <td>-0.001278</td>\n",
       "      <td>0.004543</td>\n",
       "      <td>0.013505</td>\n",
       "      <td>0.004766</td>\n",
       "      <td>1</td>\n",
       "      <td>Educação Básica</td>\n",
       "      <td>Programa Pé-de-Meia</td>\n",
       "      <td>A Rede poderá corrigir os dados enviados a cad...</td>\n",
       "      <td>Sim, a cada mês haverá um período para eventua...</td>\n",
       "      <td>Tópico: Educação Básica | Programa: Programa P...</td>\n",
       "    </tr>\n",
       "    <tr>\n",
       "      <th>2</th>\n",
       "      <td>0.025132</td>\n",
       "      <td>0.019358</td>\n",
       "      <td>-0.014894</td>\n",
       "      <td>0.038818</td>\n",
       "      <td>-0.014499</td>\n",
       "      <td>0.027371</td>\n",
       "      <td>0.010410</td>\n",
       "      <td>0.058913</td>\n",
       "      <td>-0.008089</td>\n",
       "      <td>-0.032331</td>\n",
       "      <td>...</td>\n",
       "      <td>-0.007771</td>\n",
       "      <td>0.017641</td>\n",
       "      <td>0.002169</td>\n",
       "      <td>0.011485</td>\n",
       "      <td>2</td>\n",
       "      <td>Educação Básica</td>\n",
       "      <td>Programa Pé-de-Meia</td>\n",
       "      <td>Atendo às condicionalidades, mas não quero ser...</td>\n",
       "      <td>O estudante que não quer ser beneficiário do P...</td>\n",
       "      <td>Tópico: Educação Básica | Programa: Programa P...</td>\n",
       "    </tr>\n",
       "    <tr>\n",
       "      <th>3</th>\n",
       "      <td>-0.005007</td>\n",
       "      <td>0.003180</td>\n",
       "      <td>0.011227</td>\n",
       "      <td>0.017593</td>\n",
       "      <td>-0.006887</td>\n",
       "      <td>0.041370</td>\n",
       "      <td>0.004474</td>\n",
       "      <td>0.029587</td>\n",
       "      <td>-0.023649</td>\n",
       "      <td>-0.037669</td>\n",
       "      <td>...</td>\n",
       "      <td>-0.005359</td>\n",
       "      <td>0.020826</td>\n",
       "      <td>0.006565</td>\n",
       "      <td>-0.031742</td>\n",
       "      <td>3</td>\n",
       "      <td>Educação Básica</td>\n",
       "      <td>Programa Pé-de-Meia</td>\n",
       "      <td>Calendário de pagamentos em 2025 para Ensino M...</td>\n",
       "      <td>CALENDÁRIO DE PAGAMENTOS ENSINO MÉDIO EJAParce...</td>\n",
       "      <td>Tópico: Educação Básica | Programa: Programa P...</td>\n",
       "    </tr>\n",
       "    <tr>\n",
       "      <th>4</th>\n",
       "      <td>0.006658</td>\n",
       "      <td>0.008195</td>\n",
       "      <td>0.012566</td>\n",
       "      <td>0.016074</td>\n",
       "      <td>-0.006512</td>\n",
       "      <td>0.041932</td>\n",
       "      <td>-0.000520</td>\n",
       "      <td>0.029660</td>\n",
       "      <td>-0.030716</td>\n",
       "      <td>-0.032124</td>\n",
       "      <td>...</td>\n",
       "      <td>-0.011908</td>\n",
       "      <td>0.021177</td>\n",
       "      <td>0.008019</td>\n",
       "      <td>-0.037849</td>\n",
       "      <td>4</td>\n",
       "      <td>Educação Básica</td>\n",
       "      <td>Programa Pé-de-Meia</td>\n",
       "      <td>Calendário de pagamentos em 2025 para Ensino M...</td>\n",
       "      <td>CALENDÁRIO DE PAGAMENTOS ENSINO MÉDIO REGULARP...</td>\n",
       "      <td>Tópico: Educação Básica | Programa: Programa P...</td>\n",
       "    </tr>\n",
       "    <tr>\n",
       "      <th>...</th>\n",
       "      <td>...</td>\n",
       "      <td>...</td>\n",
       "      <td>...</td>\n",
       "      <td>...</td>\n",
       "      <td>...</td>\n",
       "      <td>...</td>\n",
       "      <td>...</td>\n",
       "      <td>...</td>\n",
       "      <td>...</td>\n",
       "      <td>...</td>\n",
       "      <td>...</td>\n",
       "      <td>...</td>\n",
       "      <td>...</td>\n",
       "      <td>...</td>\n",
       "      <td>...</td>\n",
       "      <td>...</td>\n",
       "      <td>...</td>\n",
       "      <td>...</td>\n",
       "      <td>...</td>\n",
       "      <td>...</td>\n",
       "      <td>...</td>\n",
       "    </tr>\n",
       "    <tr>\n",
       "      <th>241</th>\n",
       "      <td>-0.076146</td>\n",
       "      <td>0.021971</td>\n",
       "      <td>0.010280</td>\n",
       "      <td>0.016833</td>\n",
       "      <td>-0.012519</td>\n",
       "      <td>0.008293</td>\n",
       "      <td>0.019150</td>\n",
       "      <td>0.043818</td>\n",
       "      <td>-0.035808</td>\n",
       "      <td>-0.017358</td>\n",
       "      <td>...</td>\n",
       "      <td>-0.020025</td>\n",
       "      <td>-0.012437</td>\n",
       "      <td>-0.008427</td>\n",
       "      <td>0.039762</td>\n",
       "      <td>241</td>\n",
       "      <td>Formação técnica</td>\n",
       "      <td>Institutos Federais</td>\n",
       "      <td>Onde encontro cursos técnicos gratuitos perto ...</td>\n",
       "      <td>Os Institutos Federais e outras escolas técnic...</td>\n",
       "      <td>Tópico: Formação técnica | Programa: Instituto...</td>\n",
       "    </tr>\n",
       "    <tr>\n",
       "      <th>242</th>\n",
       "      <td>-0.037857</td>\n",
       "      <td>0.016454</td>\n",
       "      <td>-0.037413</td>\n",
       "      <td>-0.017533</td>\n",
       "      <td>0.021012</td>\n",
       "      <td>0.020726</td>\n",
       "      <td>0.003014</td>\n",
       "      <td>0.022587</td>\n",
       "      <td>-0.011410</td>\n",
       "      <td>0.022164</td>\n",
       "      <td>...</td>\n",
       "      <td>0.000810</td>\n",
       "      <td>-0.009411</td>\n",
       "      <td>0.004748</td>\n",
       "      <td>0.030201</td>\n",
       "      <td>242</td>\n",
       "      <td>Formação técnica</td>\n",
       "      <td>Institutos Federais</td>\n",
       "      <td>Posso fazer um curso técnico sem ter feito o E...</td>\n",
       "      <td>Cada escola técnica ou Instituto Federal tem s...</td>\n",
       "      <td>Tópico: Formação técnica | Programa: Instituto...</td>\n",
       "    </tr>\n",
       "    <tr>\n",
       "      <th>243</th>\n",
       "      <td>-0.071205</td>\n",
       "      <td>0.021515</td>\n",
       "      <td>-0.016263</td>\n",
       "      <td>-0.022649</td>\n",
       "      <td>-0.020220</td>\n",
       "      <td>0.041108</td>\n",
       "      <td>0.049305</td>\n",
       "      <td>0.000130</td>\n",
       "      <td>0.006775</td>\n",
       "      <td>0.028701</td>\n",
       "      <td>...</td>\n",
       "      <td>-0.015281</td>\n",
       "      <td>-0.000371</td>\n",
       "      <td>0.016101</td>\n",
       "      <td>0.051168</td>\n",
       "      <td>243</td>\n",
       "      <td>Formação técnica</td>\n",
       "      <td>Institutos Federais</td>\n",
       "      <td>Quanto tempo dura um curso técnico?</td>\n",
       "      <td>A maioria dos cursos técnicos pós-médio dura e...</td>\n",
       "      <td>Tópico: Formação técnica | Programa: Instituto...</td>\n",
       "    </tr>\n",
       "    <tr>\n",
       "      <th>244</th>\n",
       "      <td>-0.041606</td>\n",
       "      <td>0.011062</td>\n",
       "      <td>0.006131</td>\n",
       "      <td>-0.007361</td>\n",
       "      <td>-0.002134</td>\n",
       "      <td>0.014316</td>\n",
       "      <td>0.011550</td>\n",
       "      <td>0.041280</td>\n",
       "      <td>-0.017407</td>\n",
       "      <td>0.006817</td>\n",
       "      <td>...</td>\n",
       "      <td>-0.011632</td>\n",
       "      <td>-0.013116</td>\n",
       "      <td>0.019450</td>\n",
       "      <td>0.045673</td>\n",
       "      <td>244</td>\n",
       "      <td>Formação técnica</td>\n",
       "      <td>Institutos Federais</td>\n",
       "      <td>Que áreas de cursos técnicos posso fazer?</td>\n",
       "      <td>Existem opções como informática, enfermagem, l...</td>\n",
       "      <td>Tópico: Formação técnica | Programa: Instituto...</td>\n",
       "    </tr>\n",
       "    <tr>\n",
       "      <th>245</th>\n",
       "      <td>-0.056128</td>\n",
       "      <td>0.020183</td>\n",
       "      <td>-0.000416</td>\n",
       "      <td>0.007083</td>\n",
       "      <td>-0.024792</td>\n",
       "      <td>0.017108</td>\n",
       "      <td>0.016476</td>\n",
       "      <td>0.036432</td>\n",
       "      <td>-0.012862</td>\n",
       "      <td>-0.032890</td>\n",
       "      <td>...</td>\n",
       "      <td>-0.018164</td>\n",
       "      <td>-0.004432</td>\n",
       "      <td>0.006395</td>\n",
       "      <td>0.020049</td>\n",
       "      <td>245</td>\n",
       "      <td>Formação técnica</td>\n",
       "      <td>Institutos Federais</td>\n",
       "      <td>Existe bolsa ou ajuda de custo para quem faz c...</td>\n",
       "      <td>Em alguns casos, sim. Instituições públicas po...</td>\n",
       "      <td>Tópico: Formação técnica | Programa: Instituto...</td>\n",
       "    </tr>\n",
       "  </tbody>\n",
       "</table>\n",
       "<p>246 rows × 1542 columns</p>\n",
       "</div>"
      ],
      "text/plain": [
       "            0         1         2         3         4         5         6  \\\n",
       "0    0.012805  0.032942  0.017282  0.027930  0.004832  0.029750  0.023541   \n",
       "1    0.019040  0.045539  0.019824  0.045231  0.007982  0.022508 -0.007471   \n",
       "2    0.025132  0.019358 -0.014894  0.038818 -0.014499  0.027371  0.010410   \n",
       "3   -0.005007  0.003180  0.011227  0.017593 -0.006887  0.041370  0.004474   \n",
       "4    0.006658  0.008195  0.012566  0.016074 -0.006512  0.041932 -0.000520   \n",
       "..        ...       ...       ...       ...       ...       ...       ...   \n",
       "241 -0.076146  0.021971  0.010280  0.016833 -0.012519  0.008293  0.019150   \n",
       "242 -0.037857  0.016454 -0.037413 -0.017533  0.021012  0.020726  0.003014   \n",
       "243 -0.071205  0.021515 -0.016263 -0.022649 -0.020220  0.041108  0.049305   \n",
       "244 -0.041606  0.011062  0.006131 -0.007361 -0.002134  0.014316  0.011550   \n",
       "245 -0.056128  0.020183 -0.000416  0.007083 -0.024792  0.017108  0.016476   \n",
       "\n",
       "            7         8         9  ...      1532      1533      1534  \\\n",
       "0    0.052119 -0.005991 -0.018753  ... -0.007294  0.021471  0.018616   \n",
       "1    0.054685 -0.026416 -0.011076  ... -0.001278  0.004543  0.013505   \n",
       "2    0.058913 -0.008089 -0.032331  ... -0.007771  0.017641  0.002169   \n",
       "3    0.029587 -0.023649 -0.037669  ... -0.005359  0.020826  0.006565   \n",
       "4    0.029660 -0.030716 -0.032124  ... -0.011908  0.021177  0.008019   \n",
       "..        ...       ...       ...  ...       ...       ...       ...   \n",
       "241  0.043818 -0.035808 -0.017358  ... -0.020025 -0.012437 -0.008427   \n",
       "242  0.022587 -0.011410  0.022164  ...  0.000810 -0.009411  0.004748   \n",
       "243  0.000130  0.006775  0.028701  ... -0.015281 -0.000371  0.016101   \n",
       "244  0.041280 -0.017407  0.006817  ... -0.011632 -0.013116  0.019450   \n",
       "245  0.036432 -0.012862 -0.032890  ... -0.018164 -0.004432  0.006395   \n",
       "\n",
       "         1535  original_index            topico             programa  \\\n",
       "0   -0.007656               0   Educação Básica  Programa Pé-de-Meia   \n",
       "1    0.004766               1   Educação Básica  Programa Pé-de-Meia   \n",
       "2    0.011485               2   Educação Básica  Programa Pé-de-Meia   \n",
       "3   -0.031742               3   Educação Básica  Programa Pé-de-Meia   \n",
       "4   -0.037849               4   Educação Básica  Programa Pé-de-Meia   \n",
       "..        ...             ...               ...                  ...   \n",
       "241  0.039762             241  Formação técnica  Institutos Federais   \n",
       "242  0.030201             242  Formação técnica  Institutos Federais   \n",
       "243  0.051168             243  Formação técnica  Institutos Federais   \n",
       "244  0.045673             244  Formação técnica  Institutos Federais   \n",
       "245  0.020049             245  Formação técnica  Institutos Federais   \n",
       "\n",
       "                                              pergunta  \\\n",
       "0    A escola precisa realizar alguma ação no Progr...   \n",
       "1    A Rede poderá corrigir os dados enviados a cad...   \n",
       "2    Atendo às condicionalidades, mas não quero ser...   \n",
       "3    Calendário de pagamentos em 2025 para Ensino M...   \n",
       "4    Calendário de pagamentos em 2025 para Ensino M...   \n",
       "..                                                 ...   \n",
       "241  Onde encontro cursos técnicos gratuitos perto ...   \n",
       "242  Posso fazer um curso técnico sem ter feito o E...   \n",
       "243                Quanto tempo dura um curso técnico?   \n",
       "244          Que áreas de cursos técnicos posso fazer?   \n",
       "245  Existe bolsa ou ajuda de custo para quem faz c...   \n",
       "\n",
       "                                              resposta  \\\n",
       "0    A escola precisa garantir o envio dos dados do...   \n",
       "1    Sim, a cada mês haverá um período para eventua...   \n",
       "2    O estudante que não quer ser beneficiário do P...   \n",
       "3    CALENDÁRIO DE PAGAMENTOS ENSINO MÉDIO EJAParce...   \n",
       "4    CALENDÁRIO DE PAGAMENTOS ENSINO MÉDIO REGULARP...   \n",
       "..                                                 ...   \n",
       "241  Os Institutos Federais e outras escolas técnic...   \n",
       "242  Cada escola técnica ou Instituto Federal tem s...   \n",
       "243  A maioria dos cursos técnicos pós-médio dura e...   \n",
       "244  Existem opções como informática, enfermagem, l...   \n",
       "245  Em alguns casos, sim. Instituições públicas po...   \n",
       "\n",
       "                                         combined_text  \n",
       "0    Tópico: Educação Básica | Programa: Programa P...  \n",
       "1    Tópico: Educação Básica | Programa: Programa P...  \n",
       "2    Tópico: Educação Básica | Programa: Programa P...  \n",
       "3    Tópico: Educação Básica | Programa: Programa P...  \n",
       "4    Tópico: Educação Básica | Programa: Programa P...  \n",
       "..                                                 ...  \n",
       "241  Tópico: Formação técnica | Programa: Instituto...  \n",
       "242  Tópico: Formação técnica | Programa: Instituto...  \n",
       "243  Tópico: Formação técnica | Programa: Instituto...  \n",
       "244  Tópico: Formação técnica | Programa: Instituto...  \n",
       "245  Tópico: Formação técnica | Programa: Instituto...  \n",
       "\n",
       "[246 rows x 1542 columns]"
      ]
     },
     "execution_count": 13,
     "metadata": {},
     "output_type": "execute_result"
    }
   ],
   "source": [
    "embeddings_df"
   ]
  },
  {
   "cell_type": "code",
   "execution_count": 9,
   "id": "7173b8f7-7150-43fe-870c-23d6aec87616",
   "metadata": {},
   "outputs": [
    {
     "name": "stdout",
     "output_type": "stream",
     "text": [
      "Saving embeddings dataframe...\n"
     ]
    }
   ],
   "source": [
    "print(\"Saving embeddings dataframe...\")\n",
    "embeddings_df.to_csv('qa_embeddings.csv', index=False)"
   ]
  },
  {
   "cell_type": "code",
   "execution_count": 10,
   "id": "74fb9036-9798-4bea-ab3e-4d6e77719495",
   "metadata": {},
   "outputs": [],
   "source": [
    "with open('qa_embeddings.pkl', 'wb') as f:\n",
    "    pickle.dump(embeddings_df, f)"
   ]
  },
  {
   "cell_type": "code",
   "execution_count": 11,
   "id": "68c66ab8-c62f-4201-87fa-9260246ae806",
   "metadata": {},
   "outputs": [
    {
     "name": "stdout",
     "output_type": "stream",
     "text": [
      "Embeddings dataframe saved! Shape: (246, 1542)\n"
     ]
    }
   ],
   "source": [
    "print(f\"Embeddings dataframe saved! Shape: {embeddings_df.shape}\")"
   ]
  },
  {
   "cell_type": "markdown",
   "id": "580a3b5e-f1d0-408a-b923-7c53bffa3d76",
   "metadata": {},
   "source": [
    "### Start from here if you already generated the embeddings "
   ]
  },
  {
   "cell_type": "code",
   "execution_count": 15,
   "id": "66d3e2a0-209f-42f7-8246-14e012cd9c79",
   "metadata": {},
   "outputs": [],
   "source": [
    "embeddings_df = pd.read_csv('qa_embeddings.csv')"
   ]
  },
  {
   "cell_type": "code",
   "execution_count": 17,
   "id": "5afcd976-1b85-43e7-92e1-dc10dc14fa7f",
   "metadata": {},
   "outputs": [
    {
     "data": {
      "text/plain": [
       "0                float64\n",
       "1                float64\n",
       "2                float64\n",
       "3                float64\n",
       "4                float64\n",
       "                  ...   \n",
       "topico            object\n",
       "programa          object\n",
       "pergunta          object\n",
       "resposta          object\n",
       "combined_text     object\n",
       "Length: 1542, dtype: object"
      ]
     },
     "execution_count": 17,
     "metadata": {},
     "output_type": "execute_result"
    }
   ],
   "source": [
    "embeddings_df.dtypes"
   ]
  },
  {
   "cell_type": "code",
   "execution_count": 34,
   "id": "a47b68bf-61e9-403a-9d2e-22cef2940c44",
   "metadata": {},
   "outputs": [
    {
     "name": "stdout",
     "output_type": "stream",
     "text": [
      "Applying t-SNE dimensionality reduction...\n",
      "Reducing to 3D...\n"
     ]
    },
    {
     "name": "stderr",
     "output_type": "stream",
     "text": [
      "/home/cmoryah/anaconda3/envs/chatbot/lib/python3.10/site-packages/sklearn/manifold/_t_sne.py:1164: FutureWarning: 'n_iter' was renamed to 'max_iter' in version 1.5 and will be removed in 1.7.\n",
      "  warnings.warn(\n"
     ]
    },
    {
     "name": "stdout",
     "output_type": "stream",
     "text": [
      "Reducing to 2D...\n"
     ]
    },
    {
     "name": "stderr",
     "output_type": "stream",
     "text": [
      "/home/cmoryah/anaconda3/envs/chatbot/lib/python3.10/site-packages/sklearn/manifold/_t_sne.py:1164: FutureWarning: 'n_iter' was renamed to 'max_iter' in version 1.5 and will be removed in 1.7.\n",
      "  warnings.warn(\n"
     ]
    }
   ],
   "source": [
    "embeddings_3d, embeddings_2d = apply_tsne(embeddings_df)"
   ]
  },
  {
   "cell_type": "code",
   "execution_count": 35,
   "id": "565afd3a-81b2-4840-b048-660f3dc7114b",
   "metadata": {},
   "outputs": [
    {
     "data": {
      "text/plain": [
       "array([[ -4.020558 ,  14.088811 , -11.874476 ],\n",
       "       [ -9.466651 , -30.917246 ,  -9.931134 ],\n",
       "       [ 15.58817  ,  32.916412 , -20.995728 ],\n",
       "       [ 25.219091 ,   2.6078668,  -6.3339596],\n",
       "       [ 23.757915 ,   2.2764559, -11.458394 ],\n",
       "       [  2.4266217,  19.836    , -36.45132  ],\n",
       "       [  7.5876226,  18.99033  , -26.691065 ],\n",
       "       [-11.012233 , -16.476336 , -17.814642 ],\n",
       "       [  8.20212  , -35.168983 ,  -2.1371229],\n",
       "       [ -8.477002 ,  -5.758851 ,  -1.0527217],\n",
       "       [ 24.531544 , -17.258368 ,   1.2357774],\n",
       "       [  5.102739 ,  -6.256683 ,   5.604626 ],\n",
       "       [ 18.83104  , -17.623253 ,  11.484649 ],\n",
       "       [ 28.385773 , -17.15695  , -24.836405 ],\n",
       "       [  9.69565  , -31.774927 , -22.61401  ],\n",
       "       [ 13.106539 , -27.750229 , -26.718472 ],\n",
       "       [ 29.748516 , -12.331655 , -27.711477 ],\n",
       "       [ -4.3909883, -15.51398  , -30.40179  ],\n",
       "       [ -1.4981985, -20.69872  , -35.621788 ],\n",
       "       [ -9.721706 ,  -7.5694995, -10.135995 ]], dtype=float32)"
      ]
     },
     "execution_count": 35,
     "metadata": {},
     "output_type": "execute_result"
    }
   ],
   "source": [
    "embeddings_3d[:20]"
   ]
  },
  {
   "cell_type": "code",
   "execution_count": 36,
   "id": "e935e98f-54b4-4f69-ab91-8aa76bd4362b",
   "metadata": {},
   "outputs": [
    {
     "data": {
      "application/vnd.plotly.v1+json": {
       "config": {
        "plotlyServerURL": "https://plot.ly"
       },
       "data": [
        {
         "hovertemplate": "%{text}<extra></extra>",
         "marker": {
          "color": "rgb(141,211,199)",
          "opacity": 0.7,
          "size": 6
         },
         "mode": "markers",
         "name": "Educação Básica",
         "text": [
          "Tópico: Educação Básica<br>Programa: Programa Pé-de-Meia<br>Pergunta: A escola precisa realizar alguma ação no Programa Pé-de-Meia?",
          "Tópico: Educação Básica<br>Programa: Programa Pé-de-Meia<br>Pergunta: A Rede poderá corrigir os dados enviados a cada mês?",
          "Tópico: Educação Básica<br>Programa: Programa Pé-de-Meia<br>Pergunta: Atendo às condicionalidades, mas não quero ser beneficiário. Como faço para não  receber o incentivo?",
          "Tópico: Educação Básica<br>Programa: Programa Pé-de-Meia<br>Pergunta: Calendário de pagamentos em 2025 para Ensino Médio EJA",
          "Tópico: Educação Básica<br>Programa: Programa Pé-de-Meia<br>Pergunta: Calendário de pagamentos em 2025 para Ensino Médio Regular",
          "Tópico: Educação Básica<br>Programa: Programa Pé-de-Meia<br>Pergunta: Caso o estudante seja transferido do ensino regular para a EJA, perde o benefício?",
          "Tópico: Educação Básica<br>Programa: Programa Pé-de-Meia<br>Pergunta: Caso um estudante perca um dos requisitos de elegibilidade antes do final do ano  letivo, deixará de receber os incentivos?",
          "Tópico: Educação Básica<br>Programa: Programa Pé-de-Meia<br>Pergunta: Com qual periodicidade é realizada a verificação das informações de elegibilidade?",
          "Tópico: Educação Básica<br>Programa: Programa Pé-de-Meia<br>Pergunta: Comecei no ensino médio em 2025, mas meus dados não estão no aplicativo Jornada do Estudante. O que fazer?",
          "Tópico: Educação Básica<br>Programa: Programa Pé-de-Meia<br>Pergunta: Como a frequência é calculada no Pé-de-Meia?",
          "Tópico: Educação Básica<br>Programa: Programa Pé-de-Meia<br>Pergunta: Como acessar o aplicativo CAIXA Tem?",
          "Tópico: Educação Básica<br>Programa: Programa Pé-de-Meia<br>Pergunta: Como acessar o SIMEC?",
          "Tópico: Educação Básica<br>Programa: Programa Pé-de-Meia<br>Pergunta: Como faço para recuperar a senha do aplicativo?",
          "Tópico: Educação Básica<br>Programa: Programa Pé-de-Meia<br>Pergunta: Como faço para retirar/utilizar a poupança?",
          "Tópico: Educação Básica<br>Programa: Programa Pé-de-Meia<br>Pergunta: Como funciona a assinatura do Termo de Compromisso por parte dos Sistemas de Ensino?",
          "Tópico: Educação Básica<br>Programa: Programa Pé-de-Meia<br>Pergunta: Como os entes podem assinar o termo de compromisso no SIMEC?",
          "Tópico: Educação Básica<br>Programa: Programa Pé-de-Meia<br>Pergunta: Como poderei gastar/investir o valor recebido pela poupança?",
          "Tópico: Educação Básica<br>Programa: Programa Pé-de-Meia<br>Pergunta: Como posso me inscrever no CadÚnico?",
          "Tópico: Educação Básica<br>Programa: Programa Pé-de-Meia<br>Pergunta: Como posso saber se eu ou algum membro da minha família está cadastrado no  Cadúnico?",
          "Tópico: Educação Básica<br>Programa: Programa Pé-de-Meia<br>Pergunta: Como será aferida a frequência dos estudantes de ensino médio articulada à educação  técnica de forma integrada?",
          "Tópico: Educação Básica<br>Programa: Programa Pé-de-Meia<br>Pergunta: Como será realizado o pagamento?",
          "Tópico: Educação Básica<br>Programa: Programa Pé-de-Meia<br>Pergunta: Como vai se dar a verificação da aprovação dos estudantes?",
          "Tópico: Educação Básica<br>Programa: Programa Pé-de-Meia<br>Pergunta: Como vai se dar a verificação da frequência dos estudantes?",
          "Tópico: Educação Básica<br>Programa: Programa Pé-de-Meia<br>Pergunta: Compareci a apenas um dos dias da prova do Enem em 2024, terei direito a essa parcela?",
          "Tópico: Educação Básica<br>Programa: Programa Pé-de-Meia<br>Pergunta: Concluí o Ensino Médio em 2024 por meio de exame de aceleração, mas ainda não recebi o valor referente à conclusão. O que pode ter ocorrido?",
          "Tópico: Educação Básica<br>Programa: Programa Pé-de-Meia<br>Pergunta: Critério para recebimento do incentivo frequência.",
          "Tópico: Educação Básica<br>Programa: Programa Pé-de-Meia<br>Pergunta: Data de referência do CadÚnico para 2025",
          "Tópico: Educação Básica<br>Programa: Programa Pé-de-Meia<br>Pergunta: De quanto em quanto tempo a rede deverá enviar os dados dos estudantes?",
          "Tópico: Educação Básica<br>Programa: Programa Pé-de-Meia<br>Pergunta: De quem é a responsabilidade de envio de dados do estudante?",
          "Tópico: Educação Básica<br>Programa: Programa Pé-de-Meia<br>Pergunta: É necessário enviar a lista dos estudantes do ensino técnico matriculados na rede estadual na Educação Básica?",
          "Tópico: Educação Básica<br>Programa: Programa Pé-de-Meia<br>Pergunta: Em caso de falecimento do estudante, a família terá direito a receber o benefício?",
          "Tópico: Educação Básica<br>Programa: Programa Pé-de-Meia<br>Pergunta: Em caso de greve, como fica a frequência dos estudantes?",
          "Tópico: Educação Básica<br>Programa: Programa Pé-de-Meia<br>Pergunta: Em casos de intercorrências que impeçam a frequência do estudante, este deixará de  receber o benefício? O que fazer neste caso?",
          "Tópico: Educação Básica<br>Programa: Programa Pé-de-Meia<br>Pergunta: Encerrei pelo Aplicativo CAIXA Tem, minha conta em que recebo o Pé-de-Meia. Como posso receber o incentivo?",
          "Tópico: Educação Básica<br>Programa: Programa Pé-de-Meia<br>Pergunta: Estou tentando baixar o aplicativo e não estou conseguindo. O que fazer?",
          "Tópico: Educação Básica<br>Programa: Programa Pé-de-Meia<br>Pergunta: Estudante que recebeu o Incentivo Conclusão, mas não recebeu o Incentivo ENEM.",
          "Tópico: Educação Básica<br>Programa: Programa Pé-de-Meia<br>Pergunta: Estudante que trocou de escola e não está recebendo os incentivos.",
          "Tópico: Educação Básica<br>Programa: Programa Pé-de-Meia<br>Pergunta: Estudante sem NIS no CadÚnico",
          "Tópico: Educação Básica<br>Programa: Programa Pé-de-Meia<br>Pergunta: Estudante, em contato com a escola que oferta ensino médio, verificou que ela ainda não está participando do Programa Pé-de-Meia, o que fazer?",
          "Tópico: Educação Básica<br>Programa: Programa Pé-de-Meia<br>Pergunta: Estudantes beneficiários do Bolsa Família matriculados na rede privada poderão  participar do Pé-de-Meia?",
          "Tópico: Educação Básica<br>Programa: Programa Pé-de-Meia<br>Pergunta: Estudantes do Bolsa Família desde janeiro de 2024 têm direito a pagamento retroativo?",
          "Tópico: Educação Básica<br>Programa: Programa Pé-de-Meia<br>Pergunta: Estudantes matriculados em escolas de tempo integral poderão ser beneficiados?",
          "Tópico: Educação Básica<br>Programa: Programa Pé-de-Meia<br>Pergunta: Estudantes que não possuem o CPF poderão receber o benefício?",
          "Tópico: Educação Básica<br>Programa: Programa Pé-de-Meia<br>Pergunta: Estudo na EJA à distância e não tenho registro de frequência. Qual será o critério para que eu possa receber o benefício?",
          "Tópico: Educação Básica<br>Programa: Programa Pé-de-Meia<br>Pergunta: Existe alguma atualização que deve ser feita pela escola de necessidade de atualização de cadastro?",
          "Tópico: Educação Básica<br>Programa: Programa Pé-de-Meia<br>Pergunta: Existe uma cota para cada estado, município ou rede federal?",
          "Tópico: Educação Básica<br>Programa: Programa Pé-de-Meia<br>Pergunta: Família inscrita no CadÚnico, não beneficiária do Bolsa Família, receberá o pagamento retroativo do primeiro semestre?",
          "Tópico: Educação Básica<br>Programa: Programa Pé-de-Meia<br>Pergunta: Famílias unipessoais podem receber o benefício?",
          "Tópico: Educação Básica<br>Programa: Programa Pé-de-Meia<br>Pergunta: Fui aprovado e concluí o ensino médio no ano letivo de 2024, mas não recebi os R$ 1.000 do Pé-de-Meia. O que pode ter acontecido?",
          "Tópico: Educação Básica<br>Programa: Programa Pé-de-Meia<br>Pergunta: Incentivos Conclusão e Enem: Entenda os pagamentos.",
          "Tópico: Educação Básica<br>Programa: Programa Pé-de-Meia<br>Pergunta: Iniciei o ano com frequência acima de 80%, mas no mês seguinte estive abaixo. Receberei a parcela daquele mês?",
          "Tópico: Educação Básica<br>Programa: Programa Pé-de-Meia<br>Pergunta: Iniciei o ano regularmente matriculado em uma unidade escolar de Ensino Médio da rede pública, mas deixei de frequentar a escola. Seguirei recebendo o incentivo?",
          "Tópico: Educação Básica<br>Programa: Programa Pé-de-Meia<br>Pergunta: Iniciei o Ensino Médio e o Programa foi interrompido antes de me formar? O que  acontece nesse caso?",
          "Tópico: Educação Básica<br>Programa: Programa Pé-de-Meia<br>Pergunta: Instabilidade no aplicativo CAIXA Tem. O que fazer?",
          "Tópico: Educação Básica<br>Programa: Programa Pé-de-Meia<br>Pergunta: Já preenchi o Sistema Presença, é a mesma coisa?",
          "Tópico: Educação Básica<br>Programa: Programa Pé-de-Meia<br>Pergunta: Já sou beneficiário de outro Programa de bolsa/poupança em meu Estado. Poderei  receber os dois benefícios?",
          "Tópico: Educação Básica<br>Programa: Programa Pé-de-Meia<br>Pergunta: Mensagem de indisponibilidade no aplicativo Jornada do Estudante.",
          "Tópico: Educação Básica<br>Programa: Programa Pé-de-Meia<br>Pergunta: Meu ano letivo ainda não terminou, quando vou receber os R$1.000?",
          "Tópico: Educação Básica<br>Programa: Programa Pé-de-Meia<br>Pergunta: Minha família faz parte do Cadastro Único para Programas Sociais (CadÚnico), mas não  do Programa Bolsa Família. Posso ser beneficiário (a) do Pé-de-Meia?",
          "Tópico: Educação Básica<br>Programa: Programa Pé-de-Meia<br>Pergunta: Não estou conseguindo extrair o relatório / enviar a planilha, como devo proceder?",
          "Tópico: Educação Básica<br>Programa: Programa Pé-de-Meia<br>Pergunta: Não recebi o pagamento referente a 1ª parcela de 2025 (matrícula), o que fazer?",
          "Tópico: Educação Básica<br>Programa: Programa Pé-de-Meia<br>Pergunta: Não recebi o pagamento referente a 3ª parcela (frequência), o que fazer?",
          "Tópico: Educação Básica<br>Programa: Programa Pé-de-Meia<br>Pergunta: O acesso ao aplicativo deve ser realizado pelo estudante ou responsável?",
          "Tópico: Educação Básica<br>Programa: Programa Pé-de-Meia<br>Pergunta: O estudante atende todos os requisitos, mas o CPF ainda não consta no aplicativo, mesmo após atualizações.",
          "Tópico: Educação Básica<br>Programa: Programa Pé-de-Meia<br>Pergunta: O estudante precisa fazer alguma inscrição para o Programa?",
          "Tópico: Educação Básica<br>Programa: Programa Pé-de-Meia<br>Pergunta: O estudante que se matricular após março em uma unidade de ensino e preencher os  requisitos de elegibilidade também será beneficiado pelo Programa Pé-de-Meia?",
          "Tópico: Educação Básica<br>Programa: Programa Pé-de-Meia<br>Pergunta: O estudante que troca de escola ou modalidade durante o ano letivo continua recebendo os incentivos do programa?",
          "Tópico: Educação Básica<br>Programa: Programa Pé-de-Meia<br>Pergunta: O Programa Pé-de-Meia é ofertado somente as instituições Estaduais?",
          "Tópico: Educação Básica<br>Programa: Programa Pé-de-Meia<br>Pergunta: O que a minha rede precisa fazer após a adesão?",
          "Tópico: Educação Básica<br>Programa: Programa Pé-de-Meia<br>Pergunta: O que acontece caso o sistema de ensino não assine o termo de compromisso ou não envie as informações dentro do prazo estipulado pelo calendário de operacionalização?",
          "Tópico: Educação Básica<br>Programa: Programa Pé-de-Meia<br>Pergunta: O que acontece com o estudante caso a rede precise atualizar as informações quanto a  frequência?",
          "Tópico: Educação Básica<br>Programa: Programa Pé-de-Meia<br>Pergunta: O que acontece se eu não participar de exames do Sistema de Avaliação da Educação Básica (Saeb), da avaliação para o ensino médio feita pelo meu estado ou do Enem no 3º ano?",
          "Tópico: Educação Básica<br>Programa: Programa Pé-de-Meia<br>Pergunta: O que acontece se o estudante beneficiário não é aprovado no final do ano letivo?",
          "Tópico: Educação Básica<br>Programa: Programa Pé-de-Meia<br>Pergunta: O que é necessário para acessar o aplicativo?",
          "Tópico: Educação Básica<br>Programa: Programa Pé-de-Meia<br>Pergunta: O que é o Programa Pé-de-Meia?",
          "Tópico: Educação Básica<br>Programa: Programa Pé-de-Meia<br>Pergunta: O que fazer quando os dados do estudante não constam no aplicativo Jornada do Estudante?",
          "Tópico: Educação Básica<br>Programa: Programa Pé-de-Meia<br>Pergunta: O que o estudante poderá consultar no aplicativo?",
          "Tópico: Educação Básica<br>Programa: Programa Pé-de-Meia<br>Pergunta: O que pode levar a família do estudante a perder o benefício?",
          "Tópico: Educação Básica<br>Programa: Programa Pé-de-Meia<br>Pergunta: O rendimento escolar é considerado um dos fatores de elegibilidade?",
          "Tópico: Educação Básica<br>Programa: Programa Pé-de-Meia<br>Pergunta: O responsável precisa liberar o acesso para o estudante no aplicativo?",
          "Tópico: Educação Básica<br>Programa: Programa Pé-de-Meia<br>Pergunta: O valor do fomento financeiro é o mesmo para todas as secretarias?",
          "Tópico: Educação Básica<br>Programa: Programa Pé-de-Meia<br>Pergunta: Onde consulto minha frequência?",
          "Tópico: Educação Básica<br>Programa: Programa Pé-de-Meia<br>Pergunta: Onde posso acessar informações sobre o pagamento e minha conta?",
          "Tópico: Educação Básica<br>Programa: Programa Pé-de-Meia<br>Pergunta: Onde posso obter informações sobre o programa Pé-de-Meia?",
          "Tópico: Educação Básica<br>Programa: Programa Pé-de-Meia<br>Pergunta: Os estudantes de quais sistemas de ensino podem participar do Programa Pé-de-Meia?",
          "Tópico: Educação Básica<br>Programa: Programa Pé-de-Meia<br>Pergunta: Os estudantes dos cursos Técnicos Integrados ao Ensino Médio poderão ser atendidos pelo Programa Pé-de-Meia?",
          "Tópico: Educação Básica<br>Programa: Programa Pé-de-Meia<br>Pergunta: Os responsáveis podem receber os incentivos pelos filhos menores?",
          "Tópico: Educação Básica<br>Programa: Programa Pé-de-Meia<br>Pergunta: Pagamento da 5ª parcela de 2025",
          "Tópico: Educação Básica<br>Programa: Programa Pé-de-Meia<br>Pergunta: Para qual etapa da Educação Básica o Programa Pé-de-Meia será destinado?",
          "Tópico: Educação Básica<br>Programa: Programa Pé-de-Meia<br>Pergunta: Para receber o Incentivo Enem basta me inscrever para o exame ou preciso comparecer aos dois dias de prova?",
          "Tópico: Educação Básica<br>Programa: Programa Pé-de-Meia<br>Pergunta: Parcela rejeitada no último ciclo de pagamentos (26.05 a 02.06).",
          "Tópico: Educação Básica<br>Programa: Programa Pé-de-Meia<br>Pergunta: Parei de receber o benefício do Pé-de-Meia, o que pode ter ocorrido?",
          "Tópico: Educação Básica<br>Programa: Programa Pé-de-Meia<br>Pergunta: Passei de ano, mas ainda não concluí o ensino médio. O que acontece com meus R$1.000?",
          "Tópico: Educação Básica<br>Programa: Programa Pé-de-Meia<br>Pergunta: Por onde os sistemas de ensino deverão enviar as informações dos estudantes?",
          "Tópico: Educação Básica<br>Programa: Programa Pé-de-Meia<br>Pergunta: Por que o Governo Federal criou o Programa Pé-de-Meia?",
          "Tópico: Educação Básica<br>Programa: Programa Pé-de-Meia<br>Pergunta: Preciso fazer algum cadastro para receber o benefício?",
          "Tópico: Educação Básica<br>Programa: Programa Pé-de-Meia<br>Pergunta: Quais alunos da EJA podem receber o Pé-de-Meia?",
          "Tópico: Educação Básica<br>Programa: Programa Pé-de-Meia<br>Pergunta: Quais as condições para que o aluno matriculado mantenha o incentivo?",
          "Tópico: Educação Básica<br>Programa: Programa Pé-de-Meia<br>Pergunta: Quais dados utilizo para acessar o aplicativo?",
          "Tópico: Educação Básica<br>Programa: Programa Pé-de-Meia<br>Pergunta: Quais formas de oferta da EJA fazem parte do programa?",
          "Tópico: Educação Básica<br>Programa: Programa Pé-de-Meia<br>Pergunta: Quais informações estão disponíveis no aplicativo?",
          "Tópico: Educação Básica<br>Programa: Programa Pé-de-Meia<br>Pergunta: Quais informações sobre a rede serão solicitadas na adesão?",
          "Tópico: Educação Básica<br>Programa: Programa Pé-de-Meia<br>Pergunta: Quais os contatos para dúvidas sobre o Programa?",
          "Tópico: Educação Básica<br>Programa: Programa Pé-de-Meia<br>Pergunta: Quais são as etapas da adesão ao Programa?",
          "Tópico: Educação Básica<br>Programa: Programa Pé-de-Meia<br>Pergunta: Quais são as redes que oferecem ensino médio público regular (censo de 2023)?",
          "Tópico: Educação Básica<br>Programa: Programa Pé-de-Meia<br>Pergunta: Quais são as responsabilidades da Caixa?",
          "Tópico: Educação Básica<br>Programa: Programa Pé-de-Meia<br>Pergunta: Quais são os critérios de elegibilidade para receber a poupança?",
          "Tópico: Educação Básica<br>Programa: Programa Pé-de-Meia<br>Pergunta: Quais são os critérios de saída ou desligamento do Programa?",
          "Tópico: Educação Básica<br>Programa: Programa Pé-de-Meia<br>Pergunta: Quais são os critérios para disponibilização de cada incentivo?",
          "Tópico: Educação Básica<br>Programa: Programa Pé-de-Meia<br>Pergunta: Quais são os papéis e responsabilidades de cada ente no Pé-de-Meia?",
          "Tópico: Educação Básica<br>Programa: Programa Pé-de-Meia<br>Pergunta: Quais são os valores das parcelas para estudantes da EJA?",
          "Tópico: Educação Básica<br>Programa: Programa Pé-de-Meia<br>Pergunta: Qual a faixa etária do programa para alunos da EJA?",
          "Tópico: Educação Básica<br>Programa: Programa Pé-de-Meia<br>Pergunta: Qual a faixa etária do programa para alunos do ensino regular?",
          "Tópico: Educação Básica<br>Programa: Programa Pé-de-Meia<br>Pergunta: Qual a lei que institui o Programa Pé-de-Meia?",
          "Tópico: Educação Básica<br>Programa: Programa Pé-de-Meia<br>Pergunta: Qual CPF utilizo para acessar o aplicativo?",
          "Tópico: Educação Básica<br>Programa: Programa Pé-de-Meia<br>Pergunta: Qual o período de assinatura do Termo de Compromisso?",
          "Tópico: Educação Básica<br>Programa: Programa Pé-de-Meia<br>Pergunta: Qual o valor dos incentivos por estudante?",
          "Tópico: Educação Básica<br>Programa: Programa Pé-de-Meia<br>Pergunta: Qual o valor pago para os estudantes do Ensino Regular?",
          "Tópico: Educação Básica<br>Programa: Programa Pé-de-Meia<br>Pergunta: Quando será feita a verificação das informações de elegibilidade?",
          "Tópico: Educação Básica<br>Programa: Programa Pé-de-Meia<br>Pergunta: Quando será feita a verificação das informações para manutenção dos estudantes?",
          "Tópico: Educação Básica<br>Programa: Programa Pé-de-Meia<br>Pergunta: Quando será informado que a conta foi aberta?",
          "Tópico: Educação Básica<br>Programa: Programa Pé-de-Meia<br>Pergunta: Quando vão atualizar o aplicativo Jornada do Estudante?",
          "Tópico: Educação Básica<br>Programa: Programa Pé-de-Meia<br>Pergunta: Quem é responsável pelo Programa Pé-de-Meia?",
          "Tópico: Educação Básica<br>Programa: Programa Pé-de-Meia<br>Pergunta: Quem fará a verificação das condicionalidades e elegibilidades dos participantes?",
          "Tópico: Educação Básica<br>Programa: Programa Pé-de-Meia<br>Pergunta: Quem pode participar do programa Pé-de-Meia?",
          "Tópico: Educação Básica<br>Programa: Programa Pé-de-Meia<br>Pergunta: Quem pode participar do programa Pé-de-Meia?",
          "Tópico: Educação Básica<br>Programa: Programa Pé-de-Meia<br>Pergunta: Quem pode sacar os R$1.000 pela aprovação no fim do ano?",
          "Tópico: Educação Básica<br>Programa: Programa Pé-de-Meia<br>Pergunta: Quem será o titular da conta poupança?",
          "Tópico: Educação Básica<br>Programa: Programa Pé-de-Meia<br>Pergunta: Quem terá acesso ao Sistema Gestão Presente?",
          "Tópico: Educação Básica<br>Programa: Programa Pé-de-Meia<br>Pergunta: Renda per capita superior a meio salário-mínimo",
          "Tópico: Educação Básica<br>Programa: Programa Pé-de-Meia<br>Pergunta: Saldo bloqueado no aplicativo CAIXA Tem.",
          "Tópico: Educação Básica<br>Programa: Programa Pé-de-Meia<br>Pergunta: Se o responsável no CadÚnico estiver hospitalizado, como o estudante deve proceder para abrir a conta-poupança?",
          "Tópico: Educação Básica<br>Programa: Programa Pé-de-Meia<br>Pergunta: Sistemas de Ensino que ofertam ensino médio de formação de professores (curso normal - magistério) também poderão aderir ao Programa Pé-de-Meia?",
          "Tópico: Educação Básica<br>Programa: Programa Pé-de-Meia<br>Pergunta: Sou beneficiário do Bolsa Família, mas estou matriculado em uma unidade escolar da rede privada, tenho direito?",
          "Tópico: Educação Básica<br>Programa: Programa Pé-de-Meia<br>Pergunta: Sou beneficiário do Pé-de-Meia e não passei de ano. O que acontece com meus pagamentos?",
          "Tópico: Educação Básica<br>Programa: Programa Pé-de-Meia<br>Pergunta: Sou da rede particular de ensino, posso ser beneficiário do Programa?",
          "Tópico: Educação Básica<br>Programa: Programa Pé-de-Meia<br>Pergunta: Sou estudante em situação de acolhimento institucional, a guia de acolhimento serve como documento para que eu consiga liberar a movimentação da minha conta do CaixaTem?",
          "Tópico: Educação Básica<br>Programa: Programa Pé-de-Meia<br>Pergunta: Sou uma pessoa trans e há divergência entre o meu nome social, cadastrado em minha escola, e o meu nome de registro, indicado em meu CPF. Como posso resolver?",
          "Tópico: Educação Básica<br>Programa: Programa Pé-de-Meia<br>Pergunta: Sou uma pessoa trans, travesti ou não binária e há divergência entre o meu nome social, cadastrado em minha escola, e o nome indicado no CadÚnico. Como posso resolver?",
          "Tópico: Educação Básica<br>Programa: Programa Pé-de-Meia<br>Pergunta: Tenho atestado para justificar minhas faltas, o que devo fazer?",
          "Tópico: Educação Básica<br>Programa: Programa Pé-de-Meia<br>Pergunta: Tenho CadÚnico, mas meu cadastro não está atualizado. O que fazer para meu (minha) filho (a) ter direito ao benefício?",
          "Tópico: Educação Básica<br>Programa: Programa Pé-de-Meia<br>Pergunta: Tenho pais que estão desempregados há mais de um ano, não possuem renda e não fui contemplado. O que fazer nesse caso?",
          "Tópico: Educação Básica<br>Programa: Programa Pé-de-Meia<br>Pergunta: Tive parcelas bloqueadas por não frequentar aulas em 2024, mas em 2025 estou com frequência acima de 80%, terei as parcelas do ano passado liberadas?",
          "Tópico: Educação Básica<br>Programa: Programa Pé-de-Meia<br>Pergunta: Todo ente da federação deve aderir ao Programa Pé-de-Meia?",
          "Tópico: Educação Básica<br>Programa: Programa Pé-de-Meia<br>Pergunta: Uma vez elegível, quais são os requisitos de pagamento do Incentivo Matrícula ao  estudante?",
          "Tópico: Educação Básica<br>Programa: Certificação Ensino Médio<br>Pergunta: Como ter acesso a certificação do ensino médio?",
          "Tópico: Educação Básica<br>Programa: Encceja<br>Pergunta: O que é Encceja?",
          "Tópico: Educação Básica<br>Programa: Encceja<br>Pergunta: Para que serve o Encceja?",
          "Tópico: Educação Básica<br>Programa: Encceja<br>Pergunta: Como obter o certificado de conclusão da educação básica através do Encceja?",
          "Tópico: Educação Básica<br>Programa: Encceja<br>Pergunta: Onde e quando acontecem as inscrições e provas?",
          "Tópico: Educação Básica<br>Programa: ENEM<br>Pergunta: Como obter o certificado do Ensino Médio através do ENEM?",
          "Tópico: Educação Básica<br>Programa: ENEM<br>Pergunta: Conseguir alcançar a pontuação necessária para o certificado, como posso emiti-lo?",
          "Tópico: Educação Básica<br>Programa: Cursinho Popular<br>Pergunta: O que é o CPOP?",
          "Tópico: Educação Básica<br>Programa: Cursinho Popular<br>Pergunta: O que a CPOP fornece para os alunos de cursinhos populares?",
          "Tópico: Educação Básica<br>Programa: Cursinho Popular<br>Pergunta: Quem pode ser estudante do CPOP?",
          "Tópico: Educação Básica<br>Programa: Cursinho Popular<br>Pergunta: Quanto é a bolsa para o estudante do cursinho popular selecionado?",
          "Tópico: Educação Básica<br>Programa: Cadastro Único (CadÚnico)<br>Pergunta: O que é o Cadastro Único (CadÚnico)?",
          "Tópico: Educação Básica<br>Programa: Cadastro Único (CadÚnico)<br>Pergunta: Por que o Cadastro Único é importante para um estudante?",
          "Tópico: Educação Básica<br>Programa: Cadastro Único (CadÚnico)<br>Pergunta: Como minha família se inscreve no Cadastro Único?"
         ],
         "type": "scatter3d",
         "x": {
          "_inputArray": {
           "0": -4.020557880401611,
           "1": -9.46665096282959,
           "10": 24.531543731689453,
           "100": 12.1171236038208,
           "101": -1.2483816146850586,
           "102": -1.1756104230880737,
           "103": -15.496502876281738,
           "104": 15.352117538452148,
           "105": 32.72534942626953,
           "106": 22.38669776916504,
           "107": -6.158750057220459,
           "108": 10.487069129943848,
           "109": -15.957637786865234,
           "11": 5.102738857269287,
           "110": 16.26091766357422,
           "111": 7.96896505355835,
           "112": 4.7511162757873535,
           "113": -9.619465827941895,
           "114": 17.99555778503418,
           "115": 14.71012020111084,
           "116": 17.171133041381836,
           "117": 18.011564254760742,
           "118": -15.019584655761719,
           "119": -10.692194938659668,
           "12": 18.831039428710938,
           "120": 20.792007446289062,
           "121": 8.405526161193848,
           "122": -11.86421012878418,
           "123": -20.72915267944336,
           "124": -6.690878391265869,
           "125": -9.97023868560791,
           "126": 17.078542709350586,
           "127": 27.31209945678711,
           "128": 0.5606144070625305,
           "129": 26.387046813964844,
           "13": 28.385772705078125,
           "130": 30.42317771911621,
           "131": 24.235157012939453,
           "132": -5.143086910247803,
           "133": 3.4889492988586426,
           "134": 15.009157180786133,
           "135": -2.3844664096832275,
           "136": 26.85834503173828,
           "137": -13.058952331542969,
           "138": -8.840251922607422,
           "139": -16.878339767456055,
           "14": 9.695650100708008,
           "140": -4.488119602203369,
           "141": 14.725889205932617,
           "142": 32.692020416259766,
           "143": -11.659411430358887,
           "144": 11.61275863647461,
           "145": -20.272409439086914,
           "146": -30.45716094970703,
           "147": -34.73960876464844,
           "148": -27.137964248657227,
           "149": -29.38937759399414,
           "15": 13.106538772583008,
           "150": -25.818370819091797,
           "151": -28.48138999938965,
           "152": -3.3562400341033936,
           "153": 2.4348642826080322,
           "154": -4.021966457366943,
           "155": 7.3799543380737305,
           "156": -13.514469146728516,
           "157": -17.099979400634766,
           "158": -9.271967887878418,
           "16": 29.748516082763672,
           "17": -4.390988349914551,
           "18": -1.4981985092163086,
           "19": -9.72170639038086,
           "2": 15.588170051574707,
           "20": 23.23078727722168,
           "21": -15.115528106689453,
           "22": -9.197399139404297,
           "23": -27.66021728515625,
           "24": 23.704544067382812,
           "25": 10.856565475463867,
           "26": 30.185529708862305,
           "27": -4.532181262969971,
           "28": -7.175747871398926,
           "29": -16.713462829589844,
           "3": 25.219091415405273,
           "30": 1.0257374048233032,
           "31": 0.3589212894439697,
           "32": 5.236853122711182,
           "33": 29.094493865966797,
           "34": 12.473472595214844,
           "35": 15.778341293334961,
           "36": 12.209576606750488,
           "37": 1.9663686752319336,
           "38": -0.2312992364168167,
           "39": 3.890146017074585,
           "4": 23.757915496826172,
           "40": 14.649270057678223,
           "41": 3.2261006832122803,
           "42": 3.7059264183044434,
           "43": -11.951091766357422,
           "44": -4.164491176605225,
           "45": 10.823497772216797,
           "46": 9.920999526977539,
           "47": 5.047916889190674,
           "48": 22.29230308532715,
           "49": 19.060644149780273,
           "5": 2.426621675491333,
           "50": 33.237064361572266,
           "51": 5.292789459228516,
           "52": 7.990146160125732,
           "53": 29.692859649658203,
           "54": -16.140512466430664,
           "55": -3.629028081893921,
           "56": 14.42025089263916,
           "57": 22.211259841918945,
           "58": 1.79825758934021,
           "59": 17.64810562133789,
           "6": 7.58762264251709,
           "60": 36.8055419921875,
           "61": 37.26640319824219,
           "62": 4.628894329071045,
           "63": 13.006058692932129,
           "64": -8.209006309509277,
           "65": 4.968174934387207,
           "66": 7.089194297790527,
           "67": 4.548887729644775,
           "68": -1.989533543586731,
           "69": 7.135610103607178,
           "7": -11.012232780456543,
           "70": -1.6221160888671875,
           "71": -5.895148277282715,
           "72": 1.0347602367401123,
           "73": 11.308332443237305,
           "74": -6.65643310546875,
           "75": 8.890670776367188,
           "76": 7.0925092697143555,
           "77": 7.261502265930176,
           "78": 11.554665565490723,
           "79": 7.604914665222168,
           "8": 8.202119827270508,
           "80": 11.744386672973633,
           "81": -4.533117771148682,
           "82": 19.524354934692383,
           "83": -3.5423622131347656,
           "84": -1.739993929862976,
           "85": -2.424626111984253,
           "86": 15.621498107910156,
           "87": 27.494543075561523,
           "88": -0.5203025341033936,
           "89": -26.00972557067871,
           "9": -8.477002143859863,
           "90": 31.302059173583984,
           "91": 15.381409645080566,
           "92": 18.22675323486328,
           "93": -11.08348274230957,
           "94": -8.024651527404785,
           "95": -5.782375335693359,
           "96": 4.042039394378662,
           "97": 5.231717109680176,
           "98": 15.692927360534668,
           "99": 8.380494117736816,
           "bdata": "aaiAwGd3F8ElaXlBs8DJQTYQvkHFTRtAzs3yQBsyMMHiOwNBzaEHwZpAxEGjSaNA+KWWQRAW40FiIRtBYrRRQfb87UH6gozA+MS/vxyMG8Gn2LlBNNlxwYwoE8EgSN3B6KK9QX60LUH3e/FBoQeRwLqf5cAstYXBXUuDP4jEtz5NlKdAhsHoQViTR0EWdHxBbVpDQfix+z+12Wy+J/h4QGljakFveE5A5i1tQKw3P8GDQ4XADC0tQWq8HkGJiKFAo1ayQTN8mEHB8gRCiF6pQEev/0D6iu1BxR+Bwf9BaMBZuWZBqbCxQU4t5j9SL41B4DgTQswQFULnH5RA0RhQQRdYA8FK+55ArtriQH2QkUAJqf6/61bkQIChz78OpbzABnOEP+7uNEGAAdXAMEAOQdb14kA6XuhA6d84QXZb80AC6TtBTQ+RwOExnEEQtmLAH7jevxMtG8Co8XlB0/TbQYwyBb/rE9DBnmr6QUEadkFk0JFB8lUxwflkAME4CbnAY1iBQDpqp0A7FntBgRYGQb3fQUH4yp+/Z3qWv63xd8FGonVBwuYCQvUXs0F7FMXACcsnQXxSf8FcFoJBwwH/QCUJmEBV6RnB5/aPQadca0F7XolBrxeQQThQcME7EyvBCFamQQl9BkHO0z3BTtWlwa0b1sAZhh/B26CIQS5/2kFthA8/rBjTQati80Ga4cFBK5SkwPJKX0CCJXBBGZsYwOTd1kF48VDBrHENwdcGh8Gtno/APp1rQaHEAkLzjDrB3M05QeUtosFEqPPBXPUKwo0a2cFyHevBBozOwePZ48GjzFbA0dQbQPOzgMCWKOxARDtYwcLMiMH7WRTB",
           "dtype": "f4",
           "shape": "159"
          },
          "bdata": "aaiAwGd3F8ElaXlBs8DJQTYQvkHFTRtAzs3yQBsyMMHiOwNBzaEHwZpAxEGjSaNA+KWWQRAW40FiIRtBYrRRQfb87UH6gozA+MS/vxyMG8Gn2LlBNNlxwYwoE8EgSN3B6KK9QX60LUH3e/FBoQeRwLqf5cAstYXBXUuDP4jEtz5NlKdAhsHoQViTR0EWdHxBbVpDQfix+z+12Wy+J/h4QGljakFveE5A5i1tQKw3P8GDQ4XADC0tQWq8HkGJiKFAo1ayQTN8mEHB8gRCiF6pQEev/0D6iu1BxR+Bwf9BaMBZuWZBqbCxQU4t5j9SL41B4DgTQswQFULnH5RA0RhQQRdYA8FK+55ArtriQH2QkUAJqf6/61bkQIChz78OpbzABnOEP+7uNEGAAdXAMEAOQdb14kA6XuhA6d84QXZb80AC6TtBTQ+RwOExnEEQtmLAH7jevxMtG8Co8XlB0/TbQYwyBb/rE9DBnmr6QUEadkFk0JFB8lUxwflkAME4CbnAY1iBQDpqp0A7FntBgRYGQb3fQUH4yp+/Z3qWv63xd8FGonVBwuYCQvUXs0F7FMXACcsnQXxSf8FcFoJBwwH/QCUJmEBV6RnB5/aPQadca0F7XolBrxeQQThQcME7EyvBCFamQQl9BkHO0z3BTtWlwa0b1sAZhh/B26CIQS5/2kFthA8/rBjTQati80Ga4cFBK5SkwPJKX0CCJXBBGZsYwOTd1kF48VDBrHENwdcGh8Gtno/APp1rQaHEAkLzjDrB3M05QeUtosFEqPPBXPUKwo0a2cFyHevBBozOwePZ48GjzFbA0dQbQPOzgMCWKOxARDtYwcLMiMH7WRTB",
          "dtype": "f4"
         },
         "y": {
          "_inputArray": {
           "0": 14.088810920715332,
           "1": -30.917245864868164,
           "10": -17.25836753845215,
           "100": -13.922454833984375,
           "101": -37.460975646972656,
           "102": 0.45236605405807495,
           "103": 10.816851615905762,
           "104": 2.3149354457855225,
           "105": -16.510263442993164,
           "106": -12.495774269104004,
           "107": 23.29840660095215,
           "108": 26.519302368164062,
           "109": 12.364781379699707,
           "11": -6.256682872772217,
           "110": 8.238916397094727,
           "111": 7.313796043395996,
           "112": 11.767646789550781,
           "113": 16.24028778076172,
           "114": -25.50858497619629,
           "115": -33.55534744262695,
           "116": 22.10500717163086,
           "117": 15.881932258605957,
           "118": -20.51502227783203,
           "119": -21.223224639892578,
           "12": -17.623252868652344,
           "120": -11.288487434387207,
           "121": -23.470165252685547,
           "122": 7.186374664306641,
           "123": -17.341278076171875,
           "124": 2.4195334911346436,
           "125": 5.347909450531006,
           "126": -0.13687369227409363,
           "127": -13.002747535705566,
           "128": -15.815803527832031,
           "129": 17.408632278442383,
           "13": -17.156949996948242,
           "130": -20.212434768676758,
           "131": -19.068572998046875,
           "132": 3.837484836578369,
           "133": 1.7784546613693237,
           "134": 8.41891098022461,
           "135": 1.9903783798217773,
           "136": -22.734241485595703,
           "137": -33.52324295043945,
           "138": -32.751686096191406,
           "139": 5.274862289428711,
           "14": -31.774927139282227,
           "140": -12.082191467285156,
           "141": 5.770473957061768,
           "142": 7.378106117248535,
           "143": 16.673789978027344,
           "144": 19.147932052612305,
           "145": -13.20511531829834,
           "146": -19.370820999145508,
           "147": -16.63167953491211,
           "148": -15.740310668945312,
           "149": -12.624115943908691,
           "15": -27.750228881835938,
           "150": -10.018487930297852,
           "151": -14.184605598449707,
           "152": 36.79594802856445,
           "153": 32.70123291015625,
           "154": 30.130075454711914,
           "155": 25.8531494140625,
           "156": -19.61210060119629,
           "157": -18.883502960205078,
           "158": -19.834102630615234,
           "16": -12.33165454864502,
           "17": -15.5139799118042,
           "18": -20.698720932006836,
           "19": -7.569499492645264,
           "2": 32.916412353515625,
           "20": 11.783130645751953,
           "21": -15.99617862701416,
           "22": -14.716116905212402,
           "23": 3.346196174621582,
           "24": 16.16706085205078,
           "25": 27.310033798217773,
           "26": -2.6480486392974854,
           "27": -28.024580001831055,
           "28": -24.322784423828125,
           "29": -28.132524490356445,
           "3": 2.6078667640686035,
           "30": 10.026589393615723,
           "31": -14.985723495483398,
           "32": 12.991692543029785,
           "33": -12.03193473815918,
           "34": -12.277356147766113,
           "35": 21.232254028320312,
           "36": 25.333349227905273,
           "37": -15.489189147949219,
           "38": 12.335580825805664,
           "39": 1.3349065780639648,
           "4": 2.276455879211426,
           "40": -4.9035258293151855,
           "41": -4.23750638961792,
           "42": -7.89692497253418,
           "43": -3.0239627361297607,
           "44": -24.48989486694336,
           "45": 8.932750701904297,
           "46": -4.3571953773498535,
           "47": 2.3504655361175537,
           "48": 10.254158973693848,
           "49": 20.272247314453125,
           "5": 19.836000442504883,
           "50": 13.910591125488281,
           "51": 28.91875457763672,
           "52": 11.213581085205078,
           "53": -22.412561416625977,
           "54": -8.213480949401855,
           "55": 1.6696257591247559,
           "56": -26.877168655395508,
           "57": 3.6966705322265625,
           "58": -4.646425247192383,
           "59": -7.391194820404053,
           "6": 18.99032974243164,
           "60": 7.7467145919799805,
           "61": 10.599601745605469,
           "62": -22.204769134521484,
           "63": -32.1368408203125,
           "64": -7.455464839935303,
           "65": 1.5189536809921265,
           "66": 26.109071731567383,
           "67": 9.491064071655273,
           "68": -39.66426467895508,
           "69": -26.3212890625,
           "7": -16.476335525512695,
           "70": -23.047433853149414,
           "71": 13.768692970275879,
           "72": 15.428553581237793,
           "73": -16.73058319091797,
           "74": 11.155611038208008,
           "75": -29.75978660583496,
           "76": -16.650949478149414,
           "77": 10.339118957519531,
           "78": -10.461393356323242,
           "79": -22.791465759277344,
           "8": -35.168983459472656,
           "80": 23.764406204223633,
           "81": -11.804741859436035,
           "82": -8.723013877868652,
           "83": 6.753294944763184,
           "84": 4.835035800933838,
           "85": -2.5279700756073,
           "86": 32.5345458984375,
           "87": 8.8042631149292,
           "88": 14.992267608642578,
           "89": -1.127353310585022,
           "9": -5.758851051330566,
           "90": 14.523895263671875,
           "91": 13.939753532409668,
           "92": 8.349418640136719,
           "93": -24.846149444580078,
           "94": 18.78273582458496,
           "95": -8.576444625854492,
           "96": -0.23303228616714478,
           "97": 23.506086349487305,
           "98": -19.47847557067871,
           "99": 2.5047197341918945,
           "bdata": "xWthQYVW98FoqgNCSucmQHSxEUAhsJ5BMuyXQYnPg8EKrQzCgki4wCMRisG/NsjAbPyMwW9BicENM/7BeADewXVORcFDOXjB+5alwVc58sC0hzxBWfB/wTd1a8EUKFZAJFaBQfN62kGheSnAVzLgwRCVwsFpD+HB6WwgQYbFb8H53U9BzoJAwQ1wRMGo26lBs6rKQbjTd8GKXkVBON6qP6/pnMCnmYfAnLP8wJuIQcBO68PBjOwOQSVui8AHbhZACREkQZAtokHIkV5BnFnnQdRqM0HtTLPBa2oDwUy21T9xBNfBQJZsQISvlMCrhOzAFuX3QPiXKUFeo7HBIIwAwiuT7sATbcI/Yd/QQWbbF0E1qB7CAJLSwSVhuMGRTFxBW9t2QTzYhcFifTJBCxTuwSU1hcEIbSVB3mEnwexUtsGBHb5BOeA8wXeRC8H+GthAnbiaQEPKIcBgIwJCQ94MQVTgb0EdTZC/4GFoQTsJX0E4lwVB6sTGwQtDlkEeOQnBBKBuvncMvEHr05vBVE0gQGDCXsEK2BXChpznPtMRLUHnJxRABRWEwbHuR8EjY7pBiCfUQSXWRUGa0gNBngrqQEhIPEEc7IFBlRHMwa04BsIO17BBZRx+QcQepMEqyanBpZ00webCu8HI9uVA8LqKwaPZGkATIqtAnigMvkELUMGIDX3B4USLQRGzocFwjJjBWpl1QGek4z/cswZBuMT+P7rftcHNFwbCugEDwqzLqECoUEHBuae4QHIZ7EDsY4VB9y6ZQSdIU8Fx95rBrg2FwVDYe8Fh/EnBuksgwSX0YsENLxNCEM4CQmUK8UFA085BleWcwWoRl8E+rJ7B",
           "dtype": "f4",
           "shape": "159"
          },
          "bdata": "xWthQYVW98FoqgNCSucmQHSxEUAhsJ5BMuyXQYnPg8EKrQzCgki4wCMRisG/NsjAbPyMwW9BicENM/7BeADewXVORcFDOXjB+5alwVc58sC0hzxBWfB/wTd1a8EUKFZAJFaBQfN62kGheSnAVzLgwRCVwsFpD+HB6WwgQYbFb8H53U9BzoJAwQ1wRMGo26lBs6rKQbjTd8GKXkVBON6qP6/pnMCnmYfAnLP8wJuIQcBO68PBjOwOQSVui8AHbhZACREkQZAtokHIkV5BnFnnQdRqM0HtTLPBa2oDwUy21T9xBNfBQJZsQISvlMCrhOzAFuX3QPiXKUFeo7HBIIwAwiuT7sATbcI/Yd/QQWbbF0E1qB7CAJLSwSVhuMGRTFxBW9t2QTzYhcFifTJBCxTuwSU1hcEIbSVB3mEnwexUtsGBHb5BOeA8wXeRC8H+GthAnbiaQEPKIcBgIwJCQ94MQVTgb0EdTZC/4GFoQTsJX0E4lwVB6sTGwQtDlkEeOQnBBKBuvncMvEHr05vBVE0gQGDCXsEK2BXChpznPtMRLUHnJxRABRWEwbHuR8EjY7pBiCfUQSXWRUGa0gNBngrqQEhIPEEc7IFBlRHMwa04BsIO17BBZRx+QcQepMEqyanBpZ00webCu8HI9uVA8LqKwaPZGkATIqtAnigMvkELUMGIDX3B4USLQRGzocFwjJjBWpl1QGek4z/cswZBuMT+P7rftcHNFwbCugEDwqzLqECoUEHBuae4QHIZ7EDsY4VB9y6ZQSdIU8Fx95rBrg2FwVDYe8Fh/EnBuksgwSX0YsENLxNCEM4CQmUK8UFA085BleWcwWoRl8E+rJ7B",
          "dtype": "f4"
         },
         "z": {
          "_inputArray": {
           "0": -11.874476432800293,
           "1": -9.931134223937988,
           "10": 1.2357773780822754,
           "100": 0.3810712993144989,
           "101": -15.290014266967773,
           "102": 2.1524407863616943,
           "103": -17.610342025756836,
           "104": -11.232412338256836,
           "105": -8.727083206176758,
           "106": -25.27964973449707,
           "107": -23.133739471435547,
           "108": -9.465616226196289,
           "109": -5.178785800933838,
           "11": 5.604626178741455,
           "110": -0.2017197459936142,
           "111": 4.604674339294434,
           "112": 3.64969801902771,
           "113": 1.5484987497329712,
           "114": 6.93848180770874,
           "115": -21.13751220703125,
           "116": -9.457263946533203,
           "117": -4.079838752746582,
           "118": -17.09451675415039,
           "119": -11.546396255493164,
           "12": 11.484648704528809,
           "120": -9.920119285583496,
           "121": -5.903435707092285,
           "122": -1.2605125904083252,
           "123": -16.88580894470215,
           "124": -6.646979808807373,
           "125": -9.961343765258789,
           "126": -22.81467628479004,
           "127": -18.539682388305664,
           "128": 9.111827850341797,
           "129": -1.2718732357025146,
           "13": -24.83640480041504,
           "130": -1.1293132305145264,
           "131": -16.25429916381836,
           "132": -17.940216064453125,
           "133": -31.971233367919922,
           "134": -32.55083465576172,
           "135": -29.811389923095703,
           "136": -7.863144397735596,
           "137": -25.91502571105957,
           "138": -28.856430053710938,
           "139": -31.201723098754883,
           "14": -22.614009857177734,
           "140": -37.36085891723633,
           "141": -42.40316390991211,
           "142": -22.930387496948242,
           "143": -12.591169357299805,
           "144": -12.771486282348633,
           "145": 2.4202308654785156,
           "146": -6.448712348937988,
           "147": -4.361026287078857,
           "148": -1.0123603343963623,
           "149": -9.333291053771973,
           "15": -26.71847152709961,
           "150": 4.708619117736816,
           "151": 8.22290325164795,
           "152": 10.484482765197754,
           "153": 12.396525382995605,
           "154": 7.5063910484313965,
           "155": 14.286935806274414,
           "156": -38.11491775512695,
           "157": -33.56488800048828,
           "158": -32.57451629638672,
           "16": -27.711477279663086,
           "17": -30.401790618896484,
           "18": -35.621788024902344,
           "19": -10.135994911193848,
           "2": -20.9957275390625,
           "20": -7.823177337646484,
           "21": -8.0320405960083,
           "22": -7.955889701843262,
           "23": -18.077880859375,
           "24": -28.45216178894043,
           "25": -15.330304145812988,
           "26": -12.206643104553223,
           "27": -5.342320442199707,
           "28": 1.3465807437896729,
           "29": -0.3361490070819855,
           "3": -6.333959579467773,
           "30": -42.899112701416016,
           "31": -11.243701934814453,
           "32": -33.9057502746582,
           "33": -0.2190045714378357,
           "34": 13.133933067321777,
           "35": -22.485095977783203,
           "36": -27.560678482055664,
           "37": -26.725126266479492,
           "38": -17.372146606445312,
           "39": -25.293106079101562,
           "4": -11.458394050598145,
           "40": -34.50019073486328,
           "41": -20.153076171875,
           "42": -28.542219161987305,
           "43": -32.10273742675781,
           "44": -16.210826873779297,
           "45": -10.69658374786377,
           "46": -38.018470764160156,
           "47": -41.56113052368164,
           "48": -29.365787506103516,
           "49": -16.944910049438477,
           "5": -36.45132064819336,
           "50": -24.60661506652832,
           "51": -24.00934600830078,
           "52": -21.670185089111328,
           "53": 4.369271755218506,
           "54": -21.375076293945312,
           "55": -38.112552642822266,
           "56": -4.140630722045898,
           "57": -24.715465545654297,
           "58": -37.27680587768555,
           "59": 9.987946510314941,
           "6": -26.691064834594727,
           "60": -12.398941993713379,
           "61": -7.737270355224609,
           "62": 6.833122253417969,
           "63": 6.378636837005615,
           "64": -23.063182830810547,
           "65": -17.868408203125,
           "66": -30.792930603027344,
           "67": -7.845139980316162,
           "68": -10.3556547164917,
           "69": -18.80894660949707,
           "7": -17.81464195251465,
           "70": -9.613134384155273,
           "71": -27.953895568847656,
           "72": -27.069313049316406,
           "73": 8.219346046447754,
           "74": -4.3072614669799805,
           "75": -0.5456568002700806,
           "76": 0.10002566128969193,
           "77": -39.49822235107422,
           "78": -19.17291259765625,
           "79": 11.845542907714844,
           "8": -2.137122869491577,
           "80": -1.5434703826904297,
           "81": -2.1158769130706787,
           "82": -3.1518073081970215,
           "83": -0.15790942311286926,
           "84": -11.739367485046387,
           "85": -14.783015251159668,
           "86": -9.377774238586426,
           "87": -12.4423189163208,
           "88": -2.69917368888855,
           "89": -12.737467765808105,
           "9": -1.0527217388153076,
           "90": -15.187747955322266,
           "91": -35.7522087097168,
           "92": -24.05645179748535,
           "93": -2.803008556365967,
           "94": -4.926982879638672,
           "95": -29.719329833984375,
           "96": -7.788858413696289,
           "97": -17.818374633789062,
           "98": 4.254498481750488,
           "99": -1.8507367372512817,
           "bdata": "2/09we3lHsFA96fBzK/KwJVVN8EnzhHCTYfVwWOEjsGfxgjAlr+Gv/Qtnj8ZWbNAH8E3QfWwxsF+6bTBbr/VwRux3cHeNvPBtnwOwgktIsF4V/rAPYMAwaaW/sCAn5DBB57jwe1IdcFpTkPBSvSqwMJcrD+5G6y+sZgrwjTmM8F9nwfCvEJgvpckUkF64bPBRXzcwQ/N1cEo+orBSFjKwTIACsKAOaHBd1bkwTRpAMLGr4HBNSUrweoSGMKZPibCIu3qwS2Ph8FZ2sTBJBPAwYpcrcET0YtAKACrwUFzGMIMgITARrnFwXMbFcKhzh9BEWJGwbiX98DwqNpAyx3MQGaBuMGA8o7B7Ff2wWML+8DDsCXBuXiWwWbPGcGUod/B9I3YwXGCA0EW1YnAKrALv0HazD0u/h3CIGKZwViHPUFwkMW/h2oHwDa3ScACsyG+c9Q7wTuHbMFdCxbBvRNHwUO/LMCrzEvBBAFzwUMCD8Kdc8DBfmQzwNipncAwwe3BVD75wAiMjsHaJIhA8eTsv8cbwz7mo3TBl8EJQPvhjMH2tzPBIqILwbk8ysHmEbnBKnMXwZ24pcCfj06+flmTQKeUaUA1NcY/CwjeQKAZqcH0UBfBCo6CwJLBiMEKvjjBz7gewfLovMB6WKG/IxaHwQ+01MCqYR/BdYS2wUVRlMEMyhFBvsyiv1aNkL/OCILBkIWPwRbF/8EONALCun3uweGe+8D5Uc/B+NnmwSGd+cGFcRXC15wpwm9xt8FudUnBAlhMwRDlGkDaW87Ah42LwAaVgb8pVRXBAq2WQAORA0FxwCdBK1hGQVs08EBKl2RBrXUYwnJCBsJOTALC",
           "dtype": "f4",
           "shape": "159"
          },
          "bdata": "2/09we3lHsFA96fBzK/KwJVVN8EnzhHCTYfVwWOEjsGfxgjAlr+Gv/Qtnj8ZWbNAH8E3QfWwxsF+6bTBbr/VwRux3cHeNvPBtnwOwgktIsF4V/rAPYMAwaaW/sCAn5DBB57jwe1IdcFpTkPBSvSqwMJcrD+5G6y+sZgrwjTmM8F9nwfCvEJgvpckUkF64bPBRXzcwQ/N1cEo+orBSFjKwTIACsKAOaHBd1bkwTRpAMLGr4HBNSUrweoSGMKZPibCIu3qwS2Ph8FZ2sTBJBPAwYpcrcET0YtAKACrwUFzGMIMgITARrnFwXMbFcKhzh9BEWJGwbiX98DwqNpAyx3MQGaBuMGA8o7B7Ff2wWML+8DDsCXBuXiWwWbPGcGUod/B9I3YwXGCA0EW1YnAKrALv0HazD0u/h3CIGKZwViHPUFwkMW/h2oHwDa3ScACsyG+c9Q7wTuHbMFdCxbBvRNHwUO/LMCrzEvBBAFzwUMCD8Kdc8DBfmQzwNipncAwwe3BVD75wAiMjsHaJIhA8eTsv8cbwz7mo3TBl8EJQPvhjMH2tzPBIqILwbk8ysHmEbnBKnMXwZ24pcCfj06+flmTQKeUaUA1NcY/CwjeQKAZqcH0UBfBCo6CwJLBiMEKvjjBz7gewfLovMB6WKG/IxaHwQ+01MCqYR/BdYS2wUVRlMEMyhFBvsyiv1aNkL/OCILBkIWPwRbF/8EONALCun3uweGe+8D5Uc/B+NnmwSGd+cGFcRXC15wpwm9xt8FudUnBAlhMwRDlGkDaW87Ah42LwAaVgb8pVRXBAq2WQAORA0FxwCdBK1hGQVs08EBKl2RBrXUYwnJCBsJOTALC",
          "dtype": "f4"
         }
        },
        {
         "hovertemplate": "%{text}<extra></extra>",
         "marker": {
          "color": "rgb(255,255,179)",
          "opacity": 0.7,
          "size": 6
         },
         "mode": "markers",
         "name": "Educação de Jovens e Adultos",
         "text": [
          "Tópico: Educação de Jovens e Adultos<br>Programa: EJA<br>Pergunta: O que é EJA?",
          "Tópico: Educação de Jovens e Adultos<br>Programa: EJA<br>Pergunta: Quem pode participar do EJA?",
          "Tópico: Educação de Jovens e Adultos<br>Programa: EJA<br>Pergunta: Como funciona o EJA?",
          "Tópico: Educação de Jovens e Adultos<br>Programa: EJA<br>Pergunta: Onde encontrar o EJA?",
          "Tópico: Educação de Jovens e Adultos<br>Programa: PROEJA<br>Pergunta: Como o EJA pode me preparar para o mercado de trabalho?",
          "Tópico: Educação de Jovens e Adultos<br>Programa: PROEJA<br>Pergunta: Quais são as instituições que ofertam os cursos?",
          "Tópico: Educação de Jovens e Adultos<br>Programa: PROEJA<br>Pergunta: Como é feita a seleção para os cursos Proeja?",
          "Tópico: Educação de Jovens e Adultos<br>Programa: PROEJA<br>Pergunta: Eu já concluí o ensino médio, posso cursar o Proeja ?",
          "Tópico: Educação de Jovens e Adultos<br>Programa: Pé-de-meia/EJA<br>Pergunta: Alunos da EJA têm direito ao recebimento do Pé de Meia?"
         ],
         "type": "scatter3d",
         "x": {
          "_inputArray": {
           "0": -6.364406108856201,
           "1": -8.647600173950195,
           "2": -12.049428939819336,
           "3": -6.1843390464782715,
           "4": -13.878458976745605,
           "5": -6.92332649230957,
           "6": -12.319032669067383,
           "7": -17.16108512878418,
           "8": 6.896602153778076,
           "bdata": "N6nLwJJcCsF2ykDBG+bFwCsOXsHki93AwhpFwedJicH3sNxA",
           "dtype": "f4",
           "shape": "9"
          },
          "bdata": "N6nLwJJcCsF2ykDBG+bFwCsOXsHki93AwhpFwedJicH3sNxA",
          "dtype": "f4"
         },
         "y": {
          "_inputArray": {
           "0": -32.1742057800293,
           "1": -25.651378631591797,
           "2": -30.325145721435547,
           "3": -27.283536911010742,
           "4": -23.43906021118164,
           "5": -18.320022583007812,
           "6": -15.725547790527344,
           "7": -17.99599838256836,
           "8": -5.313061714172363,
           "bdata": "Y7IAwgY2zcHmmfLBr0TawTKDu8Foj5LB2Jt7wc73j8GaBKrA",
           "dtype": "f4",
           "shape": "9"
          },
          "bdata": "Y7IAwgY2zcHmmfLBr0TawTKDu8Foj5LB2Jt7wc73j8GaBKrA",
          "dtype": "f4"
         },
         "z": {
          "_inputArray": {
           "0": 17.507108688354492,
           "1": 14.937514305114746,
           "2": 19.212677001953125,
           "3": 22.453289031982422,
           "4": 22.607929229736328,
           "5": 23.1077823638916,
           "6": 20.4620304107666,
           "7": 17.049026489257812,
           "8": -8.405631065368652,
           "bdata": "jw6MQQ8Ab0GQs5lBVqCzQQrdtEG93LhBPbKjQWhkiEF3fQbB",
           "dtype": "f4",
           "shape": "9"
          },
          "bdata": "jw6MQQ8Ab0GQs5lBVqCzQQrdtEG93LhBPbKjQWhkiEF3fQbB",
          "dtype": "f4"
         }
        },
        {
         "hovertemplate": "%{text}<extra></extra>",
         "marker": {
          "color": "rgb(190,186,218)",
          "opacity": 0.7,
          "size": 6
         },
         "mode": "markers",
         "name": "Acesso ao Ensino Superior",
         "text": [
          "Tópico: Acesso ao Ensino Superior<br>Programa: SISU<br>Pergunta: O que é o SISU?",
          "Tópico: Acesso ao Ensino Superior<br>Programa: SISU<br>Pergunta: Quem pode se inscrever no SISU?",
          "Tópico: Acesso ao Ensino Superior<br>Programa: SISU<br>Pergunta: Posso escolher qual semestre irei cursar?",
          "Tópico: Acesso ao Ensino Superior<br>Programa: SISU<br>Pergunta: O candidato que participou do Sisu em edições anteriores e foi selecionado pode concorrer nesta edição?",
          "Tópico: Acesso ao Ensino Superior<br>Programa: SISU<br>Pergunta: O candidato matriculado em instituição de educação superior pode concorrer no processo seletivo desta edição do Sisu?",
          "Tópico: Acesso ao Ensino Superior<br>Programa: SISU<br>Pergunta: É cobrada alguma taxa para a realização da inscrição?",
          "Tópico: Acesso ao Ensino Superior<br>Programa: SISU<br>Pergunta: Quais os documentos necessários para fazer a inscrição no Sisu?",
          "Tópico: Acesso ao Ensino Superior<br>Programa: CPOP (Rede Nacional de Cursinhos Populares)<br>Pergunta: O que é um cursinho popular?",
          "Tópico: Acesso ao Ensino Superior<br>Programa: CPOP (Rede Nacional de Cursinhos Populares)<br>Pergunta: O que é a Rede Nacional de Cursinhos Populares (CPOP)?",
          "Tópico: Acesso ao Ensino Superior<br>Programa: CPOP (Rede Nacional de Cursinhos Populares)<br>Pergunta: Como um cursinho entra para a CPOP?",
          "Tópico: Acesso ao Ensino Superior<br>Programa: CPOP (Rede Nacional de Cursinhos Populares)<br>Pergunta: Como sei os cursinhos populares que fazem parte da CPOP?",
          "Tópico: Acesso ao Ensino Superior<br>Programa: CPOP (Rede Nacional de Cursinhos Populares)<br>Pergunta: Sou aluno e quero participar de um cursinho da CPOP?",
          "Tópico: Acesso ao Ensino Superior<br>Programa: CPOP (Rede Nacional de Cursinhos Populares)<br>Pergunta: Os alunos de cursinhos da CPOP recebem algum apoio?",
          "Tópico: Acesso ao Ensino Superior<br>Programa: ENEM (Exame Nacional do Ensino Médio)<br>Pergunta: O que é o ENEM?",
          "Tópico: Acesso ao Ensino Superior<br>Programa: ENEM (Exame Nacional do Ensino Médio)<br>Pergunta: Para que serve a nota do ENEM?",
          "Tópico: Acesso ao Ensino Superior<br>Programa: ENEM (Exame Nacional do Ensino Médio)<br>Pergunta: Quem pode fazer a prova do ENEM?",
          "Tópico: Acesso ao Ensino Superior<br>Programa: ENEM (Exame Nacional do Ensino Médio)<br>Pergunta: Como faço para me inscrever no ENEM?",
          "Tópico: Acesso ao Ensino Superior<br>Programa: ENEM (Exame Nacional do Ensino Médio)<br>Pergunta: Preciso pagar para fazer o ENEM?",
          "Tópico: Acesso ao Ensino Superior<br>Programa: ENEM (Exame Nacional do Ensino Médio)<br>Pergunta: Existe isenção da taxa de inscrição do ENEM?",
          "Tópico: Acesso ao Ensino Superior<br>Programa: ENEM (Exame Nacional do Ensino Médio)<br>Pergunta: Se eu conseguir a isenção da taxa, minha inscrição no ENEM está garantida?",
          "Tópico: Acesso ao Ensino Superior<br>Programa: ENEM (Exame Nacional do Ensino Médio)<br>Pergunta: Sou aluno de escola pública, minha inscrição no ENEM é automática?",
          "Tópico: Acesso ao Ensino Superior<br>Programa: ENEM (Exame Nacional do Ensino Médio)<br>Pergunta: Como são as provas do ENEM?",
          "Tópico: Acesso ao Ensino Superior<br>Programa: ENEM (Exame Nacional do Ensino Médio)<br>Pergunta: Posso usar minha nota do ENEM para estudar fora do Brasil?",
          "Tópico: Acesso ao Ensino Superior<br>Programa: ENEM (Exame Nacional do Ensino Médio)<br>Pergunta: Não consegui fazer a prova em um dos dias. Posso refazer?",
          "Tópico: Acesso ao Ensino Superior<br>Programa: ENEM (Exame Nacional do Ensino Médio)<br>Pergunta: O ENEM tem prazo de validade?",
          "Tópico: Acesso ao Ensino Superior<br>Programa: ENEM (Exame Nacional do Ensino Médio)<br>Pergunta: O que é o programa \"Pé-de-Meia\" e qual a relação com o ENEM?",
          "Tópico: Acesso ao Ensino Superior<br>Programa: SISU (Sistema de Seleção Unificada)<br>Pergunta: O que é o SISU?",
          "Tópico: Acesso ao Ensino Superior<br>Programa: SISU (Sistema de Seleção Unificada)<br>Pergunta: Quem pode se inscrever no SISU?",
          "Tópico: Acesso ao Ensino Superior<br>Programa: SISU (Sistema de Seleção Unificada)<br>Pergunta: Como funciona a inscrição no SISU?",
          "Tópico: Acesso ao Ensino Superior<br>Programa: SISU (Sistema de Seleção Unificada)<br>Pergunta: O que é a \"nota de corte\" do SISU?",
          "Tópico: Acesso ao Ensino Superior<br>Programa: SISU (Sistema de Seleção Unificada)<br>Pergunta: E se eu não for aprovado na chamada regular do SISU?",
          "Tópico: Acesso ao Ensino Superior<br>Programa: Lei de Cotas<br>Pergunta: O que é o sistema de cotas?",
          "Tópico: Acesso ao Ensino Superior<br>Programa: Lei de Cotas<br>Pergunta: Como saber se tenho direito às cotas?",
          "Tópico: Acesso ao Ensino Superior<br>Programa: Lei de Cotas<br>Pergunta: Onde indico que quero concorrer pelas cotas?",
          "Tópico: Acesso ao Ensino Superior<br>Programa: ProUni (Programa Universidade para Todos)<br>Pergunta: O que é o ProUni?",
          "Tópico: Acesso ao Ensino Superior<br>Programa: ProUni (Programa Universidade para Todos)<br>Pergunta: Quem pode se inscrever no ProUni?",
          "Tópico: Acesso ao Ensino Superior<br>Programa: ProUni (Programa Universidade para Todos)<br>Pergunta: Qual o critério de renda para o ProUni?",
          "Tópico: Acesso ao Ensino Superior<br>Programa: ProUni (Programa Universidade para Todos)<br>Pergunta: Fui pré-selecionado no ProUni, isso garante minha bolsa?",
          "Tópico: Acesso ao Ensino Superior<br>Programa: ProUni (Programa Universidade para Todos)<br>Pergunta: Consegui uma bolsa de 50% do ProUni, mas não posso pagar o resto. O que faço?",
          "Tópico: Acesso ao Ensino Superior<br>Programa: ProUni (Programa Universidade para Todos)<br>Pergunta: Posso escolher qualquer curso no ProUni?",
          "Tópico: Acesso ao Ensino Superior<br>Programa: ProUni (Programa Universidade para Todos)<br>Pergunta: Posso me inscrever no ProUni e no Fies ao mesmo tempo?",
          "Tópico: Acesso ao Ensino Superior<br>Programa: ProUni (Programa Universidade para Todos)<br>Pergunta: E se eu perder o prazo de comprovação de documentos?",
          "Tópico: Acesso ao Ensino Superior<br>Programa: ProUni (Programa Universidade para Todos)<br>Pergunta: Quem já tem diploma pode participar do ProUni?",
          "Tópico: Acesso ao Ensino Superior<br>Programa: FIES (Fundo de Financiamento Estudantil)<br>Pergunta: O que é o FIES?",
          "Tópico: Acesso ao Ensino Superior<br>Programa: FIES (Fundo de Financiamento Estudantil)<br>Pergunta: Qual a diferença entre FIES e ProUni?",
          "Tópico: Acesso ao Ensino Superior<br>Programa: FIES (Fundo de Financiamento Estudantil)<br>Pergunta: Quais os requisitos para pedir o FIES?",
          "Tópico: Acesso ao Ensino Superior<br>Programa: FIES (Fundo de Financiamento Estudantil)<br>Pergunta: Como funciona o processo para conseguir o FIES?",
          "Tópico: Acesso ao Ensino Superior<br>Programa: FIES (Fundo de Financiamento Estudantil)<br>Pergunta: Posso me inscrever no Fies e no Prouni ao mesmo tempo?",
          "Tópico: Acesso ao Ensino Superior<br>Programa: FIES (Fundo de Financiamento Estudantil)<br>Pergunta: Posso financiar qualquer curso no Fies?",
          "Tópico: Acesso ao Ensino Superior<br>Programa: FIES (Fundo de Financiamento Estudantil)<br>Pergunta: Preciso ter fiador para o Fies?",
          "Tópico: Acesso ao Ensino Superior<br>Programa: FIES (Fundo de Financiamento Estudantil)<br>Pergunta: Como funcionam os pagamentos durante o curso?",
          "Tópico: Acesso ao Ensino Superior<br>Programa: FIES (Fundo de Financiamento Estudantil)<br>Pergunta: E se eu perder o prazo de comprovação de documentos?",
          "Tópico: Acesso ao Ensino Superior<br>Programa: FIES (Fundo de Financiamento Estudantil)<br>Pergunta: Posso adiantar parcelas do Fies?",
          "Tópico: Acesso ao Ensino Superior<br>Programa: FIES (Fundo de Financiamento Estudantil)<br>Pergunta: E se eu desistir do curso?",
          "Tópico: Acesso ao Ensino Superior<br>Programa: FIES (Fundo de Financiamento Estudantil)<br>Pergunta: Tabela Comparativa: SISU, ProUni e FIES"
         ],
         "type": "scatter3d",
         "x": {
          "_inputArray": {
           "0": -10.674696922302246,
           "1": -23.59038734436035,
           "10": -4.149240493774414,
           "11": -1.5382028818130493,
           "12": 3.2285501956939697,
           "13": -30.49498748779297,
           "14": -38.00713348388672,
           "15": -33.84248733520508,
           "16": -26.773357391357422,
           "17": -29.994516372680664,
           "18": -35.890106201171875,
           "19": -33.415584564208984,
           "2": -10.62450885772705,
           "20": -27.682294845581055,
           "21": -31.893836975097656,
           "22": -39.79439926147461,
           "23": -38.652164459228516,
           "24": -33.46458053588867,
           "25": -25.866695404052734,
           "26": -12.911602973937988,
           "27": -18.365692138671875,
           "28": -18.209131240844727,
           "29": -12.526253700256348,
           "3": -20.968109130859375,
           "30": -19.196714401245117,
           "31": -22.57631492614746,
           "32": -19.086793899536133,
           "33": -19.06888198852539,
           "34": -16.960063934326172,
           "35": -20.619497299194336,
           "36": -24.510761260986328,
           "37": -22.5914249420166,
           "38": -19.311105728149414,
           "39": -14.256943702697754,
           "4": -25.335250854492188,
           "40": -7.88167142868042,
           "41": -13.315812110900879,
           "42": -23.923744201660156,
           "43": 3.518157958984375,
           "44": -0.5630302429199219,
           "45": 6.897360324859619,
           "46": 0.7716691493988037,
           "47": -2.1488115787506104,
           "48": 6.286020755767822,
           "49": 7.151162624359131,
           "5": -25.524002075195312,
           "50": -1.4417834281921387,
           "51": -7.629477500915527,
           "52": 0.5907601118087769,
           "53": -2.322131395339966,
           "54": -4.702085494995117,
           "6": -18.359182357788086,
           "7": -3.033461093902588,
           "8": -9.198596954345703,
           "9": -8.277194023132324,
           "bdata": "j8sqwR25vMH9/SnBsL6nwZiuysEoMczBm9+SwTokQsB0LRPBY28EwZTGhMDV48S/kaBOQLz188FOBxjCtV4HwtYv1sHF9O/BeI8Pwo+pBcJXdd3BlCb/wXctH8LRmxrCu9sFwv7uzsHtlU7B8OySwU2skcGJa0jB35KZwUuctMHBsZjBEo2YwTauh8G79KTBChbEwT27tMElfZrBcRxkwac2/MCRDVXB1GO/wYApYUDAIhC/LbfcQByMRT8hhgnAFSfJQFPW5EBcjLi/riT0wA48Fz/NnRTAfHeWwA==",
           "dtype": "f4",
           "shape": "55"
          },
          "bdata": "j8sqwR25vMH9/SnBsL6nwZiuysEoMczBm9+SwTokQsB0LRPBY28EwZTGhMDV48S/kaBOQLz188FOBxjCtV4HwtYv1sHF9O/BeI8Pwo+pBcJXdd3BlCb/wXctH8LRmxrCu9sFwv7uzsHtlU7B8OySwU2skcGJa0jB35KZwUuctMHBsZjBEo2YwTauh8G79KTBChbEwT27tMElfZrBcRxkwac2/MCRDVXB1GO/wYApYUDAIhC/LbfcQByMRT8hhgnAFSfJQFPW5EBcjLi/riT0wA48Fz/NnRTAfHeWwA==",
          "dtype": "f4"
         },
         "y": {
          "_inputArray": {
           "0": -7.15957498550415,
           "1": -0.684827983379364,
           "10": 35.59354019165039,
           "11": 29.179155349731445,
           "12": 34.01327896118164,
           "13": 2.954375743865967,
           "14": 3.8236777782440186,
           "15": -2.6292459964752197,
           "16": -2.009983539581299,
           "17": -3.6651294231414795,
           "18": 0.4039379954338074,
           "19": 5.428977012634277,
           "2": -3.473304510116577,
           "20": 4.302194118499756,
           "21": -2.572732925415039,
           "22": 3.731886625289917,
           "23": -8.179082870483398,
           "24": 9.77514934539795,
           "25": 5.249893665313721,
           "26": -1.3517564535140991,
           "27": -2.2205874919891357,
           "28": -5.833896636962891,
           "29": -4.821930885314941,
           "3": -5.859661102294922,
           "30": 1.9628045558929443,
           "31": 20.08164405822754,
           "32": 15.417750358581543,
           "33": 20.415393829345703,
           "34": 12.56978702545166,
           "35": 6.850966453552246,
           "36": 14.473363876342773,
           "37": 12.191717147827148,
           "38": 18.825990676879883,
           "39": 5.327670574188232,
           "4": -6.587493419647217,
           "40": 10.06031608581543,
           "41": 13.117890357971191,
           "42": 5.340512275695801,
           "43": 2.9088330268859863,
           "44": 1.6562803983688354,
           "45": 8.398947715759277,
           "46": 8.885906219482422,
           "47": 10.263399124145508,
           "48": 10.471115112304688,
           "49": 15.653485298156738,
           "5": -7.855635166168213,
           "50": 6.064728736877441,
           "51": 13.693242073059082,
           "52": 16.50800895690918,
           "53": 15.588953018188477,
           "54": 2.3285651206970215,
           "6": -11.877823829650879,
           "7": 28.026548385620117,
           "8": 32.71310806274414,
           "9": 29.90228843688965,
           "bdata": "PRvlwONQL7+fSl7AWIK7wL/M0sBdYfvAkQs+wV824EE52gJC4zfvQclfDkLpbulBmQ0IQn4UPUAjt3RAkUUowJKjAMB7kWrA9tDOPi66rUCTq4lAqKckwDvXbkCG3QLBA2ccQSH/p0BbBq2/Gx4OwEivusBCTZrALj37PzWnoEEbr3ZBulKjQdkdSUEeO9tA5pJnQUYRQ0Ghm5ZBR3yqQA73IEHh4lFBeuWqQFIqOkD/ANQ/F2IGQawsDkHiNiRBsIknQa10ekFCEsJAhRdbQWcQhEFabHlBNgcVQA==",
           "dtype": "f4",
           "shape": "55"
          },
          "bdata": "PRvlwONQL7+fSl7AWIK7wL/M0sBdYfvAkQs+wV824EE52gJC4zfvQclfDkLpbulBmQ0IQn4UPUAjt3RAkUUowJKjAMB7kWrA9tDOPi66rUCTq4lAqKckwDvXbkCG3QLBA2ccQSH/p0BbBq2/Gx4OwEivusBCTZrALj37PzWnoEEbr3ZBulKjQdkdSUEeO9tA5pJnQUYRQ0Ghm5ZBR3yqQA73IEHh4lFBeuWqQFIqOkD/ANQ/F2IGQawsDkHiNiRBsIknQa10ekFCEsJAhRdbQWcQhEFabHlBNgcVQA==",
          "dtype": "f4"
         },
         "z": {
          "_inputArray": {
           "0": 39.92537307739258,
           "1": 37.94108581542969,
           "10": 19.484336853027344,
           "11": 24.15729522705078,
           "12": 20.247583389282227,
           "13": 4.058804512023926,
           "14": 2.4910013675689697,
           "15": 8.8576078414917,
           "16": 9.000101089477539,
           "17": 16.09143829345703,
           "18": 19.105138778686523,
           "19": 18.54730796813965,
           "2": 31.387792587280273,
           "20": 13.377533912658691,
           "21": 1.1577669382095337,
           "22": 10.00078010559082,
           "23": 10.005366325378418,
           "24": 7.738912105560303,
           "25": -0.6477506160736084,
           "26": 41.2519645690918,
           "27": 35.313133239746094,
           "28": 41.973079681396484,
           "29": 48.22773742675781,
           "3": 28.2309627532959,
           "30": 45.120391845703125,
           "31": 16.955230712890625,
           "32": 18.869998931884766,
           "33": 22.41621971130371,
           "34": 32.97361373901367,
           "35": 33.39784240722656,
           "36": 32.24391555786133,
           "37": 40.559165954589844,
           "38": 37.1866340637207,
           "39": 28.79181480407715,
           "4": 32.698299407958984,
           "40": 31.934444427490234,
           "41": 41.446937561035156,
           "42": 27.77485466003418,
           "43": 41.27912902832031,
           "44": 34.18831253051758,
           "45": 44.38515853881836,
           "46": 41.56399917602539,
           "47": 31.620527267456055,
           "48": 35.96073913574219,
           "49": 42.83854293823242,
           "5": 43.28950881958008,
           "50": 47.696781158447266,
           "51": 43.45943069458008,
           "52": 37.17211151123047,
           "53": 47.5277099609375,
           "54": 39.45267868041992,
           "6": 37.31150436401367,
           "7": 16.298885345458984,
           "8": 15.131129264831543,
           "9": 22.113203048706055,
           "bdata": "lbMfQqzDF0IzGvtBA9nhQQ/LAkJ1KC1C+z4VQh5kgkEbGXJB1+ewQezfm0EkQsFBDfuhQbrhgUCRbB9Aw7gNQWoAEEFEu4BBU9eYQeNglEFhClZBtTGUPzIDIEH7FSBBK6X3QPzSJb8DAiVCpkANQm/kJ0I06UBCSHs0QlCkh0HC9ZZBa1SzQfvkA0JklwVCxfkAQpY8IkIdvxRCo1XmQb55/0GqySVC5zLeQdQdJULVwAhCZ4oxQolBJkLX9vxBzNcPQqtaK0KByT5CddYtQj6wFEJgHD5Ci88dQg==",
           "dtype": "f4",
           "shape": "55"
          },
          "bdata": "lbMfQqzDF0IzGvtBA9nhQQ/LAkJ1KC1C+z4VQh5kgkEbGXJB1+ewQezfm0EkQsFBDfuhQbrhgUCRbB9Aw7gNQWoAEEFEu4BBU9eYQeNglEFhClZBtTGUPzIDIEH7FSBBK6X3QPzSJb8DAiVCpkANQm/kJ0I06UBCSHs0QlCkh0HC9ZZBa1SzQfvkA0JklwVCxfkAQpY8IkIdvxRCo1XmQb55/0GqySVC5zLeQdQdJULVwAhCZ4oxQolBJkLX9vxBzNcPQqtaK0KByT5CddYtQj6wFEJgHD5Ci88dQg==",
          "dtype": "f4"
         }
        },
        {
         "hovertemplate": "%{text}<extra></extra>",
         "marker": {
          "color": "rgb(251,128,114)",
          "opacity": 0.7,
          "size": 6
         },
         "mode": "markers",
         "name": "Acesso a emprego",
         "text": [
          "Tópico: Acesso a emprego<br>Programa: Programa Progredir<br>Pergunta: O que é o Programa Progredir?",
          "Tópico: Acesso a emprego<br>Programa: Programa Progredir<br>Pergunta: Quem pode participar do Programa Progredir?"
         ],
         "type": "scatter3d",
         "x": {
          "_inputArray": {
           "0": 10.802056312561035,
           "1": 7.182051181793213,
           "bdata": "OdUsQV3T5UA=",
           "dtype": "f4",
           "shape": "2"
          },
          "bdata": "OdUsQV3T5UA=",
          "dtype": "f4"
         },
         "y": {
          "_inputArray": {
           "0": -20.817825317382812,
           "1": -17.705001831054688,
           "bdata": "6IqmwdijjcE=",
           "dtype": "f4",
           "shape": "2"
          },
          "bdata": "6IqmwdijjcE=",
          "dtype": "f4"
         },
         "z": {
          "_inputArray": {
           "0": 27.355316162109375,
           "1": 29.36426544189453,
           "bdata": "sNfaQQTq6kE=",
           "dtype": "f4",
           "shape": "2"
          },
          "bdata": "sNfaQQTq6kE=",
          "dtype": "f4"
         }
        },
        {
         "hovertemplate": "%{text}<extra></extra>",
         "marker": {
          "color": "rgb(128,177,211)",
          "opacity": 0.7,
          "size": 6
         },
         "mode": "markers",
         "name": "Preparação para acesso ao Ensino Superior",
         "text": [
          "Tópico: Preparação para acesso ao Ensino Superior<br>Programa: Cursinho Popular<br>Pergunta: O que é um Cursinho Popular?",
          "Tópico: Preparação para acesso ao Ensino Superior<br>Programa: Cursinho Popular<br>Pergunta: Quem tem direito a fazer Cursinho Popular?",
          "Tópico: Preparação para acesso ao Ensino Superior<br>Programa: Cursinho Popular<br>Pergunta: Por que o Cursinho Popular é importante?",
          "Tópico: Preparação para acesso ao Ensino Superior<br>Programa: Cursinho Popular<br>Pergunta: Quando é possível se inscrever no Cursinho Popular?",
          "Tópico: Preparação para acesso ao Ensino Superior<br>Programa: Cursinho Popular<br>Pergunta: Como se inscrever para o Cursinho Popular?",
          "Tópico: Preparação para acesso ao Ensino Superior<br>Programa: CadEJA<br>Pergunta: O que é o CadEJA?",
          "Tópico: Preparação para acesso ao Ensino Superior<br>Programa: CadEJA<br>Pergunta: Quem tem direito a acessar o CADEJA?",
          "Tópico: Preparação para acesso ao Ensino Superior<br>Programa: CadEJA<br>Pergunta: Por que o CADEJA é importante?",
          "Tópico: Preparação para acesso ao Ensino Superior<br>Programa: CadEJA<br>Pergunta: Quando é possível se inscrever no CADEJA?",
          "Tópico: Preparação para acesso ao Ensino Superior<br>Programa: CadEJA<br>Pergunta: Como se inscrever no CadEJA?"
         ],
         "type": "scatter3d",
         "x": {
          "_inputArray": {
           "0": -0.3998848795890808,
           "1": -5.313935279846191,
           "2": -7.257010459899902,
           "3": -0.2856087386608124,
           "4": 2.151279926300049,
           "5": -10.47898006439209,
           "6": -11.278302192687988,
           "7": -10.992262840270996,
           "8": -4.72791051864624,
           "9": -5.486269950866699,
           "bdata": "tr3MvsILqsBuOejATzuSvpKuCUDnqSfB7XM0wU/gL8ELS5fAho+vwA==",
           "dtype": "f4",
           "shape": "10"
          },
          "bdata": "tr3MvsILqsBuOejATzuSvpKuCUDnqSfB7XM0wU/gL8ELS5fAho+vwA==",
          "dtype": "f4"
         },
         "y": {
          "_inputArray": {
           "0": 21.554283142089844,
           "1": 19.661588668823242,
           "2": 20.477224349975586,
           "3": 14.671557426452637,
           "4": 20.22107696533203,
           "5": -5.148464202880859,
           "6": 2.020954132080078,
           "7": 0.9306520223617554,
           "8": 1.6846872568130493,
           "9": -4.605891704559326,
           "bdata": "LG+sQe9KnUFb0aNBs75qQcTEoUE4wKTAUFcBQDY/bj/Vo9c/d2OTwA==",
           "dtype": "f4",
           "shape": "10"
          },
          "bdata": "LG+sQe9KnUFb0aNBs75qQcTEoUE4wKTAUFcBQDY/bj/Vo9c/d2OTwA==",
          "dtype": "f4"
         },
         "z": {
          "_inputArray": {
           "0": 13.321032524108887,
           "1": 20.689884185791016,
           "2": 13.138691902160645,
           "3": 18.076318740844727,
           "4": 20.40010643005371,
           "5": 14.605340003967285,
           "6": 17.82406234741211,
           "7": 11.19128704071045,
           "8": 16.097219467163086,
           "9": 18.28668212890625,
           "bdata": "8yJVQeKEpUEVOFJBTZyQQWszo0F5r2lBrpeOQYMPM0Ebx4BBIEuSQQ==",
           "dtype": "f4",
           "shape": "10"
          },
          "bdata": "8yJVQeKEpUEVOFJBTZyQQWszo0F5r2lBrpeOQYMPM0Ebx4BBIEuSQQ==",
          "dtype": "f4"
         }
        },
        {
         "hovertemplate": "%{text}<extra></extra>",
         "marker": {
          "color": "rgb(253,180,98)",
          "opacity": 0.7,
          "size": 6
         },
         "mode": "markers",
         "name": "Formação de professores",
         "text": [
          "Tópico: Formação de professores<br>Programa: ProCampo<br>Pergunta: O que é o ProCampo?",
          "Tópico: Formação de professores<br>Programa: ProCampo<br>Pergunta: Quem tem direito a fazer ProCampo?",
          "Tópico: Formação de professores<br>Programa: ProCampo<br>Pergunta: Por que o ProCampo é importante?",
          "Tópico: Formação de professores<br>Programa: ProCampo<br>Pergunta: Quando é possível se inscrever no ProCampo?",
          "Tópico: Formação de professores<br>Programa: ProCampo<br>Pergunta: Como se inscrever para o ProCampo?"
         ],
         "type": "scatter3d",
         "x": {
          "_inputArray": {
           "0": 20.310333251953125,
           "1": 20.38846206665039,
           "2": 24.659814834594727,
           "3": 13.829975128173828,
           "4": 17.20322608947754,
           "bdata": "kHuiQZIbo0FNR8VBlEddQTWgiUE=",
           "dtype": "f4",
           "shape": "5"
          },
          "bdata": "kHuiQZIbo0FNR8VBlEddQTWgiUE=",
          "dtype": "f4"
         },
         "y": {
          "_inputArray": {
           "0": -7.953232288360596,
           "1": -2.70746111869812,
           "2": -3.382204532623291,
           "3": -4.657610893249512,
           "4": -1.5036426782608032,
           "bdata": "4YD+wAtHLcAKdljAJguVwF13wL8=",
           "dtype": "f4",
           "shape": "5"
          },
          "bdata": "4YD+wAtHLcAKdljAJguVwF13wL8=",
          "dtype": "f4"
         },
         "z": {
          "_inputArray": {
           "0": 25.64362907409668,
           "1": 30.66638946533203,
           "2": 24.43807601928711,
           "3": 28.08970069885254,
           "4": 23.756031036376953,
           "bdata": "JybNQcRU9UEugcNBtbfgQVoMvkE=",
           "dtype": "f4",
           "shape": "5"
          },
          "bdata": "JybNQcRU9UEugcNBtbfgQVoMvkE=",
          "dtype": "f4"
         }
        },
        {
         "hovertemplate": "%{text}<extra></extra>",
         "marker": {
          "color": "rgb(179,222,105)",
          "opacity": 0.7,
          "size": 6
         },
         "mode": "markers",
         "name": "Formação técnica",
         "text": [
          "Tópico: Formação técnica<br>Programa: Institutos Federais<br>Pergunta: Posso fazer um curso técnico depois do ensino médio?",
          "Tópico: Formação técnica<br>Programa: Institutos Federais<br>Pergunta: Onde encontro cursos técnicos gratuitos perto de mim?",
          "Tópico: Formação técnica<br>Programa: Institutos Federais<br>Pergunta: Posso fazer um curso técnico sem ter feito o Enem?",
          "Tópico: Formação técnica<br>Programa: Institutos Federais<br>Pergunta: Quanto tempo dura um curso técnico?",
          "Tópico: Formação técnica<br>Programa: Institutos Federais<br>Pergunta: Que áreas de cursos técnicos posso fazer?",
          "Tópico: Formação técnica<br>Programa: Institutos Federais<br>Pergunta: Existe bolsa ou ajuda de custo para quem faz curso técnico?"
         ],
         "type": "scatter3d",
         "x": {
          "_inputArray": {
           "0": 25.460302352905273,
           "1": 19.500762939453125,
           "2": 19.10304069519043,
           "3": 28.250991821289062,
           "4": 23.544954299926758,
           "5": 21.3070068359375,
           "bdata": "s67LQZABnEEH05hBCALiQRFcvEHAdKpB",
           "dtype": "f4",
           "shape": "6"
          },
          "bdata": "s67LQZABnEEH05hBCALiQRFcvEHAdKpB",
          "dtype": "f4"
         },
         "y": {
          "_inputArray": {
           "0": 18.18067169189453,
           "1": 13.937896728515625,
           "2": 17.683515548706055,
           "3": 17.190692901611328,
           "4": 12.785253524780273,
           "5": 20.407201766967773,
           "bdata": "BHKRQaABX0HXd41BioaJQWaQTEHzQaNB",
           "dtype": "f4",
           "shape": "6"
          },
          "bdata": "BHKRQaABX0HXd41BioaJQWaQTEHzQaNB",
          "dtype": "f4"
         },
         "z": {
          "_inputArray": {
           "0": 25.960262298583984,
           "1": 16.84964942932129,
           "2": 26.033910751342773,
           "3": 18.584264755249023,
           "4": 22.317829132080078,
           "5": 19.209383010864258,
           "bdata": "nq7PQRXMhkFzRdBBk6yUQeqKskHRrJlB",
           "dtype": "f4",
           "shape": "6"
          },
          "bdata": "nq7PQRXMhkFzRdBBk6yUQeqKskHRrJlB",
          "dtype": "f4"
         }
        }
       ],
       "layout": {
        "height": 768,
        "legend": {
         "x": 0.01,
         "xanchor": "left",
         "y": 0.99,
         "yanchor": "top"
        },
        "scene": {
         "aspectmode": "auto",
         "aspectratio": {
          "x": 0.9481165580224602,
          "y": 0.9407272099951736,
          "z": 1.1211779884087945
         },
         "camera": {
          "center": {
           "x": 0,
           "y": 0,
           "z": 0
          },
          "eye": {
           "x": 0.8908751327236191,
           "y": 0.8908751327236185,
           "z": 0.8908751327236185
          },
          "projection": {
           "type": "perspective"
          },
          "up": {
           "x": -0.03841843047688644,
           "y": 0.03995583453954171,
           "z": 0.9984625959373448
          }
         },
         "xaxis": {
          "title": {
           "text": "t-SNE 1"
          },
          "type": "linear"
         },
         "yaxis": {
          "title": {
           "text": "t-SNE 2"
          },
          "type": "linear"
         },
         "zaxis": {
          "title": {
           "text": "t-SNE 3"
          },
          "type": "linear"
         }
        },
        "template": {
         "data": {
          "bar": [
           {
            "error_x": {
             "color": "#2a3f5f"
            },
            "error_y": {
             "color": "#2a3f5f"
            },
            "marker": {
             "line": {
              "color": "#E5ECF6",
              "width": 0.5
             },
             "pattern": {
              "fillmode": "overlay",
              "size": 10,
              "solidity": 0.2
             }
            },
            "type": "bar"
           }
          ],
          "barpolar": [
           {
            "marker": {
             "line": {
              "color": "#E5ECF6",
              "width": 0.5
             },
             "pattern": {
              "fillmode": "overlay",
              "size": 10,
              "solidity": 0.2
             }
            },
            "type": "barpolar"
           }
          ],
          "carpet": [
           {
            "aaxis": {
             "endlinecolor": "#2a3f5f",
             "gridcolor": "white",
             "linecolor": "white",
             "minorgridcolor": "white",
             "startlinecolor": "#2a3f5f"
            },
            "baxis": {
             "endlinecolor": "#2a3f5f",
             "gridcolor": "white",
             "linecolor": "white",
             "minorgridcolor": "white",
             "startlinecolor": "#2a3f5f"
            },
            "type": "carpet"
           }
          ],
          "choropleth": [
           {
            "colorbar": {
             "outlinewidth": 0,
             "ticks": ""
            },
            "type": "choropleth"
           }
          ],
          "contour": [
           {
            "colorbar": {
             "outlinewidth": 0,
             "ticks": ""
            },
            "colorscale": [
             [
              0,
              "#0d0887"
             ],
             [
              0.1111111111111111,
              "#46039f"
             ],
             [
              0.2222222222222222,
              "#7201a8"
             ],
             [
              0.3333333333333333,
              "#9c179e"
             ],
             [
              0.4444444444444444,
              "#bd3786"
             ],
             [
              0.5555555555555556,
              "#d8576b"
             ],
             [
              0.6666666666666666,
              "#ed7953"
             ],
             [
              0.7777777777777778,
              "#fb9f3a"
             ],
             [
              0.8888888888888888,
              "#fdca26"
             ],
             [
              1,
              "#f0f921"
             ]
            ],
            "type": "contour"
           }
          ],
          "contourcarpet": [
           {
            "colorbar": {
             "outlinewidth": 0,
             "ticks": ""
            },
            "type": "contourcarpet"
           }
          ],
          "heatmap": [
           {
            "colorbar": {
             "outlinewidth": 0,
             "ticks": ""
            },
            "colorscale": [
             [
              0,
              "#0d0887"
             ],
             [
              0.1111111111111111,
              "#46039f"
             ],
             [
              0.2222222222222222,
              "#7201a8"
             ],
             [
              0.3333333333333333,
              "#9c179e"
             ],
             [
              0.4444444444444444,
              "#bd3786"
             ],
             [
              0.5555555555555556,
              "#d8576b"
             ],
             [
              0.6666666666666666,
              "#ed7953"
             ],
             [
              0.7777777777777778,
              "#fb9f3a"
             ],
             [
              0.8888888888888888,
              "#fdca26"
             ],
             [
              1,
              "#f0f921"
             ]
            ],
            "type": "heatmap"
           }
          ],
          "histogram": [
           {
            "marker": {
             "pattern": {
              "fillmode": "overlay",
              "size": 10,
              "solidity": 0.2
             }
            },
            "type": "histogram"
           }
          ],
          "histogram2d": [
           {
            "colorbar": {
             "outlinewidth": 0,
             "ticks": ""
            },
            "colorscale": [
             [
              0,
              "#0d0887"
             ],
             [
              0.1111111111111111,
              "#46039f"
             ],
             [
              0.2222222222222222,
              "#7201a8"
             ],
             [
              0.3333333333333333,
              "#9c179e"
             ],
             [
              0.4444444444444444,
              "#bd3786"
             ],
             [
              0.5555555555555556,
              "#d8576b"
             ],
             [
              0.6666666666666666,
              "#ed7953"
             ],
             [
              0.7777777777777778,
              "#fb9f3a"
             ],
             [
              0.8888888888888888,
              "#fdca26"
             ],
             [
              1,
              "#f0f921"
             ]
            ],
            "type": "histogram2d"
           }
          ],
          "histogram2dcontour": [
           {
            "colorbar": {
             "outlinewidth": 0,
             "ticks": ""
            },
            "colorscale": [
             [
              0,
              "#0d0887"
             ],
             [
              0.1111111111111111,
              "#46039f"
             ],
             [
              0.2222222222222222,
              "#7201a8"
             ],
             [
              0.3333333333333333,
              "#9c179e"
             ],
             [
              0.4444444444444444,
              "#bd3786"
             ],
             [
              0.5555555555555556,
              "#d8576b"
             ],
             [
              0.6666666666666666,
              "#ed7953"
             ],
             [
              0.7777777777777778,
              "#fb9f3a"
             ],
             [
              0.8888888888888888,
              "#fdca26"
             ],
             [
              1,
              "#f0f921"
             ]
            ],
            "type": "histogram2dcontour"
           }
          ],
          "mesh3d": [
           {
            "colorbar": {
             "outlinewidth": 0,
             "ticks": ""
            },
            "type": "mesh3d"
           }
          ],
          "parcoords": [
           {
            "line": {
             "colorbar": {
              "outlinewidth": 0,
              "ticks": ""
             }
            },
            "type": "parcoords"
           }
          ],
          "pie": [
           {
            "automargin": true,
            "type": "pie"
           }
          ],
          "scatter": [
           {
            "fillpattern": {
             "fillmode": "overlay",
             "size": 10,
             "solidity": 0.2
            },
            "type": "scatter"
           }
          ],
          "scatter3d": [
           {
            "line": {
             "colorbar": {
              "outlinewidth": 0,
              "ticks": ""
             }
            },
            "marker": {
             "colorbar": {
              "outlinewidth": 0,
              "ticks": ""
             }
            },
            "type": "scatter3d"
           }
          ],
          "scattercarpet": [
           {
            "marker": {
             "colorbar": {
              "outlinewidth": 0,
              "ticks": ""
             }
            },
            "type": "scattercarpet"
           }
          ],
          "scattergeo": [
           {
            "marker": {
             "colorbar": {
              "outlinewidth": 0,
              "ticks": ""
             }
            },
            "type": "scattergeo"
           }
          ],
          "scattergl": [
           {
            "marker": {
             "colorbar": {
              "outlinewidth": 0,
              "ticks": ""
             }
            },
            "type": "scattergl"
           }
          ],
          "scattermap": [
           {
            "marker": {
             "colorbar": {
              "outlinewidth": 0,
              "ticks": ""
             }
            },
            "type": "scattermap"
           }
          ],
          "scattermapbox": [
           {
            "marker": {
             "colorbar": {
              "outlinewidth": 0,
              "ticks": ""
             }
            },
            "type": "scattermapbox"
           }
          ],
          "scatterpolar": [
           {
            "marker": {
             "colorbar": {
              "outlinewidth": 0,
              "ticks": ""
             }
            },
            "type": "scatterpolar"
           }
          ],
          "scatterpolargl": [
           {
            "marker": {
             "colorbar": {
              "outlinewidth": 0,
              "ticks": ""
             }
            },
            "type": "scatterpolargl"
           }
          ],
          "scatterternary": [
           {
            "marker": {
             "colorbar": {
              "outlinewidth": 0,
              "ticks": ""
             }
            },
            "type": "scatterternary"
           }
          ],
          "surface": [
           {
            "colorbar": {
             "outlinewidth": 0,
             "ticks": ""
            },
            "colorscale": [
             [
              0,
              "#0d0887"
             ],
             [
              0.1111111111111111,
              "#46039f"
             ],
             [
              0.2222222222222222,
              "#7201a8"
             ],
             [
              0.3333333333333333,
              "#9c179e"
             ],
             [
              0.4444444444444444,
              "#bd3786"
             ],
             [
              0.5555555555555556,
              "#d8576b"
             ],
             [
              0.6666666666666666,
              "#ed7953"
             ],
             [
              0.7777777777777778,
              "#fb9f3a"
             ],
             [
              0.8888888888888888,
              "#fdca26"
             ],
             [
              1,
              "#f0f921"
             ]
            ],
            "type": "surface"
           }
          ],
          "table": [
           {
            "cells": {
             "fill": {
              "color": "#EBF0F8"
             },
             "line": {
              "color": "white"
             }
            },
            "header": {
             "fill": {
              "color": "#C8D4E3"
             },
             "line": {
              "color": "white"
             }
            },
            "type": "table"
           }
          ]
         },
         "layout": {
          "annotationdefaults": {
           "arrowcolor": "#2a3f5f",
           "arrowhead": 0,
           "arrowwidth": 1
          },
          "autotypenumbers": "strict",
          "coloraxis": {
           "colorbar": {
            "outlinewidth": 0,
            "ticks": ""
           }
          },
          "colorscale": {
           "diverging": [
            [
             0,
             "#8e0152"
            ],
            [
             0.1,
             "#c51b7d"
            ],
            [
             0.2,
             "#de77ae"
            ],
            [
             0.3,
             "#f1b6da"
            ],
            [
             0.4,
             "#fde0ef"
            ],
            [
             0.5,
             "#f7f7f7"
            ],
            [
             0.6,
             "#e6f5d0"
            ],
            [
             0.7,
             "#b8e186"
            ],
            [
             0.8,
             "#7fbc41"
            ],
            [
             0.9,
             "#4d9221"
            ],
            [
             1,
             "#276419"
            ]
           ],
           "sequential": [
            [
             0,
             "#0d0887"
            ],
            [
             0.1111111111111111,
             "#46039f"
            ],
            [
             0.2222222222222222,
             "#7201a8"
            ],
            [
             0.3333333333333333,
             "#9c179e"
            ],
            [
             0.4444444444444444,
             "#bd3786"
            ],
            [
             0.5555555555555556,
             "#d8576b"
            ],
            [
             0.6666666666666666,
             "#ed7953"
            ],
            [
             0.7777777777777778,
             "#fb9f3a"
            ],
            [
             0.8888888888888888,
             "#fdca26"
            ],
            [
             1,
             "#f0f921"
            ]
           ],
           "sequentialminus": [
            [
             0,
             "#0d0887"
            ],
            [
             0.1111111111111111,
             "#46039f"
            ],
            [
             0.2222222222222222,
             "#7201a8"
            ],
            [
             0.3333333333333333,
             "#9c179e"
            ],
            [
             0.4444444444444444,
             "#bd3786"
            ],
            [
             0.5555555555555556,
             "#d8576b"
            ],
            [
             0.6666666666666666,
             "#ed7953"
            ],
            [
             0.7777777777777778,
             "#fb9f3a"
            ],
            [
             0.8888888888888888,
             "#fdca26"
            ],
            [
             1,
             "#f0f921"
            ]
           ]
          },
          "colorway": [
           "#636efa",
           "#EF553B",
           "#00cc96",
           "#ab63fa",
           "#FFA15A",
           "#19d3f3",
           "#FF6692",
           "#B6E880",
           "#FF97FF",
           "#FECB52"
          ],
          "font": {
           "color": "#2a3f5f"
          },
          "geo": {
           "bgcolor": "white",
           "lakecolor": "white",
           "landcolor": "#E5ECF6",
           "showlakes": true,
           "showland": true,
           "subunitcolor": "white"
          },
          "hoverlabel": {
           "align": "left"
          },
          "hovermode": "closest",
          "mapbox": {
           "style": "light"
          },
          "paper_bgcolor": "white",
          "plot_bgcolor": "#E5ECF6",
          "polar": {
           "angularaxis": {
            "gridcolor": "white",
            "linecolor": "white",
            "ticks": ""
           },
           "bgcolor": "#E5ECF6",
           "radialaxis": {
            "gridcolor": "white",
            "linecolor": "white",
            "ticks": ""
           }
          },
          "scene": {
           "xaxis": {
            "backgroundcolor": "#E5ECF6",
            "gridcolor": "white",
            "gridwidth": 2,
            "linecolor": "white",
            "showbackground": true,
            "ticks": "",
            "zerolinecolor": "white"
           },
           "yaxis": {
            "backgroundcolor": "#E5ECF6",
            "gridcolor": "white",
            "gridwidth": 2,
            "linecolor": "white",
            "showbackground": true,
            "ticks": "",
            "zerolinecolor": "white"
           },
           "zaxis": {
            "backgroundcolor": "#E5ECF6",
            "gridcolor": "white",
            "gridwidth": 2,
            "linecolor": "white",
            "showbackground": true,
            "ticks": "",
            "zerolinecolor": "white"
           }
          },
          "shapedefaults": {
           "line": {
            "color": "#2a3f5f"
           }
          },
          "ternary": {
           "aaxis": {
            "gridcolor": "white",
            "linecolor": "white",
            "ticks": ""
           },
           "baxis": {
            "gridcolor": "white",
            "linecolor": "white",
            "ticks": ""
           },
           "bgcolor": "#E5ECF6",
           "caxis": {
            "gridcolor": "white",
            "linecolor": "white",
            "ticks": ""
           }
          },
          "title": {
           "x": 0.05
          },
          "xaxis": {
           "automargin": true,
           "gridcolor": "white",
           "linecolor": "white",
           "ticks": "",
           "title": {
            "standoff": 15
           },
           "zerolinecolor": "white",
           "zerolinewidth": 2
          },
          "yaxis": {
           "automargin": true,
           "gridcolor": "white",
           "linecolor": "white",
           "ticks": "",
           "title": {
            "standoff": 15
           },
           "zerolinecolor": "white",
           "zerolinewidth": 2
          }
         }
        },
        "title": {
         "text": "3D t-SNE Visualization of Q&A Embeddings"
        },
        "width": 1024
       }
      },
      "image/png": "[encoded data removed]"
     },
     "metadata": {},
     "output_type": "display_data"
    }
   ],
   "source": [
    "create_3d_plot(embeddings_3d, embeddings_df)\n"
   ]
  },
  {
   "cell_type": "code",
   "execution_count": 37,
   "id": "a2f7dbcc-7509-4a4e-b709-0ba326e06108",
   "metadata": {},
   "outputs": [
    {
     "data": {
      "image/png": "[encoded data removed]",
      "text/plain": [
       "<Figure size 1200x800 with 1 Axes>"
      ]
     },
     "metadata": {},
     "output_type": "display_data"
    }
   ],
   "source": [
    "create_2d_plot(embeddings_2d, embeddings_df)"
   ]
  },
  {
   "cell_type": "code",
   "execution_count": null,
   "id": "71e6304e-a0da-4819-8499-c3a590a87e74",
   "metadata": {},
   "outputs": [],
   "source": []
  },
  {
   "cell_type": "code",
   "execution_count": null,
   "id": "563be93d-a24c-4669-95af-6d20d8a9f787",
   "metadata": {},
   "outputs": [],
   "source": []
  }
 ],
 "metadata": {
  "kernelspec": {
   "display_name": "Python 3 (ipykernel)",
   "language": "python",
   "name": "python3"
  },
  "language_info": {
   "codemirror_mode": {
    "name": "ipython",
    "version": 3
   },
   "file_extension": ".py",
   "mimetype": "text/x-python",
   "name": "python",
   "nbconvert_exporter": "python",
   "pygments_lexer": "ipython3",
   "version": "3.10.18"
  }
 },
 "nbformat": 4,
 "nbformat_minor": 5
}
