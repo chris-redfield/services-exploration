{
 "cells": [
  {
   "cell_type": "code",
   "execution_count": 1,
   "id": "cd80f569-fd72-4fb3-b481-67b3686daad8",
   "metadata": {},
   "outputs": [],
   "source": [
    "import pandas as pd\n",
    "import numpy as np\n",
    "from openai import OpenAI\n",
    "from sklearn.decomposition import PCA\n",
    "from sklearn.manifold import TSNE\n",
    "import umap\n",
    "import matplotlib.pyplot as plt\n",
    "from mpl_toolkits.mplot3d import Axes3D\n",
    "import seaborn as sns\n",
    "from tqdm.notebook import tqdm\n",
    "import pickle\n",
    "import os\n",
    "from dotenv import load_dotenv\n",
    "\n",
    "import plotly.graph_objects as go\n",
    "import plotly.express as px"
   ]
  },
  {
   "cell_type": "code",
   "execution_count": 2,
   "id": "6b5208a6-8666-4bfb-8d78-3bb3afa9cb2c",
   "metadata": {},
   "outputs": [],
   "source": [
    "\n",
    "load_dotenv()\n",
    "\n",
    "client = OpenAI()"
   ]
  },
  {
   "cell_type": "code",
   "execution_count": 3,
   "id": "cb9e45ca-3200-4002-a318-4259c42eb0e6",
   "metadata": {},
   "outputs": [],
   "source": [
    "def get_embedding(text, model=\"text-embedding-3-small\"):\n",
    "    \"\"\"Get embedding for a given text using OpenAI API\"\"\"\n",
    "    try:\n",
    "        text = text.replace(\"\\n\", \" \")\n",
    "        response = client.embeddings.create(input=[text], model=model)\n",
    "        return response.data[0].embedding\n",
    "    except Exception as e:\n",
    "        print(f\"Error getting embedding: {e}\")\n",
    "        return None\n",
    "\n",
    "def create_embeddings_dataframe(df):\n",
    "    \"\"\"Create embeddings for each row in the dataframe\"\"\"\n",
    "    print(\"Creating embeddings for Q&A pairs...\")\n",
    "    \n",
    "    embeddings_list = []\n",
    "    texts_list = []\n",
    "    \n",
    "    # Iterate through dataframe rows\n",
    "    for index, row in tqdm(df.iterrows(), total=len(df), desc=\"Processing rows\"):\n",
    "        # Combine question and answer for better semantic representation\n",
    "        combined_text = f\"Programa: {row['Programa']} | Pergunta: {row['Pergunta']} \" #| Resposta: {row['Resposta']} | Tópico: {row['Tópico']} | \n",
    "        texts_list.append(combined_text)\n",
    "        \n",
    "        # Get embedding\n",
    "        embedding = get_embedding(combined_text)\n",
    "        \n",
    "        if embedding is not None:\n",
    "            embeddings_list.append(embedding)\n",
    "        else:\n",
    "            # If API call fails, add zeros (you might want to handle this differently)\n",
    "            print(f\"Failed to get embedding for row {index}\")\n",
    "            embeddings_list.append([0] * 1536)  # text-embedding-3-small has 1536 dimensions\n",
    "    \n",
    "    # Create embeddings dataframe\n",
    "    embeddings_df = pd.DataFrame(embeddings_list)\n",
    "    \n",
    "    # Add metadata columns\n",
    "    embeddings_df['original_index'] = df.index\n",
    "    embeddings_df['topico'] = df['Tópico'].values\n",
    "    embeddings_df['programa'] = df['Programa'].values\n",
    "    embeddings_df['pergunta'] = df['Pergunta'].values\n",
    "    embeddings_df['resposta'] = df['Resposta'].values\n",
    "    embeddings_df['combined_text'] = texts_list\n",
    "    \n",
    "    return embeddings_df\n",
    "\n",
    "def apply_tsne(embeddings_df):\n",
    "    \"\"\"Apply t-SNE dimensionality reduction\"\"\"\n",
    "    print(\"Applying t-SNE dimensionality reduction...\")\n",
    "    \n",
    "    # Extract only the embedding columns (exclude metadata)\n",
    "    embedding_cols = []\n",
    "    for name, dtype in zip(embeddings_df.columns, embeddings_df.dtypes):\n",
    "        if dtype == np.float64:\n",
    "            embedding_cols.append(name)\n",
    "    embeddings_matrix = embeddings_df[embedding_cols].values\n",
    "    \n",
    "    # t-SNE for 3D\n",
    "    print(\"Reducing to 3D...\")\n",
    "    tsne_3d = TSNE(n_components=3, random_state=42, perplexity=30, n_iter=1000)\n",
    "    embeddings_3d = tsne_3d.fit_transform(embeddings_matrix)\n",
    "    \n",
    "    # t-SNE for 2D\n",
    "    print(\"Reducing to 2D...\")\n",
    "    tsne_2d = TSNE(n_components=2, random_state=42, perplexity=30, n_iter=1000)\n",
    "    embeddings_2d = tsne_2d.fit_transform(embeddings_matrix)\n",
    "    \n",
    "    return embeddings_3d, embeddings_2d\n",
    "\n",
    "\n",
    "def apply_PCA(embeddings_df):\n",
    "    \"\"\"Apply PCA dimensionality reduction\"\"\"\n",
    "    print(\"Applying PCA dimensionality reduction...\")\n",
    "    \n",
    "    # Extract only the embedding columns (exclude metadata)\n",
    "    embedding_cols = []\n",
    "    for name, dtype in zip(embeddings_df.columns, embeddings_df.dtypes):\n",
    "        if dtype == np.float64:\n",
    "            embedding_cols.append(name)\n",
    "    embeddings_matrix = embeddings_df[embedding_cols].values\n",
    "    \n",
    "    # PCA for 3D\n",
    "    print(\"Reducing to 3D...\")\n",
    "    pca_3d = PCA(n_components=3, random_state=42)\n",
    "    embeddings_3d = pca_3d.fit_transform(embeddings_matrix)\n",
    "    \n",
    "    # PCA for 2D\n",
    "    print(\"Reducing to 2D...\")\n",
    "    pca_2d = PCA(n_components=2, random_state=42)\n",
    "    embeddings_2d = pca_2d.fit_transform(embeddings_matrix)\n",
    "    \n",
    "    # Print explained variance ratios for information\n",
    "    print(f\"3D PCA explained variance ratio: {pca_3d.explained_variance_ratio_}\")\n",
    "    print(f\"3D PCA total explained variance: {pca_3d.explained_variance_ratio_.sum():.4f}\")\n",
    "    print(f\"2D PCA explained variance ratio: {pca_2d.explained_variance_ratio_}\")\n",
    "    print(f\"2D PCA total explained variance: {pca_2d.explained_variance_ratio_.sum():.4f}\")\n",
    "    \n",
    "    return embeddings_3d, embeddings_2d\n",
    "\n",
    "def apply_umap(embeddings_df):\n",
    "    \"\"\"Apply UMAP dimensionality reduction\"\"\"\n",
    "    print(\"Applying UMAP dimensionality reduction...\")\n",
    "    \n",
    "    # Extract only the embedding columns (exclude metadata)\n",
    "    embedding_cols = []\n",
    "    for name, dtype in zip(embeddings_df.columns, embeddings_df.dtypes):\n",
    "        if dtype == np.float64:\n",
    "            embedding_cols.append(name)\n",
    "    embeddings_matrix = embeddings_df[embedding_cols].values\n",
    "    \n",
    "    # UMAP for 3D\n",
    "    print(\"Reducing to 3D...\")\n",
    "    umap_3d = umap.UMAP(n_components=3, random_state=42, n_neighbors=15, min_dist=0.1)\n",
    "    embeddings_3d = umap_3d.fit_transform(embeddings_matrix)\n",
    "    \n",
    "    # UMAP for 2D\n",
    "    print(\"Reducing to 2D...\")\n",
    "    umap_2d = umap.UMAP(n_components=2, random_state=42, n_neighbors=15, min_dist=0.1)\n",
    "    embeddings_2d = umap_2d.fit_transform(embeddings_matrix)\n",
    "    \n",
    "    print(\"UMAP reduction completed!\")\n",
    "    \n",
    "    return embeddings_3d, embeddings_2d\n",
    "\n",
    "\n",
    "def create_3d_plot(embeddings_3d, embeddings_df, title):\n",
    "    \"\"\"Create interactive 3D visualization using Plotly\"\"\"\n",
    "    \n",
    "    # Get unique programas and assign colors\n",
    "    programas = embeddings_df['programa'].unique()\n",
    "    colors = px.colors.qualitative.Set3[:len(programas)]\n",
    "    \n",
    "    # Create the figure\n",
    "    fig = go.Figure()\n",
    "    \n",
    "    # Add trace for each programa\n",
    "    for i, programa in enumerate(programas):\n",
    "        mask = embeddings_df['programa'] == programa\n",
    "        programa_data = embeddings_df[mask]\n",
    "        programa_coords = embeddings_3d[mask]\n",
    "        \n",
    "        # Create hover text with pergunta\n",
    "        hover_text = [f\"Programa: {programa}<br>Tópico: {topico}<br>Pergunta: {pergunta}\" \n",
    "                     for topico, pergunta in zip(programa_data['topico'], programa_data['pergunta'])]\n",
    "        \n",
    "        fig.add_trace(go.Scatter3d(\n",
    "            x=programa_coords[:, 0],\n",
    "            y=programa_coords[:, 1],\n",
    "            z=programa_coords[:, 2],\n",
    "            mode='markers',\n",
    "            marker=dict(\n",
    "                size=6,\n",
    "                color=colors[i % len(colors)],\n",
    "                opacity=0.7\n",
    "            ),\n",
    "            name=programa,\n",
    "            text=hover_text,\n",
    "            hovertemplate='%{text}<extra></extra>'\n",
    "        ))\n",
    "    \n",
    "    # Update layout\n",
    "    fig.update_layout(\n",
    "        title=title,\n",
    "        scene=dict(\n",
    "            xaxis_title=\"Component 1\",\n",
    "            yaxis_title=\"Component 2\",\n",
    "            zaxis_title=\"Component 3\",\n",
    "            camera=dict(\n",
    "                eye=dict(x=1.5, y=1.5, z=1.5)\n",
    "            )\n",
    "        ),\n",
    "        width=1024,\n",
    "        height=768,\n",
    "        legend=dict(\n",
    "            yanchor=\"top\",\n",
    "            y=0.99,\n",
    "            xanchor=\"left\",\n",
    "            x=0.01\n",
    "        )\n",
    "    )\n",
    "    \n",
    "    fig.show()\n",
    "\n",
    "def create_2d_plot(embeddings_2d, embeddings_df, title):\n",
    "    \"\"\"Create 2D visualization\"\"\"\n",
    "    plt.figure(figsize=(12, 8))\n",
    "    \n",
    "    # Color by programa\n",
    "    programas = embeddings_df['programa'].unique()\n",
    "    \n",
    "    for i, programa in enumerate(programas):\n",
    "        mask = embeddings_df['programa'] == programa\n",
    "        plt.scatter(\n",
    "            embeddings_2d[mask, 0], \n",
    "            embeddings_2d[mask, 1],\n",
    "            label=programa, \n",
    "            alpha=0.7,\n",
    "            s=50\n",
    "        )\n",
    "    \n",
    "    plt.xlabel('Component 1')\n",
    "    plt.ylabel('Component 2')\n",
    "    plt.title(title)\n",
    "    plt.legend(bbox_to_anchor=(1.05, 1), loc='upper left')\n",
    "    plt.grid(True, alpha=0.3)\n",
    "    \n",
    "    plt.tight_layout()\n",
    "    plt.show()"
   ]
  },
  {
   "cell_type": "code",
   "execution_count": 4,
   "id": "1e982514-8da0-417a-853e-b780cf14038c",
   "metadata": {},
   "outputs": [
    {
     "data": {
      "text/plain": [
       "(246, 4)"
      ]
     },
     "execution_count": 4,
     "metadata": {},
     "output_type": "execute_result"
    }
   ],
   "source": [
    "df = pd.read_excel(\"dataset/Base de Conhecimento - Jornada do Estudante 2025-08-14.xlsx\")\n",
    "df.shape"
   ]
  },
  {
   "cell_type": "code",
   "execution_count": 5,
   "id": "0c9c0e90-bded-4095-b472-87d3e406e634",
   "metadata": {},
   "outputs": [
    {
     "data": {
      "text/html": [
       "<div>\n",
       "<style scoped>\n",
       "    .dataframe tbody tr th:only-of-type {\n",
       "        vertical-align: middle;\n",
       "    }\n",
       "\n",
       "    .dataframe tbody tr th {\n",
       "        vertical-align: top;\n",
       "    }\n",
       "\n",
       "    .dataframe thead th {\n",
       "        text-align: right;\n",
       "    }\n",
       "</style>\n",
       "<table border=\"1\" class=\"dataframe\">\n",
       "  <thead>\n",
       "    <tr style=\"text-align: right;\">\n",
       "      <th></th>\n",
       "      <th>Tópico</th>\n",
       "      <th>Programa</th>\n",
       "      <th>Pergunta</th>\n",
       "      <th>Resposta</th>\n",
       "    </tr>\n",
       "  </thead>\n",
       "  <tbody>\n",
       "    <tr>\n",
       "      <th>0</th>\n",
       "      <td>Educação Básica</td>\n",
       "      <td>Programa Pé-de-Meia</td>\n",
       "      <td>A escola precisa realizar alguma ação no Progr...</td>\n",
       "      <td>A escola precisa garantir o envio dos dados do...</td>\n",
       "    </tr>\n",
       "    <tr>\n",
       "      <th>1</th>\n",
       "      <td>Educação Básica</td>\n",
       "      <td>Programa Pé-de-Meia</td>\n",
       "      <td>A Rede poderá corrigir os dados enviados a cad...</td>\n",
       "      <td>Sim, a cada mês haverá um período para eventua...</td>\n",
       "    </tr>\n",
       "    <tr>\n",
       "      <th>2</th>\n",
       "      <td>Educação Básica</td>\n",
       "      <td>Programa Pé-de-Meia</td>\n",
       "      <td>Atendo às condicionalidades, mas não quero ser...</td>\n",
       "      <td>O estudante que não quer ser beneficiário do P...</td>\n",
       "    </tr>\n",
       "    <tr>\n",
       "      <th>3</th>\n",
       "      <td>Educação Básica</td>\n",
       "      <td>Programa Pé-de-Meia</td>\n",
       "      <td>Calendário de pagamentos em 2025 para Ensino M...</td>\n",
       "      <td>CALENDÁRIO DE PAGAMENTOS ENSINO MÉDIO EJAParce...</td>\n",
       "    </tr>\n",
       "    <tr>\n",
       "      <th>4</th>\n",
       "      <td>Educação Básica</td>\n",
       "      <td>Programa Pé-de-Meia</td>\n",
       "      <td>Calendário de pagamentos em 2025 para Ensino M...</td>\n",
       "      <td>CALENDÁRIO DE PAGAMENTOS ENSINO MÉDIO REGULARP...</td>\n",
       "    </tr>\n",
       "    <tr>\n",
       "      <th>...</th>\n",
       "      <td>...</td>\n",
       "      <td>...</td>\n",
       "      <td>...</td>\n",
       "      <td>...</td>\n",
       "    </tr>\n",
       "    <tr>\n",
       "      <th>241</th>\n",
       "      <td>Formação técnica</td>\n",
       "      <td>Institutos Federais</td>\n",
       "      <td>Onde encontro cursos técnicos gratuitos perto ...</td>\n",
       "      <td>Os Institutos Federais e outras escolas técnic...</td>\n",
       "    </tr>\n",
       "    <tr>\n",
       "      <th>242</th>\n",
       "      <td>Formação técnica</td>\n",
       "      <td>Institutos Federais</td>\n",
       "      <td>Posso fazer um curso técnico sem ter feito o E...</td>\n",
       "      <td>Cada escola técnica ou Instituto Federal tem s...</td>\n",
       "    </tr>\n",
       "    <tr>\n",
       "      <th>243</th>\n",
       "      <td>Formação técnica</td>\n",
       "      <td>Institutos Federais</td>\n",
       "      <td>Quanto tempo dura um curso técnico?</td>\n",
       "      <td>A maioria dos cursos técnicos pós-médio dura e...</td>\n",
       "    </tr>\n",
       "    <tr>\n",
       "      <th>244</th>\n",
       "      <td>Formação técnica</td>\n",
       "      <td>Institutos Federais</td>\n",
       "      <td>Que áreas de cursos técnicos posso fazer?</td>\n",
       "      <td>Existem opções como informática, enfermagem, l...</td>\n",
       "    </tr>\n",
       "    <tr>\n",
       "      <th>245</th>\n",
       "      <td>Formação técnica</td>\n",
       "      <td>Institutos Federais</td>\n",
       "      <td>Existe bolsa ou ajuda de custo para quem faz c...</td>\n",
       "      <td>Em alguns casos, sim. Instituições públicas po...</td>\n",
       "    </tr>\n",
       "  </tbody>\n",
       "</table>\n",
       "<p>246 rows × 4 columns</p>\n",
       "</div>"
      ],
      "text/plain": [
       "               Tópico             Programa  \\\n",
       "0     Educação Básica  Programa Pé-de-Meia   \n",
       "1     Educação Básica  Programa Pé-de-Meia   \n",
       "2     Educação Básica  Programa Pé-de-Meia   \n",
       "3     Educação Básica  Programa Pé-de-Meia   \n",
       "4     Educação Básica  Programa Pé-de-Meia   \n",
       "..                ...                  ...   \n",
       "241  Formação técnica  Institutos Federais   \n",
       "242  Formação técnica  Institutos Federais   \n",
       "243  Formação técnica  Institutos Federais   \n",
       "244  Formação técnica  Institutos Federais   \n",
       "245  Formação técnica  Institutos Federais   \n",
       "\n",
       "                                              Pergunta  \\\n",
       "0    A escola precisa realizar alguma ação no Progr...   \n",
       "1    A Rede poderá corrigir os dados enviados a cad...   \n",
       "2    Atendo às condicionalidades, mas não quero ser...   \n",
       "3    Calendário de pagamentos em 2025 para Ensino M...   \n",
       "4    Calendário de pagamentos em 2025 para Ensino M...   \n",
       "..                                                 ...   \n",
       "241  Onde encontro cursos técnicos gratuitos perto ...   \n",
       "242  Posso fazer um curso técnico sem ter feito o E...   \n",
       "243                Quanto tempo dura um curso técnico?   \n",
       "244          Que áreas de cursos técnicos posso fazer?   \n",
       "245  Existe bolsa ou ajuda de custo para quem faz c...   \n",
       "\n",
       "                                              Resposta  \n",
       "0    A escola precisa garantir o envio dos dados do...  \n",
       "1    Sim, a cada mês haverá um período para eventua...  \n",
       "2    O estudante que não quer ser beneficiário do P...  \n",
       "3    CALENDÁRIO DE PAGAMENTOS ENSINO MÉDIO EJAParce...  \n",
       "4    CALENDÁRIO DE PAGAMENTOS ENSINO MÉDIO REGULARP...  \n",
       "..                                                 ...  \n",
       "241  Os Institutos Federais e outras escolas técnic...  \n",
       "242  Cada escola técnica ou Instituto Federal tem s...  \n",
       "243  A maioria dos cursos técnicos pós-médio dura e...  \n",
       "244  Existem opções como informática, enfermagem, l...  \n",
       "245  Em alguns casos, sim. Instituições públicas po...  \n",
       "\n",
       "[246 rows x 4 columns]"
      ]
     },
     "execution_count": 5,
     "metadata": {},
     "output_type": "execute_result"
    }
   ],
   "source": [
    "df"
   ]
  },
  {
   "cell_type": "code",
   "execution_count": 6,
   "id": "75858e86-0a1c-4694-85e7-d0259e64858e",
   "metadata": {},
   "outputs": [
    {
     "name": "stdout",
     "output_type": "stream",
     "text": [
      "Creating embeddings for Q&A pairs...\n"
     ]
    },
    {
     "data": {
      "application/vnd.jupyter.widget-view+json": {
       "model_id": "b138eab47b144c6d8aab6e723e8366d7",
       "version_major": 2,
       "version_minor": 0
      },
      "text/plain": [
       "Processing rows:   0%|          | 0/246 [00:00<?, ?it/s]"
      ]
     },
     "metadata": {},
     "output_type": "display_data"
    }
   ],
   "source": [
    "embeddings_df = create_embeddings_dataframe(df)"
   ]
  },
  {
   "cell_type": "code",
   "execution_count": 7,
   "id": "b149b7e8-9fd2-4767-9920-27429dcf3481",
   "metadata": {},
   "outputs": [
    {
     "data": {
      "text/html": [
       "<div>\n",
       "<style scoped>\n",
       "    .dataframe tbody tr th:only-of-type {\n",
       "        vertical-align: middle;\n",
       "    }\n",
       "\n",
       "    .dataframe tbody tr th {\n",
       "        vertical-align: top;\n",
       "    }\n",
       "\n",
       "    .dataframe thead th {\n",
       "        text-align: right;\n",
       "    }\n",
       "</style>\n",
       "<table border=\"1\" class=\"dataframe\">\n",
       "  <thead>\n",
       "    <tr style=\"text-align: right;\">\n",
       "      <th></th>\n",
       "      <th>0</th>\n",
       "      <th>1</th>\n",
       "      <th>2</th>\n",
       "      <th>3</th>\n",
       "      <th>4</th>\n",
       "      <th>5</th>\n",
       "      <th>6</th>\n",
       "      <th>7</th>\n",
       "      <th>8</th>\n",
       "      <th>9</th>\n",
       "      <th>...</th>\n",
       "      <th>1532</th>\n",
       "      <th>1533</th>\n",
       "      <th>1534</th>\n",
       "      <th>1535</th>\n",
       "      <th>original_index</th>\n",
       "      <th>topico</th>\n",
       "      <th>programa</th>\n",
       "      <th>pergunta</th>\n",
       "      <th>resposta</th>\n",
       "      <th>combined_text</th>\n",
       "    </tr>\n",
       "  </thead>\n",
       "  <tbody>\n",
       "    <tr>\n",
       "      <th>0</th>\n",
       "      <td>0.016604</td>\n",
       "      <td>0.050173</td>\n",
       "      <td>0.028216</td>\n",
       "      <td>0.022992</td>\n",
       "      <td>-0.000984</td>\n",
       "      <td>0.032043</td>\n",
       "      <td>0.014043</td>\n",
       "      <td>0.046733</td>\n",
       "      <td>-0.006963</td>\n",
       "      <td>-0.010248</td>\n",
       "      <td>...</td>\n",
       "      <td>-0.001619</td>\n",
       "      <td>0.009155</td>\n",
       "      <td>0.024957</td>\n",
       "      <td>-0.004723</td>\n",
       "      <td>0</td>\n",
       "      <td>Educação Básica</td>\n",
       "      <td>Programa Pé-de-Meia</td>\n",
       "      <td>A escola precisa realizar alguma ação no Progr...</td>\n",
       "      <td>A escola precisa garantir o envio dos dados do...</td>\n",
       "      <td>Programa: Programa Pé-de-Meia | Pergunta: A es...</td>\n",
       "    </tr>\n",
       "    <tr>\n",
       "      <th>1</th>\n",
       "      <td>0.024545</td>\n",
       "      <td>0.051818</td>\n",
       "      <td>0.031266</td>\n",
       "      <td>0.036355</td>\n",
       "      <td>0.001899</td>\n",
       "      <td>0.029586</td>\n",
       "      <td>-0.006702</td>\n",
       "      <td>0.045097</td>\n",
       "      <td>-0.008237</td>\n",
       "      <td>-0.009253</td>\n",
       "      <td>...</td>\n",
       "      <td>0.003446</td>\n",
       "      <td>-0.010434</td>\n",
       "      <td>0.011926</td>\n",
       "      <td>0.013502</td>\n",
       "      <td>1</td>\n",
       "      <td>Educação Básica</td>\n",
       "      <td>Programa Pé-de-Meia</td>\n",
       "      <td>A Rede poderá corrigir os dados enviados a cad...</td>\n",
       "      <td>Sim, a cada mês haverá um período para eventua...</td>\n",
       "      <td>Programa: Programa Pé-de-Meia | Pergunta: A Re...</td>\n",
       "    </tr>\n",
       "    <tr>\n",
       "      <th>2</th>\n",
       "      <td>0.029851</td>\n",
       "      <td>0.026806</td>\n",
       "      <td>0.003031</td>\n",
       "      <td>0.034209</td>\n",
       "      <td>-0.025375</td>\n",
       "      <td>0.031374</td>\n",
       "      <td>0.003951</td>\n",
       "      <td>0.048833</td>\n",
       "      <td>0.011933</td>\n",
       "      <td>-0.025926</td>\n",
       "      <td>...</td>\n",
       "      <td>0.002102</td>\n",
       "      <td>0.005638</td>\n",
       "      <td>0.004654</td>\n",
       "      <td>0.017262</td>\n",
       "      <td>2</td>\n",
       "      <td>Educação Básica</td>\n",
       "      <td>Programa Pé-de-Meia</td>\n",
       "      <td>Atendo às condicionalidades, mas não quero ser...</td>\n",
       "      <td>O estudante que não quer ser beneficiário do P...</td>\n",
       "      <td>Programa: Programa Pé-de-Meia | Pergunta: Aten...</td>\n",
       "    </tr>\n",
       "    <tr>\n",
       "      <th>3</th>\n",
       "      <td>0.000652</td>\n",
       "      <td>0.002696</td>\n",
       "      <td>0.025597</td>\n",
       "      <td>0.008740</td>\n",
       "      <td>-0.012576</td>\n",
       "      <td>0.044374</td>\n",
       "      <td>0.008258</td>\n",
       "      <td>0.021680</td>\n",
       "      <td>-0.018481</td>\n",
       "      <td>-0.022422</td>\n",
       "      <td>...</td>\n",
       "      <td>-0.000733</td>\n",
       "      <td>0.001371</td>\n",
       "      <td>0.007641</td>\n",
       "      <td>-0.031847</td>\n",
       "      <td>3</td>\n",
       "      <td>Educação Básica</td>\n",
       "      <td>Programa Pé-de-Meia</td>\n",
       "      <td>Calendário de pagamentos em 2025 para Ensino M...</td>\n",
       "      <td>CALENDÁRIO DE PAGAMENTOS ENSINO MÉDIO EJAParce...</td>\n",
       "      <td>Programa: Programa Pé-de-Meia | Pergunta: Cale...</td>\n",
       "    </tr>\n",
       "    <tr>\n",
       "      <th>4</th>\n",
       "      <td>0.004609</td>\n",
       "      <td>0.007350</td>\n",
       "      <td>0.026281</td>\n",
       "      <td>0.008890</td>\n",
       "      <td>-0.009979</td>\n",
       "      <td>0.043900</td>\n",
       "      <td>0.001720</td>\n",
       "      <td>0.021814</td>\n",
       "      <td>-0.023348</td>\n",
       "      <td>-0.021492</td>\n",
       "      <td>...</td>\n",
       "      <td>-0.007084</td>\n",
       "      <td>0.002815</td>\n",
       "      <td>0.006892</td>\n",
       "      <td>-0.035264</td>\n",
       "      <td>4</td>\n",
       "      <td>Educação Básica</td>\n",
       "      <td>Programa Pé-de-Meia</td>\n",
       "      <td>Calendário de pagamentos em 2025 para Ensino M...</td>\n",
       "      <td>CALENDÁRIO DE PAGAMENTOS ENSINO MÉDIO REGULARP...</td>\n",
       "      <td>Programa: Programa Pé-de-Meia | Pergunta: Cale...</td>\n",
       "    </tr>\n",
       "    <tr>\n",
       "      <th>...</th>\n",
       "      <td>...</td>\n",
       "      <td>...</td>\n",
       "      <td>...</td>\n",
       "      <td>...</td>\n",
       "      <td>...</td>\n",
       "      <td>...</td>\n",
       "      <td>...</td>\n",
       "      <td>...</td>\n",
       "      <td>...</td>\n",
       "      <td>...</td>\n",
       "      <td>...</td>\n",
       "      <td>...</td>\n",
       "      <td>...</td>\n",
       "      <td>...</td>\n",
       "      <td>...</td>\n",
       "      <td>...</td>\n",
       "      <td>...</td>\n",
       "      <td>...</td>\n",
       "      <td>...</td>\n",
       "      <td>...</td>\n",
       "      <td>...</td>\n",
       "    </tr>\n",
       "    <tr>\n",
       "      <th>241</th>\n",
       "      <td>-0.078567</td>\n",
       "      <td>0.025512</td>\n",
       "      <td>0.032874</td>\n",
       "      <td>0.016215</td>\n",
       "      <td>-0.007959</td>\n",
       "      <td>-0.004538</td>\n",
       "      <td>0.013380</td>\n",
       "      <td>0.034376</td>\n",
       "      <td>-0.036660</td>\n",
       "      <td>0.012407</td>\n",
       "      <td>...</td>\n",
       "      <td>-0.012280</td>\n",
       "      <td>-0.020900</td>\n",
       "      <td>-0.019821</td>\n",
       "      <td>0.037527</td>\n",
       "      <td>241</td>\n",
       "      <td>Formação técnica</td>\n",
       "      <td>Institutos Federais</td>\n",
       "      <td>Onde encontro cursos técnicos gratuitos perto ...</td>\n",
       "      <td>Os Institutos Federais e outras escolas técnic...</td>\n",
       "      <td>Programa: Institutos Federais | Pergunta: Onde...</td>\n",
       "    </tr>\n",
       "    <tr>\n",
       "      <th>242</th>\n",
       "      <td>-0.044309</td>\n",
       "      <td>0.015276</td>\n",
       "      <td>-0.025127</td>\n",
       "      <td>-0.013052</td>\n",
       "      <td>0.024773</td>\n",
       "      <td>0.009098</td>\n",
       "      <td>-0.003029</td>\n",
       "      <td>0.016502</td>\n",
       "      <td>-0.017208</td>\n",
       "      <td>0.045640</td>\n",
       "      <td>...</td>\n",
       "      <td>0.006131</td>\n",
       "      <td>-0.015961</td>\n",
       "      <td>-0.006438</td>\n",
       "      <td>0.027413</td>\n",
       "      <td>242</td>\n",
       "      <td>Formação técnica</td>\n",
       "      <td>Institutos Federais</td>\n",
       "      <td>Posso fazer um curso técnico sem ter feito o E...</td>\n",
       "      <td>Cada escola técnica ou Instituto Federal tem s...</td>\n",
       "      <td>Programa: Institutos Federais | Pergunta: Poss...</td>\n",
       "    </tr>\n",
       "    <tr>\n",
       "      <th>243</th>\n",
       "      <td>-0.082343</td>\n",
       "      <td>0.026753</td>\n",
       "      <td>-0.000504</td>\n",
       "      <td>-0.027104</td>\n",
       "      <td>-0.019204</td>\n",
       "      <td>0.025577</td>\n",
       "      <td>0.044183</td>\n",
       "      <td>-0.003393</td>\n",
       "      <td>0.010025</td>\n",
       "      <td>0.045297</td>\n",
       "      <td>...</td>\n",
       "      <td>-0.012912</td>\n",
       "      <td>-0.005899</td>\n",
       "      <td>0.000024</td>\n",
       "      <td>0.054166</td>\n",
       "      <td>243</td>\n",
       "      <td>Formação técnica</td>\n",
       "      <td>Institutos Federais</td>\n",
       "      <td>Quanto tempo dura um curso técnico?</td>\n",
       "      <td>A maioria dos cursos técnicos pós-médio dura e...</td>\n",
       "      <td>Programa: Institutos Federais | Pergunta: Quan...</td>\n",
       "    </tr>\n",
       "    <tr>\n",
       "      <th>244</th>\n",
       "      <td>-0.057922</td>\n",
       "      <td>0.015805</td>\n",
       "      <td>0.022711</td>\n",
       "      <td>-0.017065</td>\n",
       "      <td>-0.004714</td>\n",
       "      <td>-0.007373</td>\n",
       "      <td>0.008935</td>\n",
       "      <td>0.036164</td>\n",
       "      <td>-0.013400</td>\n",
       "      <td>0.023347</td>\n",
       "      <td>...</td>\n",
       "      <td>-0.010302</td>\n",
       "      <td>-0.018718</td>\n",
       "      <td>0.007908</td>\n",
       "      <td>0.045338</td>\n",
       "      <td>244</td>\n",
       "      <td>Formação técnica</td>\n",
       "      <td>Institutos Federais</td>\n",
       "      <td>Que áreas de cursos técnicos posso fazer?</td>\n",
       "      <td>Existem opções como informática, enfermagem, l...</td>\n",
       "      <td>Programa: Institutos Federais | Pergunta: Que ...</td>\n",
       "    </tr>\n",
       "    <tr>\n",
       "      <th>245</th>\n",
       "      <td>-0.065233</td>\n",
       "      <td>0.017563</td>\n",
       "      <td>0.013550</td>\n",
       "      <td>0.005210</td>\n",
       "      <td>-0.014546</td>\n",
       "      <td>0.003960</td>\n",
       "      <td>0.023369</td>\n",
       "      <td>0.030564</td>\n",
       "      <td>-0.008776</td>\n",
       "      <td>-0.012648</td>\n",
       "      <td>...</td>\n",
       "      <td>-0.018382</td>\n",
       "      <td>-0.008465</td>\n",
       "      <td>-0.004271</td>\n",
       "      <td>0.020559</td>\n",
       "      <td>245</td>\n",
       "      <td>Formação técnica</td>\n",
       "      <td>Institutos Federais</td>\n",
       "      <td>Existe bolsa ou ajuda de custo para quem faz c...</td>\n",
       "      <td>Em alguns casos, sim. Instituições públicas po...</td>\n",
       "      <td>Programa: Institutos Federais | Pergunta: Exis...</td>\n",
       "    </tr>\n",
       "  </tbody>\n",
       "</table>\n",
       "<p>246 rows × 1542 columns</p>\n",
       "</div>"
      ],
      "text/plain": [
       "            0         1         2         3         4         5         6  \\\n",
       "0    0.016604  0.050173  0.028216  0.022992 -0.000984  0.032043  0.014043   \n",
       "1    0.024545  0.051818  0.031266  0.036355  0.001899  0.029586 -0.006702   \n",
       "2    0.029851  0.026806  0.003031  0.034209 -0.025375  0.031374  0.003951   \n",
       "3    0.000652  0.002696  0.025597  0.008740 -0.012576  0.044374  0.008258   \n",
       "4    0.004609  0.007350  0.026281  0.008890 -0.009979  0.043900  0.001720   \n",
       "..        ...       ...       ...       ...       ...       ...       ...   \n",
       "241 -0.078567  0.025512  0.032874  0.016215 -0.007959 -0.004538  0.013380   \n",
       "242 -0.044309  0.015276 -0.025127 -0.013052  0.024773  0.009098 -0.003029   \n",
       "243 -0.082343  0.026753 -0.000504 -0.027104 -0.019204  0.025577  0.044183   \n",
       "244 -0.057922  0.015805  0.022711 -0.017065 -0.004714 -0.007373  0.008935   \n",
       "245 -0.065233  0.017563  0.013550  0.005210 -0.014546  0.003960  0.023369   \n",
       "\n",
       "            7         8         9  ...      1532      1533      1534  \\\n",
       "0    0.046733 -0.006963 -0.010248  ... -0.001619  0.009155  0.024957   \n",
       "1    0.045097 -0.008237 -0.009253  ...  0.003446 -0.010434  0.011926   \n",
       "2    0.048833  0.011933 -0.025926  ...  0.002102  0.005638  0.004654   \n",
       "3    0.021680 -0.018481 -0.022422  ... -0.000733  0.001371  0.007641   \n",
       "4    0.021814 -0.023348 -0.021492  ... -0.007084  0.002815  0.006892   \n",
       "..        ...       ...       ...  ...       ...       ...       ...   \n",
       "241  0.034376 -0.036660  0.012407  ... -0.012280 -0.020900 -0.019821   \n",
       "242  0.016502 -0.017208  0.045640  ...  0.006131 -0.015961 -0.006438   \n",
       "243 -0.003393  0.010025  0.045297  ... -0.012912 -0.005899  0.000024   \n",
       "244  0.036164 -0.013400  0.023347  ... -0.010302 -0.018718  0.007908   \n",
       "245  0.030564 -0.008776 -0.012648  ... -0.018382 -0.008465 -0.004271   \n",
       "\n",
       "         1535  original_index            topico             programa  \\\n",
       "0   -0.004723               0   Educação Básica  Programa Pé-de-Meia   \n",
       "1    0.013502               1   Educação Básica  Programa Pé-de-Meia   \n",
       "2    0.017262               2   Educação Básica  Programa Pé-de-Meia   \n",
       "3   -0.031847               3   Educação Básica  Programa Pé-de-Meia   \n",
       "4   -0.035264               4   Educação Básica  Programa Pé-de-Meia   \n",
       "..        ...             ...               ...                  ...   \n",
       "241  0.037527             241  Formação técnica  Institutos Federais   \n",
       "242  0.027413             242  Formação técnica  Institutos Federais   \n",
       "243  0.054166             243  Formação técnica  Institutos Federais   \n",
       "244  0.045338             244  Formação técnica  Institutos Federais   \n",
       "245  0.020559             245  Formação técnica  Institutos Federais   \n",
       "\n",
       "                                              pergunta  \\\n",
       "0    A escola precisa realizar alguma ação no Progr...   \n",
       "1    A Rede poderá corrigir os dados enviados a cad...   \n",
       "2    Atendo às condicionalidades, mas não quero ser...   \n",
       "3    Calendário de pagamentos em 2025 para Ensino M...   \n",
       "4    Calendário de pagamentos em 2025 para Ensino M...   \n",
       "..                                                 ...   \n",
       "241  Onde encontro cursos técnicos gratuitos perto ...   \n",
       "242  Posso fazer um curso técnico sem ter feito o E...   \n",
       "243                Quanto tempo dura um curso técnico?   \n",
       "244          Que áreas de cursos técnicos posso fazer?   \n",
       "245  Existe bolsa ou ajuda de custo para quem faz c...   \n",
       "\n",
       "                                              resposta  \\\n",
       "0    A escola precisa garantir o envio dos dados do...   \n",
       "1    Sim, a cada mês haverá um período para eventua...   \n",
       "2    O estudante que não quer ser beneficiário do P...   \n",
       "3    CALENDÁRIO DE PAGAMENTOS ENSINO MÉDIO EJAParce...   \n",
       "4    CALENDÁRIO DE PAGAMENTOS ENSINO MÉDIO REGULARP...   \n",
       "..                                                 ...   \n",
       "241  Os Institutos Federais e outras escolas técnic...   \n",
       "242  Cada escola técnica ou Instituto Federal tem s...   \n",
       "243  A maioria dos cursos técnicos pós-médio dura e...   \n",
       "244  Existem opções como informática, enfermagem, l...   \n",
       "245  Em alguns casos, sim. Instituições públicas po...   \n",
       "\n",
       "                                         combined_text  \n",
       "0    Programa: Programa Pé-de-Meia | Pergunta: A es...  \n",
       "1    Programa: Programa Pé-de-Meia | Pergunta: A Re...  \n",
       "2    Programa: Programa Pé-de-Meia | Pergunta: Aten...  \n",
       "3    Programa: Programa Pé-de-Meia | Pergunta: Cale...  \n",
       "4    Programa: Programa Pé-de-Meia | Pergunta: Cale...  \n",
       "..                                                 ...  \n",
       "241  Programa: Institutos Federais | Pergunta: Onde...  \n",
       "242  Programa: Institutos Federais | Pergunta: Poss...  \n",
       "243  Programa: Institutos Federais | Pergunta: Quan...  \n",
       "244  Programa: Institutos Federais | Pergunta: Que ...  \n",
       "245  Programa: Institutos Federais | Pergunta: Exis...  \n",
       "\n",
       "[246 rows x 1542 columns]"
      ]
     },
     "execution_count": 7,
     "metadata": {},
     "output_type": "execute_result"
    }
   ],
   "source": [
    "embeddings_df"
   ]
  },
  {
   "cell_type": "code",
   "execution_count": 8,
   "id": "7173b8f7-7150-43fe-870c-23d6aec87616",
   "metadata": {},
   "outputs": [
    {
     "name": "stdout",
     "output_type": "stream",
     "text": [
      "Saving embeddings dataframe...\n"
     ]
    }
   ],
   "source": [
    "print(\"Saving embeddings dataframe...\")\n",
    "embeddings_df.to_csv('dataset/qa_embeddings.csv', index=False)"
   ]
  },
  {
   "cell_type": "code",
   "execution_count": 9,
   "id": "74fb9036-9798-4bea-ab3e-4d6e77719495",
   "metadata": {},
   "outputs": [],
   "source": [
    "with open('dataset/qa_embeddings.pkl', 'wb') as f:\n",
    "    pickle.dump(embeddings_df, f)"
   ]
  },
  {
   "cell_type": "code",
   "execution_count": 10,
   "id": "68c66ab8-c62f-4201-87fa-9260246ae806",
   "metadata": {},
   "outputs": [
    {
     "name": "stdout",
     "output_type": "stream",
     "text": [
      "Embeddings dataframe saved! Shape: (246, 1542)\n"
     ]
    }
   ],
   "source": [
    "print(f\"Embeddings dataframe saved! Shape: {embeddings_df.shape}\")"
   ]
  },
  {
   "cell_type": "markdown",
   "id": "580a3b5e-f1d0-408a-b923-7c53bffa3d76",
   "metadata": {},
   "source": [
    "## Start from here if you already generated the embeddings "
   ]
  },
  {
   "cell_type": "code",
   "execution_count": 11,
   "id": "66d3e2a0-209f-42f7-8246-14e012cd9c79",
   "metadata": {},
   "outputs": [],
   "source": [
    "embeddings_df = pd.read_csv('dataset/qa_embeddings.csv')"
   ]
  },
  {
   "cell_type": "code",
   "execution_count": 12,
   "id": "5afcd976-1b85-43e7-92e1-dc10dc14fa7f",
   "metadata": {},
   "outputs": [
    {
     "data": {
      "text/plain": [
       "0                float64\n",
       "1                float64\n",
       "2                float64\n",
       "3                float64\n",
       "4                float64\n",
       "                  ...   \n",
       "topico            object\n",
       "programa          object\n",
       "pergunta          object\n",
       "resposta          object\n",
       "combined_text     object\n",
       "Length: 1542, dtype: object"
      ]
     },
     "execution_count": 12,
     "metadata": {},
     "output_type": "execute_result"
    }
   ],
   "source": [
    "embeddings_df.dtypes"
   ]
  },
  {
   "cell_type": "code",
   "execution_count": 13,
   "id": "a47b68bf-61e9-403a-9d2e-22cef2940c44",
   "metadata": {},
   "outputs": [
    {
     "name": "stdout",
     "output_type": "stream",
     "text": [
      "Applying t-SNE dimensionality reduction...\n",
      "Reducing to 3D...\n"
     ]
    },
    {
     "name": "stderr",
     "output_type": "stream",
     "text": [
      "/home/cmoryah/anaconda3/envs/chatbot/lib/python3.10/site-packages/sklearn/manifold/_t_sne.py:1164: FutureWarning: 'n_iter' was renamed to 'max_iter' in version 1.5 and will be removed in 1.7.\n",
      "  warnings.warn(\n"
     ]
    },
    {
     "name": "stdout",
     "output_type": "stream",
     "text": [
      "Reducing to 2D...\n"
     ]
    },
    {
     "name": "stderr",
     "output_type": "stream",
     "text": [
      "/home/cmoryah/anaconda3/envs/chatbot/lib/python3.10/site-packages/sklearn/manifold/_t_sne.py:1164: FutureWarning: 'n_iter' was renamed to 'max_iter' in version 1.5 and will be removed in 1.7.\n",
      "  warnings.warn(\n"
     ]
    }
   ],
   "source": [
    "embeddings_3d_tsne, embeddings_2d_tsne = apply_tsne(embeddings_df)"
   ]
  },
  {
   "cell_type": "code",
   "execution_count": 14,
   "id": "565afd3a-81b2-4840-b048-660f3dc7114b",
   "metadata": {},
   "outputs": [
    {
     "name": "stdout",
     "output_type": "stream",
     "text": [
      "Applying PCA dimensionality reduction...\n",
      "Reducing to 3D...\n",
      "Reducing to 2D...\n",
      "3D PCA explained variance ratio: [0.11230959 0.06135578 0.05097523]\n",
      "3D PCA total explained variance: 0.2246\n",
      "2D PCA explained variance ratio: [0.11230959 0.06135578]\n",
      "2D PCA total explained variance: 0.1737\n"
     ]
    }
   ],
   "source": [
    "embeddings_3d_pca, embeddings_2d_pca = apply_PCA(embeddings_df)"
   ]
  },
  {
   "cell_type": "code",
   "execution_count": 15,
   "id": "5d6de3a5-4d72-4e2e-a4d9-3dca2dd330f8",
   "metadata": {},
   "outputs": [
    {
     "name": "stdout",
     "output_type": "stream",
     "text": [
      "Applying UMAP dimensionality reduction...\n",
      "Reducing to 3D...\n"
     ]
    },
    {
     "name": "stderr",
     "output_type": "stream",
     "text": [
      "/home/cmoryah/anaconda3/envs/chatbot/lib/python3.10/site-packages/umap/umap_.py:1952: UserWarning: n_jobs value 1 overridden to 1 by setting random_state. Use no seed for parallelism.\n",
      "  warn(\n"
     ]
    },
    {
     "name": "stdout",
     "output_type": "stream",
     "text": [
      "Reducing to 2D...\n",
      "UMAP reduction completed!\n"
     ]
    },
    {
     "name": "stderr",
     "output_type": "stream",
     "text": [
      "/home/cmoryah/anaconda3/envs/chatbot/lib/python3.10/site-packages/umap/umap_.py:1952: UserWarning: n_jobs value 1 overridden to 1 by setting random_state. Use no seed for parallelism.\n",
      "  warn(\n"
     ]
    }
   ],
   "source": [
    "embeddings_3d_umap, embeddings_2d_umap = apply_umap(embeddings_df)"
   ]
  },
  {
   "cell_type": "markdown",
   "id": "19afb052-5c5a-4830-b1bd-89c1c2783bca",
   "metadata": {},
   "source": [
    "### Plots 3D"
   ]
  },
  {
   "cell_type": "code",
   "execution_count": 16,
   "id": "e935e98f-54b4-4f69-ab91-8aa76bd4362b",
   "metadata": {},
   "outputs": [
    {
     "data": {
      "application/vnd.plotly.v1+json": {
       "config": {
        "plotlyServerURL": "https://plot.ly"
       },
       "data": [
        {
         "hovertemplate": "%{text}<extra></extra>",
         "marker": {
          "color": "rgb(141,211,199)",
          "opacity": 0.7,
          "size": 6
         },
         "mode": "markers",
         "name": "Programa Pé-de-Meia",
         "text": [
          "Programa: Programa Pé-de-Meia<br>Tópico: Educação Básica<br>Pergunta: A escola precisa realizar alguma ação no Programa Pé-de-Meia?",
          "Programa: Programa Pé-de-Meia<br>Tópico: Educação Básica<br>Pergunta: A Rede poderá corrigir os dados enviados a cada mês?",
          "Programa: Programa Pé-de-Meia<br>Tópico: Educação Básica<br>Pergunta: Atendo às condicionalidades, mas não quero ser beneficiário. Como faço para não  receber o incentivo?",
          "Programa: Programa Pé-de-Meia<br>Tópico: Educação Básica<br>Pergunta: Calendário de pagamentos em 2025 para Ensino Médio EJA",
          "Programa: Programa Pé-de-Meia<br>Tópico: Educação Básica<br>Pergunta: Calendário de pagamentos em 2025 para Ensino Médio Regular",
          "Programa: Programa Pé-de-Meia<br>Tópico: Educação Básica<br>Pergunta: Caso o estudante seja transferido do ensino regular para a EJA, perde o benefício?",
          "Programa: Programa Pé-de-Meia<br>Tópico: Educação Básica<br>Pergunta: Caso um estudante perca um dos requisitos de elegibilidade antes do final do ano  letivo, deixará de receber os incentivos?",
          "Programa: Programa Pé-de-Meia<br>Tópico: Educação Básica<br>Pergunta: Com qual periodicidade é realizada a verificação das informações de elegibilidade?",
          "Programa: Programa Pé-de-Meia<br>Tópico: Educação Básica<br>Pergunta: Comecei no ensino médio em 2025, mas meus dados não estão no aplicativo Jornada do Estudante. O que fazer?",
          "Programa: Programa Pé-de-Meia<br>Tópico: Educação Básica<br>Pergunta: Como a frequência é calculada no Pé-de-Meia?",
          "Programa: Programa Pé-de-Meia<br>Tópico: Educação Básica<br>Pergunta: Como acessar o aplicativo CAIXA Tem?",
          "Programa: Programa Pé-de-Meia<br>Tópico: Educação Básica<br>Pergunta: Como acessar o SIMEC?",
          "Programa: Programa Pé-de-Meia<br>Tópico: Educação Básica<br>Pergunta: Como faço para recuperar a senha do aplicativo?",
          "Programa: Programa Pé-de-Meia<br>Tópico: Educação Básica<br>Pergunta: Como faço para retirar/utilizar a poupança?",
          "Programa: Programa Pé-de-Meia<br>Tópico: Educação Básica<br>Pergunta: Como funciona a assinatura do Termo de Compromisso por parte dos Sistemas de Ensino?",
          "Programa: Programa Pé-de-Meia<br>Tópico: Educação Básica<br>Pergunta: Como os entes podem assinar o termo de compromisso no SIMEC?",
          "Programa: Programa Pé-de-Meia<br>Tópico: Educação Básica<br>Pergunta: Como poderei gastar/investir o valor recebido pela poupança?",
          "Programa: Programa Pé-de-Meia<br>Tópico: Educação Básica<br>Pergunta: Como posso me inscrever no CadÚnico?",
          "Programa: Programa Pé-de-Meia<br>Tópico: Educação Básica<br>Pergunta: Como posso saber se eu ou algum membro da minha família está cadastrado no  Cadúnico?",
          "Programa: Programa Pé-de-Meia<br>Tópico: Educação Básica<br>Pergunta: Como será aferida a frequência dos estudantes de ensino médio articulada à educação  técnica de forma integrada?",
          "Programa: Programa Pé-de-Meia<br>Tópico: Educação Básica<br>Pergunta: Como será realizado o pagamento?",
          "Programa: Programa Pé-de-Meia<br>Tópico: Educação Básica<br>Pergunta: Como vai se dar a verificação da aprovação dos estudantes?",
          "Programa: Programa Pé-de-Meia<br>Tópico: Educação Básica<br>Pergunta: Como vai se dar a verificação da frequência dos estudantes?",
          "Programa: Programa Pé-de-Meia<br>Tópico: Educação Básica<br>Pergunta: Compareci a apenas um dos dias da prova do Enem em 2024, terei direito a essa parcela?",
          "Programa: Programa Pé-de-Meia<br>Tópico: Educação Básica<br>Pergunta: Concluí o Ensino Médio em 2024 por meio de exame de aceleração, mas ainda não recebi o valor referente à conclusão. O que pode ter ocorrido?",
          "Programa: Programa Pé-de-Meia<br>Tópico: Educação Básica<br>Pergunta: Critério para recebimento do incentivo frequência.",
          "Programa: Programa Pé-de-Meia<br>Tópico: Educação Básica<br>Pergunta: Data de referência do CadÚnico para 2025",
          "Programa: Programa Pé-de-Meia<br>Tópico: Educação Básica<br>Pergunta: De quanto em quanto tempo a rede deverá enviar os dados dos estudantes?",
          "Programa: Programa Pé-de-Meia<br>Tópico: Educação Básica<br>Pergunta: De quem é a responsabilidade de envio de dados do estudante?",
          "Programa: Programa Pé-de-Meia<br>Tópico: Educação Básica<br>Pergunta: É necessário enviar a lista dos estudantes do ensino técnico matriculados na rede estadual na Educação Básica?",
          "Programa: Programa Pé-de-Meia<br>Tópico: Educação Básica<br>Pergunta: Em caso de falecimento do estudante, a família terá direito a receber o benefício?",
          "Programa: Programa Pé-de-Meia<br>Tópico: Educação Básica<br>Pergunta: Em caso de greve, como fica a frequência dos estudantes?",
          "Programa: Programa Pé-de-Meia<br>Tópico: Educação Básica<br>Pergunta: Em casos de intercorrências que impeçam a frequência do estudante, este deixará de  receber o benefício? O que fazer neste caso?",
          "Programa: Programa Pé-de-Meia<br>Tópico: Educação Básica<br>Pergunta: Encerrei pelo Aplicativo CAIXA Tem, minha conta em que recebo o Pé-de-Meia. Como posso receber o incentivo?",
          "Programa: Programa Pé-de-Meia<br>Tópico: Educação Básica<br>Pergunta: Estou tentando baixar o aplicativo e não estou conseguindo. O que fazer?",
          "Programa: Programa Pé-de-Meia<br>Tópico: Educação Básica<br>Pergunta: Estudante que recebeu o Incentivo Conclusão, mas não recebeu o Incentivo ENEM.",
          "Programa: Programa Pé-de-Meia<br>Tópico: Educação Básica<br>Pergunta: Estudante que trocou de escola e não está recebendo os incentivos.",
          "Programa: Programa Pé-de-Meia<br>Tópico: Educação Básica<br>Pergunta: Estudante sem NIS no CadÚnico",
          "Programa: Programa Pé-de-Meia<br>Tópico: Educação Básica<br>Pergunta: Estudante, em contato com a escola que oferta ensino médio, verificou que ela ainda não está participando do Programa Pé-de-Meia, o que fazer?",
          "Programa: Programa Pé-de-Meia<br>Tópico: Educação Básica<br>Pergunta: Estudantes beneficiários do Bolsa Família matriculados na rede privada poderão  participar do Pé-de-Meia?",
          "Programa: Programa Pé-de-Meia<br>Tópico: Educação Básica<br>Pergunta: Estudantes do Bolsa Família desde janeiro de 2024 têm direito a pagamento retroativo?",
          "Programa: Programa Pé-de-Meia<br>Tópico: Educação Básica<br>Pergunta: Estudantes matriculados em escolas de tempo integral poderão ser beneficiados?",
          "Programa: Programa Pé-de-Meia<br>Tópico: Educação Básica<br>Pergunta: Estudantes que não possuem o CPF poderão receber o benefício?",
          "Programa: Programa Pé-de-Meia<br>Tópico: Educação Básica<br>Pergunta: Estudo na EJA à distância e não tenho registro de frequência. Qual será o critério para que eu possa receber o benefício?",
          "Programa: Programa Pé-de-Meia<br>Tópico: Educação Básica<br>Pergunta: Existe alguma atualização que deve ser feita pela escola de necessidade de atualização de cadastro?",
          "Programa: Programa Pé-de-Meia<br>Tópico: Educação Básica<br>Pergunta: Existe uma cota para cada estado, município ou rede federal?",
          "Programa: Programa Pé-de-Meia<br>Tópico: Educação Básica<br>Pergunta: Família inscrita no CadÚnico, não beneficiária do Bolsa Família, receberá o pagamento retroativo do primeiro semestre?",
          "Programa: Programa Pé-de-Meia<br>Tópico: Educação Básica<br>Pergunta: Famílias unipessoais podem receber o benefício?",
          "Programa: Programa Pé-de-Meia<br>Tópico: Educação Básica<br>Pergunta: Fui aprovado e concluí o ensino médio no ano letivo de 2024, mas não recebi os R$ 1.000 do Pé-de-Meia. O que pode ter acontecido?",
          "Programa: Programa Pé-de-Meia<br>Tópico: Educação Básica<br>Pergunta: Incentivos Conclusão e Enem: Entenda os pagamentos.",
          "Programa: Programa Pé-de-Meia<br>Tópico: Educação Básica<br>Pergunta: Iniciei o ano com frequência acima de 80%, mas no mês seguinte estive abaixo. Receberei a parcela daquele mês?",
          "Programa: Programa Pé-de-Meia<br>Tópico: Educação Básica<br>Pergunta: Iniciei o ano regularmente matriculado em uma unidade escolar de Ensino Médio da rede pública, mas deixei de frequentar a escola. Seguirei recebendo o incentivo?",
          "Programa: Programa Pé-de-Meia<br>Tópico: Educação Básica<br>Pergunta: Iniciei o Ensino Médio e o Programa foi interrompido antes de me formar? O que  acontece nesse caso?",
          "Programa: Programa Pé-de-Meia<br>Tópico: Educação Básica<br>Pergunta: Instabilidade no aplicativo CAIXA Tem. O que fazer?",
          "Programa: Programa Pé-de-Meia<br>Tópico: Educação Básica<br>Pergunta: Já preenchi o Sistema Presença, é a mesma coisa?",
          "Programa: Programa Pé-de-Meia<br>Tópico: Educação Básica<br>Pergunta: Já sou beneficiário de outro Programa de bolsa/poupança em meu Estado. Poderei  receber os dois benefícios?",
          "Programa: Programa Pé-de-Meia<br>Tópico: Educação Básica<br>Pergunta: Mensagem de indisponibilidade no aplicativo Jornada do Estudante.",
          "Programa: Programa Pé-de-Meia<br>Tópico: Educação Básica<br>Pergunta: Meu ano letivo ainda não terminou, quando vou receber os R$1.000?",
          "Programa: Programa Pé-de-Meia<br>Tópico: Educação Básica<br>Pergunta: Minha família faz parte do Cadastro Único para Programas Sociais (CadÚnico), mas não  do Programa Bolsa Família. Posso ser beneficiário (a) do Pé-de-Meia?",
          "Programa: Programa Pé-de-Meia<br>Tópico: Educação Básica<br>Pergunta: Não estou conseguindo extrair o relatório / enviar a planilha, como devo proceder?",
          "Programa: Programa Pé-de-Meia<br>Tópico: Educação Básica<br>Pergunta: Não recebi o pagamento referente a 1ª parcela de 2025 (matrícula), o que fazer?",
          "Programa: Programa Pé-de-Meia<br>Tópico: Educação Básica<br>Pergunta: Não recebi o pagamento referente a 3ª parcela (frequência), o que fazer?",
          "Programa: Programa Pé-de-Meia<br>Tópico: Educação Básica<br>Pergunta: O acesso ao aplicativo deve ser realizado pelo estudante ou responsável?",
          "Programa: Programa Pé-de-Meia<br>Tópico: Educação Básica<br>Pergunta: O estudante atende todos os requisitos, mas o CPF ainda não consta no aplicativo, mesmo após atualizações.",
          "Programa: Programa Pé-de-Meia<br>Tópico: Educação Básica<br>Pergunta: O estudante precisa fazer alguma inscrição para o Programa?",
          "Programa: Programa Pé-de-Meia<br>Tópico: Educação Básica<br>Pergunta: O estudante que se matricular após março em uma unidade de ensino e preencher os  requisitos de elegibilidade também será beneficiado pelo Programa Pé-de-Meia?",
          "Programa: Programa Pé-de-Meia<br>Tópico: Educação Básica<br>Pergunta: O estudante que troca de escola ou modalidade durante o ano letivo continua recebendo os incentivos do programa?",
          "Programa: Programa Pé-de-Meia<br>Tópico: Educação Básica<br>Pergunta: O Programa Pé-de-Meia é ofertado somente as instituições Estaduais?",
          "Programa: Programa Pé-de-Meia<br>Tópico: Educação Básica<br>Pergunta: O que a minha rede precisa fazer após a adesão?",
          "Programa: Programa Pé-de-Meia<br>Tópico: Educação Básica<br>Pergunta: O que acontece caso o sistema de ensino não assine o termo de compromisso ou não envie as informações dentro do prazo estipulado pelo calendário de operacionalização?",
          "Programa: Programa Pé-de-Meia<br>Tópico: Educação Básica<br>Pergunta: O que acontece com o estudante caso a rede precise atualizar as informações quanto a  frequência?",
          "Programa: Programa Pé-de-Meia<br>Tópico: Educação Básica<br>Pergunta: O que acontece se eu não participar de exames do Sistema de Avaliação da Educação Básica (Saeb), da avaliação para o ensino médio feita pelo meu estado ou do Enem no 3º ano?",
          "Programa: Programa Pé-de-Meia<br>Tópico: Educação Básica<br>Pergunta: O que acontece se o estudante beneficiário não é aprovado no final do ano letivo?",
          "Programa: Programa Pé-de-Meia<br>Tópico: Educação Básica<br>Pergunta: O que é necessário para acessar o aplicativo?",
          "Programa: Programa Pé-de-Meia<br>Tópico: Educação Básica<br>Pergunta: O que é o Programa Pé-de-Meia?",
          "Programa: Programa Pé-de-Meia<br>Tópico: Educação Básica<br>Pergunta: O que fazer quando os dados do estudante não constam no aplicativo Jornada do Estudante?",
          "Programa: Programa Pé-de-Meia<br>Tópico: Educação Básica<br>Pergunta: O que o estudante poderá consultar no aplicativo?",
          "Programa: Programa Pé-de-Meia<br>Tópico: Educação Básica<br>Pergunta: O que pode levar a família do estudante a perder o benefício?",
          "Programa: Programa Pé-de-Meia<br>Tópico: Educação Básica<br>Pergunta: O rendimento escolar é considerado um dos fatores de elegibilidade?",
          "Programa: Programa Pé-de-Meia<br>Tópico: Educação Básica<br>Pergunta: O responsável precisa liberar o acesso para o estudante no aplicativo?",
          "Programa: Programa Pé-de-Meia<br>Tópico: Educação Básica<br>Pergunta: O valor do fomento financeiro é o mesmo para todas as secretarias?",
          "Programa: Programa Pé-de-Meia<br>Tópico: Educação Básica<br>Pergunta: Onde consulto minha frequência?",
          "Programa: Programa Pé-de-Meia<br>Tópico: Educação Básica<br>Pergunta: Onde posso acessar informações sobre o pagamento e minha conta?",
          "Programa: Programa Pé-de-Meia<br>Tópico: Educação Básica<br>Pergunta: Onde posso obter informações sobre o programa Pé-de-Meia?",
          "Programa: Programa Pé-de-Meia<br>Tópico: Educação Básica<br>Pergunta: Os estudantes de quais sistemas de ensino podem participar do Programa Pé-de-Meia?",
          "Programa: Programa Pé-de-Meia<br>Tópico: Educação Básica<br>Pergunta: Os estudantes dos cursos Técnicos Integrados ao Ensino Médio poderão ser atendidos pelo Programa Pé-de-Meia?",
          "Programa: Programa Pé-de-Meia<br>Tópico: Educação Básica<br>Pergunta: Os responsáveis podem receber os incentivos pelos filhos menores?",
          "Programa: Programa Pé-de-Meia<br>Tópico: Educação Básica<br>Pergunta: Pagamento da 5ª parcela de 2025",
          "Programa: Programa Pé-de-Meia<br>Tópico: Educação Básica<br>Pergunta: Para qual etapa da Educação Básica o Programa Pé-de-Meia será destinado?",
          "Programa: Programa Pé-de-Meia<br>Tópico: Educação Básica<br>Pergunta: Para receber o Incentivo Enem basta me inscrever para o exame ou preciso comparecer aos dois dias de prova?",
          "Programa: Programa Pé-de-Meia<br>Tópico: Educação Básica<br>Pergunta: Parcela rejeitada no último ciclo de pagamentos (26.05 a 02.06).",
          "Programa: Programa Pé-de-Meia<br>Tópico: Educação Básica<br>Pergunta: Parei de receber o benefício do Pé-de-Meia, o que pode ter ocorrido?",
          "Programa: Programa Pé-de-Meia<br>Tópico: Educação Básica<br>Pergunta: Passei de ano, mas ainda não concluí o ensino médio. O que acontece com meus R$1.000?",
          "Programa: Programa Pé-de-Meia<br>Tópico: Educação Básica<br>Pergunta: Por onde os sistemas de ensino deverão enviar as informações dos estudantes?",
          "Programa: Programa Pé-de-Meia<br>Tópico: Educação Básica<br>Pergunta: Por que o Governo Federal criou o Programa Pé-de-Meia?",
          "Programa: Programa Pé-de-Meia<br>Tópico: Educação Básica<br>Pergunta: Preciso fazer algum cadastro para receber o benefício?",
          "Programa: Programa Pé-de-Meia<br>Tópico: Educação Básica<br>Pergunta: Quais alunos da EJA podem receber o Pé-de-Meia?",
          "Programa: Programa Pé-de-Meia<br>Tópico: Educação Básica<br>Pergunta: Quais as condições para que o aluno matriculado mantenha o incentivo?",
          "Programa: Programa Pé-de-Meia<br>Tópico: Educação Básica<br>Pergunta: Quais dados utilizo para acessar o aplicativo?",
          "Programa: Programa Pé-de-Meia<br>Tópico: Educação Básica<br>Pergunta: Quais formas de oferta da EJA fazem parte do programa?",
          "Programa: Programa Pé-de-Meia<br>Tópico: Educação Básica<br>Pergunta: Quais informações estão disponíveis no aplicativo?",
          "Programa: Programa Pé-de-Meia<br>Tópico: Educação Básica<br>Pergunta: Quais informações sobre a rede serão solicitadas na adesão?",
          "Programa: Programa Pé-de-Meia<br>Tópico: Educação Básica<br>Pergunta: Quais os contatos para dúvidas sobre o Programa?",
          "Programa: Programa Pé-de-Meia<br>Tópico: Educação Básica<br>Pergunta: Quais são as etapas da adesão ao Programa?",
          "Programa: Programa Pé-de-Meia<br>Tópico: Educação Básica<br>Pergunta: Quais são as redes que oferecem ensino médio público regular (censo de 2023)?",
          "Programa: Programa Pé-de-Meia<br>Tópico: Educação Básica<br>Pergunta: Quais são as responsabilidades da Caixa?",
          "Programa: Programa Pé-de-Meia<br>Tópico: Educação Básica<br>Pergunta: Quais são os critérios de elegibilidade para receber a poupança?",
          "Programa: Programa Pé-de-Meia<br>Tópico: Educação Básica<br>Pergunta: Quais são os critérios de saída ou desligamento do Programa?",
          "Programa: Programa Pé-de-Meia<br>Tópico: Educação Básica<br>Pergunta: Quais são os critérios para disponibilização de cada incentivo?",
          "Programa: Programa Pé-de-Meia<br>Tópico: Educação Básica<br>Pergunta: Quais são os papéis e responsabilidades de cada ente no Pé-de-Meia?",
          "Programa: Programa Pé-de-Meia<br>Tópico: Educação Básica<br>Pergunta: Quais são os valores das parcelas para estudantes da EJA?",
          "Programa: Programa Pé-de-Meia<br>Tópico: Educação Básica<br>Pergunta: Qual a faixa etária do programa para alunos da EJA?",
          "Programa: Programa Pé-de-Meia<br>Tópico: Educação Básica<br>Pergunta: Qual a faixa etária do programa para alunos do ensino regular?",
          "Programa: Programa Pé-de-Meia<br>Tópico: Educação Básica<br>Pergunta: Qual a lei que institui o Programa Pé-de-Meia?",
          "Programa: Programa Pé-de-Meia<br>Tópico: Educação Básica<br>Pergunta: Qual CPF utilizo para acessar o aplicativo?",
          "Programa: Programa Pé-de-Meia<br>Tópico: Educação Básica<br>Pergunta: Qual o período de assinatura do Termo de Compromisso?",
          "Programa: Programa Pé-de-Meia<br>Tópico: Educação Básica<br>Pergunta: Qual o valor dos incentivos por estudante?",
          "Programa: Programa Pé-de-Meia<br>Tópico: Educação Básica<br>Pergunta: Qual o valor pago para os estudantes do Ensino Regular?",
          "Programa: Programa Pé-de-Meia<br>Tópico: Educação Básica<br>Pergunta: Quando será feita a verificação das informações de elegibilidade?",
          "Programa: Programa Pé-de-Meia<br>Tópico: Educação Básica<br>Pergunta: Quando será feita a verificação das informações para manutenção dos estudantes?",
          "Programa: Programa Pé-de-Meia<br>Tópico: Educação Básica<br>Pergunta: Quando será informado que a conta foi aberta?",
          "Programa: Programa Pé-de-Meia<br>Tópico: Educação Básica<br>Pergunta: Quando vão atualizar o aplicativo Jornada do Estudante?",
          "Programa: Programa Pé-de-Meia<br>Tópico: Educação Básica<br>Pergunta: Quem é responsável pelo Programa Pé-de-Meia?",
          "Programa: Programa Pé-de-Meia<br>Tópico: Educação Básica<br>Pergunta: Quem fará a verificação das condicionalidades e elegibilidades dos participantes?",
          "Programa: Programa Pé-de-Meia<br>Tópico: Educação Básica<br>Pergunta: Quem pode participar do programa Pé-de-Meia?",
          "Programa: Programa Pé-de-Meia<br>Tópico: Educação Básica<br>Pergunta: Quem pode participar do programa Pé-de-Meia?",
          "Programa: Programa Pé-de-Meia<br>Tópico: Educação Básica<br>Pergunta: Quem pode sacar os R$1.000 pela aprovação no fim do ano?",
          "Programa: Programa Pé-de-Meia<br>Tópico: Educação Básica<br>Pergunta: Quem será o titular da conta poupança?",
          "Programa: Programa Pé-de-Meia<br>Tópico: Educação Básica<br>Pergunta: Quem terá acesso ao Sistema Gestão Presente?",
          "Programa: Programa Pé-de-Meia<br>Tópico: Educação Básica<br>Pergunta: Renda per capita superior a meio salário-mínimo",
          "Programa: Programa Pé-de-Meia<br>Tópico: Educação Básica<br>Pergunta: Saldo bloqueado no aplicativo CAIXA Tem.",
          "Programa: Programa Pé-de-Meia<br>Tópico: Educação Básica<br>Pergunta: Se o responsável no CadÚnico estiver hospitalizado, como o estudante deve proceder para abrir a conta-poupança?",
          "Programa: Programa Pé-de-Meia<br>Tópico: Educação Básica<br>Pergunta: Sistemas de Ensino que ofertam ensino médio de formação de professores (curso normal - magistério) também poderão aderir ao Programa Pé-de-Meia?",
          "Programa: Programa Pé-de-Meia<br>Tópico: Educação Básica<br>Pergunta: Sou beneficiário do Bolsa Família, mas estou matriculado em uma unidade escolar da rede privada, tenho direito?",
          "Programa: Programa Pé-de-Meia<br>Tópico: Educação Básica<br>Pergunta: Sou beneficiário do Pé-de-Meia e não passei de ano. O que acontece com meus pagamentos?",
          "Programa: Programa Pé-de-Meia<br>Tópico: Educação Básica<br>Pergunta: Sou da rede particular de ensino, posso ser beneficiário do Programa?",
          "Programa: Programa Pé-de-Meia<br>Tópico: Educação Básica<br>Pergunta: Sou estudante em situação de acolhimento institucional, a guia de acolhimento serve como documento para que eu consiga liberar a movimentação da minha conta do CaixaTem?",
          "Programa: Programa Pé-de-Meia<br>Tópico: Educação Básica<br>Pergunta: Sou uma pessoa trans e há divergência entre o meu nome social, cadastrado em minha escola, e o meu nome de registro, indicado em meu CPF. Como posso resolver?",
          "Programa: Programa Pé-de-Meia<br>Tópico: Educação Básica<br>Pergunta: Sou uma pessoa trans, travesti ou não binária e há divergência entre o meu nome social, cadastrado em minha escola, e o nome indicado no CadÚnico. Como posso resolver?",
          "Programa: Programa Pé-de-Meia<br>Tópico: Educação Básica<br>Pergunta: Tenho atestado para justificar minhas faltas, o que devo fazer?",
          "Programa: Programa Pé-de-Meia<br>Tópico: Educação Básica<br>Pergunta: Tenho CadÚnico, mas meu cadastro não está atualizado. O que fazer para meu (minha) filho (a) ter direito ao benefício?",
          "Programa: Programa Pé-de-Meia<br>Tópico: Educação Básica<br>Pergunta: Tenho pais que estão desempregados há mais de um ano, não possuem renda e não fui contemplado. O que fazer nesse caso?",
          "Programa: Programa Pé-de-Meia<br>Tópico: Educação Básica<br>Pergunta: Tive parcelas bloqueadas por não frequentar aulas em 2024, mas em 2025 estou com frequência acima de 80%, terei as parcelas do ano passado liberadas?",
          "Programa: Programa Pé-de-Meia<br>Tópico: Educação Básica<br>Pergunta: Todo ente da federação deve aderir ao Programa Pé-de-Meia?",
          "Programa: Programa Pé-de-Meia<br>Tópico: Educação Básica<br>Pergunta: Uma vez elegível, quais são os requisitos de pagamento do Incentivo Matrícula ao  estudante?"
         ],
         "type": "scatter3d",
         "x": {
          "_inputArray": {
           "0": -3.2447288036346436,
           "1": 19.402881622314453,
           "10": -16.469709396362305,
           "100": -10.796082496643066,
           "101": 6.713417053222656,
           "102": -16.746288299560547,
           "103": -1.0492236614227295,
           "104": 0.8250742554664612,
           "105": -27.17938232421875,
           "106": -32.88258743286133,
           "107": -25.187753677368164,
           "108": -31.64562225341797,
           "109": -18.837017059326172,
           "11": -7.508010387420654,
           "110": -0.958026111125946,
           "111": -4.8742523193359375,
           "112": -8.489307403564453,
           "113": -15.509012222290039,
           "114": -6.957350254058838,
           "115": 2.064725160598755,
           "116": -6.775021553039551,
           "117": -7.545212268829346,
           "118": 6.94432258605957,
           "119": 13.537089347839355,
           "12": -13.18846321105957,
           "120": -26.743711471557617,
           "121": 21.875337600708008,
           "122": -16.679691314697266,
           "123": 1.138190746307373,
           "124": -8.332584381103516,
           "125": -9.725314140319824,
           "126": -20.927005767822266,
           "127": -35.898799896240234,
           "128": 1.2666897773742676,
           "129": -32.32120895385742,
           "13": -31.925132751464844,
           "130": -23.20237922668457,
           "131": -30.22585678100586,
           "132": -3.1982510089874268,
           "133": -14.795160293579102,
           "134": -16.787353515625,
           "135": -12.819716453552246,
           "136": -22.47477149963379,
           "137": -36.93490219116211,
           "138": -37.743690490722656,
           "139": 11.346308708190918,
           "14": 3.73158860206604,
           "140": -34.624454498291016,
           "141": -26.43016242980957,
           "142": -13.535813331604004,
           "143": -9.125253677368164,
           "144": -2.5652990341186523,
           "15": -3.8241262435913086,
           "16": -36.75813674926758,
           "17": -29.735515594482422,
           "18": -27.70510482788086,
           "19": 11.85084056854248,
           "2": -25.547672271728516,
           "20": -17.573604583740234,
           "21": 11.64909839630127,
           "22": 15.089492797851562,
           "23": -8.555194854736328,
           "24": -4.352831840515137,
           "25": -26.56273651123047,
           "26": -36.84251022338867,
           "27": 19.354013442993164,
           "28": 10.485264778137207,
           "29": 13.268786430358887,
           "3": -3.640688419342041,
           "30": -16.91419792175293,
           "31": 22.824520111083984,
           "32": -11.308758735656738,
           "33": -21.642866134643555,
           "34": -4.632580757141113,
           "35": -7.677371978759766,
           "36": -5.733297348022461,
           "37": -21.870826721191406,
           "38": 2.045215368270874,
           "39": -9.883146286010742,
           "4": -5.700530052185059,
           "40": -25.83289337158203,
           "41": -4.384703636169434,
           "42": -18.109764099121094,
           "43": 11.085921287536621,
           "44": 19.253660202026367,
           "45": -18.26714324951172,
           "46": -27.32065773010254,
           "47": -27.021495819091797,
           "48": -9.169804573059082,
           "49": -8.159326553344727,
           "5": 4.406508445739746,
           "50": -16.82274627685547,
           "51": -1.0865404605865479,
           "52": 0.7239055037498474,
           "53": -19.75366973876953,
           "54": 8.181501388549805,
           "55": -21.947071075439453,
           "56": 17.834152221679688,
           "57": -14.659335136413574,
           "58": -24.376150131225586,
           "59": -8.552839279174805,
           "6": -4.089630126953125,
           "60": -15.600201606750488,
           "61": -21.042137145996094,
           "62": 3.810698986053467,
           "63": 15.269159317016602,
           "64": 3.0103859901428223,
           "65": 0.49208855628967285,
           "66": 0.9283460378646851,
           "67": -12.048532485961914,
           "68": 5.07916259765625,
           "69": 7.587337493896484,
           "7": 9.880400657653809,
           "70": 23.87855339050293,
           "71": -0.20519313216209412,
           "72": -4.050621032714844,
           "73": -6.400555610656738,
           "74": -15.88211441040039,
           "75": 15.134952545166016,
           "76": -5.248031139373779,
           "77": -18.16152000427246,
           "78": 7.850666046142578,
           "79": 3.918922185897827,
           "8": 16.931894302368164,
           "80": -37.55314636230469,
           "81": -20.396507263183594,
           "82": -19.358943939208984,
           "83": -13.424814224243164,
           "84": -1.6993935108184814,
           "85": 3.0396814346313477,
           "86": -32.87998580932617,
           "87": -14.772429466247559,
           "88": -6.6803975105285645,
           "89": -4.700132846832275,
           "9": -21.498058319091797,
           "90": -20.77545928955078,
           "91": -17.71261978149414,
           "92": -8.41633415222168,
           "93": 11.884153366088867,
           "94": -10.365848541259766,
           "95": -28.45060920715332,
           "96": 1.9495929479599,
           "97": 1.6632095575332642,
           "98": -10.234426498413086,
           "99": 2.860558032989502,
           "bdata": "o6lPwBo5m0GiYczBCgFpwL5qtsAeAo1AQN6CwB8WHkGFdIdBBvyrwffBg8GfQfDA8gNTwaxm/8FZ0m5AfL50wFUIE8JW4u3BDqTdwQudPUG+lozBtWI6QZBucUEU4gjBZkqLwHyA1MG7XhPCBdWaQaXDJ0HzTFRBR1CHwZ6YtkGt8DTBlyStwRo+lMAIrfXALHe3wHT3rsHP5AJAXiEewcSpzsF+T4zAzOCQwe9fMUF/B5pBHCOSwbWQ2sEGLNjBhbcSwZqMAsH8lIbBwhOLv99ROT+EB57BbucCQZqTr8FYrI5Bo4xqwVsCw8Fu2AjBbZp5wUxWqMF+4nNAek50QSqqQEAI8/s+FqhtP8rGQMGAiKJAeMvyQEcHv0EmHlK+sJ6BwFrRzMAkHX7BxChyQd/vp8DLSpHBqDj7QJ/PekBsNhbCDCyjwR7fmsEKzFbBuoXZvySKQkAbhQPC31tswdHF1cB9Z5bAJDSmwXKzjcFOqQbBfiU+QYTaJcHZmuPBQ4z5Pw3k1D82wCPBYhM3QMG8LMFQ1NZAZviFwfZMhr8ROFM/YG/ZwcWHA8KFgMnBPCr9wTaylsEzQXW/4PmbwDTUB8HqJHjBnaLewHUkBED6zNjAYXLxwOQ33kDrl1hBH/PVwbEAr0ECcIXBPLCRP0RSBcHjmhvBgmqnwV+YD8LkIqI/60gBwnmeucGOzvHBJbBMwPq4bMGATIbBjx1NwVXMs8FXvRPCivkWwnuKNUFxfwrC+XDTwbGSWMEKARLB3C0kwA==",
           "dtype": "f4",
           "shape": "145"
          },
          "bdata": "o6lPwBo5m0GiYczBCgFpwL5qtsAeAo1AQN6CwB8WHkGFdIdBBvyrwffBg8GfQfDA8gNTwaxm/8FZ0m5AfL50wFUIE8JW4u3BDqTdwQudPUG+lozBtWI6QZBucUEU4gjBZkqLwHyA1MG7XhPCBdWaQaXDJ0HzTFRBR1CHwZ6YtkGt8DTBlyStwRo+lMAIrfXALHe3wHT3rsHP5AJAXiEewcSpzsF+T4zAzOCQwe9fMUF/B5pBHCOSwbWQ2sEGLNjBhbcSwZqMAsH8lIbBwhOLv99ROT+EB57BbucCQZqTr8FYrI5Bo4xqwVsCw8Fu2AjBbZp5wUxWqMF+4nNAek50QSqqQEAI8/s+FqhtP8rGQMGAiKJAeMvyQEcHv0EmHlK+sJ6BwFrRzMAkHX7BxChyQd/vp8DLSpHBqDj7QJ/PekBsNhbCDCyjwR7fmsEKzFbBuoXZvySKQkAbhQPC31tswdHF1cB9Z5bAJDSmwXKzjcFOqQbBfiU+QYTaJcHZmuPBQ4z5Pw3k1D82wCPBYhM3QMG8LMFQ1NZAZviFwfZMhr8ROFM/YG/ZwcWHA8KFgMnBPCr9wTaylsEzQXW/4PmbwDTUB8HqJHjBnaLewHUkBED6zNjAYXLxwOQ33kDrl1hBH/PVwbEAr0ECcIXBPLCRP0RSBcHjmhvBgmqnwV+YD8LkIqI/60gBwnmeucGOzvHBJbBMwPq4bMGATIbBjx1NwVXMs8FXvRPCivkWwnuKNUFxfwrC+XDTwbGSWMEKARLB3C0kwA==",
          "dtype": "f4"
         },
         "y": {
          "_inputArray": {
           "0": -1.68760085105896,
           "1": 3.129397392272949,
           "10": -21.063011169433594,
           "100": -15.401435852050781,
           "101": 5.504576683044434,
           "102": -7.890199184417725,
           "103": 4.997237205505371,
           "104": 13.739593505859375,
           "105": -19.715274810791016,
           "106": -1.9374589920043945,
           "107": -1.6849992275238037,
           "108": 5.776151180267334,
           "109": 6.743200778961182,
           "11": -17.32825469970703,
           "110": -2.4601781368255615,
           "111": -10.475015640258789,
           "112": -10.835977554321289,
           "113": 1.0323683023452759,
           "114": -24.186315536499023,
           "115": 19.1885929107666,
           "116": 5.635891437530518,
           "117": -0.24755798280239105,
           "118": -6.559073448181152,
           "119": -3.042912006378174,
           "12": -26.534879684448242,
           "120": -17.872114181518555,
           "121": -10.627830505371094,
           "122": 1.3933804035186768,
           "123": -5.087501525878906,
           "124": -0.5264257192611694,
           "125": 4.442380428314209,
           "126": 36.94106674194336,
           "127": -9.16278076171875,
           "128": -19.000932693481445,
           "129": 25.74628448486328,
           "13": -9.39577579498291,
           "130": -24.321659088134766,
           "131": -9.291613578796387,
           "132": 8.076751708984375,
           "133": 6.495283126831055,
           "134": 25.245939254760742,
           "135": 7.936539649963379,
           "136": -11.946661949157715,
           "137": -23.00174331665039,
           "138": -18.476980209350586,
           "139": 27.974775314331055,
           "14": 19.43408966064453,
           "140": -3.954516887664795,
           "141": 21.960922241210938,
           "142": 31.159629821777344,
           "143": 5.780165672302246,
           "144": 8.715733528137207,
           "15": 17.878225326538086,
           "16": -7.043026447296143,
           "17": 0.08682825416326523,
           "18": 2.5207645893096924,
           "19": 6.604837417602539,
           "2": 14.184786796569824,
           "20": 14.034427642822266,
           "21": -3.0272769927978516,
           "22": 1.778619408607483,
           "23": 25.386829376220703,
           "24": 32.03492736816406,
           "25": 6.795794486999512,
           "26": 5.837254047393799,
           "27": 6.213415145874023,
           "28": 5.164440631866455,
           "29": 14.871878623962402,
           "3": 24.219846725463867,
           "30": 14.663406372070312,
           "31": 5.346813201904297,
           "32": 18.023576736450195,
           "33": -16.002243041992188,
           "34": -29.29874610900879,
           "35": 18.550905227661133,
           "36": 23.626161575317383,
           "37": -4.351924896240234,
           "38": 2.506373643875122,
           "39": 2.4372193813323975,
           "4": 19.502721786499023,
           "40": 18.86618423461914,
           "41": 7.987900733947754,
           "42": -2.1449778079986572,
           "43": 18.148170471191406,
           "44": -7.9265336990356445,
           "45": 0.045003827661275864,
           "46": 14.156888961791992,
           "47": 12.836472511291504,
           "48": 29.863752365112305,
           "49": 13.398472785949707,
           "5": 17.995698928833008,
           "50": 30.002185821533203,
           "51": 30.32817840576172,
           "52": 30.77118492126465,
           "53": -28.082874298095703,
           "54": -14.600750923156738,
           "55": 5.813322067260742,
           "56": -12.176376342773438,
           "57": 35.82072067260742,
           "58": 7.298056125640869,
           "59": -34.708106994628906,
           "6": 16.493595123291016,
           "60": 28.14743995666504,
           "61": 26.400196075439453,
           "62": -14.433505058288574,
           "63": -16.712526321411133,
           "64": -5.8714213371276855,
           "65": 8.805706024169922,
           "66": 23.157264709472656,
           "67": 2.6800363063812256,
           "68": 3.1218643188476562,
           "69": 19.41810417175293,
           "7": -5.242013454437256,
           "70": 2.3751683235168457,
           "71": 21.3836669921875,
           "72": 20.635622024536133,
           "73": -22.41817855834961,
           "74": -3.741462230682373,
           "75": -16.19781494140625,
           "76": -13.812437057495117,
           "77": 17.00751304626465,
           "78": 9.282904624938965,
           "79": -19.881874084472656,
           "8": -21.752864837646484,
           "80": 9.29764175415039,
           "81": -16.203231811523438,
           "82": -15.725275039672852,
           "83": -8.76293659210205,
           "84": 1.6473816633224487,
           "85": 6.853415489196777,
           "86": 11.611023902893066,
           "87": 20.58189582824707,
           "88": -5.163684844970703,
           "89": 20.510534286499023,
           "9": -10.28354549407959,
           "90": 25.82807731628418,
           "91": 20.140945434570312,
           "92": 35.56898880004883,
           "93": 9.679020881652832,
           "94": -2.789398670196533,
           "95": 0.909155011177063,
           "96": -0.9391563534736633,
           "97": 14.856829643249512,
           "98": -22.7200870513916,
           "99": -8.31634521484375,
           "bdata": "TgPYvwxISEDj9GJBP8LBQZMFnEEx949B4vKDQZO+p8DeBa7BZ4kkwQyBqMFEoIrBb0fUwRlVFsEEeZtBmwaPQXlg4cAD07E9NVQhQNRa00AEjWBB6L5BwM2p4z86GMtBxCMAQiZ32UDJyrpATNTGQBlDpUA3821BUJ1qQRgZq0BJMJBBmASAwdVj6sFBaJRBYQK9QfhCi8BtaCBAZ/sbQPLtlkHinP9AUUcJwHQvkUEqpv3A71U4PZ6CYkExYk1B9+juQSVgVkF6BPBBHKDyQWMr9kG6qeDBrZxpwbwGukBw0kLBa0gPQq2J6UAa1QrC9S3hQZoz00Gj72bBQbOFwa/iu8As5AxBFEK5QbeFK0CgzEdAR1ibQcICGEDAEatBwRWlQW5Ys8EedG/AIJWBwb7/XMFjD4hBx4YUQRQOn8EkwxRBOKCBwbqae8H9NAzBZ93SPy5P20DBxjlBuaekQeg8pcCTFaRB55/OQaggoUGlRg5CRd0aQYKFMsBivmg/jWxwv5O1bUG9wrXBwA8FwUhsdsF+JbBAg3z8wF7pn0Bg1VtB4ridwaj+978Orte/O9a4QE3I10CPcx3AqpknwSpgLcGlJIQ/k33BwT2CmUE5WbRA1399vu7j0cASv0LAF/qOwZgLKsFKWrI/0MyiwNbDBr/7J45Ap8MTQsCaEsHpAZjBZPjNQcKSwsFzqhTBYDoBQVzZz0Cv98lBIvj9QIclP8GSA7jB29CTwVfM30HOFn3A+K+vQexG+UEe97hApXMLQQ==",
           "dtype": "f4",
           "shape": "145"
          },
          "bdata": "TgPYvwxISEDj9GJBP8LBQZMFnEEx949B4vKDQZO+p8DeBa7BZ4kkwQyBqMFEoIrBb0fUwRlVFsEEeZtBmwaPQXlg4cAD07E9NVQhQNRa00AEjWBB6L5BwM2p4z86GMtBxCMAQiZ32UDJyrpATNTGQBlDpUA3821BUJ1qQRgZq0BJMJBBmASAwdVj6sFBaJRBYQK9QfhCi8BtaCBAZ/sbQPLtlkHinP9AUUcJwHQvkUEqpv3A71U4PZ6CYkExYk1B9+juQSVgVkF6BPBBHKDyQWMr9kG6qeDBrZxpwbwGukBw0kLBa0gPQq2J6UAa1QrC9S3hQZoz00Gj72bBQbOFwa/iu8As5AxBFEK5QbeFK0CgzEdAR1ibQcICGEDAEatBwRWlQW5Ys8EedG/AIJWBwb7/XMFjD4hBx4YUQRQOn8EkwxRBOKCBwbqae8H9NAzBZ93SPy5P20DBxjlBuaekQeg8pcCTFaRB55/OQaggoUGlRg5CRd0aQYKFMsBivmg/jWxwv5O1bUG9wrXBwA8FwUhsdsF+JbBAg3z8wF7pn0Bg1VtB4ridwaj+978Orte/O9a4QE3I10CPcx3AqpknwSpgLcGlJIQ/k33BwT2CmUE5WbRA1399vu7j0cASv0LAF/qOwZgLKsFKWrI/0MyiwNbDBr/7J45Ap8MTQsCaEsHpAZjBZPjNQcKSwsFzqhTBYDoBQVzZz0Cv98lBIvj9QIclP8GSA7jB29CTwVfM30HOFn3A+K+vQexG+UEe97hApXMLQQ==",
          "dtype": "f4"
         },
         "z": {
          "_inputArray": {
           "0": -16.68401336669922,
           "1": -31.435319900512695,
           "10": -11.25226879119873,
           "100": -20.907732009887695,
           "101": -38.26708221435547,
           "102": -21.76137924194336,
           "103": -36.28219985961914,
           "104": -17.346900939941406,
           "105": -5.4475626945495605,
           "106": -11.158395767211914,
           "107": -25.011394500732422,
           "108": -14.735533714294434,
           "109": -32.56871795654297,
           "11": -30.532716751098633,
           "110": 7.48900842666626,
           "111": 0.5720469951629639,
           "112": -3.575695753097534,
           "113": -38.50800323486328,
           "114": -11.866888999938965,
           "115": -38.23314666748047,
           "116": 13.955410957336426,
           "117": 10.248892784118652,
           "118": -27.264982223510742,
           "119": -20.75006103515625,
           "12": -24.20711898803711,
           "120": -21.76202964782715,
           "121": -15.255030632019043,
           "122": -27.290067672729492,
           "123": -29.982139587402344,
           "124": -26.001258850097656,
           "125": -24.101896286010742,
           "126": -5.236782073974609,
           "127": -7.845877647399902,
           "128": -24.818462371826172,
           "129": -7.133559226989746,
           "13": -14.6151762008667,
           "130": -12.614325523376465,
           "131": -2.1572065353393555,
           "132": -11.309633255004883,
           "133": 1.3093321323394775,
           "134": -4.777767658233643,
           "135": -5.061717987060547,
           "136": -2.4508492946624756,
           "137": 6.0119147300720215,
           "138": 8.672958374023438,
           "139": -10.485992431640625,
           "14": -32.02183532714844,
           "140": 4.4899821281433105,
           "141": -3.812117576599121,
           "142": 11.280760765075684,
           "143": -35.36347198486328,
           "144": 10.002065658569336,
           "15": -34.8881950378418,
           "16": -16.85556983947754,
           "17": 8.22535228729248,
           "18": 15.202824592590332,
           "19": -8.468379974365234,
           "2": -11.976003646850586,
           "20": -22.79222297668457,
           "21": -14.080150604248047,
           "22": -14.159517288208008,
           "23": 20.783470153808594,
           "24": -9.832320213317871,
           "25": -17.424579620361328,
           "26": 8.892114639282227,
           "27": -24.235504150390625,
           "28": -24.457294464111328,
           "29": -16.15656089782715,
           "3": -20.83475685119629,
           "30": 7.504935264587402,
           "31": -13.396748542785645,
           "32": 0.08571753650903702,
           "33": -11.6519136428833,
           "34": -23.112205505371094,
           "35": 12.197940826416016,
           "36": 7.143618583679199,
           "37": 7.763192653656006,
           "38": -17.447433471679688,
           "39": -0.9502251744270325,
           "4": -19.468931198120117,
           "40": 12.370183944702148,
           "41": -2.288111925125122,
           "42": 2.1152596473693848,
           "43": -3.5635221004486084,
           "44": -23.464466094970703,
           "45": -12.620677947998047,
           "46": 8.769922256469727,
           "47": 0.5059301853179932,
           "48": -6.703030586242676,
           "49": 16.572118759155273,
           "5": 0.31276461482048035,
           "50": 4.142857551574707,
           "51": 6.312899112701416,
           "52": -3.7503857612609863,
           "53": -9.293054580688477,
           "54": -32.10369110107422,
           "55": -3.7553210258483887,
           "56": -9.479747772216797,
           "57": -3.686561107635498,
           "58": 5.060189723968506,
           "59": -19.466604232788086,
           "6": 4.284874439239502,
           "60": -16.556415557861328,
           "61": -16.041019439697266,
           "62": -16.94130516052246,
           "63": -22.942819595336914,
           "64": -11.802156448364258,
           "65": 1.9856003522872925,
           "66": 6.929688453674316,
           "67": -13.37267017364502,
           "68": -43.10784912109375,
           "69": -26.687549591064453,
           "7": -31.882984161376953,
           "70": -22.01246452331543,
           "71": -8.261161804199219,
           "72": -1.9586840867996216,
           "73": -22.882465362548828,
           "74": -31.760480880737305,
           "75": -14.460025787353516,
           "76": -17.861509323120117,
           "77": 0.9748184084892273,
           "78": 5.197030544281006,
           "79": -15.42599105834961,
           "8": -13.793140411376953,
           "80": -18.377071380615234,
           "81": -33.799781799316406,
           "82": -22.220027923583984,
           "83": -28.190895080566406,
           "84": -8.757742881774902,
           "85": -6.611853122711182,
           "86": -4.469931125640869,
           "87": -22.299936294555664,
           "88": -9.3585205078125,
           "89": 23.244089126586914,
           "9": -34.99641418457031,
           "90": -24.47442054748535,
           "91": -8.438815116882324,
           "92": -2.2579219341278076,
           "93": -20.561960220336914,
           "94": -38.628700256347656,
           "95": 1.6466240882873535,
           "96": -1.2801730632781982,
           "97": 11.3524169921875,
           "98": -17.931535720825195,
           "99": -1.7095078229904175,
           "bdata": "3HiFwYl7+8G2nT/Bla2mwV/Am8GvIqA+sR2JQFoQ/8G0sFzBVPwLwksJNMEBQ/TBLqjBwcPXacFcFgDCg40LwjXYhsELmwNBxT5zQXx+B8F5VrbBTEhhwWKNYsGMRKZBL1EdwYpli8EaRg5BUOLBwYqow8GjQIHBbijwQBVZVsGtjK89PW46wczluMHEKkNBhpjkQBNs+EBYlIvB9UFzv0bsRUFtcBLAamAHQL8QZMA6t7vBTO5JwZpRDEGkhAE/On/WwLOThEFKkoRARQPKQFIGcMBasBTBLmoAwi5XcMAMrRfBnvBrwBPtoUCbu5vBinOEwQJUgMHLh4fB5Yq3waLVPMEnKP4/AsDdQHX2VcFwbizCGoDVwYcZsMG4LQTBKbb6v0oPt8F3Ff7BRFxnwV/kjsGzjXk/E06mQNzQdsE+BJPB+jIHwp7CscH0huHBtx8MwU2U08CtCY/ARWaywYC8FcHl87lBncvDwWMFB8HLgRDA5X6kwcqDGsKUxNI/ttyjv4CjNUHJc4/BJ9HavwlDp8F+ERnCTheuwfkgEcJ0xorBb1KuwMqIMsFWF8jBv8RrwV5GAsL1pe9ArHESPzPYZMAyCBrCx949wb7uGMJdSV9Bd/sjQa8e2sEgAKbBoxiuwZsUdMEPUtrBbNvvwZQC0MGv0MDBuJOnwG4R+8A2jMbBHkbkwEfUScGsDwrAQvQ0wTKYpz9545jAmPmhwLfaHMCbYcBAcMQKQaDGJ8HvrY9AvPlzwP99NEEydA3CdgggQQ==",
           "dtype": "f4",
           "shape": "145"
          },
          "bdata": "3HiFwYl7+8G2nT/Bla2mwV/Am8GvIqA+sR2JQFoQ/8G0sFzBVPwLwksJNMEBQ/TBLqjBwcPXacFcFgDCg40LwjXYhsELmwNBxT5zQXx+B8F5VrbBTEhhwWKNYsGMRKZBL1EdwYpli8EaRg5BUOLBwYqow8GjQIHBbijwQBVZVsGtjK89PW46wczluMHEKkNBhpjkQBNs+EBYlIvB9UFzv0bsRUFtcBLAamAHQL8QZMA6t7vBTO5JwZpRDEGkhAE/On/WwLOThEFKkoRARQPKQFIGcMBasBTBLmoAwi5XcMAMrRfBnvBrwBPtoUCbu5vBinOEwQJUgMHLh4fB5Yq3waLVPMEnKP4/AsDdQHX2VcFwbizCGoDVwYcZsMG4LQTBKbb6v0oPt8F3Ff7BRFxnwV/kjsGzjXk/E06mQNzQdsE+BJPB+jIHwp7CscH0huHBtx8MwU2U08CtCY/ARWaywYC8FcHl87lBncvDwWMFB8HLgRDA5X6kwcqDGsKUxNI/ttyjv4CjNUHJc4/BJ9HavwlDp8F+ERnCTheuwfkgEcJ0xorBb1KuwMqIMsFWF8jBv8RrwV5GAsL1pe9ArHESPzPYZMAyCBrCx949wb7uGMJdSV9Bd/sjQa8e2sEgAKbBoxiuwZsUdMEPUtrBbNvvwZQC0MGv0MDBuJOnwG4R+8A2jMbBHkbkwEfUScGsDwrAQvQ0wTKYpz9545jAmPmhwLfaHMCbYcBAcMQKQaDGJ8HvrY9AvPlzwP99NEEydA3CdgggQQ==",
          "dtype": "f4"
         }
        },
        {
         "hovertemplate": "%{text}<extra></extra>",
         "marker": {
          "color": "rgb(255,255,179)",
          "opacity": 0.7,
          "size": 6
         },
         "mode": "markers",
         "name": "EJA",
         "text": [
          "Programa: EJA<br>Tópico: Educação de Jovens e Adultos<br>Pergunta: O que é EJA?",
          "Programa: EJA<br>Tópico: Educação de Jovens e Adultos<br>Pergunta: Quem pode participar do EJA?",
          "Programa: EJA<br>Tópico: Educação de Jovens e Adultos<br>Pergunta: Como funciona o EJA?",
          "Programa: EJA<br>Tópico: Educação de Jovens e Adultos<br>Pergunta: Onde encontrar o EJA?"
         ],
         "type": "scatter3d",
         "x": {
          "_inputArray": {
           "0": 4.429978370666504,
           "1": 9.775430679321289,
           "2": 4.851241588592529,
           "3": 9.69068431854248,
           "bdata": "YsKNQCpoHEFfPZtACw0bQQ==",
           "dtype": "f4",
           "shape": "4"
          },
          "bdata": "YsKNQCpoHEFfPZtACw0bQQ==",
          "dtype": "f4"
         },
         "y": {
          "_inputArray": {
           "0": -20.425926208496094,
           "1": -15.440446853637695,
           "2": -18.843263626098633,
           "3": -23.86662483215332,
           "bdata": "TGijwRIMd8EBv5bB2e6+wQ==",
           "dtype": "f4",
           "shape": "4"
          },
          "bdata": "TGijwRIMd8EBv5bB2e6+wQ==",
          "dtype": "f4"
         },
         "z": {
          "_inputArray": {
           "0": 1.2060222625732422,
           "1": 2.2357826232910156,
           "2": 7.1145806312561035,
           "3": 4.412395000457764,
           "bdata": "8F6aPxAXD0ClquNAVzKNQA==",
           "dtype": "f4",
           "shape": "4"
          },
          "bdata": "8F6aPxAXD0ClquNAVzKNQA==",
          "dtype": "f4"
         }
        },
        {
         "hovertemplate": "%{text}<extra></extra>",
         "marker": {
          "color": "rgb(190,186,218)",
          "opacity": 0.7,
          "size": 6
         },
         "mode": "markers",
         "name": "PROEJA",
         "text": [
          "Programa: PROEJA<br>Tópico: Educação de Jovens e Adultos<br>Pergunta: Como o EJA pode me preparar para o mercado de trabalho?",
          "Programa: PROEJA<br>Tópico: Educação de Jovens e Adultos<br>Pergunta: Quais são as instituições que ofertam os cursos?",
          "Programa: PROEJA<br>Tópico: Educação de Jovens e Adultos<br>Pergunta: Como é feita a seleção para os cursos Proeja?",
          "Programa: PROEJA<br>Tópico: Educação de Jovens e Adultos<br>Pergunta: Eu já concluí o ensino médio, posso cursar o Proeja ?"
         ],
         "type": "scatter3d",
         "x": {
          "_inputArray": {
           "0": 11.860370635986328,
           "1": 23.377605438232422,
           "2": 19.098243713378906,
           "3": 16.37237548828125,
           "bdata": "FMQ9QVYFu0E0yZhBoPqCQQ==",
           "dtype": "f4",
           "shape": "4"
          },
          "bdata": "FMQ9QVYFu0E0yZhBoPqCQQ==",
          "dtype": "f4"
         },
         "y": {
          "_inputArray": {
           "0": -18.41948699951172,
           "1": -16.69805335998535,
           "2": -13.011747360229492,
           "3": -7.3102312088012695,
           "bdata": "HFuTwZ2VhcEeMFDBau3pwA==",
           "dtype": "f4",
           "shape": "4"
          },
          "bdata": "HFuTwZ2VhcEeMFDBau3pwA==",
          "dtype": "f4"
         },
         "z": {
          "_inputArray": {
           "0": 11.312548637390137,
           "1": 11.412885665893555,
           "2": 13.218733787536621,
           "3": 13.255219459533691,
           "bdata": "MwA1QS6bNkHvf1NBYRVUQQ==",
           "dtype": "f4",
           "shape": "4"
          },
          "bdata": "MwA1QS6bNkHvf1NBYRVUQQ==",
          "dtype": "f4"
         }
        },
        {
         "hovertemplate": "%{text}<extra></extra>",
         "marker": {
          "color": "rgb(251,128,114)",
          "opacity": 0.7,
          "size": 6
         },
         "mode": "markers",
         "name": "Pé-de-meia/EJA",
         "text": [
          "Programa: Pé-de-meia/EJA<br>Tópico: Educação de Jovens e Adultos<br>Pergunta: Alunos da EJA têm direito ao recebimento do Pé de Meia?"
         ],
         "type": "scatter3d",
         "x": {
          "_inputArray": {
           "0": 7.299139499664307,
           "bdata": "jZLpQA==",
           "dtype": "f4",
           "shape": "1"
          },
          "bdata": "jZLpQA==",
          "dtype": "f4"
         },
         "y": {
          "_inputArray": {
           "0": -0.6026493310928345,
           "bdata": "Okcavw==",
           "dtype": "f4",
           "shape": "1"
          },
          "bdata": "Okcavw==",
          "dtype": "f4"
         },
         "z": {
          "_inputArray": {
           "0": 1.4123948812484741,
           "bdata": "W8m0Pw==",
           "dtype": "f4",
           "shape": "1"
          },
          "bdata": "W8m0Pw==",
          "dtype": "f4"
         }
        },
        {
         "hovertemplate": "%{text}<extra></extra>",
         "marker": {
          "color": "rgb(128,177,211)",
          "opacity": 0.7,
          "size": 6
         },
         "mode": "markers",
         "name": "Certificação Ensino Médio",
         "text": [
          "Programa: Certificação Ensino Médio<br>Tópico: Educação Básica<br>Pergunta: Como ter acesso a certificação do ensino médio?"
         ],
         "type": "scatter3d",
         "x": {
          "_inputArray": {
           "0": 10.506338119506836,
           "bdata": "9hkoQQ==",
           "dtype": "f4",
           "shape": "1"
          },
          "bdata": "9hkoQQ==",
          "dtype": "f4"
         },
         "y": {
          "_inputArray": {
           "0": 0.9378489851951599,
           "bdata": "3xZwPw==",
           "dtype": "f4",
           "shape": "1"
          },
          "bdata": "3xZwPw==",
          "dtype": "f4"
         },
         "z": {
          "_inputArray": {
           "0": 18.242053985595703,
           "bdata": "uu+RQQ==",
           "dtype": "f4",
           "shape": "1"
          },
          "bdata": "uu+RQQ==",
          "dtype": "f4"
         }
        },
        {
         "hovertemplate": "%{text}<extra></extra>",
         "marker": {
          "color": "rgb(253,180,98)",
          "opacity": 0.7,
          "size": 6
         },
         "mode": "markers",
         "name": "Encceja",
         "text": [
          "Programa: Encceja<br>Tópico: Educação Básica<br>Pergunta: O que é Encceja?",
          "Programa: Encceja<br>Tópico: Educação Básica<br>Pergunta: Para que serve o Encceja?",
          "Programa: Encceja<br>Tópico: Educação Básica<br>Pergunta: Como obter o certificado de conclusão da educação básica através do Encceja?",
          "Programa: Encceja<br>Tópico: Educação Básica<br>Pergunta: Onde e quando acontecem as inscrições e provas?"
         ],
         "type": "scatter3d",
         "x": {
          "_inputArray": {
           "0": -2.1755049228668213,
           "1": 2.7496960163116455,
           "2": 6.298192024230957,
           "3": -1.850665807723999,
           "bdata": "eTsLwAX7L0DKislAnuLsvw==",
           "dtype": "f4",
           "shape": "4"
          },
          "bdata": "eTsLwAX7L0DKislAnuLsvw==",
          "dtype": "f4"
         },
         "y": {
          "_inputArray": {
           "0": -11.540572166442871,
           "1": -13.737614631652832,
           "2": -5.511713981628418,
           "3": -10.676145553588867,
           "bdata": "L6Y4wUXNW8H2X7DAftEqwQ==",
           "dtype": "f4",
           "shape": "4"
          },
          "bdata": "L6Y4wUXNW8H2X7DAftEqwQ==",
          "dtype": "f4"
         },
         "z": {
          "_inputArray": {
           "0": 18.129959106445312,
           "1": 18.936607360839844,
           "2": 20.31519889831543,
           "3": 25.584735870361328,
           "bdata": "KAqRQSx+l0GHhaJBiq3MQQ==",
           "dtype": "f4",
           "shape": "4"
          },
          "bdata": "KAqRQSx+l0GHhaJBiq3MQQ==",
          "dtype": "f4"
         }
        },
        {
         "hovertemplate": "%{text}<extra></extra>",
         "marker": {
          "color": "rgb(179,222,105)",
          "opacity": 0.7,
          "size": 6
         },
         "mode": "markers",
         "name": "ENEM",
         "text": [
          "Programa: ENEM<br>Tópico: Educação Básica<br>Pergunta: Como obter o certificado do Ensino Médio através do ENEM?",
          "Programa: ENEM<br>Tópico: Educação Básica<br>Pergunta: Conseguir alcançar a pontuação necessária para o certificado, como posso emiti-lo?"
         ],
         "type": "scatter3d",
         "x": {
          "_inputArray": {
           "0": 7.715230464935303,
           "1": 9.747589111328125,
           "bdata": "K+P2QCD2G0E=",
           "dtype": "f4",
           "shape": "2"
          },
          "bdata": "K+P2QCD2G0E=",
          "dtype": "f4"
         },
         "y": {
          "_inputArray": {
           "0": 1.3994781970977783,
           "1": -1.5228794813156128,
           "bdata": "GiKzP7ftwr8=",
           "dtype": "f4",
           "shape": "2"
          },
          "bdata": "GiKzP7ftwr8=",
          "dtype": "f4"
         },
         "z": {
          "_inputArray": {
           "0": 24.295042037963867,
           "1": 30.137542724609375,
           "bdata": "P1zCQbAZ8UE=",
           "dtype": "f4",
           "shape": "2"
          },
          "bdata": "P1zCQbAZ8UE=",
          "dtype": "f4"
         }
        },
        {
         "hovertemplate": "%{text}<extra></extra>",
         "marker": {
          "color": "rgb(252,205,229)",
          "opacity": 0.7,
          "size": 6
         },
         "mode": "markers",
         "name": "Cursinho Popular",
         "text": [
          "Programa: Cursinho Popular<br>Tópico: Educação Básica<br>Pergunta: O que é o CPOP?",
          "Programa: Cursinho Popular<br>Tópico: Educação Básica<br>Pergunta: O que a CPOP fornece para os alunos de cursinhos populares?",
          "Programa: Cursinho Popular<br>Tópico: Educação Básica<br>Pergunta: Quem pode ser estudante do CPOP?",
          "Programa: Cursinho Popular<br>Tópico: Educação Básica<br>Pergunta: Quanto é a bolsa para o estudante do cursinho popular selecionado?",
          "Programa: Cursinho Popular<br>Tópico: Preparação para acesso ao Ensino Superior<br>Pergunta: O que é um Cursinho Popular?",
          "Programa: Cursinho Popular<br>Tópico: Preparação para acesso ao Ensino Superior<br>Pergunta: Quem tem direito a fazer Cursinho Popular?",
          "Programa: Cursinho Popular<br>Tópico: Preparação para acesso ao Ensino Superior<br>Pergunta: Por que o Cursinho Popular é importante?",
          "Programa: Cursinho Popular<br>Tópico: Preparação para acesso ao Ensino Superior<br>Pergunta: Quando é possível se inscrever no Cursinho Popular?",
          "Programa: Cursinho Popular<br>Tópico: Preparação para acesso ao Ensino Superior<br>Pergunta: Como se inscrever para o Cursinho Popular?"
         ],
         "type": "scatter3d",
         "x": {
          "_inputArray": {
           "0": 8.807032585144043,
           "1": 15.344398498535156,
           "2": 17.055862426757812,
           "3": 19.29580307006836,
           "4": 9.669401168823242,
           "5": 11.208535194396973,
           "6": 4.138587474822998,
           "7": 17.840560913085938,
           "8": 13.530768394470215,
           "bdata": "m+kMQaiCdUFocohBzl2aQd61GkEpVjNBT2+EQHi5jkEHflhB",
           "dtype": "f4",
           "shape": "9"
          },
          "bdata": "m+kMQaiCdUFocohBzl2aQd61GkEpVjNBT2+EQHi5jkEHflhB",
          "dtype": "f4"
         },
         "y": {
          "_inputArray": {
           "0": -31.180509567260742,
           "1": -31.844038009643555,
           "2": -29.19704246520996,
           "3": -23.07735252380371,
           "4": -24.252561569213867,
           "5": -23.192527770996094,
           "6": -22.91832160949707,
           "7": -19.60051155090332,
           "8": -18.082731246948242,
           "bdata": "r3H5wZfA/sGLk+nBa564wT8FwsFMirnBuVi3wdnNnMFvqZDB",
           "dtype": "f4",
           "shape": "9"
          },
          "bdata": "r3H5wZfA/sGLk+nBa564wT8FwsFMirnBuVi3wdnNnMFvqZDB",
          "dtype": "f4"
         },
         "z": {
          "_inputArray": {
           "0": 22.01624298095703,
           "1": 26.490184783935547,
           "2": 34.133140563964844,
           "3": 26.062191009521484,
           "4": 27.06715965270996,
           "5": 37.0882568359375,
           "6": 31.556379318237305,
           "7": 34.777950286865234,
           "8": 30.77618980407715,
           "bdata": "RCGwQebr00FWiAhCXn/QQYuJ2EFgWhRCd3P8QZ8cC0KjNfZB",
           "dtype": "f4",
           "shape": "9"
          },
          "bdata": "RCGwQebr00FWiAhCXn/QQYuJ2EFgWhRCd3P8QZ8cC0KjNfZB",
          "dtype": "f4"
         }
        },
        {
         "hovertemplate": "%{text}<extra></extra>",
         "marker": {
          "color": "rgb(217,217,217)",
          "opacity": 0.7,
          "size": 6
         },
         "mode": "markers",
         "name": "SISU",
         "text": [
          "Programa: SISU<br>Tópico: Acesso ao Ensino Superior<br>Pergunta: O que é o SISU?",
          "Programa: SISU<br>Tópico: Acesso ao Ensino Superior<br>Pergunta: Quem pode se inscrever no SISU?",
          "Programa: SISU<br>Tópico: Acesso ao Ensino Superior<br>Pergunta: Posso escolher qual semestre irei cursar?",
          "Programa: SISU<br>Tópico: Acesso ao Ensino Superior<br>Pergunta: O candidato que participou do Sisu em edições anteriores e foi selecionado pode concorrer nesta edição?",
          "Programa: SISU<br>Tópico: Acesso ao Ensino Superior<br>Pergunta: O candidato matriculado em instituição de educação superior pode concorrer no processo seletivo desta edição do Sisu?",
          "Programa: SISU<br>Tópico: Acesso ao Ensino Superior<br>Pergunta: É cobrada alguma taxa para a realização da inscrição?",
          "Programa: SISU<br>Tópico: Acesso ao Ensino Superior<br>Pergunta: Quais os documentos necessários para fazer a inscrição no Sisu?"
         ],
         "type": "scatter3d",
         "x": {
          "_inputArray": {
           "0": 27.40135955810547,
           "1": 31.167089462280273,
           "2": 23.84514617919922,
           "3": 23.313457489013672,
           "4": 29.63121795654297,
           "5": 35.48970413208008,
           "6": 34.013362884521484,
           "bdata": "/DXbQTNW+UHcwr5B9oG6QbwM7UF19Q1Crw0IQg==",
           "dtype": "f4",
           "shape": "7"
          },
          "bdata": "/DXbQTNW+UHcwr5B9oG6QbwM7UF19Q1Crw0IQg==",
          "dtype": "f4"
         },
         "y": {
          "_inputArray": {
           "0": 18.86330795288086,
           "1": 16.913667678833008,
           "2": 10.686226844787598,
           "3": 19.888458251953125,
           "4": 19.432186126708984,
           "5": 22.050037384033203,
           "6": 24.631671905517578,
           "bdata": "DuiWQTFPh0HJ+ipBkBufQR51m0F6ZrBBqg3FQQ==",
           "dtype": "f4",
           "shape": "7"
          },
          "bdata": "DuiWQTFPh0HJ+ipBkBufQR51m0F6ZrBBqg3FQQ==",
          "dtype": "f4"
         },
         "z": {
          "_inputArray": {
           "0": 0.7362014651298523,
           "1": 11.34997844696045,
           "2": 8.393837928771973,
           "3": 20.404537200927734,
           "4": 20.0440673828125,
           "5": 5.336952209472656,
           "6": 14.114618301391602,
           "bdata": "s3c8P4OZNUEpTQZBfjyjQUBaoEFQyKpAetVhQQ==",
           "dtype": "f4",
           "shape": "7"
          },
          "bdata": "s3c8P4OZNUEpTQZBfjyjQUBaoEFQyKpAetVhQQ==",
          "dtype": "f4"
         }
        },
        {
         "hovertemplate": "%{text}<extra></extra>",
         "marker": {
          "color": "rgb(188,128,189)",
          "opacity": 0.7,
          "size": 6
         },
         "mode": "markers",
         "name": "Programa Progredir",
         "text": [
          "Programa: Programa Progredir<br>Tópico: Acesso a emprego<br>Pergunta: O que é o Programa Progredir?",
          "Programa: Programa Progredir<br>Tópico: Acesso a emprego<br>Pergunta: Quem pode participar do Programa Progredir?"
         ],
         "type": "scatter3d",
         "x": {
          "_inputArray": {
           "0": -18.754667282104492,
           "1": -15.845254898071289,
           "bdata": "jwmWwSqGfcE=",
           "dtype": "f4",
           "shape": "2"
          },
          "bdata": "jwmWwSqGfcE=",
          "dtype": "f4"
         },
         "y": {
          "_inputArray": {
           "0": -21.18950843811035,
           "1": -16.990175247192383,
           "bdata": "HYSpweHrh8E=",
           "dtype": "f4",
           "shape": "2"
          },
          "bdata": "HYSpweHrh8E=",
          "dtype": "f4"
         },
         "z": {
          "_inputArray": {
           "0": 9.889930725097656,
           "1": 11.766897201538086,
           "bdata": "KD0eQTZFPEE=",
           "dtype": "f4",
           "shape": "2"
          },
          "bdata": "KD0eQTZFPEE=",
          "dtype": "f4"
         }
        },
        {
         "hovertemplate": "%{text}<extra></extra>",
         "marker": {
          "color": "rgb(204,235,197)",
          "opacity": 0.7,
          "size": 6
         },
         "mode": "markers",
         "name": "CadEJA",
         "text": [
          "Programa: CadEJA<br>Tópico: Preparação para acesso ao Ensino Superior<br>Pergunta: O que é o CadEJA?",
          "Programa: CadEJA<br>Tópico: Preparação para acesso ao Ensino Superior<br>Pergunta: Quem tem direito a acessar o CADEJA?",
          "Programa: CadEJA<br>Tópico: Preparação para acesso ao Ensino Superior<br>Pergunta: Por que o CADEJA é importante?",
          "Programa: CadEJA<br>Tópico: Preparação para acesso ao Ensino Superior<br>Pergunta: Quando é possível se inscrever no CADEJA?",
          "Programa: CadEJA<br>Tópico: Preparação para acesso ao Ensino Superior<br>Pergunta: Como se inscrever no CadEJA?"
         ],
         "type": "scatter3d",
         "x": {
          "_inputArray": {
           "0": 0.1722295582294464,
           "1": -10.55282211303711,
           "2": -3.302370071411133,
           "3": -7.137532711029053,
           "4": -2.5026450157165527,
           "bdata": "8lwwPlzYKMEIWlPAq2bkwFYrIMA=",
           "dtype": "f4",
           "shape": "5"
          },
          "bdata": "8lwwPlzYKMEIWlPAq2bkwFYrIMA=",
          "dtype": "f4"
         },
         "y": {
          "_inputArray": {
           "0": -27.435619354248047,
           "1": -32.66196823120117,
           "2": -32.5894889831543,
           "3": -31.260997772216797,
           "4": -27.786638259887695,
           "bdata": "JnzbwdulAsKjWwLChhb6wQlL3sE=",
           "dtype": "f4",
           "shape": "5"
          },
          "bdata": "JnzbwdulAsKjWwLChhb6wQlL3sE=",
          "dtype": "f4"
         },
         "z": {
          "_inputArray": {
           "0": 5.197645664215088,
           "1": 3.568737745285034,
           "2": 1.1213874816894531,
           "3": 9.473614692687988,
           "4": 11.361494064331055,
           "bdata": "HVOmQDNmZECgiY8/7ZMXQa7INUE=",
           "dtype": "f4",
           "shape": "5"
          },
          "bdata": "HVOmQDNmZECgiY8/7ZMXQa7INUE=",
          "dtype": "f4"
         }
        },
        {
         "hovertemplate": "%{text}<extra></extra>",
         "marker": {
          "color": "rgb(255,237,111)",
          "opacity": 0.7,
          "size": 6
         },
         "mode": "markers",
         "name": "ProCampo",
         "text": [
          "Programa: ProCampo<br>Tópico: Formação de professores<br>Pergunta: O que é o ProCampo?",
          "Programa: ProCampo<br>Tópico: Formação de professores<br>Pergunta: Quem tem direito a fazer ProCampo?",
          "Programa: ProCampo<br>Tópico: Formação de professores<br>Pergunta: Por que o ProCampo é importante?",
          "Programa: ProCampo<br>Tópico: Formação de professores<br>Pergunta: Quando é possível se inscrever no ProCampo?",
          "Programa: ProCampo<br>Tópico: Formação de professores<br>Pergunta: Como se inscrever para o ProCampo?"
         ],
         "type": "scatter3d",
         "x": {
          "_inputArray": {
           "0": -18.55086326599121,
           "1": -19.259275436401367,
           "2": -18.41197967529297,
           "3": -12.48707389831543,
           "4": -11.818804740905762,
           "bdata": "K2iUwf8SmsG8S5PBDstHwdMZPcE=",
           "dtype": "f4",
           "shape": "5"
          },
          "bdata": "K2iUwf8SmsG8S5PBDstHwdMZPcE=",
          "dtype": "f4"
         },
         "y": {
          "_inputArray": {
           "0": -27.93718910217285,
           "1": -21.52726173400879,
           "2": -30.984416961669922,
           "3": -23.189781188964844,
           "4": -24.80906105041504,
           "bdata": "XX/fwdU3rMEW4PfBrIS5wfV4xsE=",
           "dtype": "f4",
           "shape": "5"
          },
          "bdata": "XX/fwdU3rMEW4PfBrIS5wfV4xsE=",
          "dtype": "f4"
         },
         "z": {
          "_inputArray": {
           "0": 20.591482162475586,
           "1": 25.45475959777832,
           "2": 25.666610717773438,
           "3": 28.321470260620117,
           "4": 22.836851119995117,
           "bdata": "W7ukQVmjy0E4Vc1BX5LiQd+xtkE=",
           "dtype": "f4",
           "shape": "5"
          },
          "bdata": "W7ukQVmjy0E4Vc1BX5LiQd+xtkE=",
          "dtype": "f4"
         }
        },
        {
         "hovertemplate": "%{text}<extra></extra>",
         "marker": {
          "color": "rgb(141,211,199)",
          "opacity": 0.7,
          "size": 6
         },
         "mode": "markers",
         "name": "Cadastro Único (CadÚnico)",
         "text": [
          "Programa: Cadastro Único (CadÚnico)<br>Tópico: Educação Básica<br>Pergunta: O que é o Cadastro Único (CadÚnico)?",
          "Programa: Cadastro Único (CadÚnico)<br>Tópico: Educação Básica<br>Pergunta: Por que o Cadastro Único é importante para um estudante?",
          "Programa: Cadastro Único (CadÚnico)<br>Tópico: Educação Básica<br>Pergunta: Como minha família se inscreve no Cadastro Único?"
         ],
         "type": "scatter3d",
         "x": {
          "_inputArray": {
           "0": -37.52646255493164,
           "1": -33.58880615234375,
           "2": -32.31106185913086,
           "bdata": "GRsWwvBaBsKHPgHC",
           "dtype": "f4",
           "shape": "3"
          },
          "bdata": "GRsWwvBaBsKHPgHC",
          "dtype": "f4"
         },
         "y": {
          "_inputArray": {
           "0": -5.748282432556152,
           "1": -9.595121383666992,
           "2": -5.380937576293945,
           "bdata": "7vG3wJ6FGcGkMKzA",
           "dtype": "f4",
           "shape": "3"
          },
          "bdata": "7vG3wJ6FGcGkMKzA",
          "dtype": "f4"
         },
         "z": {
          "_inputArray": {
           "0": 18.129884719848633,
           "1": 20.77106285095215,
           "2": 14.078082084655762,
           "bdata": "AQqRQSMrpkHTP2FB",
           "dtype": "f4",
           "shape": "3"
          },
          "bdata": "AQqRQSMrpkHTP2FB",
          "dtype": "f4"
         }
        },
        {
         "hovertemplate": "%{text}<extra></extra>",
         "marker": {
          "color": "rgb(255,255,179)",
          "opacity": 0.7,
          "size": 6
         },
         "mode": "markers",
         "name": "CPOP (Rede Nacional de Cursinhos Populares)",
         "text": [
          "Programa: CPOP (Rede Nacional de Cursinhos Populares)<br>Tópico: Acesso ao Ensino Superior<br>Pergunta: O que é um cursinho popular?",
          "Programa: CPOP (Rede Nacional de Cursinhos Populares)<br>Tópico: Acesso ao Ensino Superior<br>Pergunta: O que é a Rede Nacional de Cursinhos Populares (CPOP)?",
          "Programa: CPOP (Rede Nacional de Cursinhos Populares)<br>Tópico: Acesso ao Ensino Superior<br>Pergunta: Como um cursinho entra para a CPOP?",
          "Programa: CPOP (Rede Nacional de Cursinhos Populares)<br>Tópico: Acesso ao Ensino Superior<br>Pergunta: Como sei os cursinhos populares que fazem parte da CPOP?",
          "Programa: CPOP (Rede Nacional de Cursinhos Populares)<br>Tópico: Acesso ao Ensino Superior<br>Pergunta: Sou aluno e quero participar de um cursinho da CPOP?",
          "Programa: CPOP (Rede Nacional de Cursinhos Populares)<br>Tópico: Acesso ao Ensino Superior<br>Pergunta: Os alunos de cursinhos da CPOP recebem algum apoio?"
         ],
         "type": "scatter3d",
         "x": {
          "_inputArray": {
           "0": 7.56557035446167,
           "1": 3.3249099254608154,
           "2": 7.746849536895752,
           "3": 9.903751373291016,
           "4": 11.461610794067383,
           "5": 15.930024147033691,
           "bdata": "JxnyQFPLVEAx5vdAxHUeQcJiN0Fh4X5B",
           "dtype": "f4",
           "shape": "6"
          },
          "bdata": "JxnyQFPLVEAx5vdAxHUeQcJiN0Fh4X5B",
          "dtype": "f4"
         },
         "y": {
          "_inputArray": {
           "0": -31.006874084472656,
           "1": -36.39286804199219,
           "2": -38.944847106933594,
           "3": -39.045833587646484,
           "4": -34.104007720947266,
           "5": -38.56853485107422,
           "bdata": "FA74wUySEcKGxxvC7y4cwoFqCMIuRhrC",
           "dtype": "f4",
           "shape": "6"
          },
          "bdata": "FA74wUySEcKGxxvC7y4cwoFqCMIuRhrC",
          "dtype": "f4"
         },
         "z": {
          "_inputArray": {
           "0": 29.983137130737305,
           "1": 26.773225784301758,
           "2": 33.1020622253418,
           "3": 25.347135543823242,
           "4": 36.551673889160156,
           "5": 30.679922103881836,
           "bdata": "d93vQZEv1kGDaARC78bKQeo0EkJ7cPVB",
           "dtype": "f4",
           "shape": "6"
          },
          "bdata": "d93vQZEv1kGDaARC78bKQeo0EkJ7cPVB",
          "dtype": "f4"
         }
        },
        {
         "hovertemplate": "%{text}<extra></extra>",
         "marker": {
          "color": "rgb(190,186,218)",
          "opacity": 0.7,
          "size": 6
         },
         "mode": "markers",
         "name": "ENEM (Exame Nacional do Ensino Médio)",
         "text": [
          "Programa: ENEM (Exame Nacional do Ensino Médio)<br>Tópico: Acesso ao Ensino Superior<br>Pergunta: O que é o ENEM?",
          "Programa: ENEM (Exame Nacional do Ensino Médio)<br>Tópico: Acesso ao Ensino Superior<br>Pergunta: Para que serve a nota do ENEM?",
          "Programa: ENEM (Exame Nacional do Ensino Médio)<br>Tópico: Acesso ao Ensino Superior<br>Pergunta: Quem pode fazer a prova do ENEM?",
          "Programa: ENEM (Exame Nacional do Ensino Médio)<br>Tópico: Acesso ao Ensino Superior<br>Pergunta: Como faço para me inscrever no ENEM?",
          "Programa: ENEM (Exame Nacional do Ensino Médio)<br>Tópico: Acesso ao Ensino Superior<br>Pergunta: Preciso pagar para fazer o ENEM?",
          "Programa: ENEM (Exame Nacional do Ensino Médio)<br>Tópico: Acesso ao Ensino Superior<br>Pergunta: Existe isenção da taxa de inscrição do ENEM?",
          "Programa: ENEM (Exame Nacional do Ensino Médio)<br>Tópico: Acesso ao Ensino Superior<br>Pergunta: Se eu conseguir a isenção da taxa, minha inscrição no ENEM está garantida?",
          "Programa: ENEM (Exame Nacional do Ensino Médio)<br>Tópico: Acesso ao Ensino Superior<br>Pergunta: Sou aluno de escola pública, minha inscrição no ENEM é automática?",
          "Programa: ENEM (Exame Nacional do Ensino Médio)<br>Tópico: Acesso ao Ensino Superior<br>Pergunta: Como são as provas do ENEM?",
          "Programa: ENEM (Exame Nacional do Ensino Médio)<br>Tópico: Acesso ao Ensino Superior<br>Pergunta: Posso usar minha nota do ENEM para estudar fora do Brasil?",
          "Programa: ENEM (Exame Nacional do Ensino Médio)<br>Tópico: Acesso ao Ensino Superior<br>Pergunta: Não consegui fazer a prova em um dos dias. Posso refazer?",
          "Programa: ENEM (Exame Nacional do Ensino Médio)<br>Tópico: Acesso ao Ensino Superior<br>Pergunta: O ENEM tem prazo de validade?",
          "Programa: ENEM (Exame Nacional do Ensino Médio)<br>Tópico: Acesso ao Ensino Superior<br>Pergunta: O que é o programa \"Pé-de-Meia\" e qual a relação com o ENEM?"
         ],
         "type": "scatter3d",
         "x": {
          "_inputArray": {
           "0": -1.0144221782684326,
           "1": 2.111524820327759,
           "10": 13.741677284240723,
           "11": 3.650099992752075,
           "12": -7.50341272354126,
           "2": 10.721365928649902,
           "3": 5.080939769744873,
           "4": 2.975057363510132,
           "5": 8.005796432495117,
           "6": 10.128281593322754,
           "7": 9.800532341003418,
           "8": -1.803252100944519,
           "9": 8.875657081604004,
           "bdata": "ltiBvzkjB0C3iitBD5eiQFdnPkC+FwBBcQ0iQfvOHEH30Oa/sQIOQendW0E9m2lA9RvwwA==",
           "dtype": "f4",
           "shape": "13"
          },
          "bdata": "ltiBvzkjB0C3iitBD5eiQFdnPkC+FwBBcQ0iQfvOHEH30Oa/sQIOQendW0E9m2lA9RvwwA==",
          "dtype": "f4"
         },
         "y": {
          "_inputArray": {
           "0": 6.127919673919678,
           "1": 0.25376102328300476,
           "10": 10.67483901977539,
           "11": 10.458075523376465,
           "12": 8.695345878601074,
           "2": 8.837041854858398,
           "3": 8.287393569946289,
           "4": 14.647103309631348,
           "5": 20.05579376220703,
           "6": 20.9669189453125,
           "7": 14.157442092895508,
           "8": 1.8641613721847534,
           "9": 2.9787094593048096,
           "bdata": "6xfEQPfsgT6GZA1BKpkEQYlaakFEcqBBQLynQeKEYkHXnO4/LaM+QCTMKkFHVCdBIyALQQ==",
           "dtype": "f4",
           "shape": "13"
          },
          "bdata": "6xfEQPfsgT6GZA1BKpkEQYlaakFEcqBBQLynQeKEYkHXnO4/LaM+QCTMKkFHVCdBIyALQQ==",
          "dtype": "f4"
         },
         "z": {
          "_inputArray": {
           "0": 32.392005920410156,
           "1": 36.14013671875,
           "10": 37.84092330932617,
           "11": 37.727577209472656,
           "12": 30.660058975219727,
           "2": 31.10125160217285,
           "3": 26.254287719726562,
           "4": 29.387332916259766,
           "5": 32.11412048339844,
           "6": 26.8813533782959,
           "7": 23.55757713317871,
           "8": 27.8009033203125,
           "9": 38.444801330566406,
           "bdata": "apEBQoCPEEJdz/hByAjSQUIZ60HcdABCAw3XQet1vEFAaN5BescZQhtdF0IK6RZCzUf1QQ==",
           "dtype": "f4",
           "shape": "13"
          },
          "bdata": "apEBQoCPEEJdz/hByAjSQUIZ60HcdABCAw3XQet1vEFAaN5BescZQhtdF0IK6RZCzUf1QQ==",
          "dtype": "f4"
         }
        },
        {
         "hovertemplate": "%{text}<extra></extra>",
         "marker": {
          "color": "rgb(251,128,114)",
          "opacity": 0.7,
          "size": 6
         },
         "mode": "markers",
         "name": "SISU (Sistema de Seleção Unificada)",
         "text": [
          "Programa: SISU (Sistema de Seleção Unificada)<br>Tópico: Acesso ao Ensino Superior<br>Pergunta: O que é o SISU?",
          "Programa: SISU (Sistema de Seleção Unificada)<br>Tópico: Acesso ao Ensino Superior<br>Pergunta: Quem pode se inscrever no SISU?",
          "Programa: SISU (Sistema de Seleção Unificada)<br>Tópico: Acesso ao Ensino Superior<br>Pergunta: Como funciona a inscrição no SISU?",
          "Programa: SISU (Sistema de Seleção Unificada)<br>Tópico: Acesso ao Ensino Superior<br>Pergunta: O que é a \"nota de corte\" do SISU?",
          "Programa: SISU (Sistema de Seleção Unificada)<br>Tópico: Acesso ao Ensino Superior<br>Pergunta: E se eu não for aprovado na chamada regular do SISU?"
         ],
         "type": "scatter3d",
         "x": {
          "_inputArray": {
           "0": 22.53063201904297,
           "1": 25.312774658203125,
           "2": 28.086957931518555,
           "3": 23.5001220703125,
           "4": 21.254074096679688,
           "bdata": "vD60QZCAykEXsuBBQAC8QVgIqkE=",
           "dtype": "f4",
           "shape": "5"
          },
          "bdata": "vD60QZCAykEXsuBBQAC8QVgIqkE=",
          "dtype": "f4"
         },
         "y": {
          "_inputArray": {
           "0": 21.28812026977539,
           "1": 18.878963470458984,
           "2": 24.042097091674805,
           "3": 28.658748626708984,
           "4": 25.75120735168457,
           "bdata": "Ek6qQR4Il0E3VsBBHkXlQXkCzkE=",
           "dtype": "f4",
           "shape": "5"
          },
          "bdata": "Ek6qQR4Il0E3VsBBHkXlQXkCzkE=",
          "dtype": "f4"
         },
         "z": {
          "_inputArray": {
           "0": 4.980081081390381,
           "1": 12.427045822143555,
           "2": 8.445317268371582,
           "3": 3.874516487121582,
           "4": 12.352555274963379,
           "bdata": "01yfQC7VRkEFIAdBFPh3QBGkRUE=",
           "dtype": "f4",
           "shape": "5"
          },
          "bdata": "01yfQC7VRkEFIAdBFPh3QBGkRUE=",
          "dtype": "f4"
         }
        },
        {
         "hovertemplate": "%{text}<extra></extra>",
         "marker": {
          "color": "rgb(128,177,211)",
          "opacity": 0.7,
          "size": 6
         },
         "mode": "markers",
         "name": "Lei de Cotas",
         "text": [
          "Programa: Lei de Cotas<br>Tópico: Acesso ao Ensino Superior<br>Pergunta: O que é o sistema de cotas?",
          "Programa: Lei de Cotas<br>Tópico: Acesso ao Ensino Superior<br>Pergunta: Como saber se tenho direito às cotas?",
          "Programa: Lei de Cotas<br>Tópico: Acesso ao Ensino Superior<br>Pergunta: Onde indico que quero concorrer pelas cotas?"
         ],
         "type": "scatter3d",
         "x": {
          "_inputArray": {
           "0": -22.056140899658203,
           "1": -19.47920799255371,
           "2": -18.894315719604492,
           "bdata": "+nKwwWvVm8GPJ5fB",
           "dtype": "f4",
           "shape": "3"
          },
          "bdata": "+nKwwWvVm8GPJ5fB",
          "dtype": "f4"
         },
         "y": {
          "_inputArray": {
           "0": 0.34526029229164124,
           "1": -2.3280413150787354,
           "2": -5.413249492645264,
           "bdata": "9cWwPqH+FMBXOa3A",
           "dtype": "f4",
           "shape": "3"
          },
          "bdata": "9cWwPqH+FMBXOa3A",
          "dtype": "f4"
         },
         "z": {
          "_inputArray": {
           "0": 32.12406539916992,
           "1": 27.21763038635254,
           "2": 32.62653732299805,
           "bdata": "C38AQrW92UGTgQJC",
           "dtype": "f4",
           "shape": "3"
          },
          "bdata": "C38AQrW92UGTgQJC",
          "dtype": "f4"
         }
        },
        {
         "hovertemplate": "%{text}<extra></extra>",
         "marker": {
          "color": "rgb(253,180,98)",
          "opacity": 0.7,
          "size": 6
         },
         "mode": "markers",
         "name": "ProUni (Programa Universidade para Todos)",
         "text": [
          "Programa: ProUni (Programa Universidade para Todos)<br>Tópico: Acesso ao Ensino Superior<br>Pergunta: O que é o ProUni?",
          "Programa: ProUni (Programa Universidade para Todos)<br>Tópico: Acesso ao Ensino Superior<br>Pergunta: Quem pode se inscrever no ProUni?",
          "Programa: ProUni (Programa Universidade para Todos)<br>Tópico: Acesso ao Ensino Superior<br>Pergunta: Qual o critério de renda para o ProUni?",
          "Programa: ProUni (Programa Universidade para Todos)<br>Tópico: Acesso ao Ensino Superior<br>Pergunta: Fui pré-selecionado no ProUni, isso garante minha bolsa?",
          "Programa: ProUni (Programa Universidade para Todos)<br>Tópico: Acesso ao Ensino Superior<br>Pergunta: Consegui uma bolsa de 50% do ProUni, mas não posso pagar o resto. O que faço?",
          "Programa: ProUni (Programa Universidade para Todos)<br>Tópico: Acesso ao Ensino Superior<br>Pergunta: Posso escolher qualquer curso no ProUni?",
          "Programa: ProUni (Programa Universidade para Todos)<br>Tópico: Acesso ao Ensino Superior<br>Pergunta: Posso me inscrever no ProUni e no Fies ao mesmo tempo?",
          "Programa: ProUni (Programa Universidade para Todos)<br>Tópico: Acesso ao Ensino Superior<br>Pergunta: E se eu perder o prazo de comprovação de documentos?",
          "Programa: ProUni (Programa Universidade para Todos)<br>Tópico: Acesso ao Ensino Superior<br>Pergunta: Quem já tem diploma pode participar do ProUni?"
         ],
         "type": "scatter3d",
         "x": {
          "_inputArray": {
           "0": 34.07683181762695,
           "1": 30.570228576660156,
           "2": 33.444889068603516,
           "3": 26.95021629333496,
           "4": 33.544891357421875,
           "5": 26.984943389892578,
           "6": 37.20233917236328,
           "7": 32.558345794677734,
           "8": 24.606082916259766,
           "bdata": "rU4IQtSP9EGRxwVCC5rXQfgtBkIq4ddBMs8UQr87AkJC2cRB",
           "dtype": "f4",
           "shape": "9"
          },
          "bdata": "rU4IQtSP9EGRxwVCC5rXQfgtBkIq4ddBMs8UQr87AkJC2cRB",
          "dtype": "f4"
         },
         "y": {
          "_inputArray": {
           "0": 1.83962881565094,
           "1": 8.202115058898926,
           "2": 5.089899063110352,
           "3": -1.673410415649414,
           "4": -4.663706302642822,
           "5": 4.661860942840576,
           "6": 7.081965923309326,
           "7": -4.681361198425293,
           "8": 7.551939487457275,
           "bdata": "9XjrP907A0F04KJAUDLWvxU9lcD3LZVAd5/iQLbNlcB9qfFA",
           "dtype": "f4",
           "shape": "9"
          },
          "bdata": "9XjrP907A0F04KJAUDLWvxU9lcD3LZVAd5/iQLbNlcB9qfFA",
          "dtype": "f4"
         },
         "z": {
          "_inputArray": {
           "0": 21.293479919433594,
           "1": 20.843177795410156,
           "2": 28.21653938293457,
           "3": 22.94347381591797,
           "4": 25.615568161010742,
           "5": 14.420016288757324,
           "6": 14.020624160766602,
           "7": 16.293577194213867,
           "8": 22.90172004699707,
           "bdata": "DFmqQdS+pkF5u+FBPIy3Qa/szEFjuGZBelRgQT9ZgkG5NrdB",
           "dtype": "f4",
           "shape": "9"
          },
          "bdata": "DFmqQdS+pkF5u+FBPIy3Qa/szEFjuGZBelRgQT9ZgkG5NrdB",
          "dtype": "f4"
         }
        },
        {
         "hovertemplate": "%{text}<extra></extra>",
         "marker": {
          "color": "rgb(179,222,105)",
          "opacity": 0.7,
          "size": 6
         },
         "mode": "markers",
         "name": "FIES (Fundo de Financiamento Estudantil)",
         "text": [
          "Programa: FIES (Fundo de Financiamento Estudantil)<br>Tópico: Acesso ao Ensino Superior<br>Pergunta: O que é o FIES?",
          "Programa: FIES (Fundo de Financiamento Estudantil)<br>Tópico: Acesso ao Ensino Superior<br>Pergunta: Qual a diferença entre FIES e ProUni?",
          "Programa: FIES (Fundo de Financiamento Estudantil)<br>Tópico: Acesso ao Ensino Superior<br>Pergunta: Quais os requisitos para pedir o FIES?",
          "Programa: FIES (Fundo de Financiamento Estudantil)<br>Tópico: Acesso ao Ensino Superior<br>Pergunta: Como funciona o processo para conseguir o FIES?",
          "Programa: FIES (Fundo de Financiamento Estudantil)<br>Tópico: Acesso ao Ensino Superior<br>Pergunta: Posso me inscrever no Fies e no Prouni ao mesmo tempo?",
          "Programa: FIES (Fundo de Financiamento Estudantil)<br>Tópico: Acesso ao Ensino Superior<br>Pergunta: Posso financiar qualquer curso no Fies?",
          "Programa: FIES (Fundo de Financiamento Estudantil)<br>Tópico: Acesso ao Ensino Superior<br>Pergunta: Preciso ter fiador para o Fies?",
          "Programa: FIES (Fundo de Financiamento Estudantil)<br>Tópico: Acesso ao Ensino Superior<br>Pergunta: Como funcionam os pagamentos durante o curso?",
          "Programa: FIES (Fundo de Financiamento Estudantil)<br>Tópico: Acesso ao Ensino Superior<br>Pergunta: E se eu perder o prazo de comprovação de documentos?",
          "Programa: FIES (Fundo de Financiamento Estudantil)<br>Tópico: Acesso ao Ensino Superior<br>Pergunta: Posso adiantar parcelas do Fies?",
          "Programa: FIES (Fundo de Financiamento Estudantil)<br>Tópico: Acesso ao Ensino Superior<br>Pergunta: E se eu desistir do curso?",
          "Programa: FIES (Fundo de Financiamento Estudantil)<br>Tópico: Acesso ao Ensino Superior<br>Pergunta: Tabela Comparativa: SISU, ProUni e FIES"
         ],
         "type": "scatter3d",
         "x": {
          "_inputArray": {
           "0": 38.28044509887695,
           "1": 39.9846076965332,
           "10": 38.14473342895508,
           "11": 33.99665069580078,
           "2": 45.39863967895508,
           "3": 40.28741455078125,
           "4": 41.84402084350586,
           "5": 48.50196075439453,
           "6": 46.35333251953125,
           "7": 34.05235290527344,
           "8": 35.566219329833984,
           "9": 45.1490364074707,
           "bdata": "LR8ZQj3wH0I1mDVCUCYhQkdgJ0ICAkJC0Gk5Qpw1CELPQw5CnZg0QjWUGEKS/AdC",
           "dtype": "f4",
           "shape": "12"
          },
          "bdata": "LR8ZQj3wH0I1mDVCUCYhQkdgJ0ICAkJC0Gk5Qpw1CELPQw5CnZg0QjWUGEKS/AdC",
          "dtype": "f4"
         },
         "y": {
          "_inputArray": {
           "0": 2.2176506519317627,
           "1": 8.954646110534668,
           "10": -9.732726097106934,
           "11": 6.196061611175537,
           "2": 0.7497819662094116,
           "3": -0.6192867159843445,
           "4": 4.8022661209106445,
           "5": 0.9831677675247192,
           "6": -6.28237247467041,
           "7": -3.744990110397339,
           "8": -5.725802898406982,
           "9": -4.694720268249512,
           "bdata": "/e0NQDtGD0G28T8/k4kevyqsmUDisHs/MgnJwOutb8DHObfAJjuWwD+5G8EjRsZA",
           "dtype": "f4",
           "shape": "12"
          },
          "bdata": "/e0NQDtGD0G28T8/k4kevyqsmUDisHs/MgnJwOutb8DHObfAJjuWwD+5G8EjRsZA",
          "dtype": "f4"
         },
         "z": {
          "_inputArray": {
           "0": -3.0981428623199463,
           "1": 3.3563144207000732,
           "10": 5.468359470367432,
           "11": 3.0359861850738525,
           "2": -1.6070754528045654,
           "3": 2.6865761280059814,
           "4": 11.368511199951172,
           "5": 6.075494289398193,
           "6": 0.9243173003196716,
           "7": 0.525941789150238,
           "8": 9.9819974899292,
           "9": 10.381390571594238,
           "bdata": "+UdGwNvNVkCmtM2/3fArQGzlNUFzasJAD6BsPx+kBj9Dth9BLRomQc38rkCZTUJA",
           "dtype": "f4",
           "shape": "12"
          },
          "bdata": "+UdGwNvNVkCmtM2/3fArQGzlNUFzasJAD6BsPx+kBj9Dth9BLRomQc38rkCZTUJA",
          "dtype": "f4"
         }
        },
        {
         "hovertemplate": "%{text}<extra></extra>",
         "marker": {
          "color": "rgb(252,205,229)",
          "opacity": 0.7,
          "size": 6
         },
         "mode": "markers",
         "name": "Institutos Federais",
         "text": [
          "Programa: Institutos Federais<br>Tópico: Formação técnica<br>Pergunta: Posso fazer um curso técnico depois do ensino médio?",
          "Programa: Institutos Federais<br>Tópico: Formação técnica<br>Pergunta: Onde encontro cursos técnicos gratuitos perto de mim?",
          "Programa: Institutos Federais<br>Tópico: Formação técnica<br>Pergunta: Posso fazer um curso técnico sem ter feito o Enem?",
          "Programa: Institutos Federais<br>Tópico: Formação técnica<br>Pergunta: Quanto tempo dura um curso técnico?",
          "Programa: Institutos Federais<br>Tópico: Formação técnica<br>Pergunta: Que áreas de cursos técnicos posso fazer?",
          "Programa: Institutos Federais<br>Tópico: Formação técnica<br>Pergunta: Existe bolsa ou ajuda de custo para quem faz curso técnico?"
         ],
         "type": "scatter3d",
         "x": {
          "_inputArray": {
           "0": 31.6723690032959,
           "1": 29.021020889282227,
           "2": 29.983060836791992,
           "3": 34.03894805908203,
           "4": 27.117219924926758,
           "5": 34.48781204223633,
           "bdata": "A2H9QQ0r6EFP3e9B4icIQhHw2EGF8wlC",
           "dtype": "f4",
           "shape": "6"
          },
          "bdata": "A2H9QQ0r6EFP3e9B4icIQhHw2EGF8wlC",
          "dtype": "f4"
         },
         "y": {
          "_inputArray": {
           "0": -23.969810485839844,
           "1": -26.5471248626709,
           "2": -18.745830535888672,
           "3": -29.445985794067383,
           "4": -25.816781997680664,
           "5": -22.63670539855957,
           "bdata": "LMK/wYNg1MF295XBYZHrwcWIzsH5F7XB",
           "dtype": "f4",
           "shape": "6"
          },
          "bdata": "LMK/wYNg1MF295XBYZHrwcWIzsH5F7XB",
          "dtype": "f4"
         },
         "z": {
          "_inputArray": {
           "0": -4.096156597137451,
           "1": 7.703586101531982,
           "2": -0.8752893209457397,
           "3": 0.7182573080062866,
           "4": 1.193434476852417,
           "5": 4.333618640899658,
           "bdata": "txODwMeD9kD2EmC/tt83P3bCmD8BrYpA",
           "dtype": "f4",
           "shape": "6"
          },
          "bdata": "txODwMeD9kD2EmC/tt83P3bCmD8BrYpA",
          "dtype": "f4"
         }
        }
       ],
       "layout": {
        "height": 768,
        "legend": {
         "x": 0.01,
         "xanchor": "left",
         "y": 0.99,
         "yanchor": "top"
        },
        "scene": {
         "aspectmode": "auto",
         "aspectratio": {
          "x": 1.0627534762584243,
          "y": 0.9363410364409069,
          "z": 1.0049244398336763
         },
         "camera": {
          "center": {
           "x": 0,
           "y": 0,
           "z": 0
          },
          "eye": {
           "x": 0.3768654875076864,
           "y": 1.4634377228088686,
           "z": 0.7303916578240508
          },
          "projection": {
           "type": "perspective"
          },
          "up": {
           "x": 0,
           "y": 0,
           "z": 1
          }
         },
         "xaxis": {
          "title": {
           "text": "Component 1"
          },
          "type": "linear"
         },
         "yaxis": {
          "title": {
           "text": "Component 2"
          },
          "type": "linear"
         },
         "zaxis": {
          "title": {
           "text": "Component 3"
          },
          "type": "linear"
         }
        },
        "template": {
         "data": {
          "bar": [
           {
            "error_x": {
             "color": "#2a3f5f"
            },
            "error_y": {
             "color": "#2a3f5f"
            },
            "marker": {
             "line": {
              "color": "#E5ECF6",
              "width": 0.5
             },
             "pattern": {
              "fillmode": "overlay",
              "size": 10,
              "solidity": 0.2
             }
            },
            "type": "bar"
           }
          ],
          "barpolar": [
           {
            "marker": {
             "line": {
              "color": "#E5ECF6",
              "width": 0.5
             },
             "pattern": {
              "fillmode": "overlay",
              "size": 10,
              "solidity": 0.2
             }
            },
            "type": "barpolar"
           }
          ],
          "carpet": [
           {
            "aaxis": {
             "endlinecolor": "#2a3f5f",
             "gridcolor": "white",
             "linecolor": "white",
             "minorgridcolor": "white",
             "startlinecolor": "#2a3f5f"
            },
            "baxis": {
             "endlinecolor": "#2a3f5f",
             "gridcolor": "white",
             "linecolor": "white",
             "minorgridcolor": "white",
             "startlinecolor": "#2a3f5f"
            },
            "type": "carpet"
           }
          ],
          "choropleth": [
           {
            "colorbar": {
             "outlinewidth": 0,
             "ticks": ""
            },
            "type": "choropleth"
           }
          ],
          "contour": [
           {
            "colorbar": {
             "outlinewidth": 0,
             "ticks": ""
            },
            "colorscale": [
             [
              0,
              "#0d0887"
             ],
             [
              0.1111111111111111,
              "#46039f"
             ],
             [
              0.2222222222222222,
              "#7201a8"
             ],
             [
              0.3333333333333333,
              "#9c179e"
             ],
             [
              0.4444444444444444,
              "#bd3786"
             ],
             [
              0.5555555555555556,
              "#d8576b"
             ],
             [
              0.6666666666666666,
              "#ed7953"
             ],
             [
              0.7777777777777778,
              "#fb9f3a"
             ],
             [
              0.8888888888888888,
              "#fdca26"
             ],
             [
              1,
              "#f0f921"
             ]
            ],
            "type": "contour"
           }
          ],
          "contourcarpet": [
           {
            "colorbar": {
             "outlinewidth": 0,
             "ticks": ""
            },
            "type": "contourcarpet"
           }
          ],
          "heatmap": [
           {
            "colorbar": {
             "outlinewidth": 0,
             "ticks": ""
            },
            "colorscale": [
             [
              0,
              "#0d0887"
             ],
             [
              0.1111111111111111,
              "#46039f"
             ],
             [
              0.2222222222222222,
              "#7201a8"
             ],
             [
              0.3333333333333333,
              "#9c179e"
             ],
             [
              0.4444444444444444,
              "#bd3786"
             ],
             [
              0.5555555555555556,
              "#d8576b"
             ],
             [
              0.6666666666666666,
              "#ed7953"
             ],
             [
              0.7777777777777778,
              "#fb9f3a"
             ],
             [
              0.8888888888888888,
              "#fdca26"
             ],
             [
              1,
              "#f0f921"
             ]
            ],
            "type": "heatmap"
           }
          ],
          "histogram": [
           {
            "marker": {
             "pattern": {
              "fillmode": "overlay",
              "size": 10,
              "solidity": 0.2
             }
            },
            "type": "histogram"
           }
          ],
          "histogram2d": [
           {
            "colorbar": {
             "outlinewidth": 0,
             "ticks": ""
            },
            "colorscale": [
             [
              0,
              "#0d0887"
             ],
             [
              0.1111111111111111,
              "#46039f"
             ],
             [
              0.2222222222222222,
              "#7201a8"
             ],
             [
              0.3333333333333333,
              "#9c179e"
             ],
             [
              0.4444444444444444,
              "#bd3786"
             ],
             [
              0.5555555555555556,
              "#d8576b"
             ],
             [
              0.6666666666666666,
              "#ed7953"
             ],
             [
              0.7777777777777778,
              "#fb9f3a"
             ],
             [
              0.8888888888888888,
              "#fdca26"
             ],
             [
              1,
              "#f0f921"
             ]
            ],
            "type": "histogram2d"
           }
          ],
          "histogram2dcontour": [
           {
            "colorbar": {
             "outlinewidth": 0,
             "ticks": ""
            },
            "colorscale": [
             [
              0,
              "#0d0887"
             ],
             [
              0.1111111111111111,
              "#46039f"
             ],
             [
              0.2222222222222222,
              "#7201a8"
             ],
             [
              0.3333333333333333,
              "#9c179e"
             ],
             [
              0.4444444444444444,
              "#bd3786"
             ],
             [
              0.5555555555555556,
              "#d8576b"
             ],
             [
              0.6666666666666666,
              "#ed7953"
             ],
             [
              0.7777777777777778,
              "#fb9f3a"
             ],
             [
              0.8888888888888888,
              "#fdca26"
             ],
             [
              1,
              "#f0f921"
             ]
            ],
            "type": "histogram2dcontour"
           }
          ],
          "mesh3d": [
           {
            "colorbar": {
             "outlinewidth": 0,
             "ticks": ""
            },
            "type": "mesh3d"
           }
          ],
          "parcoords": [
           {
            "line": {
             "colorbar": {
              "outlinewidth": 0,
              "ticks": ""
             }
            },
            "type": "parcoords"
           }
          ],
          "pie": [
           {
            "automargin": true,
            "type": "pie"
           }
          ],
          "scatter": [
           {
            "fillpattern": {
             "fillmode": "overlay",
             "size": 10,
             "solidity": 0.2
            },
            "type": "scatter"
           }
          ],
          "scatter3d": [
           {
            "line": {
             "colorbar": {
              "outlinewidth": 0,
              "ticks": ""
             }
            },
            "marker": {
             "colorbar": {
              "outlinewidth": 0,
              "ticks": ""
             }
            },
            "type": "scatter3d"
           }
          ],
          "scattercarpet": [
           {
            "marker": {
             "colorbar": {
              "outlinewidth": 0,
              "ticks": ""
             }
            },
            "type": "scattercarpet"
           }
          ],
          "scattergeo": [
           {
            "marker": {
             "colorbar": {
              "outlinewidth": 0,
              "ticks": ""
             }
            },
            "type": "scattergeo"
           }
          ],
          "scattergl": [
           {
            "marker": {
             "colorbar": {
              "outlinewidth": 0,
              "ticks": ""
             }
            },
            "type": "scattergl"
           }
          ],
          "scattermap": [
           {
            "marker": {
             "colorbar": {
              "outlinewidth": 0,
              "ticks": ""
             }
            },
            "type": "scattermap"
           }
          ],
          "scattermapbox": [
           {
            "marker": {
             "colorbar": {
              "outlinewidth": 0,
              "ticks": ""
             }
            },
            "type": "scattermapbox"
           }
          ],
          "scatterpolar": [
           {
            "marker": {
             "colorbar": {
              "outlinewidth": 0,
              "ticks": ""
             }
            },
            "type": "scatterpolar"
           }
          ],
          "scatterpolargl": [
           {
            "marker": {
             "colorbar": {
              "outlinewidth": 0,
              "ticks": ""
             }
            },
            "type": "scatterpolargl"
           }
          ],
          "scatterternary": [
           {
            "marker": {
             "colorbar": {
              "outlinewidth": 0,
              "ticks": ""
             }
            },
            "type": "scatterternary"
           }
          ],
          "surface": [
           {
            "colorbar": {
             "outlinewidth": 0,
             "ticks": ""
            },
            "colorscale": [
             [
              0,
              "#0d0887"
             ],
             [
              0.1111111111111111,
              "#46039f"
             ],
             [
              0.2222222222222222,
              "#7201a8"
             ],
             [
              0.3333333333333333,
              "#9c179e"
             ],
             [
              0.4444444444444444,
              "#bd3786"
             ],
             [
              0.5555555555555556,
              "#d8576b"
             ],
             [
              0.6666666666666666,
              "#ed7953"
             ],
             [
              0.7777777777777778,
              "#fb9f3a"
             ],
             [
              0.8888888888888888,
              "#fdca26"
             ],
             [
              1,
              "#f0f921"
             ]
            ],
            "type": "surface"
           }
          ],
          "table": [
           {
            "cells": {
             "fill": {
              "color": "#EBF0F8"
             },
             "line": {
              "color": "white"
             }
            },
            "header": {
             "fill": {
              "color": "#C8D4E3"
             },
             "line": {
              "color": "white"
             }
            },
            "type": "table"
           }
          ]
         },
         "layout": {
          "annotationdefaults": {
           "arrowcolor": "#2a3f5f",
           "arrowhead": 0,
           "arrowwidth": 1
          },
          "autotypenumbers": "strict",
          "coloraxis": {
           "colorbar": {
            "outlinewidth": 0,
            "ticks": ""
           }
          },
          "colorscale": {
           "diverging": [
            [
             0,
             "#8e0152"
            ],
            [
             0.1,
             "#c51b7d"
            ],
            [
             0.2,
             "#de77ae"
            ],
            [
             0.3,
             "#f1b6da"
            ],
            [
             0.4,
             "#fde0ef"
            ],
            [
             0.5,
             "#f7f7f7"
            ],
            [
             0.6,
             "#e6f5d0"
            ],
            [
             0.7,
             "#b8e186"
            ],
            [
             0.8,
             "#7fbc41"
            ],
            [
             0.9,
             "#4d9221"
            ],
            [
             1,
             "#276419"
            ]
           ],
           "sequential": [
            [
             0,
             "#0d0887"
            ],
            [
             0.1111111111111111,
             "#46039f"
            ],
            [
             0.2222222222222222,
             "#7201a8"
            ],
            [
             0.3333333333333333,
             "#9c179e"
            ],
            [
             0.4444444444444444,
             "#bd3786"
            ],
            [
             0.5555555555555556,
             "#d8576b"
            ],
            [
             0.6666666666666666,
             "#ed7953"
            ],
            [
             0.7777777777777778,
             "#fb9f3a"
            ],
            [
             0.8888888888888888,
             "#fdca26"
            ],
            [
             1,
             "#f0f921"
            ]
           ],
           "sequentialminus": [
            [
             0,
             "#0d0887"
            ],
            [
             0.1111111111111111,
             "#46039f"
            ],
            [
             0.2222222222222222,
             "#7201a8"
            ],
            [
             0.3333333333333333,
             "#9c179e"
            ],
            [
             0.4444444444444444,
             "#bd3786"
            ],
            [
             0.5555555555555556,
             "#d8576b"
            ],
            [
             0.6666666666666666,
             "#ed7953"
            ],
            [
             0.7777777777777778,
             "#fb9f3a"
            ],
            [
             0.8888888888888888,
             "#fdca26"
            ],
            [
             1,
             "#f0f921"
            ]
           ]
          },
          "colorway": [
           "#636efa",
           "#EF553B",
           "#00cc96",
           "#ab63fa",
           "#FFA15A",
           "#19d3f3",
           "#FF6692",
           "#B6E880",
           "#FF97FF",
           "#FECB52"
          ],
          "font": {
           "color": "#2a3f5f"
          },
          "geo": {
           "bgcolor": "white",
           "lakecolor": "white",
           "landcolor": "#E5ECF6",
           "showlakes": true,
           "showland": true,
           "subunitcolor": "white"
          },
          "hoverlabel": {
           "align": "left"
          },
          "hovermode": "closest",
          "mapbox": {
           "style": "light"
          },
          "paper_bgcolor": "white",
          "plot_bgcolor": "#E5ECF6",
          "polar": {
           "angularaxis": {
            "gridcolor": "white",
            "linecolor": "white",
            "ticks": ""
           },
           "bgcolor": "#E5ECF6",
           "radialaxis": {
            "gridcolor": "white",
            "linecolor": "white",
            "ticks": ""
           }
          },
          "scene": {
           "xaxis": {
            "backgroundcolor": "#E5ECF6",
            "gridcolor": "white",
            "gridwidth": 2,
            "linecolor": "white",
            "showbackground": true,
            "ticks": "",
            "zerolinecolor": "white"
           },
           "yaxis": {
            "backgroundcolor": "#E5ECF6",
            "gridcolor": "white",
            "gridwidth": 2,
            "linecolor": "white",
            "showbackground": true,
            "ticks": "",
            "zerolinecolor": "white"
           },
           "zaxis": {
            "backgroundcolor": "#E5ECF6",
            "gridcolor": "white",
            "gridwidth": 2,
            "linecolor": "white",
            "showbackground": true,
            "ticks": "",
            "zerolinecolor": "white"
           }
          },
          "shapedefaults": {
           "line": {
            "color": "#2a3f5f"
           }
          },
          "ternary": {
           "aaxis": {
            "gridcolor": "white",
            "linecolor": "white",
            "ticks": ""
           },
           "baxis": {
            "gridcolor": "white",
            "linecolor": "white",
            "ticks": ""
           },
           "bgcolor": "#E5ECF6",
           "caxis": {
            "gridcolor": "white",
            "linecolor": "white",
            "ticks": ""
           }
          },
          "title": {
           "x": 0.05
          },
          "xaxis": {
           "automargin": true,
           "gridcolor": "white",
           "linecolor": "white",
           "ticks": "",
           "title": {
            "standoff": 15
           },
           "zerolinecolor": "white",
           "zerolinewidth": 2
          },
          "yaxis": {
           "automargin": true,
           "gridcolor": "white",
           "linecolor": "white",
           "ticks": "",
           "title": {
            "standoff": 15
           },
           "zerolinecolor": "white",
           "zerolinewidth": 2
          }
         }
        },
        "title": {
         "text": "3D t-SNE Visualization of Q&A Embeddings"
        },
        "width": 1024
       }
      }
     },
     "metadata": {},
     "output_type": "display_data"
    }
   ],
   "source": [
    "create_3d_plot(embeddings_3d_tsne, embeddings_df, \"3D t-SNE Visualization of Q&A Embeddings\")"
   ]
  },
  {
   "cell_type": "code",
   "execution_count": 17,
   "id": "d44cfc5b-bf53-4a47-8d1f-e8331e1fd4db",
   "metadata": {},
   "outputs": [
    {
     "data": {
      "application/vnd.plotly.v1+json": {
       "config": {
        "plotlyServerURL": "https://plot.ly"
       },
       "data": [
        {
         "hovertemplate": "%{text}<extra></extra>",
         "marker": {
          "color": "rgb(141,211,199)",
          "opacity": 0.7,
          "size": 6
         },
         "mode": "markers",
         "name": "Programa Pé-de-Meia",
         "text": [
          "Programa: Programa Pé-de-Meia<br>Tópico: Educação Básica<br>Pergunta: A escola precisa realizar alguma ação no Programa Pé-de-Meia?",
          "Programa: Programa Pé-de-Meia<br>Tópico: Educação Básica<br>Pergunta: A Rede poderá corrigir os dados enviados a cada mês?",
          "Programa: Programa Pé-de-Meia<br>Tópico: Educação Básica<br>Pergunta: Atendo às condicionalidades, mas não quero ser beneficiário. Como faço para não  receber o incentivo?",
          "Programa: Programa Pé-de-Meia<br>Tópico: Educação Básica<br>Pergunta: Calendário de pagamentos em 2025 para Ensino Médio EJA",
          "Programa: Programa Pé-de-Meia<br>Tópico: Educação Básica<br>Pergunta: Calendário de pagamentos em 2025 para Ensino Médio Regular",
          "Programa: Programa Pé-de-Meia<br>Tópico: Educação Básica<br>Pergunta: Caso o estudante seja transferido do ensino regular para a EJA, perde o benefício?",
          "Programa: Programa Pé-de-Meia<br>Tópico: Educação Básica<br>Pergunta: Caso um estudante perca um dos requisitos de elegibilidade antes do final do ano  letivo, deixará de receber os incentivos?",
          "Programa: Programa Pé-de-Meia<br>Tópico: Educação Básica<br>Pergunta: Com qual periodicidade é realizada a verificação das informações de elegibilidade?",
          "Programa: Programa Pé-de-Meia<br>Tópico: Educação Básica<br>Pergunta: Comecei no ensino médio em 2025, mas meus dados não estão no aplicativo Jornada do Estudante. O que fazer?",
          "Programa: Programa Pé-de-Meia<br>Tópico: Educação Básica<br>Pergunta: Como a frequência é calculada no Pé-de-Meia?",
          "Programa: Programa Pé-de-Meia<br>Tópico: Educação Básica<br>Pergunta: Como acessar o aplicativo CAIXA Tem?",
          "Programa: Programa Pé-de-Meia<br>Tópico: Educação Básica<br>Pergunta: Como acessar o SIMEC?",
          "Programa: Programa Pé-de-Meia<br>Tópico: Educação Básica<br>Pergunta: Como faço para recuperar a senha do aplicativo?",
          "Programa: Programa Pé-de-Meia<br>Tópico: Educação Básica<br>Pergunta: Como faço para retirar/utilizar a poupança?",
          "Programa: Programa Pé-de-Meia<br>Tópico: Educação Básica<br>Pergunta: Como funciona a assinatura do Termo de Compromisso por parte dos Sistemas de Ensino?",
          "Programa: Programa Pé-de-Meia<br>Tópico: Educação Básica<br>Pergunta: Como os entes podem assinar o termo de compromisso no SIMEC?",
          "Programa: Programa Pé-de-Meia<br>Tópico: Educação Básica<br>Pergunta: Como poderei gastar/investir o valor recebido pela poupança?",
          "Programa: Programa Pé-de-Meia<br>Tópico: Educação Básica<br>Pergunta: Como posso me inscrever no CadÚnico?",
          "Programa: Programa Pé-de-Meia<br>Tópico: Educação Básica<br>Pergunta: Como posso saber se eu ou algum membro da minha família está cadastrado no  Cadúnico?",
          "Programa: Programa Pé-de-Meia<br>Tópico: Educação Básica<br>Pergunta: Como será aferida a frequência dos estudantes de ensino médio articulada à educação  técnica de forma integrada?",
          "Programa: Programa Pé-de-Meia<br>Tópico: Educação Básica<br>Pergunta: Como será realizado o pagamento?",
          "Programa: Programa Pé-de-Meia<br>Tópico: Educação Básica<br>Pergunta: Como vai se dar a verificação da aprovação dos estudantes?",
          "Programa: Programa Pé-de-Meia<br>Tópico: Educação Básica<br>Pergunta: Como vai se dar a verificação da frequência dos estudantes?",
          "Programa: Programa Pé-de-Meia<br>Tópico: Educação Básica<br>Pergunta: Compareci a apenas um dos dias da prova do Enem em 2024, terei direito a essa parcela?",
          "Programa: Programa Pé-de-Meia<br>Tópico: Educação Básica<br>Pergunta: Concluí o Ensino Médio em 2024 por meio de exame de aceleração, mas ainda não recebi o valor referente à conclusão. O que pode ter ocorrido?",
          "Programa: Programa Pé-de-Meia<br>Tópico: Educação Básica<br>Pergunta: Critério para recebimento do incentivo frequência.",
          "Programa: Programa Pé-de-Meia<br>Tópico: Educação Básica<br>Pergunta: Data de referência do CadÚnico para 2025",
          "Programa: Programa Pé-de-Meia<br>Tópico: Educação Básica<br>Pergunta: De quanto em quanto tempo a rede deverá enviar os dados dos estudantes?",
          "Programa: Programa Pé-de-Meia<br>Tópico: Educação Básica<br>Pergunta: De quem é a responsabilidade de envio de dados do estudante?",
          "Programa: Programa Pé-de-Meia<br>Tópico: Educação Básica<br>Pergunta: É necessário enviar a lista dos estudantes do ensino técnico matriculados na rede estadual na Educação Básica?",
          "Programa: Programa Pé-de-Meia<br>Tópico: Educação Básica<br>Pergunta: Em caso de falecimento do estudante, a família terá direito a receber o benefício?",
          "Programa: Programa Pé-de-Meia<br>Tópico: Educação Básica<br>Pergunta: Em caso de greve, como fica a frequência dos estudantes?",
          "Programa: Programa Pé-de-Meia<br>Tópico: Educação Básica<br>Pergunta: Em casos de intercorrências que impeçam a frequência do estudante, este deixará de  receber o benefício? O que fazer neste caso?",
          "Programa: Programa Pé-de-Meia<br>Tópico: Educação Básica<br>Pergunta: Encerrei pelo Aplicativo CAIXA Tem, minha conta em que recebo o Pé-de-Meia. Como posso receber o incentivo?",
          "Programa: Programa Pé-de-Meia<br>Tópico: Educação Básica<br>Pergunta: Estou tentando baixar o aplicativo e não estou conseguindo. O que fazer?",
          "Programa: Programa Pé-de-Meia<br>Tópico: Educação Básica<br>Pergunta: Estudante que recebeu o Incentivo Conclusão, mas não recebeu o Incentivo ENEM.",
          "Programa: Programa Pé-de-Meia<br>Tópico: Educação Básica<br>Pergunta: Estudante que trocou de escola e não está recebendo os incentivos.",
          "Programa: Programa Pé-de-Meia<br>Tópico: Educação Básica<br>Pergunta: Estudante sem NIS no CadÚnico",
          "Programa: Programa Pé-de-Meia<br>Tópico: Educação Básica<br>Pergunta: Estudante, em contato com a escola que oferta ensino médio, verificou que ela ainda não está participando do Programa Pé-de-Meia, o que fazer?",
          "Programa: Programa Pé-de-Meia<br>Tópico: Educação Básica<br>Pergunta: Estudantes beneficiários do Bolsa Família matriculados na rede privada poderão  participar do Pé-de-Meia?",
          "Programa: Programa Pé-de-Meia<br>Tópico: Educação Básica<br>Pergunta: Estudantes do Bolsa Família desde janeiro de 2024 têm direito a pagamento retroativo?",
          "Programa: Programa Pé-de-Meia<br>Tópico: Educação Básica<br>Pergunta: Estudantes matriculados em escolas de tempo integral poderão ser beneficiados?",
          "Programa: Programa Pé-de-Meia<br>Tópico: Educação Básica<br>Pergunta: Estudantes que não possuem o CPF poderão receber o benefício?",
          "Programa: Programa Pé-de-Meia<br>Tópico: Educação Básica<br>Pergunta: Estudo na EJA à distância e não tenho registro de frequência. Qual será o critério para que eu possa receber o benefício?",
          "Programa: Programa Pé-de-Meia<br>Tópico: Educação Básica<br>Pergunta: Existe alguma atualização que deve ser feita pela escola de necessidade de atualização de cadastro?",
          "Programa: Programa Pé-de-Meia<br>Tópico: Educação Básica<br>Pergunta: Existe uma cota para cada estado, município ou rede federal?",
          "Programa: Programa Pé-de-Meia<br>Tópico: Educação Básica<br>Pergunta: Família inscrita no CadÚnico, não beneficiária do Bolsa Família, receberá o pagamento retroativo do primeiro semestre?",
          "Programa: Programa Pé-de-Meia<br>Tópico: Educação Básica<br>Pergunta: Famílias unipessoais podem receber o benefício?",
          "Programa: Programa Pé-de-Meia<br>Tópico: Educação Básica<br>Pergunta: Fui aprovado e concluí o ensino médio no ano letivo de 2024, mas não recebi os R$ 1.000 do Pé-de-Meia. O que pode ter acontecido?",
          "Programa: Programa Pé-de-Meia<br>Tópico: Educação Básica<br>Pergunta: Incentivos Conclusão e Enem: Entenda os pagamentos.",
          "Programa: Programa Pé-de-Meia<br>Tópico: Educação Básica<br>Pergunta: Iniciei o ano com frequência acima de 80%, mas no mês seguinte estive abaixo. Receberei a parcela daquele mês?",
          "Programa: Programa Pé-de-Meia<br>Tópico: Educação Básica<br>Pergunta: Iniciei o ano regularmente matriculado em uma unidade escolar de Ensino Médio da rede pública, mas deixei de frequentar a escola. Seguirei recebendo o incentivo?",
          "Programa: Programa Pé-de-Meia<br>Tópico: Educação Básica<br>Pergunta: Iniciei o Ensino Médio e o Programa foi interrompido antes de me formar? O que  acontece nesse caso?",
          "Programa: Programa Pé-de-Meia<br>Tópico: Educação Básica<br>Pergunta: Instabilidade no aplicativo CAIXA Tem. O que fazer?",
          "Programa: Programa Pé-de-Meia<br>Tópico: Educação Básica<br>Pergunta: Já preenchi o Sistema Presença, é a mesma coisa?",
          "Programa: Programa Pé-de-Meia<br>Tópico: Educação Básica<br>Pergunta: Já sou beneficiário de outro Programa de bolsa/poupança em meu Estado. Poderei  receber os dois benefícios?",
          "Programa: Programa Pé-de-Meia<br>Tópico: Educação Básica<br>Pergunta: Mensagem de indisponibilidade no aplicativo Jornada do Estudante.",
          "Programa: Programa Pé-de-Meia<br>Tópico: Educação Básica<br>Pergunta: Meu ano letivo ainda não terminou, quando vou receber os R$1.000?",
          "Programa: Programa Pé-de-Meia<br>Tópico: Educação Básica<br>Pergunta: Minha família faz parte do Cadastro Único para Programas Sociais (CadÚnico), mas não  do Programa Bolsa Família. Posso ser beneficiário (a) do Pé-de-Meia?",
          "Programa: Programa Pé-de-Meia<br>Tópico: Educação Básica<br>Pergunta: Não estou conseguindo extrair o relatório / enviar a planilha, como devo proceder?",
          "Programa: Programa Pé-de-Meia<br>Tópico: Educação Básica<br>Pergunta: Não recebi o pagamento referente a 1ª parcela de 2025 (matrícula), o que fazer?",
          "Programa: Programa Pé-de-Meia<br>Tópico: Educação Básica<br>Pergunta: Não recebi o pagamento referente a 3ª parcela (frequência), o que fazer?",
          "Programa: Programa Pé-de-Meia<br>Tópico: Educação Básica<br>Pergunta: O acesso ao aplicativo deve ser realizado pelo estudante ou responsável?",
          "Programa: Programa Pé-de-Meia<br>Tópico: Educação Básica<br>Pergunta: O estudante atende todos os requisitos, mas o CPF ainda não consta no aplicativo, mesmo após atualizações.",
          "Programa: Programa Pé-de-Meia<br>Tópico: Educação Básica<br>Pergunta: O estudante precisa fazer alguma inscrição para o Programa?",
          "Programa: Programa Pé-de-Meia<br>Tópico: Educação Básica<br>Pergunta: O estudante que se matricular após março em uma unidade de ensino e preencher os  requisitos de elegibilidade também será beneficiado pelo Programa Pé-de-Meia?",
          "Programa: Programa Pé-de-Meia<br>Tópico: Educação Básica<br>Pergunta: O estudante que troca de escola ou modalidade durante o ano letivo continua recebendo os incentivos do programa?",
          "Programa: Programa Pé-de-Meia<br>Tópico: Educação Básica<br>Pergunta: O Programa Pé-de-Meia é ofertado somente as instituições Estaduais?",
          "Programa: Programa Pé-de-Meia<br>Tópico: Educação Básica<br>Pergunta: O que a minha rede precisa fazer após a adesão?",
          "Programa: Programa Pé-de-Meia<br>Tópico: Educação Básica<br>Pergunta: O que acontece caso o sistema de ensino não assine o termo de compromisso ou não envie as informações dentro do prazo estipulado pelo calendário de operacionalização?",
          "Programa: Programa Pé-de-Meia<br>Tópico: Educação Básica<br>Pergunta: O que acontece com o estudante caso a rede precise atualizar as informações quanto a  frequência?",
          "Programa: Programa Pé-de-Meia<br>Tópico: Educação Básica<br>Pergunta: O que acontece se eu não participar de exames do Sistema de Avaliação da Educação Básica (Saeb), da avaliação para o ensino médio feita pelo meu estado ou do Enem no 3º ano?",
          "Programa: Programa Pé-de-Meia<br>Tópico: Educação Básica<br>Pergunta: O que acontece se o estudante beneficiário não é aprovado no final do ano letivo?",
          "Programa: Programa Pé-de-Meia<br>Tópico: Educação Básica<br>Pergunta: O que é necessário para acessar o aplicativo?",
          "Programa: Programa Pé-de-Meia<br>Tópico: Educação Básica<br>Pergunta: O que é o Programa Pé-de-Meia?",
          "Programa: Programa Pé-de-Meia<br>Tópico: Educação Básica<br>Pergunta: O que fazer quando os dados do estudante não constam no aplicativo Jornada do Estudante?",
          "Programa: Programa Pé-de-Meia<br>Tópico: Educação Básica<br>Pergunta: O que o estudante poderá consultar no aplicativo?",
          "Programa: Programa Pé-de-Meia<br>Tópico: Educação Básica<br>Pergunta: O que pode levar a família do estudante a perder o benefício?",
          "Programa: Programa Pé-de-Meia<br>Tópico: Educação Básica<br>Pergunta: O rendimento escolar é considerado um dos fatores de elegibilidade?",
          "Programa: Programa Pé-de-Meia<br>Tópico: Educação Básica<br>Pergunta: O responsável precisa liberar o acesso para o estudante no aplicativo?",
          "Programa: Programa Pé-de-Meia<br>Tópico: Educação Básica<br>Pergunta: O valor do fomento financeiro é o mesmo para todas as secretarias?",
          "Programa: Programa Pé-de-Meia<br>Tópico: Educação Básica<br>Pergunta: Onde consulto minha frequência?",
          "Programa: Programa Pé-de-Meia<br>Tópico: Educação Básica<br>Pergunta: Onde posso acessar informações sobre o pagamento e minha conta?",
          "Programa: Programa Pé-de-Meia<br>Tópico: Educação Básica<br>Pergunta: Onde posso obter informações sobre o programa Pé-de-Meia?",
          "Programa: Programa Pé-de-Meia<br>Tópico: Educação Básica<br>Pergunta: Os estudantes de quais sistemas de ensino podem participar do Programa Pé-de-Meia?",
          "Programa: Programa Pé-de-Meia<br>Tópico: Educação Básica<br>Pergunta: Os estudantes dos cursos Técnicos Integrados ao Ensino Médio poderão ser atendidos pelo Programa Pé-de-Meia?",
          "Programa: Programa Pé-de-Meia<br>Tópico: Educação Básica<br>Pergunta: Os responsáveis podem receber os incentivos pelos filhos menores?",
          "Programa: Programa Pé-de-Meia<br>Tópico: Educação Básica<br>Pergunta: Pagamento da 5ª parcela de 2025",
          "Programa: Programa Pé-de-Meia<br>Tópico: Educação Básica<br>Pergunta: Para qual etapa da Educação Básica o Programa Pé-de-Meia será destinado?",
          "Programa: Programa Pé-de-Meia<br>Tópico: Educação Básica<br>Pergunta: Para receber o Incentivo Enem basta me inscrever para o exame ou preciso comparecer aos dois dias de prova?",
          "Programa: Programa Pé-de-Meia<br>Tópico: Educação Básica<br>Pergunta: Parcela rejeitada no último ciclo de pagamentos (26.05 a 02.06).",
          "Programa: Programa Pé-de-Meia<br>Tópico: Educação Básica<br>Pergunta: Parei de receber o benefício do Pé-de-Meia, o que pode ter ocorrido?",
          "Programa: Programa Pé-de-Meia<br>Tópico: Educação Básica<br>Pergunta: Passei de ano, mas ainda não concluí o ensino médio. O que acontece com meus R$1.000?",
          "Programa: Programa Pé-de-Meia<br>Tópico: Educação Básica<br>Pergunta: Por onde os sistemas de ensino deverão enviar as informações dos estudantes?",
          "Programa: Programa Pé-de-Meia<br>Tópico: Educação Básica<br>Pergunta: Por que o Governo Federal criou o Programa Pé-de-Meia?",
          "Programa: Programa Pé-de-Meia<br>Tópico: Educação Básica<br>Pergunta: Preciso fazer algum cadastro para receber o benefício?",
          "Programa: Programa Pé-de-Meia<br>Tópico: Educação Básica<br>Pergunta: Quais alunos da EJA podem receber o Pé-de-Meia?",
          "Programa: Programa Pé-de-Meia<br>Tópico: Educação Básica<br>Pergunta: Quais as condições para que o aluno matriculado mantenha o incentivo?",
          "Programa: Programa Pé-de-Meia<br>Tópico: Educação Básica<br>Pergunta: Quais dados utilizo para acessar o aplicativo?",
          "Programa: Programa Pé-de-Meia<br>Tópico: Educação Básica<br>Pergunta: Quais formas de oferta da EJA fazem parte do programa?",
          "Programa: Programa Pé-de-Meia<br>Tópico: Educação Básica<br>Pergunta: Quais informações estão disponíveis no aplicativo?",
          "Programa: Programa Pé-de-Meia<br>Tópico: Educação Básica<br>Pergunta: Quais informações sobre a rede serão solicitadas na adesão?",
          "Programa: Programa Pé-de-Meia<br>Tópico: Educação Básica<br>Pergunta: Quais os contatos para dúvidas sobre o Programa?",
          "Programa: Programa Pé-de-Meia<br>Tópico: Educação Básica<br>Pergunta: Quais são as etapas da adesão ao Programa?",
          "Programa: Programa Pé-de-Meia<br>Tópico: Educação Básica<br>Pergunta: Quais são as redes que oferecem ensino médio público regular (censo de 2023)?",
          "Programa: Programa Pé-de-Meia<br>Tópico: Educação Básica<br>Pergunta: Quais são as responsabilidades da Caixa?",
          "Programa: Programa Pé-de-Meia<br>Tópico: Educação Básica<br>Pergunta: Quais são os critérios de elegibilidade para receber a poupança?",
          "Programa: Programa Pé-de-Meia<br>Tópico: Educação Básica<br>Pergunta: Quais são os critérios de saída ou desligamento do Programa?",
          "Programa: Programa Pé-de-Meia<br>Tópico: Educação Básica<br>Pergunta: Quais são os critérios para disponibilização de cada incentivo?",
          "Programa: Programa Pé-de-Meia<br>Tópico: Educação Básica<br>Pergunta: Quais são os papéis e responsabilidades de cada ente no Pé-de-Meia?",
          "Programa: Programa Pé-de-Meia<br>Tópico: Educação Básica<br>Pergunta: Quais são os valores das parcelas para estudantes da EJA?",
          "Programa: Programa Pé-de-Meia<br>Tópico: Educação Básica<br>Pergunta: Qual a faixa etária do programa para alunos da EJA?",
          "Programa: Programa Pé-de-Meia<br>Tópico: Educação Básica<br>Pergunta: Qual a faixa etária do programa para alunos do ensino regular?",
          "Programa: Programa Pé-de-Meia<br>Tópico: Educação Básica<br>Pergunta: Qual a lei que institui o Programa Pé-de-Meia?",
          "Programa: Programa Pé-de-Meia<br>Tópico: Educação Básica<br>Pergunta: Qual CPF utilizo para acessar o aplicativo?",
          "Programa: Programa Pé-de-Meia<br>Tópico: Educação Básica<br>Pergunta: Qual o período de assinatura do Termo de Compromisso?",
          "Programa: Programa Pé-de-Meia<br>Tópico: Educação Básica<br>Pergunta: Qual o valor dos incentivos por estudante?",
          "Programa: Programa Pé-de-Meia<br>Tópico: Educação Básica<br>Pergunta: Qual o valor pago para os estudantes do Ensino Regular?",
          "Programa: Programa Pé-de-Meia<br>Tópico: Educação Básica<br>Pergunta: Quando será feita a verificação das informações de elegibilidade?",
          "Programa: Programa Pé-de-Meia<br>Tópico: Educação Básica<br>Pergunta: Quando será feita a verificação das informações para manutenção dos estudantes?",
          "Programa: Programa Pé-de-Meia<br>Tópico: Educação Básica<br>Pergunta: Quando será informado que a conta foi aberta?",
          "Programa: Programa Pé-de-Meia<br>Tópico: Educação Básica<br>Pergunta: Quando vão atualizar o aplicativo Jornada do Estudante?",
          "Programa: Programa Pé-de-Meia<br>Tópico: Educação Básica<br>Pergunta: Quem é responsável pelo Programa Pé-de-Meia?",
          "Programa: Programa Pé-de-Meia<br>Tópico: Educação Básica<br>Pergunta: Quem fará a verificação das condicionalidades e elegibilidades dos participantes?",
          "Programa: Programa Pé-de-Meia<br>Tópico: Educação Básica<br>Pergunta: Quem pode participar do programa Pé-de-Meia?",
          "Programa: Programa Pé-de-Meia<br>Tópico: Educação Básica<br>Pergunta: Quem pode participar do programa Pé-de-Meia?",
          "Programa: Programa Pé-de-Meia<br>Tópico: Educação Básica<br>Pergunta: Quem pode sacar os R$1.000 pela aprovação no fim do ano?",
          "Programa: Programa Pé-de-Meia<br>Tópico: Educação Básica<br>Pergunta: Quem será o titular da conta poupança?",
          "Programa: Programa Pé-de-Meia<br>Tópico: Educação Básica<br>Pergunta: Quem terá acesso ao Sistema Gestão Presente?",
          "Programa: Programa Pé-de-Meia<br>Tópico: Educação Básica<br>Pergunta: Renda per capita superior a meio salário-mínimo",
          "Programa: Programa Pé-de-Meia<br>Tópico: Educação Básica<br>Pergunta: Saldo bloqueado no aplicativo CAIXA Tem.",
          "Programa: Programa Pé-de-Meia<br>Tópico: Educação Básica<br>Pergunta: Se o responsável no CadÚnico estiver hospitalizado, como o estudante deve proceder para abrir a conta-poupança?",
          "Programa: Programa Pé-de-Meia<br>Tópico: Educação Básica<br>Pergunta: Sistemas de Ensino que ofertam ensino médio de formação de professores (curso normal - magistério) também poderão aderir ao Programa Pé-de-Meia?",
          "Programa: Programa Pé-de-Meia<br>Tópico: Educação Básica<br>Pergunta: Sou beneficiário do Bolsa Família, mas estou matriculado em uma unidade escolar da rede privada, tenho direito?",
          "Programa: Programa Pé-de-Meia<br>Tópico: Educação Básica<br>Pergunta: Sou beneficiário do Pé-de-Meia e não passei de ano. O que acontece com meus pagamentos?",
          "Programa: Programa Pé-de-Meia<br>Tópico: Educação Básica<br>Pergunta: Sou da rede particular de ensino, posso ser beneficiário do Programa?",
          "Programa: Programa Pé-de-Meia<br>Tópico: Educação Básica<br>Pergunta: Sou estudante em situação de acolhimento institucional, a guia de acolhimento serve como documento para que eu consiga liberar a movimentação da minha conta do CaixaTem?",
          "Programa: Programa Pé-de-Meia<br>Tópico: Educação Básica<br>Pergunta: Sou uma pessoa trans e há divergência entre o meu nome social, cadastrado em minha escola, e o meu nome de registro, indicado em meu CPF. Como posso resolver?",
          "Programa: Programa Pé-de-Meia<br>Tópico: Educação Básica<br>Pergunta: Sou uma pessoa trans, travesti ou não binária e há divergência entre o meu nome social, cadastrado em minha escola, e o nome indicado no CadÚnico. Como posso resolver?",
          "Programa: Programa Pé-de-Meia<br>Tópico: Educação Básica<br>Pergunta: Tenho atestado para justificar minhas faltas, o que devo fazer?",
          "Programa: Programa Pé-de-Meia<br>Tópico: Educação Básica<br>Pergunta: Tenho CadÚnico, mas meu cadastro não está atualizado. O que fazer para meu (minha) filho (a) ter direito ao benefício?",
          "Programa: Programa Pé-de-Meia<br>Tópico: Educação Básica<br>Pergunta: Tenho pais que estão desempregados há mais de um ano, não possuem renda e não fui contemplado. O que fazer nesse caso?",
          "Programa: Programa Pé-de-Meia<br>Tópico: Educação Básica<br>Pergunta: Tive parcelas bloqueadas por não frequentar aulas em 2024, mas em 2025 estou com frequência acima de 80%, terei as parcelas do ano passado liberadas?",
          "Programa: Programa Pé-de-Meia<br>Tópico: Educação Básica<br>Pergunta: Todo ente da federação deve aderir ao Programa Pé-de-Meia?",
          "Programa: Programa Pé-de-Meia<br>Tópico: Educação Básica<br>Pergunta: Uma vez elegível, quais são os requisitos de pagamento do Incentivo Matrícula ao  estudante?"
         ],
         "type": "scatter3d",
         "x": {
          "_inputArray": {
           "0": 0.23906747308942064,
           "1": 0.2562801968980592,
           "10": 0.2623028297018853,
           "100": 0.35228681697719677,
           "101": 0.15876356751815882,
           "102": 0.32344158914940446,
           "103": 0.24767011396022118,
           "104": 0.009593818945986154,
           "105": 0.22732134767664058,
           "106": 0.19743968344219465,
           "107": 0.31822060022177623,
           "108": 0.26039829183421737,
           "109": 0.36041170455963184,
           "11": 0.1876429469244152,
           "110": 0.06371463666834104,
           "111": 0.1392247107508214,
           "112": 0.16855096736681738,
           "113": 0.3497683693597797,
           "114": 0.25399287173859025,
           "115": 0.25454273148570755,
           "116": 0.06331480250635937,
           "117": 0.09154706413136617,
           "118": 0.1873774666141131,
           "119": 0.08070038026039228,
           "12": 0.3319127779933616,
           "120": 0.30701696849169,
           "121": 0.12574427347649686,
           "122": 0.4206507629019165,
           "123": 0.18369558759594573,
           "124": 0.3052538917657804,
           "125": 0.3052342650117668,
           "126": 0.1208737163448596,
           "127": 0.2704629774357707,
           "128": 0.21054404295926346,
           "129": 0.30560316773761786,
           "13": 0.28727592391512646,
           "130": 0.27768169749779076,
           "131": 0.13941323994837374,
           "132": 0.12799303526013417,
           "133": 0.09050733944887224,
           "134": 0.26206630937424585,
           "135": 0.09744955363809316,
           "136": 0.13557476095401458,
           "137": 0.10369829356625897,
           "138": 0.060775806340616176,
           "139": 0.1934140390025865,
           "14": 0.06943051143529101,
           "140": 0.15635781923610012,
           "141": 0.2179808413421428,
           "142": 0.006419419603662192,
           "143": 0.2696024982847079,
           "144": 0.07156611420681848,
           "15": 0.16166876754881276,
           "16": 0.24475924949374142,
           "17": 0.08545355852696886,
           "18": 0.1463394458713199,
           "19": 0.07559694369764247,
           "2": 0.2065530215077404,
           "20": 0.36877495003699584,
           "21": 0.1016855552519645,
           "22": 0.10410169526578325,
           "23": -0.07141345918096163,
           "24": 0.08773712753667624,
           "25": 0.24027225883222766,
           "26": 0.15143548623537387,
           "27": 0.15376122287260233,
           "28": 0.11554298209685515,
           "29": 0.043710786311654724,
           "3": 0.11467842399128962,
           "30": 0.11864148171462816,
           "31": 0.12092552261672915,
           "32": 0.18106192691712636,
           "33": 0.3379915764044969,
           "34": 0.300425205736084,
           "35": 0.01799472242773608,
           "36": 0.13673892329841383,
           "37": 0.005489244875026065,
           "38": 0.1622478455211052,
           "39": 0.0937274219116174,
           "4": 0.11615539863006272,
           "40": 0.0855278402413193,
           "41": 0.08583292397113976,
           "42": 0.07930668318573804,
           "43": 0.06537055191438645,
           "44": 0.12420778534147305,
           "45": 0.10611412475043627,
           "46": 0.16605477819764855,
           "47": 0.19081909935101993,
           "48": 0.10593822703278633,
           "49": 0.06472790676901571,
           "5": 0.05975920566024305,
           "50": 0.22243913647231242,
           "51": 0.08134301475115703,
           "52": 0.12892989747666223,
           "53": 0.2739628090461365,
           "54": 0.14736216382029196,
           "55": 0.11848802693731889,
           "56": 0.10452990242760148,
           "57": 0.1130330991806657,
           "58": 0.16041962396572748,
           "59": 0.2864883544740454,
           "6": 0.07819503957266398,
           "60": 0.1985379516587085,
           "61": 0.3590637028056227,
           "62": 0.10072444691806479,
           "63": 0.08729356538206998,
           "64": 0.06953491193492799,
           "65": 0.05667167995766076,
           "66": 0.08982086480439656,
           "67": 0.14066657414184572,
           "68": 0.258138123278521,
           "69": 0.0682665965391028,
           "7": 0.18771558657163714,
           "70": 0.18611141791887686,
           "71": 0.007261279637149667,
           "72": 0.07251997190367981,
           "73": 0.32016930162841123,
           "74": 0.4537149504201063,
           "75": 0.06265612804113181,
           "76": 0.1660306833934166,
           "77": 0.12990951364479897,
           "78": 0.021493702857428104,
           "79": 0.12994775270021172,
           "8": 0.009109329305958425,
           "80": 0.11912398117534599,
           "81": 0.29382189373154577,
           "82": 0.3662328940103757,
           "83": 0.40472704301188683,
           "84": 0.10879347403659968,
           "85": 0.10033660273411223,
           "86": 0.23885754522265984,
           "87": 0.281625722833527,
           "88": 0.25628139872515604,
           "89": -0.09589529513393355,
           "9": 0.38766385718670104,
           "90": 0.245914284668487,
           "91": 0.37525169211756515,
           "92": 0.09027560187949782,
           "93": 0.07237558083529004,
           "94": 0.3258807321540548,
           "95": 0.2375069709770628,
           "96": 0.15556069127651084,
           "97": 0.1259336301985409,
           "98": 0.31527237543993797,
           "99": 0.14246780932526815,
           "bdata": "B2w6UcOZzj/jiBIO5WbQP24DIlRUcMo/+3KZsJBbvT/etV42XLy9P24w5DPCmK4/a4ysEZcEtD9ZJ6N4EAfIP8AiqXvpp4I/cFEdEXzP2D9V8c3OkcnQP1DGLiCvBMg/psimFw8+1T+aMYmOumLSP3mJ9a8yxrE/RBG06o+xxD9BDPxlRVTPPz09M89I4LU/CegQP0C7wj+w4ttAUlqzPy+Mfz8Cmtc/1WRIhhAIuj8m7J+gaKa6P48srQcnSLK/zT1qvfB1tj//BOnKPcHOP13aau48YsM/3b3Qn3Kuwz8MaGOROZS9P/PKYZtCYaY/rs7pw0lfvj++++Oc+fS+P1J0VIcJLcc/a8W+a6eh1T+S9GGkKjrTP+6WT2E1bZI/mxbUOamAwT/L0Hzz43t2P5kHLpOJxMQ/VkrZM4X+tz8P5rsMJ+W1PxJIYIEl+bU//RCjWnFNtD+oAJjeH7ywP0lB89cUzL8/smByl0squz8jCtpwSEHFP1gYlZ/CbMg/uIWAhMQeuz82IrYSApKwP0nhP7jieMw/eUAdVOXStD9ix5FexoDAP8sZS06biNE/R1IjbcPcwj9q0ak4O1W+P0VwYcB4wro/JrNYuLzvvD+r4khXoYjEPwaoSUDTVdI/KcqxDLFpyT+kxS5T5vrWP/63a80Tybk/Rpx3AN9Ytj9f1bA8Cs2xP6AYDggSBK0/gVTVDID+tj/lL8q/XAHCP4lAVcNVhdA/tm+Lb+t5sT+E16+6f9LHPzZEGekAvn0/tBWiO6uQsj8DV+thp33UP/etcG6qCd0/daXUZDsKsD8eVKdRfkDFPziXRfzfoMA/WNFe+3EClj8XnwTCIKLAPyNDUcPofr4/7D8bWPrN0j+pnZ8XXHDXP+G9YkEM59k/QWMBnePZuz+VslXbqK+5P1IskVDiks4/KxJS5ScG0j9pQIYY6mbQP27FcBSYjLi/AZwiiR56zz96eFqsHwTYPxr8skVNHLc/d3G3wDSHsj+G4r/bOtvUP5qRdeCgZs4/uLLJqGnpwz9Vq5Xblx7AP28xdi9sLdQ/BHTkmmI8wj/mp24B3ovWPzW1JFVdUsQ/jAfkWUSz1D9j79N/p7PPP6Ad75TspYM/rBb6rN0YzT+EjagbtEXJP9xst++5XdQ/vC7XmF2q0D+NeAtB/BDXPzRdxDiaT7A/oyO8hR3SwT+7Wkb+E5PFPwfV5N6aYtY/FTNiUWtB0D+TmcqYbUrQP0oVHh5mNbA/OTF93qBvtz+ato4d/PvHPwA//rXHqLQ/qkm/fyqm0z+o0x5rYxjAPyjgbC3x69o/jHGSRlaDxz+JFoeeR4nTP1EGdkz1iNM/zKulcpTxvj8PY7fyQ0/RPwVXcHEb88o/LCy/lgCP0z+F2Vx0icXRP8yUGgVL2ME/OG5HZhNiwD/AGvsufSu3P9tUCcWxxdA/GKriNXTyuD8B8jqGg1rBP4OhhKv4i7o/jvA9qQEerz95Ow2OysHIPx/lC3SIA8Q/bApc1Mvmyz/oyxzUP0t6P7VfQ9YqQdE/YSQFKChSsj8=",
           "dtype": "f8",
           "shape": "145"
          },
          "bdata": "B2w6UcOZzj/jiBIO5WbQP24DIlRUcMo/+3KZsJBbvT/etV42XLy9P24w5DPCmK4/a4ysEZcEtD9ZJ6N4EAfIP8AiqXvpp4I/cFEdEXzP2D9V8c3OkcnQP1DGLiCvBMg/psimFw8+1T+aMYmOumLSP3mJ9a8yxrE/RBG06o+xxD9BDPxlRVTPPz09M89I4LU/CegQP0C7wj+w4ttAUlqzPy+Mfz8Cmtc/1WRIhhAIuj8m7J+gaKa6P48srQcnSLK/zT1qvfB1tj//BOnKPcHOP13aau48YsM/3b3Qn3Kuwz8MaGOROZS9P/PKYZtCYaY/rs7pw0lfvj++++Oc+fS+P1J0VIcJLcc/a8W+a6eh1T+S9GGkKjrTP+6WT2E1bZI/mxbUOamAwT/L0Hzz43t2P5kHLpOJxMQ/VkrZM4X+tz8P5rsMJ+W1PxJIYIEl+bU//RCjWnFNtD+oAJjeH7ywP0lB89cUzL8/smByl0squz8jCtpwSEHFP1gYlZ/CbMg/uIWAhMQeuz82IrYSApKwP0nhP7jieMw/eUAdVOXStD9ix5FexoDAP8sZS06biNE/R1IjbcPcwj9q0ak4O1W+P0VwYcB4wro/JrNYuLzvvD+r4khXoYjEPwaoSUDTVdI/KcqxDLFpyT+kxS5T5vrWP/63a80Tybk/Rpx3AN9Ytj9f1bA8Cs2xP6AYDggSBK0/gVTVDID+tj/lL8q/XAHCP4lAVcNVhdA/tm+Lb+t5sT+E16+6f9LHPzZEGekAvn0/tBWiO6uQsj8DV+thp33UP/etcG6qCd0/daXUZDsKsD8eVKdRfkDFPziXRfzfoMA/WNFe+3EClj8XnwTCIKLAPyNDUcPofr4/7D8bWPrN0j+pnZ8XXHDXP+G9YkEM59k/QWMBnePZuz+VslXbqK+5P1IskVDiks4/KxJS5ScG0j9pQIYY6mbQP27FcBSYjLi/AZwiiR56zz96eFqsHwTYPxr8skVNHLc/d3G3wDSHsj+G4r/bOtvUP5qRdeCgZs4/uLLJqGnpwz9Vq5Xblx7AP28xdi9sLdQ/BHTkmmI8wj/mp24B3ovWPzW1JFVdUsQ/jAfkWUSz1D9j79N/p7PPP6Ad75TspYM/rBb6rN0YzT+EjagbtEXJP9xst++5XdQ/vC7XmF2q0D+NeAtB/BDXPzRdxDiaT7A/oyO8hR3SwT+7Wkb+E5PFPwfV5N6aYtY/FTNiUWtB0D+TmcqYbUrQP0oVHh5mNbA/OTF93qBvtz+ato4d/PvHPwA//rXHqLQ/qkm/fyqm0z+o0x5rYxjAPyjgbC3x69o/jHGSRlaDxz+JFoeeR4nTP1EGdkz1iNM/zKulcpTxvj8PY7fyQ0/RPwVXcHEb88o/LCy/lgCP0z+F2Vx0icXRP8yUGgVL2ME/OG5HZhNiwD/AGvsufSu3P9tUCcWxxdA/GKriNXTyuD8B8jqGg1rBP4OhhKv4i7o/jvA9qQEerz95Ow2OysHIPx/lC3SIA8Q/bApc1Mvmyz/oyxzUP0t6P7VfQ9YqQdE/YSQFKChSsj8=",
          "dtype": "f8"
         },
         "y": {
          "_inputArray": {
           "0": 0.10329801599086234,
           "1": 0.015475559714118335,
           "10": 0.1254259784205426,
           "100": 0.1620936942846421,
           "101": 0.08101877313287552,
           "102": 0.13750104092823467,
           "103": 0.06792564935006343,
           "104": 0.08972483848502408,
           "105": 0.03328779252933682,
           "106": -0.13665151093521646,
           "107": 0.05071592548352047,
           "108": -0.08887177810863879,
           "109": 0.14053043011298033,
           "11": 0.14941429619149135,
           "110": -0.09498613910656442,
           "111": 0.17847262202305414,
           "112": 0.13806817477434138,
           "113": 0.07509588142642401,
           "114": 0.054043895506782326,
           "115": -0.002439147947001768,
           "116": -0.15308896324515023,
           "117": -0.07888410531875233,
           "118": -0.04703279036288344,
           "119": -0.04179403000797213,
           "12": 0.10118262303364273,
           "120": -0.022665971272431407,
           "121": 0.052496868393661446,
           "122": 0.19116995908389417,
           "123": 0.029432425621600346,
           "124": 0.0961635282785877,
           "125": 0.09613481980554477,
           "126": -0.11610670344471943,
           "127": -0.08183619817136244,
           "128": 0.06421553740617392,
           "129": -0.0475486573635272,
           "13": -0.011255111706869067,
           "130": -0.043485309829258564,
           "131": -0.13145683163862215,
           "132": 0.026939004192256085,
           "133": -0.1892731222224679,
           "134": -0.2446611194754825,
           "135": -0.08039521695960533,
           "136": -0.12537362708672387,
           "137": -0.02747185969046066,
           "138": -0.04165765822062117,
           "139": -0.05538684946898221,
           "14": 0.03303330181945669,
           "140": -0.10505892385659363,
           "141": -0.13933600038088034,
           "142": -0.24487895532944517,
           "143": 0.03117809300070758,
           "144": -0.2063893440023083,
           "15": 0.05932414063894205,
           "16": -0.09080941295365111,
           "17": -0.014336893640232171,
           "18": 0.1033419868841228,
           "19": 0.10696933802119084,
           "2": -0.1609728439265373,
           "20": -0.02116316775782567,
           "21": 0.039448156198411244,
           "22": 0.0774273518584454,
           "23": -0.21984677957468451,
           "24": -0.1556503087958383,
           "25": -0.04969923303411986,
           "26": -0.03858553245042642,
           "27": 0.0077498623258738936,
           "28": 0.004484325644582009,
           "29": 0.03407784955864925,
           "3": -0.01824574793134804,
           "30": -0.25936230904013274,
           "31": -0.009225043601827765,
           "32": -0.2202603923896417,
           "33": -0.05203610357370016,
           "34": 0.11627680332290093,
           "35": -0.2091506179479677,
           "36": -0.15014566886435604,
           "37": -0.16600990095105353,
           "38": -0.03997154062189376,
           "39": -0.14429423094902946,
           "4": -0.05772725449711903,
           "40": -0.2752300568057756,
           "41": -0.13790225266305053,
           "42": -0.20867482835698767,
           "43": -0.0977365537429976,
           "44": 0.057627409752851105,
           "45": -0.022306046673859124,
           "46": -0.2408130828392968,
           "47": -0.21568275290246874,
           "48": -0.17992018586036904,
           "49": -0.12552959875935857,
           "5": -0.1408391840236258,
           "50": -0.18591824074927027,
           "51": -0.13358817635213185,
           "52": -0.010464649953941332,
           "53": 0.04126757937507706,
           "54": 0.0643904992193158,
           "55": -0.23514063379764832,
           "56": 0.02785022448111216,
           "57": -0.2022106863530099,
           "58": -0.17782561903500882,
           "59": 0.08278814445384287,
           "6": -0.27491667592749885,
           "60": -0.21947672043667793,
           "61": -0.11979934265591331,
           "62": 0.030584886159753945,
           "63": -0.08210946824315017,
           "64": 0.04966176993074928,
           "65": -0.19674020281473112,
           "66": -0.18288671049914634,
           "67": 0.006389965179912305,
           "68": 0.11335939140613469,
           "69": -0.05697415648755102,
           "7": -0.004927871689564071,
           "70": 0.06589066835711835,
           "71": -0.07401189764666793,
           "72": -0.18236115486138302,
           "73": 0.1624011648569426,
           "74": 0.2058281275427387,
           "75": -0.05504247965555801,
           "76": 0.10290194390222836,
           "77": -0.22124529453905564,
           "78": -0.1047813560358419,
           "79": 0.027349646606990116,
           "8": -0.05603739678452264,
           "80": -0.09600107946991901,
           "81": 0.17914521870335218,
           "82": 0.022284812186394904,
           "83": 0.1964087281543324,
           "84": 0.03321431643823537,
           "85": -0.040222933787581995,
           "86": -0.1313281430230891,
           "87": -0.17653069072125194,
           "88": 0.09903458609278729,
           "89": -0.07597913685100376,
           "9": 0.1696053898497831,
           "90": -0.15066401176751895,
           "91": -0.1286510527730533,
           "92": -0.1447203595862789,
           "93": 0.027000964582893482,
           "94": 0.08364341378557341,
           "95": -0.07302248880694592,
           "96": 0.00592338833363293,
           "97": -0.10081187058618643,
           "98": 0.16003089101781084,
           "99": 0.1516758314581741,
           "bdata": "8yRsIL1xuj+ZHuB2prGPPxOzGhbCmsS/wvKfagOvkr9iVU48bY6tv+86sLQEB8K/7fMOHTyY0b9e0u17Py90v5nCFQXvsKy/t6hQIaG1xT+8SLFd9Q3AP4tB2fUBIMM/rF3auBrnuT9r9oyF6wyHv0mn/K296aA/yqvQ17tfrj9KDc4iST+3vwX8fEqpXI2/YpH41Z50uj/7zHmwV2K7P782mSXMq5W/QPSEeYwypD+wQwxoR9KzP4a8M3TwI8y/gPnxbFnsw7+1IAmJLXKpvxNY8p97waO/UGLP01G+fz9/O8//J15yPxOsvuKmcqE/VR3JXmSZ0L8NmpdklOSCvy119RZ+Mcy/EuEe5nmkqr8RJ44LUcS9P8IpA4xyxcq/Pki0KPk3w78N0LL7zz/FvyzJe1cmd6S/C7p2vTt4wr+O2TaHXp3Rv5PDnfDHpsG/n1WlVdu1yr8HLvNFQwW5v2S+ewBXga0/Nn3ec2XXlr8sMp+N9tLOv0iAAxF+m8u/I4wU6Z8Hx785/KyYWhHAv3693z0rzMe/qUdI2GoZwb9utoeKfW6Fv+0hmi8GIaU/bvBRUOV7sD/6kA+aFhnOv1meVO3EhJw/ndlkLgriyb+MuhJp/cLGv9n/7JSaMbU/iiJBLNAXzL8ZGcpyK6u+vzprO/ekUZ8/C9nLSCAFtb84l217RG2pPxfncnDILsm/2sE77NRox7+AW4Y3XSx6P+anyP4eBb0/Y5Wpdbcrrb9ylbT5Nd6wP1BH6Jdx8rK/D2AYPpxXx7+pSfK1j8nEPydNMnqTWMo/5dEFJIcurL/1QMEjyFe6P3U1OAzEUcy/jotncfPSur/czO+2iwGcP0o5tNiGk7i/t2fIAzvuxj9l+yZu1NGWPyQxCdTrI8k/UvG4hXcBoT/Na1WyGZikv9oOqk9cz8C/NKyxw46Yxr/CAHGkVFq5PwcQ9GNec7O/M+KcVfVIw79HzCBAo3fAv8+Evl0yhsK/wzxgDySmmz8KHryep2m1Pz5hTBGasbK/ApjKch9DeD9+XDeHzs65v+u3omnke8Q/eG3aFx1qwz/qkOt1fL/EPw++93SlvbQ/6PL5VKKZwT9KoYRKk2OxP4ab7v40+LY/dgCK+BgLoT8BNzX1y33Bv5QarRJw96k/sZODBE3Atr/Oyraw5vzBP1o3CfkCUbi/cAJp3TDYxj9DGaPLN6zBP+JwytJ7ObM/XQmAN6Srqz9YBTOVQ/tjv5EbQk1rmMO/v6yErL8xtL+Re+WQrhSov9TEGvAGZqW/HYBjlb81l791UMmZ3uCqPxYaH9lBeMg/SmjypYgjnj/8RQZJLJ64P9NYEqNKnLg/cjUkPiu5vb/fZMaSN/O0vxD5DfFtcLA/kKuwMExYqL9ubCXftEOmv+agXNST08C/L1749+WVmz8mifoGGjrIvzv+XzkOUc+/DKmY68eUtL8JJw82PgzAv0sruUuVIZy/n/teDydUpb/BDDJGqlusv0b1HUIk5bq/IEplFsPVwb+tLk+QMVjPv1WjKGcm7Z8/psxdTfdqyr8=",
           "dtype": "f8",
           "shape": "145"
          },
          "bdata": "8yRsIL1xuj+ZHuB2prGPPxOzGhbCmsS/wvKfagOvkr9iVU48bY6tv+86sLQEB8K/7fMOHTyY0b9e0u17Py90v5nCFQXvsKy/t6hQIaG1xT+8SLFd9Q3AP4tB2fUBIMM/rF3auBrnuT9r9oyF6wyHv0mn/K296aA/yqvQ17tfrj9KDc4iST+3vwX8fEqpXI2/YpH41Z50uj/7zHmwV2K7P782mSXMq5W/QPSEeYwypD+wQwxoR9KzP4a8M3TwI8y/gPnxbFnsw7+1IAmJLXKpvxNY8p97waO/UGLP01G+fz9/O8//J15yPxOsvuKmcqE/VR3JXmSZ0L8NmpdklOSCvy119RZ+Mcy/EuEe5nmkqr8RJ44LUcS9P8IpA4xyxcq/Pki0KPk3w78N0LL7zz/FvyzJe1cmd6S/C7p2vTt4wr+O2TaHXp3Rv5PDnfDHpsG/n1WlVdu1yr8HLvNFQwW5v2S+ewBXga0/Nn3ec2XXlr8sMp+N9tLOv0iAAxF+m8u/I4wU6Z8Hx785/KyYWhHAv3693z0rzMe/qUdI2GoZwb9utoeKfW6Fv+0hmi8GIaU/bvBRUOV7sD/6kA+aFhnOv1meVO3EhJw/ndlkLgriyb+MuhJp/cLGv9n/7JSaMbU/iiJBLNAXzL8ZGcpyK6u+vzprO/ekUZ8/C9nLSCAFtb84l217RG2pPxfncnDILsm/2sE77NRox7+AW4Y3XSx6P+anyP4eBb0/Y5Wpdbcrrb9ylbT5Nd6wP1BH6Jdx8rK/D2AYPpxXx7+pSfK1j8nEPydNMnqTWMo/5dEFJIcurL/1QMEjyFe6P3U1OAzEUcy/jotncfPSur/czO+2iwGcP0o5tNiGk7i/t2fIAzvuxj9l+yZu1NGWPyQxCdTrI8k/UvG4hXcBoT/Na1WyGZikv9oOqk9cz8C/NKyxw46Yxr/CAHGkVFq5PwcQ9GNec7O/M+KcVfVIw79HzCBAo3fAv8+Evl0yhsK/wzxgDySmmz8KHryep2m1Pz5hTBGasbK/ApjKch9DeD9+XDeHzs65v+u3omnke8Q/eG3aFx1qwz/qkOt1fL/EPw++93SlvbQ/6PL5VKKZwT9KoYRKk2OxP4ab7v40+LY/dgCK+BgLoT8BNzX1y33Bv5QarRJw96k/sZODBE3Atr/Oyraw5vzBP1o3CfkCUbi/cAJp3TDYxj9DGaPLN6zBP+JwytJ7ObM/XQmAN6Srqz9YBTOVQ/tjv5EbQk1rmMO/v6yErL8xtL+Re+WQrhSov9TEGvAGZqW/HYBjlb81l791UMmZ3uCqPxYaH9lBeMg/SmjypYgjnj/8RQZJLJ64P9NYEqNKnLg/cjUkPiu5vb/fZMaSN/O0vxD5DfFtcLA/kKuwMExYqL9ubCXftEOmv+agXNST08C/L1749+WVmz8mifoGGjrIvzv+XzkOUc+/DKmY68eUtL8JJw82PgzAv0sruUuVIZy/n/teDydUpb/BDDJGqlusv0b1HUIk5bq/IEplFsPVwb+tLk+QMVjPv1WjKGcm7Z8/psxdTfdqyr8=",
          "dtype": "f8"
         },
         "z": {
          "_inputArray": {
           "0": -0.18277317370650942,
           "1": 0.07968621967394707,
           "10": 0.24286788611345728,
           "100": 0.12728593406138036,
           "101": 0.09573008898848238,
           "102": 0.06561909495043575,
           "103": 0.056194503539549794,
           "104": -0.20140708834800242,
           "105": 0.2064566386298809,
           "106": 0.1449206166053832,
           "107": 0.04134012117586925,
           "108": 0.09392667131599625,
           "109": 0.03304370812180754,
           "11": 0.11792879657766393,
           "110": -0.15458877587172398,
           "111": -0.25082180511569574,
           "112": -0.22060880095852614,
           "113": -0.011347842095912327,
           "114": 0.2664116847700749,
           "115": 0.08970442911318814,
           "116": -0.08583993186132352,
           "117": -0.2245804519056999,
           "118": 0.019865423505681542,
           "119": -0.11585557461662481,
           "12": 0.112908462057566,
           "120": 0.1728170362899089,
           "121": -0.04421921181707013,
           "122": 0.01555612976279282,
           "123": 0.041359001853743096,
           "124": -0.021491615554395275,
           "125": -0.021500249537068042,
           "126": 0.024715723561163683,
           "127": 0.22397083851536692,
           "128": 0.1288457171380421,
           "129": 0.045773540066134474,
           "13": 0.21118372706073413,
           "130": 0.2498129190236211,
           "131": 0.19408279467926987,
           "132": -0.24092380362054527,
           "133": -0.04560431286876333,
           "134": -0.016678341351406167,
           "135": -0.09252348768670327,
           "136": 0.11782002625545909,
           "137": 0.09015597228159512,
           "138": 0.10550066458191172,
           "139": -0.061261113416090175,
           "14": -0.10332237879469622,
           "140": 0.17509434890057507,
           "141": 0.09780435231982328,
           "142": -0.0480626145256756,
           "143": 0.011382919657201056,
           "144": -0.05709208224287284,
           "15": 0.07384902565911919,
           "16": 0.13740833712296888,
           "17": 0.19146843945488673,
           "18": 0.20533735228961045,
           "19": -0.3039113368406128,
           "2": 0.11880578937446941,
           "20": 0.06926696720910527,
           "21": -0.1460731874351685,
           "22": -0.1567722955890506,
           "23": -0.17297607886193803,
           "24": -0.2341235404627462,
           "25": -0.006257246462870257,
           "26": 0.12301743758960759,
           "27": -0.1315423655555463,
           "28": -0.09695251972637085,
           "29": -0.20122697836752276,
           "3": -0.20698768077592383,
           "30": -0.02267672136910683,
           "31": -0.14900695424035926,
           "32": -0.08113040047367429,
           "33": 0.13651946186953487,
           "34": 0.12297969737604658,
           "35": -0.1460942371500498,
           "36": -0.14338257408085128,
           "37": 0.04903019505462577,
           "38": -0.21466614584663704,
           "39": -0.11573347621146632,
           "4": -0.1688035802659772,
           "40": -0.002841564084171243,
           "41": -0.1697057539398579,
           "42": 0.008497409722801422,
           "43": -0.15759960129493802,
           "44": -0.08866743289173926,
           "45": 0.07105914740280665,
           "46": 0.11267978097293659,
           "47": 0.14711572721527233,
           "48": -0.13361588552363757,
           "49": -0.142087847975996,
           "5": -0.25659611601171906,
           "50": -0.021344049085487187,
           "51": -0.23767345675673843,
           "52": -0.2556214640588663,
           "53": 0.22749662728254416,
           "54": 0.07590051177519465,
           "55": 0.08721003000761447,
           "56": 0.018959507383000132,
           "57": -0.05892098960741905,
           "58": 0.14786755077152045,
           "59": 0.07703130298240474,
           "6": -0.14030194255214584,
           "60": 0.01569100263293561,
           "61": 0.08310204364914306,
           "62": -0.0038338865932602134,
           "63": 0.09408579508862176,
           "64": -0.08118204072900931,
           "65": -0.15162808667582295,
           "66": -0.16841060946913952,
           "67": -0.06676861838192938,
           "68": 0.08582635421754223,
           "69": -0.137765953744894,
           "7": 0.02855915046750575,
           "70": -0.07380329696134613,
           "71": -0.30357177069410696,
           "72": -0.17849363141349892,
           "73": 0.14704285481668794,
           "74": -0.007847272033273192,
           "75": -0.03262261320991472,
           "76": 0.02181501400004002,
           "77": 0.006326011866869745,
           "78": -0.15607586779111127,
           "79": 0.0057403359115594165,
           "8": -0.11430526966192334,
           "80": 0.07629399229052151,
           "81": 0.07925512814657677,
           "82": 0.1783548009237121,
           "83": -0.005916964485134245,
           "84": -0.2094524413221426,
           "85": -0.22757054466542467,
           "86": 0.06487222947526557,
           "87": 0.09215999928226848,
           "88": -0.24004669889261498,
           "89": -0.2084648467826401,
           "9": -0.03767017211813544,
           "90": 0.12484822611717382,
           "91": 0.06291998680480858,
           "92": -0.17289709336850598,
           "93": -0.16667438716890634,
           "94": 0.00585791967544977,
           "95": 0.13232688468719267,
           "96": -0.2893160395576991,
           "97": -0.13783339231612746,
           "98": 0.1891028249359509,
           "99": -0.20499491796478697,
           "bdata": "NurTgRxlx794BHHrUGa0P+FV8GMOar4/7sHNg5J+yr+kVFgQW5vFv9pCox0SbNC/htJp/2n1wb81tQklnD6dPyBb9TIcQ72/J22QOoFJo7/Sjw1+SxbPP6XFjuSUML4/YJn6p5HnvD/WLJaAEQjLP7I+3t1Vc7q/NiEMDsXnsj/RCBKtmJbBP/Ji1q4Jgsg/75Rdjn5Iyj/0TCeJSHPTv64w2956u7E/rKJttYaywr8MpjxVHRHEv03m2YQUJMa/6G/BmsL3zb/Yk7zOMqF5v2D7SB8Sfr8//70MV2HWwL+nU31d4dG4vxOplD3Owcm/ha2kApE4l790YavtqBLDv6rtvkD2xLS/T6P/P3h5wT88Vk3ymHu/P6nFWEk3s8K/wyw/NVxawr9rX41YfBqpPzke/CUuesu/vnFhh7Wgvb/9vfMZMUdnv+mujgvruMW/dZPhBhdngT+tUrZGOSzEv/aDfazosra/Ezwtqu4wsj8l/zIGldi8PwD1jiqw1MI/yGlGSVMawb9aoxtC7y/Cv2tCJeM225W/B+DydRVszr9MdhIhGlzQv3R9EAecHs0/yfnSRzdusz/lEMSCZVO2P+QNogAfapM/KtrSVuQqrr+7BVrrUu3CP9zjE89SuLM/koGZXE0RkD92LrTvLEa1P+CmGzE+aG+/XX3stAEWuD9sIfShWMi0v0y/tpSMaMO/txT8lXqOxb9AeFmIvxexvzbPf0i3+LU/rRTrlFCiwb+INMnaxeSyvxeux0q4bdO/g427GuHYxr/OKUbeTNLCPwg+9wU7EoC/+HqxQemzoL+Zj8TOrFaWP+snUeFN6Xk/PMftRUv6w793mCGwLYN3P4PhxMkAiLM/wQluZxBKtD/GpYaCVNTGPwuvSA9jPHi/EeLFbFbPyr/beW8XCCHNv7XOA2h3m7A/mK7qNsyXtz9U1qCo2bnOvwwHpuH5rsq/NwojqA32vz9HZpc1hhuwPyusy/B9Ica/Y1P8GJZVxb/iwdtWef53P5x4Dl0W8MA/pfIGbCeE0r9YsiVMhqTBvwUvV3iFNMg/oKJAAkY9yr+RaATO50rAPxvecmHEgbg/OiTOumnMsD9Pq9WlhsWsP4KR0Ry1x8m/Bo16zyttyj8SC2s+wozCP/0S7UiIKqU/fDuGDZQLuD/8hnHbGuugPypPWaSQycO/Sh6G5nYN0L9yz6nA6DzMv/74dJWJPYe/3QVXmOMM0T9T9ViV3va2P1YGCRSb+bW/vcAgYA2/zL8fxBwBmleUPyOmCQC2qL2/WkWHX94exj/C6jeJ5qOmv2oQq2Tk248/osy20AEtpT8h/8bn5QGWvxReeFIpBJa/PZaRIRRPmT+AMVeRE6vMPxY1qzYEfsA/9l42I6Fvpz9fkamm3vnPP0KP7nu018g/0mewWJfWzr9C4afQclmnv7CNn4ogFJG/eOu5iZ6vt786wJQHdCm+P4kQfTh2FLc/VegVcBcCuz+t/UbdnV2vv2wGH9t9acY/Db+evrQJuT+Nlxi7qZuov3wPSZ3tT4c/+/YvZCw7rb8=",
           "dtype": "f8",
           "shape": "145"
          },
          "bdata": "NurTgRxlx794BHHrUGa0P+FV8GMOar4/7sHNg5J+yr+kVFgQW5vFv9pCox0SbNC/htJp/2n1wb81tQklnD6dPyBb9TIcQ72/J22QOoFJo7/Sjw1+SxbPP6XFjuSUML4/YJn6p5HnvD/WLJaAEQjLP7I+3t1Vc7q/NiEMDsXnsj/RCBKtmJbBP/Ji1q4Jgsg/75Rdjn5Iyj/0TCeJSHPTv64w2956u7E/rKJttYaywr8MpjxVHRHEv03m2YQUJMa/6G/BmsL3zb/Yk7zOMqF5v2D7SB8Sfr8//70MV2HWwL+nU31d4dG4vxOplD3Owcm/ha2kApE4l790YavtqBLDv6rtvkD2xLS/T6P/P3h5wT88Vk3ymHu/P6nFWEk3s8K/wyw/NVxawr9rX41YfBqpPzke/CUuesu/vnFhh7Wgvb/9vfMZMUdnv+mujgvruMW/dZPhBhdngT+tUrZGOSzEv/aDfazosra/Ezwtqu4wsj8l/zIGldi8PwD1jiqw1MI/yGlGSVMawb9aoxtC7y/Cv2tCJeM225W/B+DydRVszr9MdhIhGlzQv3R9EAecHs0/yfnSRzdusz/lEMSCZVO2P+QNogAfapM/KtrSVuQqrr+7BVrrUu3CP9zjE89SuLM/koGZXE0RkD92LrTvLEa1P+CmGzE+aG+/XX3stAEWuD9sIfShWMi0v0y/tpSMaMO/txT8lXqOxb9AeFmIvxexvzbPf0i3+LU/rRTrlFCiwb+INMnaxeSyvxeux0q4bdO/g427GuHYxr/OKUbeTNLCPwg+9wU7EoC/+HqxQemzoL+Zj8TOrFaWP+snUeFN6Xk/PMftRUv6w793mCGwLYN3P4PhxMkAiLM/wQluZxBKtD/GpYaCVNTGPwuvSA9jPHi/EeLFbFbPyr/beW8XCCHNv7XOA2h3m7A/mK7qNsyXtz9U1qCo2bnOvwwHpuH5rsq/NwojqA32vz9HZpc1hhuwPyusy/B9Ica/Y1P8GJZVxb/iwdtWef53P5x4Dl0W8MA/pfIGbCeE0r9YsiVMhqTBvwUvV3iFNMg/oKJAAkY9yr+RaATO50rAPxvecmHEgbg/OiTOumnMsD9Pq9WlhsWsP4KR0Ry1x8m/Bo16zyttyj8SC2s+wozCP/0S7UiIKqU/fDuGDZQLuD/8hnHbGuugPypPWaSQycO/Sh6G5nYN0L9yz6nA6DzMv/74dJWJPYe/3QVXmOMM0T9T9ViV3va2P1YGCRSb+bW/vcAgYA2/zL8fxBwBmleUPyOmCQC2qL2/WkWHX94exj/C6jeJ5qOmv2oQq2Tk248/osy20AEtpT8h/8bn5QGWvxReeFIpBJa/PZaRIRRPmT+AMVeRE6vMPxY1qzYEfsA/9l42I6Fvpz9fkamm3vnPP0KP7nu018g/0mewWJfWzr9C4afQclmnv7CNn4ogFJG/eOu5iZ6vt786wJQHdCm+P4kQfTh2FLc/VegVcBcCuz+t/UbdnV2vv2wGH9t9acY/Db+evrQJuT+Nlxi7qZuov3wPSZ3tT4c/+/YvZCw7rb8=",
          "dtype": "f8"
         }
        },
        {
         "hovertemplate": "%{text}<extra></extra>",
         "marker": {
          "color": "rgb(255,255,179)",
          "opacity": 0.7,
          "size": 6
         },
         "mode": "markers",
         "name": "EJA",
         "text": [
          "Programa: EJA<br>Tópico: Educação de Jovens e Adultos<br>Pergunta: O que é EJA?",
          "Programa: EJA<br>Tópico: Educação de Jovens e Adultos<br>Pergunta: Quem pode participar do EJA?",
          "Programa: EJA<br>Tópico: Educação de Jovens e Adultos<br>Pergunta: Como funciona o EJA?",
          "Programa: EJA<br>Tópico: Educação de Jovens e Adultos<br>Pergunta: Onde encontrar o EJA?"
         ],
         "type": "scatter3d",
         "x": {
          "_inputArray": {
           "0": -0.12434487293603294,
           "1": -0.19658156457133671,
           "2": -0.11651180822786553,
           "3": -0.1180153002723715,
           "bdata": "Wn+vyhDVv7+pSmqvlSnJv96+78W3072/2PIYL0A2vr8=",
           "dtype": "f8",
           "shape": "4"
          },
          "bdata": "Wn+vyhDVv7+pSmqvlSnJv96+78W3072/2PIYL0A2vr8=",
          "dtype": "f8"
         },
         "y": {
          "_inputArray": {
           "0": 0.31265932090017645,
           "1": 0.1924557017450742,
           "2": 0.28458848497905676,
           "3": 0.3226167276694649,
           "bdata": "rJKDPZwC1D/cP3ZwY6LIPzho856yNtI/rOeeocCl1D8=",
           "dtype": "f8",
           "shape": "4"
          },
          "bdata": "rJKDPZwC1D/cP3ZwY6LIPzho856yNtI/rOeeocCl1D8=",
          "dtype": "f8"
         },
         "z": {
          "_inputArray": {
           "0": -0.2090094974151042,
           "1": -0.20528637819404966,
           "2": -0.1964531448824434,
           "3": -0.19551616654721493,
           "bdata": "L8P5vdLAyr+GMFT00kbKv3G0O2xgJcm/CG2UeqwGyb8=",
           "dtype": "f8",
           "shape": "4"
          },
          "bdata": "L8P5vdLAyr+GMFT00kbKv3G0O2xgJcm/CG2UeqwGyb8=",
          "dtype": "f8"
         }
        },
        {
         "hovertemplate": "%{text}<extra></extra>",
         "marker": {
          "color": "rgb(190,186,218)",
          "opacity": 0.7,
          "size": 6
         },
         "mode": "markers",
         "name": "PROEJA",
         "text": [
          "Programa: PROEJA<br>Tópico: Educação de Jovens e Adultos<br>Pergunta: Como o EJA pode me preparar para o mercado de trabalho?",
          "Programa: PROEJA<br>Tópico: Educação de Jovens e Adultos<br>Pergunta: Quais são as instituições que ofertam os cursos?",
          "Programa: PROEJA<br>Tópico: Educação de Jovens e Adultos<br>Pergunta: Como é feita a seleção para os cursos Proeja?",
          "Programa: PROEJA<br>Tópico: Educação de Jovens e Adultos<br>Pergunta: Eu já concluí o ensino médio, posso cursar o Proeja ?"
         ],
         "type": "scatter3d",
         "x": {
          "_inputArray": {
           "0": -0.20083137347272012,
           "1": -0.30207578981716643,
           "2": -0.3040784840384372,
           "3": -0.2629867224890004,
           "bdata": "er2Jqte0yb/8ZYuxNVXTv6wwF5oFdtO/ydYXQ8bU0L8=",
           "dtype": "f8",
           "shape": "4"
          },
          "bdata": "er2Jqte0yb/8ZYuxNVXTv6wwF5oFdtO/ydYXQ8bU0L8=",
          "dtype": "f8"
         },
         "y": {
          "_inputArray": {
           "0": 0.27099607666761233,
           "1": 0.15099785553099557,
           "2": 0.1764563676791083,
           "3": 0.050300005713786296,
           "bdata": "1W2o7f9X0T/9yKLR5VPDP/slLUwflsY/uQMPH+zAqT8=",
           "dtype": "f8",
           "shape": "4"
          },
          "bdata": "1W2o7f9X0T/9yKLR5VPDP/slLUwflsY/uQMPH+zAqT8=",
          "dtype": "f8"
         },
         "z": {
          "_inputArray": {
           "0": -0.11783209566946862,
           "1": -0.013707919642541139,
           "2": -0.05459087988900939,
           "3": -0.2178688538679696,
           "bdata": "eMtRhT4qvr99vnzU5RKMv0b6kPdV86u/BwgXaSDjy78=",
           "dtype": "f8",
           "shape": "4"
          },
          "bdata": "eMtRhT4qvr99vnzU5RKMv0b6kPdV86u/BwgXaSDjy78=",
          "dtype": "f8"
         }
        },
        {
         "hovertemplate": "%{text}<extra></extra>",
         "marker": {
          "color": "rgb(251,128,114)",
          "opacity": 0.7,
          "size": 6
         },
         "mode": "markers",
         "name": "Pé-de-meia/EJA",
         "text": [
          "Programa: Pé-de-meia/EJA<br>Tópico: Educação de Jovens e Adultos<br>Pergunta: Alunos da EJA têm direito ao recebimento do Pé de Meia?"
         ],
         "type": "scatter3d",
         "x": {
          "_inputArray": {
           "0": 0.09115239919689147,
           "bdata": "cqmAfcNVtz8=",
           "dtype": "f8",
           "shape": "1"
          },
          "bdata": "cqmAfcNVtz8=",
          "dtype": "f8"
         },
         "y": {
          "_inputArray": {
           "0": -0.06110761841363756,
           "bdata": "kvw+bX9Jr78=",
           "dtype": "f8",
           "shape": "1"
          },
          "bdata": "kvw+bX9Jr78=",
          "dtype": "f8"
         },
         "z": {
          "_inputArray": {
           "0": -0.2272430995238314,
           "bdata": "3SdZSE0Wzb8=",
           "dtype": "f8",
           "shape": "1"
          },
          "bdata": "3SdZSE0Wzb8=",
          "dtype": "f8"
         }
        },
        {
         "hovertemplate": "%{text}<extra></extra>",
         "marker": {
          "color": "rgb(128,177,211)",
          "opacity": 0.7,
          "size": 6
         },
         "mode": "markers",
         "name": "Certificação Ensino Médio",
         "text": [
          "Programa: Certificação Ensino Médio<br>Tópico: Educação Básica<br>Pergunta: Como ter acesso a certificação do ensino médio?"
         ],
         "type": "scatter3d",
         "x": {
          "_inputArray": {
           "0": -0.11680579637861357,
           "bdata": "4uttE/zmvb8=",
           "dtype": "f8",
           "shape": "1"
          },
          "bdata": "4uttE/zmvb8=",
          "dtype": "f8"
         },
         "y": {
          "_inputArray": {
           "0": 0.08616110813736255,
           "bdata": "cBijhacOtj8=",
           "dtype": "f8",
           "shape": "1"
          },
          "bdata": "cBijhacOtj8=",
          "dtype": "f8"
         },
         "z": {
          "_inputArray": {
           "0": -0.2636097322207836,
           "bdata": "1eqyWvve0L8=",
           "dtype": "f8",
           "shape": "1"
          },
          "bdata": "1eqyWvve0L8=",
          "dtype": "f8"
         }
        },
        {
         "hovertemplate": "%{text}<extra></extra>",
         "marker": {
          "color": "rgb(253,180,98)",
          "opacity": 0.7,
          "size": 6
         },
         "mode": "markers",
         "name": "Encceja",
         "text": [
          "Programa: Encceja<br>Tópico: Educação Básica<br>Pergunta: O que é Encceja?",
          "Programa: Encceja<br>Tópico: Educação Básica<br>Pergunta: Para que serve o Encceja?",
          "Programa: Encceja<br>Tópico: Educação Básica<br>Pergunta: Como obter o certificado de conclusão da educação básica através do Encceja?",
          "Programa: Encceja<br>Tópico: Educação Básica<br>Pergunta: Onde e quando acontecem as inscrições e provas?"
         ],
         "type": "scatter3d",
         "x": {
          "_inputArray": {
           "0": -0.09351596687324681,
           "1": -0.13597502489791777,
           "2": -0.16224596900382296,
           "3": -0.24222539267411797,
           "bdata": "oNlfk6nwt78jMoEuoWfBv3G+Y9V5xMS/bubl3T0Bz78=",
           "dtype": "f8",
           "shape": "4"
          },
          "bdata": "oNlfk6nwt78jMoEuoWfBv3G+Y9V5xMS/bubl3T0Bz78=",
          "dtype": "f8"
         },
         "y": {
          "_inputArray": {
           "0": 0.32316745467030134,
           "1": 0.29382366716473524,
           "2": 0.15180843057655435,
           "3": 0.1758828932799892,
           "bdata": "QzE8jMau1D9Z2lDIAc7SP3CsSmp1bsM/4R1IpVSDxj8=",
           "dtype": "f8",
           "shape": "4"
          },
          "bdata": "QzE8jMau1D9Z2lDIAc7SP3CsSmp1bsM/4R1IpVSDxj8=",
          "dtype": "f8"
         },
         "z": {
          "_inputArray": {
           "0": -0.06482148902160827,
           "1": -0.07896583051128868,
           "2": -0.23660916702319537,
           "3": -0.1192751062514039,
           "bdata": "OwNtHySYsL+XJozLGje0v9EyJo01Sc6/76KTONCIvr8=",
           "dtype": "f8",
           "shape": "4"
          },
          "bdata": "OwNtHySYsL+XJozLGje0v9EyJo01Sc6/76KTONCIvr8=",
          "dtype": "f8"
         }
        },
        {
         "hovertemplate": "%{text}<extra></extra>",
         "marker": {
          "color": "rgb(179,222,105)",
          "opacity": 0.7,
          "size": 6
         },
         "mode": "markers",
         "name": "ENEM",
         "text": [
          "Programa: ENEM<br>Tópico: Educação Básica<br>Pergunta: Como obter o certificado do Ensino Médio através do ENEM?",
          "Programa: ENEM<br>Tópico: Educação Básica<br>Pergunta: Conseguir alcançar a pontuação necessária para o certificado, como posso emiti-lo?"
         ],
         "type": "scatter3d",
         "x": {
          "_inputArray": {
           "0": -0.25299398124283595,
           "1": -0.23913041995159182,
           "bdata": "2XXhqg0x0L/Z3ZVa05vOvw==",
           "dtype": "f8",
           "shape": "2"
          },
          "bdata": "2XXhqg0x0L/Z3ZVa05vOvw==",
          "dtype": "f8"
         },
         "y": {
          "_inputArray": {
           "0": 0.015401998400831124,
           "1": 0.02030237846759385,
           "bdata": "A5xlOxWLjz+cgzKOJcqUPw==",
           "dtype": "f8",
           "shape": "2"
          },
          "bdata": "A5xlOxWLjz+cgzKOJcqUPw==",
          "dtype": "f8"
         },
         "z": {
          "_inputArray": {
           "0": -0.32182280992572876,
           "1": -0.21663368114508472,
           "bdata": "mDjvsr6Y1L8zeN0Hp7rLvw==",
           "dtype": "f8",
           "shape": "2"
          },
          "bdata": "mDjvsr6Y1L8zeN0Hp7rLvw==",
          "dtype": "f8"
         }
        },
        {
         "hovertemplate": "%{text}<extra></extra>",
         "marker": {
          "color": "rgb(252,205,229)",
          "opacity": 0.7,
          "size": 6
         },
         "mode": "markers",
         "name": "Cursinho Popular",
         "text": [
          "Programa: Cursinho Popular<br>Tópico: Educação Básica<br>Pergunta: O que é o CPOP?",
          "Programa: Cursinho Popular<br>Tópico: Educação Básica<br>Pergunta: O que a CPOP fornece para os alunos de cursinhos populares?",
          "Programa: Cursinho Popular<br>Tópico: Educação Básica<br>Pergunta: Quem pode ser estudante do CPOP?",
          "Programa: Cursinho Popular<br>Tópico: Educação Básica<br>Pergunta: Quanto é a bolsa para o estudante do cursinho popular selecionado?",
          "Programa: Cursinho Popular<br>Tópico: Preparação para acesso ao Ensino Superior<br>Pergunta: O que é um Cursinho Popular?",
          "Programa: Cursinho Popular<br>Tópico: Preparação para acesso ao Ensino Superior<br>Pergunta: Quem tem direito a fazer Cursinho Popular?",
          "Programa: Cursinho Popular<br>Tópico: Preparação para acesso ao Ensino Superior<br>Pergunta: Por que o Cursinho Popular é importante?",
          "Programa: Cursinho Popular<br>Tópico: Preparação para acesso ao Ensino Superior<br>Pergunta: Quando é possível se inscrever no Cursinho Popular?",
          "Programa: Cursinho Popular<br>Tópico: Preparação para acesso ao Ensino Superior<br>Pergunta: Como se inscrever para o Cursinho Popular?"
         ],
         "type": "scatter3d",
         "x": {
          "_inputArray": {
           "0": -0.18726841207068307,
           "1": -0.24722369948328968,
           "2": -0.29206248164095366,
           "3": -0.31485350402649576,
           "4": -0.26832386955523163,
           "5": -0.291635905163963,
           "6": -0.2780610079899756,
           "7": -0.3253201595457843,
           "8": -0.28508532697194217,
           "bdata": "hm61TGn4x7+X1gm0BqXPv/VVwtUmsdK/lcm0T48m1L/7dB7hNyzRv2QwwaQpqtK/+gXnZcDL0b8ion6lC9LUv0t++obWPtK/",
           "dtype": "f8",
           "shape": "9"
          },
          "bdata": "hm61TGn4x7+X1gm0BqXPv/VVwtUmsdK/lcm0T48m1L/7dB7hNyzRv2QwwaQpqtK/+gXnZcDL0b8ion6lC9LUv0t++obWPtK/",
          "dtype": "f8"
         },
         "y": {
          "_inputArray": {
           "0": 0.5173186154602387,
           "1": 0.39997120481087445,
           "2": 0.29227065893253945,
           "3": 0.1032642355524125,
           "4": 0.47635287232583523,
           "5": 0.19579050613571974,
           "6": 0.3988200297990234,
           "7": 0.24378791274589315,
           "8": 0.3513500486648539,
           "bdata": "cHDgxN+N4D96SADTIJnZPyiFbP6PtNI/AUeLYoZvuj8ksP/BkHzeP6IvXM6pD8k/0H8+ckSG2T/brDM8cTTPP+eqHeqEfNY/",
           "dtype": "f8",
           "shape": "9"
          },
          "bdata": "cHDgxN+N4D96SADTIJnZPyiFbP6PtNI/AUeLYoZvuj8ksP/BkHzeP6IvXM6pD8k/0H8+ckSG2T/brDM8cTTPP+eqHeqEfNY/",
          "dtype": "f8"
         },
         "z": {
          "_inputArray": {
           "0": 0.16426960954893924,
           "1": 0.06019370275986578,
           "2": 0.06726973305874724,
           "3": 0.04373576381024082,
           "4": 0.07806001280706165,
           "5": 0.05170459288890844,
           "6": 0.04720315345520576,
           "7": 0.022809120909421162,
           "8": 0.0637897923777872,
           "bdata": "HaReXMkGxT++uo6BtdGuP+16f9eWOLE/kwx2tohkpj8wtSGyvfuzP+iOBT8Geao/IGO3AAMrqD9vB20xRluXPzzLFCCHVLA/",
           "dtype": "f8",
           "shape": "9"
          },
          "bdata": "HaReXMkGxT++uo6BtdGuP+16f9eWOLE/kwx2tohkpj8wtSGyvfuzP+iOBT8Geao/IGO3AAMrqD9vB20xRluXPzzLFCCHVLA/",
          "dtype": "f8"
         }
        },
        {
         "hovertemplate": "%{text}<extra></extra>",
         "marker": {
          "color": "rgb(217,217,217)",
          "opacity": 0.7,
          "size": 6
         },
         "mode": "markers",
         "name": "SISU",
         "text": [
          "Programa: SISU<br>Tópico: Acesso ao Ensino Superior<br>Pergunta: O que é o SISU?",
          "Programa: SISU<br>Tópico: Acesso ao Ensino Superior<br>Pergunta: Quem pode se inscrever no SISU?",
          "Programa: SISU<br>Tópico: Acesso ao Ensino Superior<br>Pergunta: Posso escolher qual semestre irei cursar?",
          "Programa: SISU<br>Tópico: Acesso ao Ensino Superior<br>Pergunta: O candidato que participou do Sisu em edições anteriores e foi selecionado pode concorrer nesta edição?",
          "Programa: SISU<br>Tópico: Acesso ao Ensino Superior<br>Pergunta: O candidato matriculado em instituição de educação superior pode concorrer no processo seletivo desta edição do Sisu?",
          "Programa: SISU<br>Tópico: Acesso ao Ensino Superior<br>Pergunta: É cobrada alguma taxa para a realização da inscrição?",
          "Programa: SISU<br>Tópico: Acesso ao Ensino Superior<br>Pergunta: Quais os documentos necessários para fazer a inscrição no Sisu?"
         ],
         "type": "scatter3d",
         "x": {
          "_inputArray": {
           "0": -0.2234402616385377,
           "1": -0.37472181441944125,
           "2": -0.3219248239128629,
           "3": -0.4117908181600567,
           "4": -0.42707191301237984,
           "5": -0.28631396749845645,
           "6": -0.3675189693786773,
           "bdata": "JHEsxLCZzL+/34E0cfvXv8h7npNqmtS//Jcy4Mda2r+7adtuJVXbv+POstH3UtK/3waJSG6F178=",
           "dtype": "f8",
           "shape": "7"
          },
          "bdata": "JHEsxLCZzL+/34E0cfvXv8h7npNqmtS//Jcy4Mda2r+7adtuJVXbv+POstH3UtK/3waJSG6F178=",
          "dtype": "f8"
         },
         "y": {
          "_inputArray": {
           "0": 0.010781580824887449,
           "1": -0.10175438618019914,
           "2": -0.11415075520022361,
           "3": -0.13980938395199569,
           "4": -0.1772920867826572,
           "5": -0.10427315681494978,
           "6": -0.12380398833298957,
           "bdata": "ACpWSKcUhj+mVt5Qkwy6v7wOZuD7OL2/k7XfHUblwb8FGknRgbHGv5LyXkalsbq/kSoBQZ6xv78=",
           "dtype": "f8",
           "shape": "7"
          },
          "bdata": "ACpWSKcUhj+mVt5Qkwy6v7wOZuD7OL2/k7XfHUblwb8FGknRgbHGv5LyXkalsbq/kSoBQZ6xv78=",
          "dtype": "f8"
         },
         "z": {
          "_inputArray": {
           "0": 0.3117546882559639,
           "1": 0.1963468144981241,
           "2": 0.0848109679178894,
           "3": 0.15713970361987584,
           "4": 0.09406705069858555,
           "5": 0.14460574795418002,
           "6": 0.2146511614712925,
           "bdata": "Uceb78nz0z99u3h15CHJPx2ojO0rtrU/+Kn5XycdxD93sGE6xxS4P+huI+9wgsI/qadIc7B5yz8=",
           "dtype": "f8",
           "shape": "7"
          },
          "bdata": "Uceb78nz0z99u3h15CHJPx2ojO0rtrU/+Kn5XycdxD93sGE6xxS4P+huI+9wgsI/qadIc7B5yz8=",
          "dtype": "f8"
         }
        },
        {
         "hovertemplate": "%{text}<extra></extra>",
         "marker": {
          "color": "rgb(188,128,189)",
          "opacity": 0.7,
          "size": 6
         },
         "mode": "markers",
         "name": "Programa Progredir",
         "text": [
          "Programa: Programa Progredir<br>Tópico: Acesso a emprego<br>Pergunta: O que é o Programa Progredir?",
          "Programa: Programa Progredir<br>Tópico: Acesso a emprego<br>Pergunta: Quem pode participar do Programa Progredir?"
         ],
         "type": "scatter3d",
         "x": {
          "_inputArray": {
           "0": -0.0030285022386421635,
           "1": -0.08149124846794169,
           "bdata": "Hz9EwjrPaL8rfBRHnNy0vw==",
           "dtype": "f8",
           "shape": "2"
          },
          "bdata": "Hz9EwjrPaL8rfBRHnNy0vw==",
          "dtype": "f8"
         },
         "y": {
          "_inputArray": {
           "0": 0.268282012360015,
           "1": 0.14532834737505115,
           "bdata": "yT5MUYgr0T9TK5SJHprCPw==",
           "dtype": "f8",
           "shape": "2"
          },
          "bdata": "yT5MUYgr0T9TK5SJHprCPw==",
          "dtype": "f8"
         },
         "z": {
          "_inputArray": {
           "0": 0.18482918867144832,
           "1": 0.11507909336006499,
           "bdata": "rlRYnHuoxz+zT2/O0nW9Pw==",
           "dtype": "f8",
           "shape": "2"
          },
          "bdata": "rlRYnHuoxz+zT2/O0nW9Pw==",
          "dtype": "f8"
         }
        },
        {
         "hovertemplate": "%{text}<extra></extra>",
         "marker": {
          "color": "rgb(204,235,197)",
          "opacity": 0.7,
          "size": 6
         },
         "mode": "markers",
         "name": "CadEJA",
         "text": [
          "Programa: CadEJA<br>Tópico: Preparação para acesso ao Ensino Superior<br>Pergunta: O que é o CadEJA?",
          "Programa: CadEJA<br>Tópico: Preparação para acesso ao Ensino Superior<br>Pergunta: Quem tem direito a acessar o CADEJA?",
          "Programa: CadEJA<br>Tópico: Preparação para acesso ao Ensino Superior<br>Pergunta: Por que o CADEJA é importante?",
          "Programa: CadEJA<br>Tópico: Preparação para acesso ao Ensino Superior<br>Pergunta: Quando é possível se inscrever no CADEJA?",
          "Programa: CadEJA<br>Tópico: Preparação para acesso ao Ensino Superior<br>Pergunta: Como se inscrever no CadEJA?"
         ],
         "type": "scatter3d",
         "x": {
          "_inputArray": {
           "0": -0.031535344443344944,
           "1": -0.033012511321870795,
           "2": -0.014759444828691988,
           "3": -0.15036094064961578,
           "4": -0.1633561444191367,
           "bdata": "EcIakmYloL+z9/gQBOegv1FSxSYzOo6/d8tX/QY/w7+Iv/Co2ujEvw==",
           "dtype": "f8",
           "shape": "5"
          },
          "bdata": "EcIakmYloL+z9/gQBOegv1FSxSYzOo6/d8tX/QY/w7+Iv/Co2ujEvw==",
          "dtype": "f8"
         },
         "y": {
          "_inputArray": {
           "0": 0.35455894652558473,
           "1": 0.05620456213914189,
           "2": 0.2924557878608162,
           "3": 0.12889399134308563,
           "4": 0.2539532657514764,
           "bdata": "7Dj1ARix1j8qF4wo2MasP/PWGHuYt9I/Qxe8Kpl/wD/3W8cyxUDQPw==",
           "dtype": "f8",
           "shape": "5"
          },
          "bdata": "7Dj1ARix1j8qF4wo2MasP/PWGHuYt9I/Qxe8Kpl/wD/3W8cyxUDQPw==",
          "dtype": "f8"
         },
         "z": {
          "_inputArray": {
           "0": -0.0660288285350119,
           "1": 0.1752907620986943,
           "2": 0.1081863225922404,
           "3": 0.01876663677035908,
           "4": -0.03595787697349568,
           "bdata": "X6wm60PnsL+PnUB97W/GP2J+aE0Zsrs/pgi9rI83kz+p/kQjEmmivw==",
           "dtype": "f8",
           "shape": "5"
          },
          "bdata": "X6wm60PnsL+PnUB97W/GP2J+aE0Zsrs/pgi9rI83kz+p/kQjEmmivw==",
          "dtype": "f8"
         }
        },
        {
         "hovertemplate": "%{text}<extra></extra>",
         "marker": {
          "color": "rgb(255,237,111)",
          "opacity": 0.7,
          "size": 6
         },
         "mode": "markers",
         "name": "ProCampo",
         "text": [
          "Programa: ProCampo<br>Tópico: Formação de professores<br>Pergunta: O que é o ProCampo?",
          "Programa: ProCampo<br>Tópico: Formação de professores<br>Pergunta: Quem tem direito a fazer ProCampo?",
          "Programa: ProCampo<br>Tópico: Formação de professores<br>Pergunta: Por que o ProCampo é importante?",
          "Programa: ProCampo<br>Tópico: Formação de professores<br>Pergunta: Quando é possível se inscrever no ProCampo?",
          "Programa: ProCampo<br>Tópico: Formação de professores<br>Pergunta: Como se inscrever para o ProCampo?"
         ],
         "type": "scatter3d",
         "x": {
          "_inputArray": {
           "0": -0.013627202602018964,
           "1": -0.06148928843074843,
           "2": -0.018053098081876752,
           "3": -0.15596323402862183,
           "4": -0.1314680832167071,
           "bdata": "btUXLJToi79zj7olhnuvv8qdaeeCfJK/dgLEbpr2w7+cGPE28tPAvw==",
           "dtype": "f8",
           "shape": "5"
          },
          "bdata": "btUXLJToi79zj7olhnuvv8qdaeeCfJK/dgLEbpr2w7+cGPE28tPAvw==",
          "dtype": "f8"
         },
         "y": {
          "_inputArray": {
           "0": 0.3561629368926689,
           "1": 0.10256722851076419,
           "2": 0.34380914798593587,
           "3": 0.16920397508383572,
           "4": 0.2505989664479317,
           "bdata": "tRWAoV/L1j/iVxiM2EG6P/KSqhX4ANY/ikyr0XmoxT+DiVM/0AnQPw==",
           "dtype": "f8",
           "shape": "5"
          },
          "bdata": "tRWAoV/L1j/iVxiM2EG6P/KSqhX4ANY/ikyr0XmoxT+DiVM/0AnQPw==",
          "dtype": "f8"
         },
         "z": {
          "_inputArray": {
           "0": 0.25895923922337877,
           "1": 0.21225430076251517,
           "2": 0.2492124218758174,
           "3": 0.1687064098564392,
           "4": 0.1965978505394607,
           "bdata": "b4jdxcmS0D/E7BogJivLP/FW21Ax5s8/zr968CuYxT/d80NNHirJPw==",
           "dtype": "f8",
           "shape": "5"
          },
          "bdata": "b4jdxcmS0D/E7BogJivLP/FW21Ax5s8/zr968CuYxT/d80NNHirJPw==",
          "dtype": "f8"
         }
        },
        {
         "hovertemplate": "%{text}<extra></extra>",
         "marker": {
          "color": "rgb(141,211,199)",
          "opacity": 0.7,
          "size": 6
         },
         "mode": "markers",
         "name": "Cadastro Único (CadÚnico)",
         "text": [
          "Programa: Cadastro Único (CadÚnico)<br>Tópico: Educação Básica<br>Pergunta: O que é o Cadastro Único (CadÚnico)?",
          "Programa: Cadastro Único (CadÚnico)<br>Tópico: Educação Básica<br>Pergunta: Por que o Cadastro Único é importante para um estudante?",
          "Programa: Cadastro Único (CadÚnico)<br>Tópico: Educação Básica<br>Pergunta: Como minha família se inscreve no Cadastro Único?"
         ],
         "type": "scatter3d",
         "x": {
          "_inputArray": {
           "0": -0.1653287138662824,
           "1": -0.2886667732212417,
           "2": -0.17308022340099405,
           "bdata": "Rp2SxX0pxb9OVZszhHnSv/i6iyV+J8a/",
           "dtype": "f8",
           "shape": "3"
          },
          "bdata": "Rp2SxX0pxb9OVZszhHnSv/i6iyV+J8a/",
          "dtype": "f8"
         },
         "y": {
          "_inputArray": {
           "0": 0.07622531111100067,
           "1": -0.026898828701074916,
           "2": -0.029957701724123157,
           "bdata": "bGNZgoCDsz/zi0nWXYubv2F5rFQ7rZ6/",
           "dtype": "f8",
           "shape": "3"
          },
          "bdata": "bGNZgoCDsz/zi0nWXYubv2F5rFQ7rZ6/",
          "dtype": "f8"
         },
         "z": {
          "_inputArray": {
           "0": 0.30679075342077766,
           "1": 0.16351637747449263,
           "2": 0.302341278709326,
           "bdata": "gBMqr3Wi0z/Tgc7KGu7EP19kEjyPWdM/",
           "dtype": "f8",
           "shape": "3"
          },
          "bdata": "gBMqr3Wi0z/Tgc7KGu7EP19kEjyPWdM/",
          "dtype": "f8"
         }
        },
        {
         "hovertemplate": "%{text}<extra></extra>",
         "marker": {
          "color": "rgb(255,255,179)",
          "opacity": 0.7,
          "size": 6
         },
         "mode": "markers",
         "name": "CPOP (Rede Nacional de Cursinhos Populares)",
         "text": [
          "Programa: CPOP (Rede Nacional de Cursinhos Populares)<br>Tópico: Acesso ao Ensino Superior<br>Pergunta: O que é um cursinho popular?",
          "Programa: CPOP (Rede Nacional de Cursinhos Populares)<br>Tópico: Acesso ao Ensino Superior<br>Pergunta: O que é a Rede Nacional de Cursinhos Populares (CPOP)?",
          "Programa: CPOP (Rede Nacional de Cursinhos Populares)<br>Tópico: Acesso ao Ensino Superior<br>Pergunta: Como um cursinho entra para a CPOP?",
          "Programa: CPOP (Rede Nacional de Cursinhos Populares)<br>Tópico: Acesso ao Ensino Superior<br>Pergunta: Como sei os cursinhos populares que fazem parte da CPOP?",
          "Programa: CPOP (Rede Nacional de Cursinhos Populares)<br>Tópico: Acesso ao Ensino Superior<br>Pergunta: Sou aluno e quero participar de um cursinho da CPOP?",
          "Programa: CPOP (Rede Nacional de Cursinhos Populares)<br>Tópico: Acesso ao Ensino Superior<br>Pergunta: Os alunos de cursinhos da CPOP recebem algum apoio?"
         ],
         "type": "scatter3d",
         "x": {
          "_inputArray": {
           "0": -0.2384713714977571,
           "1": -0.15678487560893598,
           "2": -0.2519091600661746,
           "3": -0.1445487325345521,
           "4": -0.26457268591708744,
           "5": -0.18926915253014534,
           "bdata": "sLzO2jqGzr8tuJ/chhHEv9oCA5lHH9C/8wJ1p5KAwr/5cFtGwu7QvyEaIbr4Oci/",
           "dtype": "f8",
           "shape": "6"
          },
          "bdata": "sLzO2jqGzr8tuJ/chhHEv9oCA5lHH9C/8wJ1p5KAwr/5cFtGwu7QvyEaIbr4Oci/",
          "dtype": "f8"
         },
         "y": {
          "_inputArray": {
           "0": 0.4943011578791529,
           "1": 0.5056937149659094,
           "2": 0.4005195875293577,
           "3": 0.4757733629127726,
           "4": 0.34739081456525256,
           "5": 0.286863351908143,
           "bdata": "N9HdUqGi3z9PSPKVpC7gP+Akdugcotk/yiuBHhJz3j+SRN+upjvWP1Fztxr4W9I/",
           "dtype": "f8",
           "shape": "6"
          },
          "bdata": "N9HdUqGi3z9PSPKVpC7gP+Akdugcotk/yiuBHhJz3j+SRN+upjvWP1Fztxr4W9I/",
          "dtype": "f8"
         },
         "z": {
          "_inputArray": {
           "0": 0.09370597136187782,
           "1": 0.14792958321533725,
           "2": 0.10607882615602593,
           "3": 0.14641444655552083,
           "4": 0.05928648108251466,
           "5": 0.04804528669275846,
           "bdata": "9W1wUh39tz8NqQJJW+/CPyBhI2H7J7s/aBfPZbW9wj8fS7AyzFquP/UJJU5kmag/",
           "dtype": "f8",
           "shape": "6"
          },
          "bdata": "9W1wUh39tz8NqQJJW+/CPyBhI2H7J7s/aBfPZbW9wj8fS7AyzFquP/UJJU5kmag/",
          "dtype": "f8"
         }
        },
        {
         "hovertemplate": "%{text}<extra></extra>",
         "marker": {
          "color": "rgb(190,186,218)",
          "opacity": 0.7,
          "size": 6
         },
         "mode": "markers",
         "name": "ENEM (Exame Nacional do Ensino Médio)",
         "text": [
          "Programa: ENEM (Exame Nacional do Ensino Médio)<br>Tópico: Acesso ao Ensino Superior<br>Pergunta: O que é o ENEM?",
          "Programa: ENEM (Exame Nacional do Ensino Médio)<br>Tópico: Acesso ao Ensino Superior<br>Pergunta: Para que serve a nota do ENEM?",
          "Programa: ENEM (Exame Nacional do Ensino Médio)<br>Tópico: Acesso ao Ensino Superior<br>Pergunta: Quem pode fazer a prova do ENEM?",
          "Programa: ENEM (Exame Nacional do Ensino Médio)<br>Tópico: Acesso ao Ensino Superior<br>Pergunta: Como faço para me inscrever no ENEM?",
          "Programa: ENEM (Exame Nacional do Ensino Médio)<br>Tópico: Acesso ao Ensino Superior<br>Pergunta: Preciso pagar para fazer o ENEM?",
          "Programa: ENEM (Exame Nacional do Ensino Médio)<br>Tópico: Acesso ao Ensino Superior<br>Pergunta: Existe isenção da taxa de inscrição do ENEM?",
          "Programa: ENEM (Exame Nacional do Ensino Médio)<br>Tópico: Acesso ao Ensino Superior<br>Pergunta: Se eu conseguir a isenção da taxa, minha inscrição no ENEM está garantida?",
          "Programa: ENEM (Exame Nacional do Ensino Médio)<br>Tópico: Acesso ao Ensino Superior<br>Pergunta: Sou aluno de escola pública, minha inscrição no ENEM é automática?",
          "Programa: ENEM (Exame Nacional do Ensino Médio)<br>Tópico: Acesso ao Ensino Superior<br>Pergunta: Como são as provas do ENEM?",
          "Programa: ENEM (Exame Nacional do Ensino Médio)<br>Tópico: Acesso ao Ensino Superior<br>Pergunta: Posso usar minha nota do ENEM para estudar fora do Brasil?",
          "Programa: ENEM (Exame Nacional do Ensino Médio)<br>Tópico: Acesso ao Ensino Superior<br>Pergunta: Não consegui fazer a prova em um dos dias. Posso refazer?",
          "Programa: ENEM (Exame Nacional do Ensino Médio)<br>Tópico: Acesso ao Ensino Superior<br>Pergunta: O ENEM tem prazo de validade?",
          "Programa: ENEM (Exame Nacional do Ensino Médio)<br>Tópico: Acesso ao Ensino Superior<br>Pergunta: O que é o programa \"Pé-de-Meia\" e qual a relação com o ENEM?"
         ],
         "type": "scatter3d",
         "x": {
          "_inputArray": {
           "0": -0.28748907371921234,
           "1": -0.3119895373652251,
           "10": -0.2794300766937061,
           "11": -0.29660771913662687,
           "12": 0.05257745019554825,
           "2": -0.3361346899519598,
           "3": -0.3328326302301953,
           "4": -0.2966446517654048,
           "5": -0.3241664477077387,
           "6": -0.33170014160224787,
           "7": -0.30159365774543495,
           "8": -0.294155724120266,
           "9": -0.3592320926770302,
           "bdata": "1zRlkjhm0r9FYev2ovfTv91DGRM7g9W/p1d4OyFN1b/+Z3fZOfzSv/Zf16Akv9S/gacQO5M61b93pix8T03Tv4LGwYdy09K/0yxumqj91r9wxDqwLuLRv7a1W/Ge+9K/PaMxem7rqj8=",
           "dtype": "f8",
           "shape": "13"
          },
          "bdata": "1zRlkjhm0r9FYev2ovfTv91DGRM7g9W/p1d4OyFN1b/+Z3fZOfzSv/Zf16Akv9S/gacQO5M61b93pix8T03Tv4LGwYdy09K/0yxumqj91r9wxDqwLuLRv7a1W/Ge+9K/PaMxem7rqj8=",
          "dtype": "f8"
         },
         "y": {
          "_inputArray": {
           "0": 0.17206292508037782,
           "1": 0.0817341513072802,
           "10": -0.06314982330231676,
           "11": 0.003570119785100023,
           "12": 0.1132582210095795,
           "2": 0.001839571536785682,
           "3": 0.06251091690350902,
           "4": -0.04812771243003021,
           "5": -0.15076111168928819,
           "6": -0.1715803062568322,
           "7": -0.052902566511768945,
           "8": 0.1346102882997006,
           "9": -0.08880893574795673,
           "bdata": "WYMJbigGxj/uwdSCh+y0P3mVtOW4I14/9Fi+J7cAsD/OJ9YNMqSov4BnG94jTMO/iWAB7lf2xb8wxBWSCxarv3Xm+fDoOsE/REqhsi68tr+n5dQ5liqwv/+oCHcVP20/uEE9o33+vD8=",
           "dtype": "f8",
           "shape": "13"
          },
          "bdata": "WYMJbigGxj/uwdSCh+y0P3mVtOW4I14/9Fi+J7cAsD/OJ9YNMqSov4BnG94jTMO/iWAB7lf2xb8wxBWSCxarv3Xm+fDoOsE/REqhsi68tr+n5dQ5liqwv/+oCHcVP20/uEE9o33+vD8=",
          "dtype": "f8"
         },
         "z": {
          "_inputArray": {
           "0": -0.3146244262990836,
           "1": -0.25945226502348634,
           "10": -0.257135658945325,
           "11": -0.327184874877335,
           "12": -0.31331288271376195,
           "2": -0.2522736242816344,
           "3": -0.20682440943882566,
           "4": -0.22141023083378109,
           "5": -0.21659073493423606,
           "6": -0.1999528347066877,
           "7": -0.22098291527504552,
           "8": -0.3219786321480115,
           "9": -0.2881362178976813,
           "bdata": "hIxefc4i1L8xiUms3ZrQv3W2e0VAJdC/UfJG5Th5yr/AJzeiK1fMv/telMU+ucu/SWPn8g2Yyb8nYAoNK0nMv5qJxUNMm9S/lnkq5NJw0r+ijnMf6XTQvzEEVtSY8NS/KfMqelEN1L8=",
           "dtype": "f8",
           "shape": "13"
          },
          "bdata": "hIxefc4i1L8xiUms3ZrQv3W2e0VAJdC/UfJG5Th5yr/AJzeiK1fMv/telMU+ucu/SWPn8g2Yyb8nYAoNK0nMv5qJxUNMm9S/lnkq5NJw0r+ijnMf6XTQvzEEVtSY8NS/KfMqelEN1L8=",
          "dtype": "f8"
         }
        },
        {
         "hovertemplate": "%{text}<extra></extra>",
         "marker": {
          "color": "rgb(251,128,114)",
          "opacity": 0.7,
          "size": 6
         },
         "mode": "markers",
         "name": "SISU (Sistema de Seleção Unificada)",
         "text": [
          "Programa: SISU (Sistema de Seleção Unificada)<br>Tópico: Acesso ao Ensino Superior<br>Pergunta: O que é o SISU?",
          "Programa: SISU (Sistema de Seleção Unificada)<br>Tópico: Acesso ao Ensino Superior<br>Pergunta: Quem pode se inscrever no SISU?",
          "Programa: SISU (Sistema de Seleção Unificada)<br>Tópico: Acesso ao Ensino Superior<br>Pergunta: Como funciona a inscrição no SISU?",
          "Programa: SISU (Sistema de Seleção Unificada)<br>Tópico: Acesso ao Ensino Superior<br>Pergunta: O que é a \"nota de corte\" do SISU?",
          "Programa: SISU (Sistema de Seleção Unificada)<br>Tópico: Acesso ao Ensino Superior<br>Pergunta: E se eu não for aprovado na chamada regular do SISU?"
         ],
         "type": "scatter3d",
         "x": {
          "_inputArray": {
           "0": -0.3194628821945576,
           "1": -0.40798535747047815,
           "2": -0.3913585027420868,
           "3": -0.3516048570944942,
           "4": -0.36632554183208493,
           "bdata": "CfDTcRRy1L/gSOWdbhzav4V7kogEDNm/knqVqLGA1r8j7nav4HHXvw==",
           "dtype": "f8",
           "shape": "5"
          },
          "bdata": "CfDTcRRy1L/gSOWdbhzav4V7kogEDNm/knqVqLGA1r8j7nav4HHXvw==",
          "dtype": "f8"
         },
         "y": {
          "_inputArray": {
           "0": -0.017750062414517143,
           "1": -0.10412707034223943,
           "2": -0.07665546429164011,
           "3": -0.08762932279858818,
           "4": -0.18155879054170665,
           "bdata": "nQtKhhItkr+vir9ZEqi6v+w5MUixn7O/Ki+XE+Butr/gxtaFUT3Hvw==",
           "dtype": "f8",
           "shape": "5"
          },
          "bdata": "nQtKhhItkr+vir9ZEqi6v+w5MUixn7O/Ki+XE+Butr/gxtaFUT3Hvw==",
          "dtype": "f8"
         },
         "z": {
          "_inputArray": {
           "0": 0.2410058317280275,
           "1": 0.18984178625738113,
           "2": 0.21843708235394754,
           "3": 0.17330681105905898,
           "4": 0.13071052656791485,
           "bdata": "aWW1ckfZzj/Y4LFTvEzIP4TQeA6/9cs/WBvW5uouxj+1Em1eH7vAPw==",
           "dtype": "f8",
           "shape": "5"
          },
          "bdata": "aWW1ckfZzj/Y4LFTvEzIP4TQeA6/9cs/WBvW5uouxj+1Em1eH7vAPw==",
          "dtype": "f8"
         }
        },
        {
         "hovertemplate": "%{text}<extra></extra>",
         "marker": {
          "color": "rgb(128,177,211)",
          "opacity": 0.7,
          "size": 6
         },
         "mode": "markers",
         "name": "Lei de Cotas",
         "text": [
          "Programa: Lei de Cotas<br>Tópico: Acesso ao Ensino Superior<br>Pergunta: O que é o sistema de cotas?",
          "Programa: Lei de Cotas<br>Tópico: Acesso ao Ensino Superior<br>Pergunta: Como saber se tenho direito às cotas?",
          "Programa: Lei de Cotas<br>Tópico: Acesso ao Ensino Superior<br>Pergunta: Onde indico que quero concorrer pelas cotas?"
         ],
         "type": "scatter3d",
         "x": {
          "_inputArray": {
           "0": -0.14996590262737186,
           "1": -0.14049699834014853,
           "2": -0.1360811451726733,
           "bdata": "AFymKxUyw78xT4c+zvvBv882D2Iba8G/",
           "dtype": "f8",
           "shape": "3"
          },
          "bdata": "AFymKxUyw78xT4c+zvvBv882D2Iba8G/",
          "dtype": "f8"
         },
         "y": {
          "_inputArray": {
           "0": 0.027489034060321844,
           "1": -0.05950906521431594,
           "2": 0.0038538654153871714,
           "bdata": "FZ4m2RUmnD/6cNLh+Heuv2pDgz0kkm8/",
           "dtype": "f8",
           "shape": "3"
          },
          "bdata": "FZ4m2RUmnD/6cNLh+Heuv2pDgz0kkm8/",
          "dtype": "f8"
         },
         "z": {
          "_inputArray": {
           "0": 0.21384565580310413,
           "1": 0.2008223593545345,
           "2": 0.22031706941931017,
           "bdata": "2XIIYUtfyz9L3N0MjLTJPygI9IdZM8w/",
           "dtype": "f8",
           "shape": "3"
          },
          "bdata": "2XIIYUtfyz9L3N0MjLTJPygI9IdZM8w/",
          "dtype": "f8"
         }
        },
        {
         "hovertemplate": "%{text}<extra></extra>",
         "marker": {
          "color": "rgb(253,180,98)",
          "opacity": 0.7,
          "size": 6
         },
         "mode": "markers",
         "name": "ProUni (Programa Universidade para Todos)",
         "text": [
          "Programa: ProUni (Programa Universidade para Todos)<br>Tópico: Acesso ao Ensino Superior<br>Pergunta: O que é o ProUni?",
          "Programa: ProUni (Programa Universidade para Todos)<br>Tópico: Acesso ao Ensino Superior<br>Pergunta: Quem pode se inscrever no ProUni?",
          "Programa: ProUni (Programa Universidade para Todos)<br>Tópico: Acesso ao Ensino Superior<br>Pergunta: Qual o critério de renda para o ProUni?",
          "Programa: ProUni (Programa Universidade para Todos)<br>Tópico: Acesso ao Ensino Superior<br>Pergunta: Fui pré-selecionado no ProUni, isso garante minha bolsa?",
          "Programa: ProUni (Programa Universidade para Todos)<br>Tópico: Acesso ao Ensino Superior<br>Pergunta: Consegui uma bolsa de 50% do ProUni, mas não posso pagar o resto. O que faço?",
          "Programa: ProUni (Programa Universidade para Todos)<br>Tópico: Acesso ao Ensino Superior<br>Pergunta: Posso escolher qualquer curso no ProUni?",
          "Programa: ProUni (Programa Universidade para Todos)<br>Tópico: Acesso ao Ensino Superior<br>Pergunta: Posso me inscrever no ProUni e no Fies ao mesmo tempo?",
          "Programa: ProUni (Programa Universidade para Todos)<br>Tópico: Acesso ao Ensino Superior<br>Pergunta: E se eu perder o prazo de comprovação de documentos?",
          "Programa: ProUni (Programa Universidade para Todos)<br>Tópico: Acesso ao Ensino Superior<br>Pergunta: Quem já tem diploma pode participar do ProUni?"
         ],
         "type": "scatter3d",
         "x": {
          "_inputArray": {
           "0": -0.3294568427520409,
           "1": -0.38887928734175325,
           "2": -0.29690041962476965,
           "3": -0.3592357085393355,
           "4": -0.2112580000803934,
           "5": -0.44962736919691615,
           "6": -0.38083500167256484,
           "7": -0.2823605808657672,
           "8": -0.37398878364943017,
           "bdata": "Pg9EJ9IV1b8gYE7zZePYv4JAHZ5qANO/XtbuxLf91r8/jK6MgArLv+CVhd+xxty/9cRWxZlf2L/I3x8dMhLSv3sWtqZu79e/",
           "dtype": "f8",
           "shape": "9"
          },
          "bdata": "Pg9EJ9IV1b8gYE7zZePYv4JAHZ5qANO/XtbuxLf91r8/jK6MgArLv+CVhd+xxty/9cRWxZlf2L/I3x8dMhLSv3sWtqZu79e/",
          "dtype": "f8"
         },
         "y": {
          "_inputArray": {
           "0": 0.0017619670022154497,
           "1": -0.11931130052984587,
           "2": -0.2366993082345062,
           "3": -0.21884890799745105,
           "4": -0.28494906327914815,
           "5": -0.07665127768091606,
           "6": -0.2208044191918569,
           "7": -0.20276324960356196,
           "8": -0.15743604948017056,
           "bdata": "cGKsqTneXD9ypNF1L4u+vwIw7bUpTM6/hKNOsz0DzL9e0/P+mjzSv+AN1gprn7O/7OKet1FDzL/EYfBqJfTJv1lI3U3dJsS/",
           "dtype": "f8",
           "shape": "9"
          },
          "bdata": "cGKsqTneXD9ypNF1L4u+vwIw7bUpTM6/hKNOsz0DzL9e0/P+mjzSv+AN1gprn7O/7OKet1FDzL/EYfBqJfTJv1lI3U3dJsS/",
          "dtype": "f8"
         },
         "z": {
          "_inputArray": {
           "0": 0.16556479560792056,
           "1": 0.1370330451689904,
           "2": 0.1345399084345908,
           "3": 0.12518220645923578,
           "4": 0.13830706248061317,
           "5": 0.13528419466515132,
           "6": 0.17714750085367884,
           "7": 0.05330771761586123,
           "8": 0.07988932702605471,
           "bdata": "+6FAKzoxxT/sbbx/TIrBPx7gXY2aOME/9kpkdfgFwD/rfBS7C7TBP6lS4BP+UME/FQpe8cSsxj+IrZEvJkurP7tY4H6gc7Q/",
           "dtype": "f8",
           "shape": "9"
          },
          "bdata": "+6FAKzoxxT/sbbx/TIrBPx7gXY2aOME/9kpkdfgFwD/rfBS7C7TBP6lS4BP+UME/FQpe8cSsxj+IrZEvJkurP7tY4H6gc7Q/",
          "dtype": "f8"
         }
        },
        {
         "hovertemplate": "%{text}<extra></extra>",
         "marker": {
          "color": "rgb(179,222,105)",
          "opacity": 0.7,
          "size": 6
         },
         "mode": "markers",
         "name": "FIES (Fundo de Financiamento Estudantil)",
         "text": [
          "Programa: FIES (Fundo de Financiamento Estudantil)<br>Tópico: Acesso ao Ensino Superior<br>Pergunta: O que é o FIES?",
          "Programa: FIES (Fundo de Financiamento Estudantil)<br>Tópico: Acesso ao Ensino Superior<br>Pergunta: Qual a diferença entre FIES e ProUni?",
          "Programa: FIES (Fundo de Financiamento Estudantil)<br>Tópico: Acesso ao Ensino Superior<br>Pergunta: Quais os requisitos para pedir o FIES?",
          "Programa: FIES (Fundo de Financiamento Estudantil)<br>Tópico: Acesso ao Ensino Superior<br>Pergunta: Como funciona o processo para conseguir o FIES?",
          "Programa: FIES (Fundo de Financiamento Estudantil)<br>Tópico: Acesso ao Ensino Superior<br>Pergunta: Posso me inscrever no Fies e no Prouni ao mesmo tempo?",
          "Programa: FIES (Fundo de Financiamento Estudantil)<br>Tópico: Acesso ao Ensino Superior<br>Pergunta: Posso financiar qualquer curso no Fies?",
          "Programa: FIES (Fundo de Financiamento Estudantil)<br>Tópico: Acesso ao Ensino Superior<br>Pergunta: Preciso ter fiador para o Fies?",
          "Programa: FIES (Fundo de Financiamento Estudantil)<br>Tópico: Acesso ao Ensino Superior<br>Pergunta: Como funcionam os pagamentos durante o curso?",
          "Programa: FIES (Fundo de Financiamento Estudantil)<br>Tópico: Acesso ao Ensino Superior<br>Pergunta: E se eu perder o prazo de comprovação de documentos?",
          "Programa: FIES (Fundo de Financiamento Estudantil)<br>Tópico: Acesso ao Ensino Superior<br>Pergunta: Posso adiantar parcelas do Fies?",
          "Programa: FIES (Fundo de Financiamento Estudantil)<br>Tópico: Acesso ao Ensino Superior<br>Pergunta: E se eu desistir do curso?",
          "Programa: FIES (Fundo de Financiamento Estudantil)<br>Tópico: Acesso ao Ensino Superior<br>Pergunta: Tabela Comparativa: SISU, ProUni e FIES"
         ],
         "type": "scatter3d",
         "x": {
          "_inputArray": {
           "0": -0.2913021532595322,
           "1": -0.39047932872059493,
           "10": -0.26885375483867485,
           "11": -0.36312964489207616,
           "2": -0.3214091212021607,
           "3": -0.31417051227133586,
           "4": -0.35239003626675997,
           "5": -0.40458783316219343,
           "6": -0.3246139400633466,
           "7": -0.2272006341799686,
           "8": -0.246223158700378,
           "9": -0.26364624378443585,
           "bdata": "sUJgybGk0r+DnacCnf3Yv6bCDJD3kdS/SKvkol4b1L9f7Uzwjo3Wv8uh8l3E5Nm/MXUZjHnG1L94ercO6RTNv4dmEY89hM+/AR2xfpTf0L8bFxxh5jTRv3tAQR+EPde/",
           "dtype": "f8",
           "shape": "12"
          },
          "bdata": "sUJgybGk0r+DnacCnf3Yv6bCDJD3kdS/SKvkol4b1L9f7Uzwjo3Wv8uh8l3E5Nm/MXUZjHnG1L94ercO6RTNv4dmEY89hM+/AR2xfpTf0L8bFxxh5jTRv3tAQR+EPde/",
          "dtype": "f8"
         },
         "y": {
          "_inputArray": {
           "0": -0.13886315845155406,
           "1": -0.19014924430756056,
           "10": -0.27970126945054796,
           "11": -0.24240258534934772,
           "2": -0.21998380985598093,
           "3": -0.20808582765680328,
           "4": -0.23927501274903673,
           "5": -0.2463961647155392,
           "6": -0.27852873123945027,
           "7": -0.2517439152852483,
           "8": -0.28630721485580696,
           "9": -0.3273289745345341,
           "bdata": "qJcVmkTGwb+5fdR4z1bIv86OffJtKMy/JAZGcI6iyr+E6EBJkKDOv64SqNboic+/Nd7qK2rT0b8of8eCkhzQv8OHGn/bUtK/uS0qOvXy1L96JTwnoObRvzpJRUQMB8+/",
           "dtype": "f8",
           "shape": "12"
          },
          "bdata": "qJcVmkTGwb+5fdR4z1bIv86OffJtKMy/JAZGcI6iyr+E6EBJkKDOv64SqNboic+/Nd7qK2rT0b8of8eCkhzQv8OHGn/bUtK/uS0qOvXy1L96JTwnoObRvzpJRUQMB8+/",
          "dtype": "f8"
         },
         "z": {
          "_inputArray": {
           "0": 0.13629143848163355,
           "1": 0.20015993997561898,
           "10": 0.05296390778640449,
           "11": 0.22514805232589225,
           "2": 0.12728520809728935,
           "3": 0.144991070653835,
           "4": 0.15213135091568725,
           "5": 0.11140807744375088,
           "6": 0.16247036599191772,
           "7": 0.08704035425289379,
           "8": 0.07664093410491293,
           "9": 0.12440356283490028,
           "bdata": "zm+Ac/9xwT/UERVG157JP8NtBbfhSsA/pcpVQRGPwj/aiHBECnnDP72SIWE9hbw/ZpFANtTLxD+HzPLSRki2P0r3g4G9nrM/MLzhcenYvz8SN5/XFR6rPwq4v8Cm0cw/",
           "dtype": "f8",
           "shape": "12"
          },
          "bdata": "zm+Ac/9xwT/UERVG157JP8NtBbfhSsA/pcpVQRGPwj/aiHBECnnDP72SIWE9hbw/ZpFANtTLxD+HzPLSRki2P0r3g4G9nrM/MLzhcenYvz8SN5/XFR6rPwq4v8Cm0cw/",
          "dtype": "f8"
         }
        },
        {
         "hovertemplate": "%{text}<extra></extra>",
         "marker": {
          "color": "rgb(252,205,229)",
          "opacity": 0.7,
          "size": 6
         },
         "mode": "markers",
         "name": "Institutos Federais",
         "text": [
          "Programa: Institutos Federais<br>Tópico: Formação técnica<br>Pergunta: Posso fazer um curso técnico depois do ensino médio?",
          "Programa: Institutos Federais<br>Tópico: Formação técnica<br>Pergunta: Onde encontro cursos técnicos gratuitos perto de mim?",
          "Programa: Institutos Federais<br>Tópico: Formação técnica<br>Pergunta: Posso fazer um curso técnico sem ter feito o Enem?",
          "Programa: Institutos Federais<br>Tópico: Formação técnica<br>Pergunta: Quanto tempo dura um curso técnico?",
          "Programa: Institutos Federais<br>Tópico: Formação técnica<br>Pergunta: Que áreas de cursos técnicos posso fazer?",
          "Programa: Institutos Federais<br>Tópico: Formação técnica<br>Pergunta: Existe bolsa ou ajuda de custo para quem faz curso técnico?"
         ],
         "type": "scatter3d",
         "x": {
          "_inputArray": {
           "0": -0.29035020600398426,
           "1": -0.2623119765391918,
           "2": -0.39072724143072746,
           "3": -0.2623485264660016,
           "4": -0.284902247517819,
           "5": -0.29762015238336803,
           "bdata": "aSLLBxmV0r/KbyUsuMnQvzh75tSsAdm/LtFUeVHK0L/qVumi1jvSv5p+R2U1DNO/",
           "dtype": "f8",
           "shape": "6"
          },
          "bdata": "aSLLBxmV0r/KbyUsuMnQvzh75tSsAdm/LtFUeVHK0L/qVumi1jvSv5p+R2U1DNO/",
          "dtype": "f8"
         },
         "y": {
          "_inputArray": {
           "0": -0.044929944503363274,
           "1": 0.0669280415602794,
           "2": -0.07132746015513051,
           "3": -0.03177526554000521,
           "4": 0.019839702185665765,
           "5": -0.1245946709364615,
           "bdata": "fY6BxA4Bp792za81MiKxP5tLrDSEQrK/wc+h/NhEoL99AjPg21CUP1mQ7bRv5b+/",
           "dtype": "f8",
           "shape": "6"
          },
          "bdata": "fY6BxA4Bp792za81MiKxP5tLrDSEQrK/wc+h/NhEoL99AjPg21CUP1mQ7bRv5b+/",
          "dtype": "f8"
         },
         "z": {
          "_inputArray": {
           "0": -0.1669456565058687,
           "1": -0.006517966114940361,
           "2": -0.16818726717240273,
           "3": -0.07971357217515695,
           "4": 0.009916893316110866,
           "5": -0.001844506163225036,
           "bdata": "SXNzq3lexb/uOs00lbJ6v3j2DQ4ph8W/gCWK0RtotL/u0sPjTk+EP2wbfmlrOF6/",
           "dtype": "f8",
           "shape": "6"
          },
          "bdata": "SXNzq3lexb/uOs00lbJ6v3j2DQ4ph8W/gCWK0RtotL/u0sPjTk+EP2wbfmlrOF6/",
          "dtype": "f8"
         }
        }
       ],
       "layout": {
        "height": 768,
        "legend": {
         "x": 0.01,
         "xanchor": "left",
         "y": 0.99,
         "yanchor": "top"
        },
        "scene": {
         "aspectmode": "auto",
         "aspectratio": {
          "x": 1.1477742090106104,
          "y": 1.0731975004890497,
          "z": 0.8118277376751473
         },
         "camera": {
          "eye": {
           "x": 1.5,
           "y": 1.5,
           "z": 1.5
          }
         },
         "xaxis": {
          "title": {
           "text": "Component 1"
          },
          "type": "linear"
         },
         "yaxis": {
          "title": {
           "text": "Component 2"
          },
          "type": "linear"
         },
         "zaxis": {
          "title": {
           "text": "Component 3"
          },
          "type": "linear"
         }
        },
        "template": {
         "data": {
          "bar": [
           {
            "error_x": {
             "color": "#2a3f5f"
            },
            "error_y": {
             "color": "#2a3f5f"
            },
            "marker": {
             "line": {
              "color": "#E5ECF6",
              "width": 0.5
             },
             "pattern": {
              "fillmode": "overlay",
              "size": 10,
              "solidity": 0.2
             }
            },
            "type": "bar"
           }
          ],
          "barpolar": [
           {
            "marker": {
             "line": {
              "color": "#E5ECF6",
              "width": 0.5
             },
             "pattern": {
              "fillmode": "overlay",
              "size": 10,
              "solidity": 0.2
             }
            },
            "type": "barpolar"
           }
          ],
          "carpet": [
           {
            "aaxis": {
             "endlinecolor": "#2a3f5f",
             "gridcolor": "white",
             "linecolor": "white",
             "minorgridcolor": "white",
             "startlinecolor": "#2a3f5f"
            },
            "baxis": {
             "endlinecolor": "#2a3f5f",
             "gridcolor": "white",
             "linecolor": "white",
             "minorgridcolor": "white",
             "startlinecolor": "#2a3f5f"
            },
            "type": "carpet"
           }
          ],
          "choropleth": [
           {
            "colorbar": {
             "outlinewidth": 0,
             "ticks": ""
            },
            "type": "choropleth"
           }
          ],
          "contour": [
           {
            "colorbar": {
             "outlinewidth": 0,
             "ticks": ""
            },
            "colorscale": [
             [
              0,
              "#0d0887"
             ],
             [
              0.1111111111111111,
              "#46039f"
             ],
             [
              0.2222222222222222,
              "#7201a8"
             ],
             [
              0.3333333333333333,
              "#9c179e"
             ],
             [
              0.4444444444444444,
              "#bd3786"
             ],
             [
              0.5555555555555556,
              "#d8576b"
             ],
             [
              0.6666666666666666,
              "#ed7953"
             ],
             [
              0.7777777777777778,
              "#fb9f3a"
             ],
             [
              0.8888888888888888,
              "#fdca26"
             ],
             [
              1,
              "#f0f921"
             ]
            ],
            "type": "contour"
           }
          ],
          "contourcarpet": [
           {
            "colorbar": {
             "outlinewidth": 0,
             "ticks": ""
            },
            "type": "contourcarpet"
           }
          ],
          "heatmap": [
           {
            "colorbar": {
             "outlinewidth": 0,
             "ticks": ""
            },
            "colorscale": [
             [
              0,
              "#0d0887"
             ],
             [
              0.1111111111111111,
              "#46039f"
             ],
             [
              0.2222222222222222,
              "#7201a8"
             ],
             [
              0.3333333333333333,
              "#9c179e"
             ],
             [
              0.4444444444444444,
              "#bd3786"
             ],
             [
              0.5555555555555556,
              "#d8576b"
             ],
             [
              0.6666666666666666,
              "#ed7953"
             ],
             [
              0.7777777777777778,
              "#fb9f3a"
             ],
             [
              0.8888888888888888,
              "#fdca26"
             ],
             [
              1,
              "#f0f921"
             ]
            ],
            "type": "heatmap"
           }
          ],
          "histogram": [
           {
            "marker": {
             "pattern": {
              "fillmode": "overlay",
              "size": 10,
              "solidity": 0.2
             }
            },
            "type": "histogram"
           }
          ],
          "histogram2d": [
           {
            "colorbar": {
             "outlinewidth": 0,
             "ticks": ""
            },
            "colorscale": [
             [
              0,
              "#0d0887"
             ],
             [
              0.1111111111111111,
              "#46039f"
             ],
             [
              0.2222222222222222,
              "#7201a8"
             ],
             [
              0.3333333333333333,
              "#9c179e"
             ],
             [
              0.4444444444444444,
              "#bd3786"
             ],
             [
              0.5555555555555556,
              "#d8576b"
             ],
             [
              0.6666666666666666,
              "#ed7953"
             ],
             [
              0.7777777777777778,
              "#fb9f3a"
             ],
             [
              0.8888888888888888,
              "#fdca26"
             ],
             [
              1,
              "#f0f921"
             ]
            ],
            "type": "histogram2d"
           }
          ],
          "histogram2dcontour": [
           {
            "colorbar": {
             "outlinewidth": 0,
             "ticks": ""
            },
            "colorscale": [
             [
              0,
              "#0d0887"
             ],
             [
              0.1111111111111111,
              "#46039f"
             ],
             [
              0.2222222222222222,
              "#7201a8"
             ],
             [
              0.3333333333333333,
              "#9c179e"
             ],
             [
              0.4444444444444444,
              "#bd3786"
             ],
             [
              0.5555555555555556,
              "#d8576b"
             ],
             [
              0.6666666666666666,
              "#ed7953"
             ],
             [
              0.7777777777777778,
              "#fb9f3a"
             ],
             [
              0.8888888888888888,
              "#fdca26"
             ],
             [
              1,
              "#f0f921"
             ]
            ],
            "type": "histogram2dcontour"
           }
          ],
          "mesh3d": [
           {
            "colorbar": {
             "outlinewidth": 0,
             "ticks": ""
            },
            "type": "mesh3d"
           }
          ],
          "parcoords": [
           {
            "line": {
             "colorbar": {
              "outlinewidth": 0,
              "ticks": ""
             }
            },
            "type": "parcoords"
           }
          ],
          "pie": [
           {
            "automargin": true,
            "type": "pie"
           }
          ],
          "scatter": [
           {
            "fillpattern": {
             "fillmode": "overlay",
             "size": 10,
             "solidity": 0.2
            },
            "type": "scatter"
           }
          ],
          "scatter3d": [
           {
            "line": {
             "colorbar": {
              "outlinewidth": 0,
              "ticks": ""
             }
            },
            "marker": {
             "colorbar": {
              "outlinewidth": 0,
              "ticks": ""
             }
            },
            "type": "scatter3d"
           }
          ],
          "scattercarpet": [
           {
            "marker": {
             "colorbar": {
              "outlinewidth": 0,
              "ticks": ""
             }
            },
            "type": "scattercarpet"
           }
          ],
          "scattergeo": [
           {
            "marker": {
             "colorbar": {
              "outlinewidth": 0,
              "ticks": ""
             }
            },
            "type": "scattergeo"
           }
          ],
          "scattergl": [
           {
            "marker": {
             "colorbar": {
              "outlinewidth": 0,
              "ticks": ""
             }
            },
            "type": "scattergl"
           }
          ],
          "scattermap": [
           {
            "marker": {
             "colorbar": {
              "outlinewidth": 0,
              "ticks": ""
             }
            },
            "type": "scattermap"
           }
          ],
          "scattermapbox": [
           {
            "marker": {
             "colorbar": {
              "outlinewidth": 0,
              "ticks": ""
             }
            },
            "type": "scattermapbox"
           }
          ],
          "scatterpolar": [
           {
            "marker": {
             "colorbar": {
              "outlinewidth": 0,
              "ticks": ""
             }
            },
            "type": "scatterpolar"
           }
          ],
          "scatterpolargl": [
           {
            "marker": {
             "colorbar": {
              "outlinewidth": 0,
              "ticks": ""
             }
            },
            "type": "scatterpolargl"
           }
          ],
          "scatterternary": [
           {
            "marker": {
             "colorbar": {
              "outlinewidth": 0,
              "ticks": ""
             }
            },
            "type": "scatterternary"
           }
          ],
          "surface": [
           {
            "colorbar": {
             "outlinewidth": 0,
             "ticks": ""
            },
            "colorscale": [
             [
              0,
              "#0d0887"
             ],
             [
              0.1111111111111111,
              "#46039f"
             ],
             [
              0.2222222222222222,
              "#7201a8"
             ],
             [
              0.3333333333333333,
              "#9c179e"
             ],
             [
              0.4444444444444444,
              "#bd3786"
             ],
             [
              0.5555555555555556,
              "#d8576b"
             ],
             [
              0.6666666666666666,
              "#ed7953"
             ],
             [
              0.7777777777777778,
              "#fb9f3a"
             ],
             [
              0.8888888888888888,
              "#fdca26"
             ],
             [
              1,
              "#f0f921"
             ]
            ],
            "type": "surface"
           }
          ],
          "table": [
           {
            "cells": {
             "fill": {
              "color": "#EBF0F8"
             },
             "line": {
              "color": "white"
             }
            },
            "header": {
             "fill": {
              "color": "#C8D4E3"
             },
             "line": {
              "color": "white"
             }
            },
            "type": "table"
           }
          ]
         },
         "layout": {
          "annotationdefaults": {
           "arrowcolor": "#2a3f5f",
           "arrowhead": 0,
           "arrowwidth": 1
          },
          "autotypenumbers": "strict",
          "coloraxis": {
           "colorbar": {
            "outlinewidth": 0,
            "ticks": ""
           }
          },
          "colorscale": {
           "diverging": [
            [
             0,
             "#8e0152"
            ],
            [
             0.1,
             "#c51b7d"
            ],
            [
             0.2,
             "#de77ae"
            ],
            [
             0.3,
             "#f1b6da"
            ],
            [
             0.4,
             "#fde0ef"
            ],
            [
             0.5,
             "#f7f7f7"
            ],
            [
             0.6,
             "#e6f5d0"
            ],
            [
             0.7,
             "#b8e186"
            ],
            [
             0.8,
             "#7fbc41"
            ],
            [
             0.9,
             "#4d9221"
            ],
            [
             1,
             "#276419"
            ]
           ],
           "sequential": [
            [
             0,
             "#0d0887"
            ],
            [
             0.1111111111111111,
             "#46039f"
            ],
            [
             0.2222222222222222,
             "#7201a8"
            ],
            [
             0.3333333333333333,
             "#9c179e"
            ],
            [
             0.4444444444444444,
             "#bd3786"
            ],
            [
             0.5555555555555556,
             "#d8576b"
            ],
            [
             0.6666666666666666,
             "#ed7953"
            ],
            [
             0.7777777777777778,
             "#fb9f3a"
            ],
            [
             0.8888888888888888,
             "#fdca26"
            ],
            [
             1,
             "#f0f921"
            ]
           ],
           "sequentialminus": [
            [
             0,
             "#0d0887"
            ],
            [
             0.1111111111111111,
             "#46039f"
            ],
            [
             0.2222222222222222,
             "#7201a8"
            ],
            [
             0.3333333333333333,
             "#9c179e"
            ],
            [
             0.4444444444444444,
             "#bd3786"
            ],
            [
             0.5555555555555556,
             "#d8576b"
            ],
            [
             0.6666666666666666,
             "#ed7953"
            ],
            [
             0.7777777777777778,
             "#fb9f3a"
            ],
            [
             0.8888888888888888,
             "#fdca26"
            ],
            [
             1,
             "#f0f921"
            ]
           ]
          },
          "colorway": [
           "#636efa",
           "#EF553B",
           "#00cc96",
           "#ab63fa",
           "#FFA15A",
           "#19d3f3",
           "#FF6692",
           "#B6E880",
           "#FF97FF",
           "#FECB52"
          ],
          "font": {
           "color": "#2a3f5f"
          },
          "geo": {
           "bgcolor": "white",
           "lakecolor": "white",
           "landcolor": "#E5ECF6",
           "showlakes": true,
           "showland": true,
           "subunitcolor": "white"
          },
          "hoverlabel": {
           "align": "left"
          },
          "hovermode": "closest",
          "mapbox": {
           "style": "light"
          },
          "paper_bgcolor": "white",
          "plot_bgcolor": "#E5ECF6",
          "polar": {
           "angularaxis": {
            "gridcolor": "white",
            "linecolor": "white",
            "ticks": ""
           },
           "bgcolor": "#E5ECF6",
           "radialaxis": {
            "gridcolor": "white",
            "linecolor": "white",
            "ticks": ""
           }
          },
          "scene": {
           "xaxis": {
            "backgroundcolor": "#E5ECF6",
            "gridcolor": "white",
            "gridwidth": 2,
            "linecolor": "white",
            "showbackground": true,
            "ticks": "",
            "zerolinecolor": "white"
           },
           "yaxis": {
            "backgroundcolor": "#E5ECF6",
            "gridcolor": "white",
            "gridwidth": 2,
            "linecolor": "white",
            "showbackground": true,
            "ticks": "",
            "zerolinecolor": "white"
           },
           "zaxis": {
            "backgroundcolor": "#E5ECF6",
            "gridcolor": "white",
            "gridwidth": 2,
            "linecolor": "white",
            "showbackground": true,
            "ticks": "",
            "zerolinecolor": "white"
           }
          },
          "shapedefaults": {
           "line": {
            "color": "#2a3f5f"
           }
          },
          "ternary": {
           "aaxis": {
            "gridcolor": "white",
            "linecolor": "white",
            "ticks": ""
           },
           "baxis": {
            "gridcolor": "white",
            "linecolor": "white",
            "ticks": ""
           },
           "bgcolor": "#E5ECF6",
           "caxis": {
            "gridcolor": "white",
            "linecolor": "white",
            "ticks": ""
           }
          },
          "title": {
           "x": 0.05
          },
          "xaxis": {
           "automargin": true,
           "gridcolor": "white",
           "linecolor": "white",
           "ticks": "",
           "title": {
            "standoff": 15
           },
           "zerolinecolor": "white",
           "zerolinewidth": 2
          },
          "yaxis": {
           "automargin": true,
           "gridcolor": "white",
           "linecolor": "white",
           "ticks": "",
           "title": {
            "standoff": 15
           },
           "zerolinecolor": "white",
           "zerolinewidth": 2
          }
         }
        },
        "title": {
         "text": "3D PCA Visualization of Q&A Embeddings"
        },
        "width": 1024
       }
      }
     },
     "metadata": {},
     "output_type": "display_data"
    }
   ],
   "source": [
    "create_3d_plot(embeddings_3d_pca, embeddings_df, \"3D PCA Visualization of Q&A Embeddings\")"
   ]
  },
  {
   "cell_type": "code",
   "execution_count": 18,
   "id": "83570c09-6de1-4552-bfb0-c3f69a4a1f86",
   "metadata": {},
   "outputs": [
    {
     "data": {
      "application/vnd.plotly.v1+json": {
       "config": {
        "plotlyServerURL": "https://plot.ly"
       },
       "data": [
        {
         "hovertemplate": "%{text}<extra></extra>",
         "marker": {
          "color": "rgb(141,211,199)",
          "opacity": 0.7,
          "size": 6
         },
         "mode": "markers",
         "name": "Programa Pé-de-Meia",
         "text": [
          "Programa: Programa Pé-de-Meia<br>Tópico: Educação Básica<br>Pergunta: A escola precisa realizar alguma ação no Programa Pé-de-Meia?",
          "Programa: Programa Pé-de-Meia<br>Tópico: Educação Básica<br>Pergunta: A Rede poderá corrigir os dados enviados a cada mês?",
          "Programa: Programa Pé-de-Meia<br>Tópico: Educação Básica<br>Pergunta: Atendo às condicionalidades, mas não quero ser beneficiário. Como faço para não  receber o incentivo?",
          "Programa: Programa Pé-de-Meia<br>Tópico: Educação Básica<br>Pergunta: Calendário de pagamentos em 2025 para Ensino Médio EJA",
          "Programa: Programa Pé-de-Meia<br>Tópico: Educação Básica<br>Pergunta: Calendário de pagamentos em 2025 para Ensino Médio Regular",
          "Programa: Programa Pé-de-Meia<br>Tópico: Educação Básica<br>Pergunta: Caso o estudante seja transferido do ensino regular para a EJA, perde o benefício?",
          "Programa: Programa Pé-de-Meia<br>Tópico: Educação Básica<br>Pergunta: Caso um estudante perca um dos requisitos de elegibilidade antes do final do ano  letivo, deixará de receber os incentivos?",
          "Programa: Programa Pé-de-Meia<br>Tópico: Educação Básica<br>Pergunta: Com qual periodicidade é realizada a verificação das informações de elegibilidade?",
          "Programa: Programa Pé-de-Meia<br>Tópico: Educação Básica<br>Pergunta: Comecei no ensino médio em 2025, mas meus dados não estão no aplicativo Jornada do Estudante. O que fazer?",
          "Programa: Programa Pé-de-Meia<br>Tópico: Educação Básica<br>Pergunta: Como a frequência é calculada no Pé-de-Meia?",
          "Programa: Programa Pé-de-Meia<br>Tópico: Educação Básica<br>Pergunta: Como acessar o aplicativo CAIXA Tem?",
          "Programa: Programa Pé-de-Meia<br>Tópico: Educação Básica<br>Pergunta: Como acessar o SIMEC?",
          "Programa: Programa Pé-de-Meia<br>Tópico: Educação Básica<br>Pergunta: Como faço para recuperar a senha do aplicativo?",
          "Programa: Programa Pé-de-Meia<br>Tópico: Educação Básica<br>Pergunta: Como faço para retirar/utilizar a poupança?",
          "Programa: Programa Pé-de-Meia<br>Tópico: Educação Básica<br>Pergunta: Como funciona a assinatura do Termo de Compromisso por parte dos Sistemas de Ensino?",
          "Programa: Programa Pé-de-Meia<br>Tópico: Educação Básica<br>Pergunta: Como os entes podem assinar o termo de compromisso no SIMEC?",
          "Programa: Programa Pé-de-Meia<br>Tópico: Educação Básica<br>Pergunta: Como poderei gastar/investir o valor recebido pela poupança?",
          "Programa: Programa Pé-de-Meia<br>Tópico: Educação Básica<br>Pergunta: Como posso me inscrever no CadÚnico?",
          "Programa: Programa Pé-de-Meia<br>Tópico: Educação Básica<br>Pergunta: Como posso saber se eu ou algum membro da minha família está cadastrado no  Cadúnico?",
          "Programa: Programa Pé-de-Meia<br>Tópico: Educação Básica<br>Pergunta: Como será aferida a frequência dos estudantes de ensino médio articulada à educação  técnica de forma integrada?",
          "Programa: Programa Pé-de-Meia<br>Tópico: Educação Básica<br>Pergunta: Como será realizado o pagamento?",
          "Programa: Programa Pé-de-Meia<br>Tópico: Educação Básica<br>Pergunta: Como vai se dar a verificação da aprovação dos estudantes?",
          "Programa: Programa Pé-de-Meia<br>Tópico: Educação Básica<br>Pergunta: Como vai se dar a verificação da frequência dos estudantes?",
          "Programa: Programa Pé-de-Meia<br>Tópico: Educação Básica<br>Pergunta: Compareci a apenas um dos dias da prova do Enem em 2024, terei direito a essa parcela?",
          "Programa: Programa Pé-de-Meia<br>Tópico: Educação Básica<br>Pergunta: Concluí o Ensino Médio em 2024 por meio de exame de aceleração, mas ainda não recebi o valor referente à conclusão. O que pode ter ocorrido?",
          "Programa: Programa Pé-de-Meia<br>Tópico: Educação Básica<br>Pergunta: Critério para recebimento do incentivo frequência.",
          "Programa: Programa Pé-de-Meia<br>Tópico: Educação Básica<br>Pergunta: Data de referência do CadÚnico para 2025",
          "Programa: Programa Pé-de-Meia<br>Tópico: Educação Básica<br>Pergunta: De quanto em quanto tempo a rede deverá enviar os dados dos estudantes?",
          "Programa: Programa Pé-de-Meia<br>Tópico: Educação Básica<br>Pergunta: De quem é a responsabilidade de envio de dados do estudante?",
          "Programa: Programa Pé-de-Meia<br>Tópico: Educação Básica<br>Pergunta: É necessário enviar a lista dos estudantes do ensino técnico matriculados na rede estadual na Educação Básica?",
          "Programa: Programa Pé-de-Meia<br>Tópico: Educação Básica<br>Pergunta: Em caso de falecimento do estudante, a família terá direito a receber o benefício?",
          "Programa: Programa Pé-de-Meia<br>Tópico: Educação Básica<br>Pergunta: Em caso de greve, como fica a frequência dos estudantes?",
          "Programa: Programa Pé-de-Meia<br>Tópico: Educação Básica<br>Pergunta: Em casos de intercorrências que impeçam a frequência do estudante, este deixará de  receber o benefício? O que fazer neste caso?",
          "Programa: Programa Pé-de-Meia<br>Tópico: Educação Básica<br>Pergunta: Encerrei pelo Aplicativo CAIXA Tem, minha conta em que recebo o Pé-de-Meia. Como posso receber o incentivo?",
          "Programa: Programa Pé-de-Meia<br>Tópico: Educação Básica<br>Pergunta: Estou tentando baixar o aplicativo e não estou conseguindo. O que fazer?",
          "Programa: Programa Pé-de-Meia<br>Tópico: Educação Básica<br>Pergunta: Estudante que recebeu o Incentivo Conclusão, mas não recebeu o Incentivo ENEM.",
          "Programa: Programa Pé-de-Meia<br>Tópico: Educação Básica<br>Pergunta: Estudante que trocou de escola e não está recebendo os incentivos.",
          "Programa: Programa Pé-de-Meia<br>Tópico: Educação Básica<br>Pergunta: Estudante sem NIS no CadÚnico",
          "Programa: Programa Pé-de-Meia<br>Tópico: Educação Básica<br>Pergunta: Estudante, em contato com a escola que oferta ensino médio, verificou que ela ainda não está participando do Programa Pé-de-Meia, o que fazer?",
          "Programa: Programa Pé-de-Meia<br>Tópico: Educação Básica<br>Pergunta: Estudantes beneficiários do Bolsa Família matriculados na rede privada poderão  participar do Pé-de-Meia?",
          "Programa: Programa Pé-de-Meia<br>Tópico: Educação Básica<br>Pergunta: Estudantes do Bolsa Família desde janeiro de 2024 têm direito a pagamento retroativo?",
          "Programa: Programa Pé-de-Meia<br>Tópico: Educação Básica<br>Pergunta: Estudantes matriculados em escolas de tempo integral poderão ser beneficiados?",
          "Programa: Programa Pé-de-Meia<br>Tópico: Educação Básica<br>Pergunta: Estudantes que não possuem o CPF poderão receber o benefício?",
          "Programa: Programa Pé-de-Meia<br>Tópico: Educação Básica<br>Pergunta: Estudo na EJA à distância e não tenho registro de frequência. Qual será o critério para que eu possa receber o benefício?",
          "Programa: Programa Pé-de-Meia<br>Tópico: Educação Básica<br>Pergunta: Existe alguma atualização que deve ser feita pela escola de necessidade de atualização de cadastro?",
          "Programa: Programa Pé-de-Meia<br>Tópico: Educação Básica<br>Pergunta: Existe uma cota para cada estado, município ou rede federal?",
          "Programa: Programa Pé-de-Meia<br>Tópico: Educação Básica<br>Pergunta: Família inscrita no CadÚnico, não beneficiária do Bolsa Família, receberá o pagamento retroativo do primeiro semestre?",
          "Programa: Programa Pé-de-Meia<br>Tópico: Educação Básica<br>Pergunta: Famílias unipessoais podem receber o benefício?",
          "Programa: Programa Pé-de-Meia<br>Tópico: Educação Básica<br>Pergunta: Fui aprovado e concluí o ensino médio no ano letivo de 2024, mas não recebi os R$ 1.000 do Pé-de-Meia. O que pode ter acontecido?",
          "Programa: Programa Pé-de-Meia<br>Tópico: Educação Básica<br>Pergunta: Incentivos Conclusão e Enem: Entenda os pagamentos.",
          "Programa: Programa Pé-de-Meia<br>Tópico: Educação Básica<br>Pergunta: Iniciei o ano com frequência acima de 80%, mas no mês seguinte estive abaixo. Receberei a parcela daquele mês?",
          "Programa: Programa Pé-de-Meia<br>Tópico: Educação Básica<br>Pergunta: Iniciei o ano regularmente matriculado em uma unidade escolar de Ensino Médio da rede pública, mas deixei de frequentar a escola. Seguirei recebendo o incentivo?",
          "Programa: Programa Pé-de-Meia<br>Tópico: Educação Básica<br>Pergunta: Iniciei o Ensino Médio e o Programa foi interrompido antes de me formar? O que  acontece nesse caso?",
          "Programa: Programa Pé-de-Meia<br>Tópico: Educação Básica<br>Pergunta: Instabilidade no aplicativo CAIXA Tem. O que fazer?",
          "Programa: Programa Pé-de-Meia<br>Tópico: Educação Básica<br>Pergunta: Já preenchi o Sistema Presença, é a mesma coisa?",
          "Programa: Programa Pé-de-Meia<br>Tópico: Educação Básica<br>Pergunta: Já sou beneficiário de outro Programa de bolsa/poupança em meu Estado. Poderei  receber os dois benefícios?",
          "Programa: Programa Pé-de-Meia<br>Tópico: Educação Básica<br>Pergunta: Mensagem de indisponibilidade no aplicativo Jornada do Estudante.",
          "Programa: Programa Pé-de-Meia<br>Tópico: Educação Básica<br>Pergunta: Meu ano letivo ainda não terminou, quando vou receber os R$1.000?",
          "Programa: Programa Pé-de-Meia<br>Tópico: Educação Básica<br>Pergunta: Minha família faz parte do Cadastro Único para Programas Sociais (CadÚnico), mas não  do Programa Bolsa Família. Posso ser beneficiário (a) do Pé-de-Meia?",
          "Programa: Programa Pé-de-Meia<br>Tópico: Educação Básica<br>Pergunta: Não estou conseguindo extrair o relatório / enviar a planilha, como devo proceder?",
          "Programa: Programa Pé-de-Meia<br>Tópico: Educação Básica<br>Pergunta: Não recebi o pagamento referente a 1ª parcela de 2025 (matrícula), o que fazer?",
          "Programa: Programa Pé-de-Meia<br>Tópico: Educação Básica<br>Pergunta: Não recebi o pagamento referente a 3ª parcela (frequência), o que fazer?",
          "Programa: Programa Pé-de-Meia<br>Tópico: Educação Básica<br>Pergunta: O acesso ao aplicativo deve ser realizado pelo estudante ou responsável?",
          "Programa: Programa Pé-de-Meia<br>Tópico: Educação Básica<br>Pergunta: O estudante atende todos os requisitos, mas o CPF ainda não consta no aplicativo, mesmo após atualizações.",
          "Programa: Programa Pé-de-Meia<br>Tópico: Educação Básica<br>Pergunta: O estudante precisa fazer alguma inscrição para o Programa?",
          "Programa: Programa Pé-de-Meia<br>Tópico: Educação Básica<br>Pergunta: O estudante que se matricular após março em uma unidade de ensino e preencher os  requisitos de elegibilidade também será beneficiado pelo Programa Pé-de-Meia?",
          "Programa: Programa Pé-de-Meia<br>Tópico: Educação Básica<br>Pergunta: O estudante que troca de escola ou modalidade durante o ano letivo continua recebendo os incentivos do programa?",
          "Programa: Programa Pé-de-Meia<br>Tópico: Educação Básica<br>Pergunta: O Programa Pé-de-Meia é ofertado somente as instituições Estaduais?",
          "Programa: Programa Pé-de-Meia<br>Tópico: Educação Básica<br>Pergunta: O que a minha rede precisa fazer após a adesão?",
          "Programa: Programa Pé-de-Meia<br>Tópico: Educação Básica<br>Pergunta: O que acontece caso o sistema de ensino não assine o termo de compromisso ou não envie as informações dentro do prazo estipulado pelo calendário de operacionalização?",
          "Programa: Programa Pé-de-Meia<br>Tópico: Educação Básica<br>Pergunta: O que acontece com o estudante caso a rede precise atualizar as informações quanto a  frequência?",
          "Programa: Programa Pé-de-Meia<br>Tópico: Educação Básica<br>Pergunta: O que acontece se eu não participar de exames do Sistema de Avaliação da Educação Básica (Saeb), da avaliação para o ensino médio feita pelo meu estado ou do Enem no 3º ano?",
          "Programa: Programa Pé-de-Meia<br>Tópico: Educação Básica<br>Pergunta: O que acontece se o estudante beneficiário não é aprovado no final do ano letivo?",
          "Programa: Programa Pé-de-Meia<br>Tópico: Educação Básica<br>Pergunta: O que é necessário para acessar o aplicativo?",
          "Programa: Programa Pé-de-Meia<br>Tópico: Educação Básica<br>Pergunta: O que é o Programa Pé-de-Meia?",
          "Programa: Programa Pé-de-Meia<br>Tópico: Educação Básica<br>Pergunta: O que fazer quando os dados do estudante não constam no aplicativo Jornada do Estudante?",
          "Programa: Programa Pé-de-Meia<br>Tópico: Educação Básica<br>Pergunta: O que o estudante poderá consultar no aplicativo?",
          "Programa: Programa Pé-de-Meia<br>Tópico: Educação Básica<br>Pergunta: O que pode levar a família do estudante a perder o benefício?",
          "Programa: Programa Pé-de-Meia<br>Tópico: Educação Básica<br>Pergunta: O rendimento escolar é considerado um dos fatores de elegibilidade?",
          "Programa: Programa Pé-de-Meia<br>Tópico: Educação Básica<br>Pergunta: O responsável precisa liberar o acesso para o estudante no aplicativo?",
          "Programa: Programa Pé-de-Meia<br>Tópico: Educação Básica<br>Pergunta: O valor do fomento financeiro é o mesmo para todas as secretarias?",
          "Programa: Programa Pé-de-Meia<br>Tópico: Educação Básica<br>Pergunta: Onde consulto minha frequência?",
          "Programa: Programa Pé-de-Meia<br>Tópico: Educação Básica<br>Pergunta: Onde posso acessar informações sobre o pagamento e minha conta?",
          "Programa: Programa Pé-de-Meia<br>Tópico: Educação Básica<br>Pergunta: Onde posso obter informações sobre o programa Pé-de-Meia?",
          "Programa: Programa Pé-de-Meia<br>Tópico: Educação Básica<br>Pergunta: Os estudantes de quais sistemas de ensino podem participar do Programa Pé-de-Meia?",
          "Programa: Programa Pé-de-Meia<br>Tópico: Educação Básica<br>Pergunta: Os estudantes dos cursos Técnicos Integrados ao Ensino Médio poderão ser atendidos pelo Programa Pé-de-Meia?",
          "Programa: Programa Pé-de-Meia<br>Tópico: Educação Básica<br>Pergunta: Os responsáveis podem receber os incentivos pelos filhos menores?",
          "Programa: Programa Pé-de-Meia<br>Tópico: Educação Básica<br>Pergunta: Pagamento da 5ª parcela de 2025",
          "Programa: Programa Pé-de-Meia<br>Tópico: Educação Básica<br>Pergunta: Para qual etapa da Educação Básica o Programa Pé-de-Meia será destinado?",
          "Programa: Programa Pé-de-Meia<br>Tópico: Educação Básica<br>Pergunta: Para receber o Incentivo Enem basta me inscrever para o exame ou preciso comparecer aos dois dias de prova?",
          "Programa: Programa Pé-de-Meia<br>Tópico: Educação Básica<br>Pergunta: Parcela rejeitada no último ciclo de pagamentos (26.05 a 02.06).",
          "Programa: Programa Pé-de-Meia<br>Tópico: Educação Básica<br>Pergunta: Parei de receber o benefício do Pé-de-Meia, o que pode ter ocorrido?",
          "Programa: Programa Pé-de-Meia<br>Tópico: Educação Básica<br>Pergunta: Passei de ano, mas ainda não concluí o ensino médio. O que acontece com meus R$1.000?",
          "Programa: Programa Pé-de-Meia<br>Tópico: Educação Básica<br>Pergunta: Por onde os sistemas de ensino deverão enviar as informações dos estudantes?",
          "Programa: Programa Pé-de-Meia<br>Tópico: Educação Básica<br>Pergunta: Por que o Governo Federal criou o Programa Pé-de-Meia?",
          "Programa: Programa Pé-de-Meia<br>Tópico: Educação Básica<br>Pergunta: Preciso fazer algum cadastro para receber o benefício?",
          "Programa: Programa Pé-de-Meia<br>Tópico: Educação Básica<br>Pergunta: Quais alunos da EJA podem receber o Pé-de-Meia?",
          "Programa: Programa Pé-de-Meia<br>Tópico: Educação Básica<br>Pergunta: Quais as condições para que o aluno matriculado mantenha o incentivo?",
          "Programa: Programa Pé-de-Meia<br>Tópico: Educação Básica<br>Pergunta: Quais dados utilizo para acessar o aplicativo?",
          "Programa: Programa Pé-de-Meia<br>Tópico: Educação Básica<br>Pergunta: Quais formas de oferta da EJA fazem parte do programa?",
          "Programa: Programa Pé-de-Meia<br>Tópico: Educação Básica<br>Pergunta: Quais informações estão disponíveis no aplicativo?",
          "Programa: Programa Pé-de-Meia<br>Tópico: Educação Básica<br>Pergunta: Quais informações sobre a rede serão solicitadas na adesão?",
          "Programa: Programa Pé-de-Meia<br>Tópico: Educação Básica<br>Pergunta: Quais os contatos para dúvidas sobre o Programa?",
          "Programa: Programa Pé-de-Meia<br>Tópico: Educação Básica<br>Pergunta: Quais são as etapas da adesão ao Programa?",
          "Programa: Programa Pé-de-Meia<br>Tópico: Educação Básica<br>Pergunta: Quais são as redes que oferecem ensino médio público regular (censo de 2023)?",
          "Programa: Programa Pé-de-Meia<br>Tópico: Educação Básica<br>Pergunta: Quais são as responsabilidades da Caixa?",
          "Programa: Programa Pé-de-Meia<br>Tópico: Educação Básica<br>Pergunta: Quais são os critérios de elegibilidade para receber a poupança?",
          "Programa: Programa Pé-de-Meia<br>Tópico: Educação Básica<br>Pergunta: Quais são os critérios de saída ou desligamento do Programa?",
          "Programa: Programa Pé-de-Meia<br>Tópico: Educação Básica<br>Pergunta: Quais são os critérios para disponibilização de cada incentivo?",
          "Programa: Programa Pé-de-Meia<br>Tópico: Educação Básica<br>Pergunta: Quais são os papéis e responsabilidades de cada ente no Pé-de-Meia?",
          "Programa: Programa Pé-de-Meia<br>Tópico: Educação Básica<br>Pergunta: Quais são os valores das parcelas para estudantes da EJA?",
          "Programa: Programa Pé-de-Meia<br>Tópico: Educação Básica<br>Pergunta: Qual a faixa etária do programa para alunos da EJA?",
          "Programa: Programa Pé-de-Meia<br>Tópico: Educação Básica<br>Pergunta: Qual a faixa etária do programa para alunos do ensino regular?",
          "Programa: Programa Pé-de-Meia<br>Tópico: Educação Básica<br>Pergunta: Qual a lei que institui o Programa Pé-de-Meia?",
          "Programa: Programa Pé-de-Meia<br>Tópico: Educação Básica<br>Pergunta: Qual CPF utilizo para acessar o aplicativo?",
          "Programa: Programa Pé-de-Meia<br>Tópico: Educação Básica<br>Pergunta: Qual o período de assinatura do Termo de Compromisso?",
          "Programa: Programa Pé-de-Meia<br>Tópico: Educação Básica<br>Pergunta: Qual o valor dos incentivos por estudante?",
          "Programa: Programa Pé-de-Meia<br>Tópico: Educação Básica<br>Pergunta: Qual o valor pago para os estudantes do Ensino Regular?",
          "Programa: Programa Pé-de-Meia<br>Tópico: Educação Básica<br>Pergunta: Quando será feita a verificação das informações de elegibilidade?",
          "Programa: Programa Pé-de-Meia<br>Tópico: Educação Básica<br>Pergunta: Quando será feita a verificação das informações para manutenção dos estudantes?",
          "Programa: Programa Pé-de-Meia<br>Tópico: Educação Básica<br>Pergunta: Quando será informado que a conta foi aberta?",
          "Programa: Programa Pé-de-Meia<br>Tópico: Educação Básica<br>Pergunta: Quando vão atualizar o aplicativo Jornada do Estudante?",
          "Programa: Programa Pé-de-Meia<br>Tópico: Educação Básica<br>Pergunta: Quem é responsável pelo Programa Pé-de-Meia?",
          "Programa: Programa Pé-de-Meia<br>Tópico: Educação Básica<br>Pergunta: Quem fará a verificação das condicionalidades e elegibilidades dos participantes?",
          "Programa: Programa Pé-de-Meia<br>Tópico: Educação Básica<br>Pergunta: Quem pode participar do programa Pé-de-Meia?",
          "Programa: Programa Pé-de-Meia<br>Tópico: Educação Básica<br>Pergunta: Quem pode participar do programa Pé-de-Meia?",
          "Programa: Programa Pé-de-Meia<br>Tópico: Educação Básica<br>Pergunta: Quem pode sacar os R$1.000 pela aprovação no fim do ano?",
          "Programa: Programa Pé-de-Meia<br>Tópico: Educação Básica<br>Pergunta: Quem será o titular da conta poupança?",
          "Programa: Programa Pé-de-Meia<br>Tópico: Educação Básica<br>Pergunta: Quem terá acesso ao Sistema Gestão Presente?",
          "Programa: Programa Pé-de-Meia<br>Tópico: Educação Básica<br>Pergunta: Renda per capita superior a meio salário-mínimo",
          "Programa: Programa Pé-de-Meia<br>Tópico: Educação Básica<br>Pergunta: Saldo bloqueado no aplicativo CAIXA Tem.",
          "Programa: Programa Pé-de-Meia<br>Tópico: Educação Básica<br>Pergunta: Se o responsável no CadÚnico estiver hospitalizado, como o estudante deve proceder para abrir a conta-poupança?",
          "Programa: Programa Pé-de-Meia<br>Tópico: Educação Básica<br>Pergunta: Sistemas de Ensino que ofertam ensino médio de formação de professores (curso normal - magistério) também poderão aderir ao Programa Pé-de-Meia?",
          "Programa: Programa Pé-de-Meia<br>Tópico: Educação Básica<br>Pergunta: Sou beneficiário do Bolsa Família, mas estou matriculado em uma unidade escolar da rede privada, tenho direito?",
          "Programa: Programa Pé-de-Meia<br>Tópico: Educação Básica<br>Pergunta: Sou beneficiário do Pé-de-Meia e não passei de ano. O que acontece com meus pagamentos?",
          "Programa: Programa Pé-de-Meia<br>Tópico: Educação Básica<br>Pergunta: Sou da rede particular de ensino, posso ser beneficiário do Programa?",
          "Programa: Programa Pé-de-Meia<br>Tópico: Educação Básica<br>Pergunta: Sou estudante em situação de acolhimento institucional, a guia de acolhimento serve como documento para que eu consiga liberar a movimentação da minha conta do CaixaTem?",
          "Programa: Programa Pé-de-Meia<br>Tópico: Educação Básica<br>Pergunta: Sou uma pessoa trans e há divergência entre o meu nome social, cadastrado em minha escola, e o meu nome de registro, indicado em meu CPF. Como posso resolver?",
          "Programa: Programa Pé-de-Meia<br>Tópico: Educação Básica<br>Pergunta: Sou uma pessoa trans, travesti ou não binária e há divergência entre o meu nome social, cadastrado em minha escola, e o nome indicado no CadÚnico. Como posso resolver?",
          "Programa: Programa Pé-de-Meia<br>Tópico: Educação Básica<br>Pergunta: Tenho atestado para justificar minhas faltas, o que devo fazer?",
          "Programa: Programa Pé-de-Meia<br>Tópico: Educação Básica<br>Pergunta: Tenho CadÚnico, mas meu cadastro não está atualizado. O que fazer para meu (minha) filho (a) ter direito ao benefício?",
          "Programa: Programa Pé-de-Meia<br>Tópico: Educação Básica<br>Pergunta: Tenho pais que estão desempregados há mais de um ano, não possuem renda e não fui contemplado. O que fazer nesse caso?",
          "Programa: Programa Pé-de-Meia<br>Tópico: Educação Básica<br>Pergunta: Tive parcelas bloqueadas por não frequentar aulas em 2024, mas em 2025 estou com frequência acima de 80%, terei as parcelas do ano passado liberadas?",
          "Programa: Programa Pé-de-Meia<br>Tópico: Educação Básica<br>Pergunta: Todo ente da federação deve aderir ao Programa Pé-de-Meia?",
          "Programa: Programa Pé-de-Meia<br>Tópico: Educação Básica<br>Pergunta: Uma vez elegível, quais são os requisitos de pagamento do Incentivo Matrícula ao  estudante?"
         ],
         "type": "scatter3d",
         "x": {
          "_inputArray": {
           "0": -3.827387571334839,
           "1": -5.433725833892822,
           "10": -5.880808353424072,
           "100": -5.842626571655273,
           "101": -5.1679463386535645,
           "102": -5.348446846008301,
           "103": -4.991715908050537,
           "104": -3.6897149085998535,
           "105": -5.56287956237793,
           "106": -4.794370651245117,
           "107": -5.093258380889893,
           "108": -4.258117198944092,
           "109": -4.791468620300293,
           "11": -5.719063758850098,
           "110": -3.14485239982605,
           "111": -3.431175708770752,
           "112": -3.639256000518799,
           "113": -4.579277992248535,
           "114": -6.276907920837402,
           "115": -4.857951641082764,
           "116": -3.2032523155212402,
           "117": -3.2765908241271973,
           "118": -5.0475287437438965,
           "119": -5.470602512359619,
           "12": -6.120911121368408,
           "120": -5.357606887817383,
           "121": -5.895402431488037,
           "122": -4.716926097869873,
           "123": -5.053983211517334,
           "124": -4.344854354858398,
           "125": -4.462931156158447,
           "126": -4.069316387176514,
           "127": -5.141386985778809,
           "128": -6.243407726287842,
           "129": -4.45697546005249,
           "13": -5.2310566902160645,
           "130": -5.830216407775879,
           "131": -4.972877025604248,
           "132": -3.618705987930298,
           "133": -3.2523133754730225,
           "134": -3.9744713306427,
           "135": -3.254380226135254,
           "136": -5.291884422302246,
           "137": -4.62354850769043,
           "138": -4.530401229858398,
           "139": -4.225096225738525,
           "14": -4.7040324211120605,
           "140": -3.987697124481201,
           "141": -4.146381378173828,
           "142": -3.846475601196289,
           "143": -4.651590824127197,
           "144": -3.2473223209381104,
           "15": -4.827057361602783,
           "16": -5.0208234786987305,
           "17": -3.9733359813690186,
           "18": -4.116672515869141,
           "19": -3.8910956382751465,
           "2": -4.340543270111084,
           "20": -4.9268879890441895,
           "21": -5.350734233856201,
           "22": -5.2680816650390625,
           "23": -2.5911073684692383,
           "24": -3.7590270042419434,
           "25": -4.317713737487793,
           "26": -4.077080249786377,
           "27": -5.370860576629639,
           "28": -5.608291149139404,
           "29": -5.34296989440918,
           "3": -3.741833209991455,
           "30": -3.5106608867645264,
           "31": -5.068915367126465,
           "32": -3.859118938446045,
           "33": -5.605409145355225,
           "34": -6.166275978088379,
           "35": -3.174252986907959,
           "36": -3.4836418628692627,
           "37": -4.222212791442871,
           "38": -4.154926776885986,
           "39": -3.3362343311309814,
           "4": -3.819324016571045,
           "40": -3.431090831756592,
           "41": -3.320010185241699,
           "42": -3.568514108657837,
           "43": -3.612342357635498,
           "44": -5.590240001678467,
           "45": -3.897005796432495,
           "46": -3.4996209144592285,
           "47": -3.683479070663452,
           "48": -3.9490134716033936,
           "49": -3.0641472339630127,
           "5": -3.4685208797454834,
           "50": -3.964617967605591,
           "51": -3.5591330528259277,
           "52": -3.8840737342834473,
           "53": -5.935439586639404,
           "54": -5.140201091766357,
           "55": -3.4389901161193848,
           "56": -5.9400105476379395,
           "57": -3.913226366043091,
           "58": -3.6204018592834473,
           "59": -6.217029571533203,
           "6": -3.3851654529571533,
           "60": -4.218075752258301,
           "61": -4.468195915222168,
           "62": -6.148500919342041,
           "63": -5.822088241577148,
           "64": -4.2279558181762695,
           "65": -3.144296407699585,
           "66": -3.389686107635498,
           "67": -3.7823784351348877,
           "68": -5.211847305297852,
           "69": -4.700654029846191,
           "7": -5.169236183166504,
           "70": -5.342897891998291,
           "71": -3.8992912769317627,
           "72": -3.73034930229187,
           "73": -6.039509296417236,
           "74": -4.9102959632873535,
           "75": -5.855785846710205,
           "76": -6.038437843322754,
           "77": -3.6526153087615967,
           "78": -3.2002527713775635,
           "79": -6.200169563293457,
           "8": -5.561804294586182,
           "80": -4.133724212646484,
           "81": -5.396168231964111,
           "82": -5.534058570861816,
           "83": -5.317043781280518,
           "84": -3.782611846923828,
           "85": -3.563769817352295,
           "86": -3.7733938694000244,
           "87": -4.489688873291016,
           "88": -3.677950382232666,
           "89": -2.399981737136841,
           "9": -5.251160144805908,
           "90": -4.380706310272217,
           "91": -4.170188903808594,
           "92": -3.8773815631866455,
           "93": -5.424208164215088,
           "94": -4.605721950531006,
           "95": -4.262612819671631,
           "96": -3.2870378494262695,
           "97": -3.24697208404541,
           "98": -6.201453685760498,
           "99": -3.1650662422180176,
           "bdata": "6/N0wBXhrcC75YrAMnpvwM5vdMA//F3AjaZYwGJqpcBN+rHAgQmowJUvvMCSArfAgd7DwNFkp8Bvh5bAQXeawJaqoMAjS37AyLuDwLYHecARqZ3ANzmrwCCUqMC01CXA5pNwwLYqisBxd4LAF96rwB93s8Cc+arAq65gwI40osDO+3bAg1+zwCJSxcD2JkvA/fNewF4ch8Ap9YTA3YRVwP6WW8AMe1TAiWJkwJ4wZ8A/47LAi2h5wMr5X8AfvmvAo7x8wP0aRMBNvH3A1shjwKqUeMAf773Ah3ykwGoYXMCRFL7ATXJ6wKq0Z8Do8cbAevqGwHb7jsCFwMTAjE66wGpLh8AnPEnAnvBYwH0ScsB0x6bAwmuWwAX5qsD9jXnAC75uwKlDwcAlIZ3AmWK7wOI6wcBzxGnA8dBMwMpnxsB4R4TAaa2swAIXscA5JarAUBZywM4UZMBJf3HAiKuPwIpja8BNmRnAvy6MwDByhcAFJ3jAHZOtwBNik8BTZ4jA1F5SwGTOT8BPcsbAcpBKwMz2usDRX6XAeiarwCO8n8BKJGzAHAOywHxrmcD5+6LAf0KIwLZTmcBDRUnAYphbwJLpaMByiZLAbtzIwFd0m8AWAk3AqrNRwFuFocAtD6/AhHGrwCOnvMAP8ZbAO7qhwAwJi8BV0I7A1zeCwD6GpMD/ycfAi5+OwCKRusDPIZ/A4ZhnwOclUMC9XX7AxEdQwB5XqcAc9JPADPmQwP0zh8BuNn/AKK+EwKgsdsDV2ZTAIdRPwA==",
           "dtype": "f4",
           "shape": "145"
          },
          "bdata": "6/N0wBXhrcC75YrAMnpvwM5vdMA//F3AjaZYwGJqpcBN+rHAgQmowJUvvMCSArfAgd7DwNFkp8Bvh5bAQXeawJaqoMAjS37AyLuDwLYHecARqZ3ANzmrwCCUqMC01CXA5pNwwLYqisBxd4LAF96rwB93s8Cc+arAq65gwI40osDO+3bAg1+zwCJSxcD2JkvA/fNewF4ch8Ap9YTA3YRVwP6WW8AMe1TAiWJkwJ4wZ8A/47LAi2h5wMr5X8AfvmvAo7x8wP0aRMBNvH3A1shjwKqUeMAf773Ah3ykwGoYXMCRFL7ATXJ6wKq0Z8Do8cbAevqGwHb7jsCFwMTAjE66wGpLh8AnPEnAnvBYwH0ScsB0x6bAwmuWwAX5qsD9jXnAC75uwKlDwcAlIZ3AmWK7wOI6wcBzxGnA8dBMwMpnxsB4R4TAaa2swAIXscA5JarAUBZywM4UZMBJf3HAiKuPwIpja8BNmRnAvy6MwDByhcAFJ3jAHZOtwBNik8BTZ4jA1F5SwGTOT8BPcsbAcpBKwMz2usDRX6XAeiarwCO8n8BKJGzAHAOywHxrmcD5+6LAf0KIwLZTmcBDRUnAYphbwJLpaMByiZLAbtzIwFd0m8AWAk3AqrNRwFuFocAtD6/AhHGrwCOnvMAP8ZbAO7qhwAwJi8BV0I7A1zeCwD6GpMD/ycfAi5+OwCKRusDPIZ/A4ZhnwOclUMC9XX7AxEdQwB5XqcAc9JPADPmQwP0zh8BuNn/AKK+EwKgsdsDV2ZTAIdRPwA==",
          "dtype": "f4"
         },
         "y": {
          "_inputArray": {
           "0": 2.5487451553344727,
           "1": 2.9697320461273193,
           "10": 3.5171687602996826,
           "100": 2.8224833011627197,
           "101": 2.584773302078247,
           "102": 2.602064847946167,
           "103": 2.4579250812530518,
           "104": 2.9434268474578857,
           "105": 3.8394711017608643,
           "106": 3.993372678756714,
           "107": 2.6402692794799805,
           "108": 3.7335848808288574,
           "109": 2.3703832626342773,
           "11": 2.9712471961975098,
           "110": 2.912262439727783,
           "111": 2.402498483657837,
           "112": 2.4496712684631348,
           "113": 2.416806221008301,
           "114": 3.203686475753784,
           "115": 2.456317901611328,
           "116": 3.3447279930114746,
           "117": 3.101386785507202,
           "118": 3.445850372314453,
           "119": 3.3692123889923096,
           "12": 3.0125656127929688,
           "120": 3.4569454193115234,
           "121": 3.5106618404388428,
           "122": 2.3562657833099365,
           "123": 3.249969005584717,
           "124": 2.329993963241577,
           "125": 2.3033628463745117,
           "126": 4.523715019226074,
           "127": 4.06802225112915,
           "128": 3.0864663124084473,
           "129": 4.338331699371338,
           "13": 3.9702742099761963,
           "130": 3.6347358226776123,
           "131": 4.203274726867676,
           "132": 2.9675309658050537,
           "133": 3.8633503913879395,
           "134": 4.710349082946777,
           "135": 3.552747964859009,
           "136": 4.099217414855957,
           "137": 4.309314250946045,
           "138": 4.365897178649902,
           "139": 4.016179084777832,
           "14": 2.6089930534362793,
           "140": 4.537831783294678,
           "141": 4.577951431274414,
           "142": 4.77107572555542,
           "143": 2.305295705795288,
           "144": 3.4766135215759277,
           "15": 2.552610158920288,
           "16": 4.1088948249816895,
           "17": 4.423919200897217,
           "18": 4.477197170257568,
           "19": 2.7414653301239014,
           "2": 4.110767364501953,
           "20": 3.3954925537109375,
           "21": 3.3881940841674805,
           "22": 3.095593214035034,
           "23": 3.774580955505371,
           "24": 4.417307376861572,
           "25": 3.827237606048584,
           "26": 4.318639278411865,
           "27": 2.9795260429382324,
           "28": 3.1836225986480713,
           "29": 3.1477243900299072,
           "3": 3.1811580657958984,
           "30": 4.267444133758545,
           "31": 3.0996665954589844,
           "32": 4.1629319190979,
           "33": 3.7646090984344482,
           "34": 3.063896417617798,
           "35": 3.9700632095336914,
           "36": 4.151031970977783,
           "37": 4.290879249572754,
           "38": 3.669466495513916,
           "39": 3.331001043319702,
           "4": 3.268455743789673,
           "40": 4.315323352813721,
           "41": 3.347011089324951,
           "42": 3.919603109359741,
           "43": 3.764552354812622,
           "44": 3.4800734519958496,
           "45": 3.102529764175415,
           "46": 4.461104869842529,
           "47": 4.34989595413208,
           "48": 4.546478271484375,
           "49": 3.716689348220825,
           "5": 3.969008684158325,
           "50": 4.758405685424805,
           "51": 4.083278179168701,
           "52": 4.210593223571777,
           "53": 3.554318428039551,
           "54": 3.4727368354797363,
           "55": 3.9607231616973877,
           "56": 3.5229721069335938,
           "57": 4.629806041717529,
           "58": 4.359811782836914,
           "59": 3.0623507499694824,
           "6": 4.087382793426514,
           "60": 4.656202793121338,
           "61": 4.612221717834473,
           "62": 3.168928861618042,
           "63": 3.6760923862457275,
           "64": 2.887033224105835,
           "65": 3.532729148864746,
           "66": 3.8957741260528564,
           "67": 2.8340563774108887,
           "68": 2.632540225982666,
           "69": 2.9872376918792725,
           "7": 3.4887607097625732,
           "70": 2.845024347305298,
           "71": 4.035520553588867,
           "72": 4.210256099700928,
           "73": 2.95519757270813,
           "74": 2.493340015411377,
           "75": 3.560122489929199,
           "76": 3.049783706665039,
           "77": 4.462573528289795,
           "78": 3.6353776454925537,
           "79": 3.203665018081665,
           "8": 3.7581100463867188,
           "80": 3.5088157653808594,
           "81": 2.7779247760772705,
           "82": 3.0521326065063477,
           "83": 2.5543878078460693,
           "84": 2.7004101276397705,
           "85": 2.942084550857544,
           "86": 4.138185977935791,
           "87": 4.391567707061768,
           "88": 2.526421308517456,
           "89": 3.4658870697021484,
           "9": 2.7087242603302,
           "90": 4.573131561279297,
           "91": 4.6353373527526855,
           "92": 4.520209789276123,
           "93": 3.1513383388519287,
           "94": 2.5826916694641113,
           "95": 4.186513423919678,
           "96": 2.722463369369507,
           "97": 3.607428550720215,
           "98": 3.0265369415283203,
           "99": 2.4885482788085938,
           "bdata": "pB4jQBcQPkBoi4NAGJhLQGEuUUA9BH5A18uCQNtHX0DghHBAvVstQEsZYUDqKD5A4M1AQPkYfkC++SZA910jQBF8g0C/kI1AM0WPQCt0L0DAT1lALNhYQDMeRkC8knFAlVqNQHbxdEBLMopAjrA+QHnAS0BRdElA546IQPBgRkC9NoVAW+9wQOEWRECEFX5AQdWEQOJOiUCK2GpAHy9VQCEXikBuNVZAx9p6QG3ucECGuV5A2Y9GQF/BjkBZMotAwHyRQD3ebUDcRJhAN6qCQC69hkD0eWNAUkFeQH18fUBgeGFAXyeUQJSDi0CO/UNAnf+UQFKXk0C7z0pAGUVrQCfFOEA8GGJAXVR5QC5hNUCKeyhA5y4/QOEUNkD8IoFAa7qGQPUhPUDikh9ADNljQKgvQ0BnzY5AB6poQNkITUBwkGBAhckxQCRWQ0AXeyNAhdMsQB1LPEAFbIRAuYeMQOOwIUAY0V1AGFeSQK9UlECPpZBAh69JQNJKJUDr94VA1zwuQBzgZkDIskFAYEQfQJGjNEDtbCVAO4gmQKVOHUAbYTxA5bl1QGuTf0As+ihADvNuQFy0F0CCYjpAicIZQGrHHED0rBpAMwlNQFA0HUAGEFZAH31GQNCIXEAtoVdAmD5dQK+uYEAPzRZAfv9PQJ8eFUBMahNARsKQQD0tgkCqiEVAndOKQIOfaEA6gYZAB+w9QCJBd0Auu5ZAOWBjQMosg0Dn5YlAbrWLQIqEgEDrNZFAlH6SQKesmED3iRNA1oBeQA==",
           "dtype": "f4",
           "shape": "145"
          },
          "bdata": "pB4jQBcQPkBoi4NAGJhLQGEuUUA9BH5A18uCQNtHX0DghHBAvVstQEsZYUDqKD5A4M1AQPkYfkC++SZA910jQBF8g0C/kI1AM0WPQCt0L0DAT1lALNhYQDMeRkC8knFAlVqNQHbxdEBLMopAjrA+QHnAS0BRdElA546IQPBgRkC9NoVAW+9wQOEWRECEFX5AQdWEQOJOiUCK2GpAHy9VQCEXikBuNVZAx9p6QG3ucECGuV5A2Y9GQF/BjkBZMotAwHyRQD3ebUDcRJhAN6qCQC69hkD0eWNAUkFeQH18fUBgeGFAXyeUQJSDi0CO/UNAnf+UQFKXk0C7z0pAGUVrQCfFOEA8GGJAXVR5QC5hNUCKeyhA5y4/QOEUNkD8IoFAa7qGQPUhPUDikh9ADNljQKgvQ0BnzY5AB6poQNkITUBwkGBAhckxQCRWQ0AXeyNAhdMsQB1LPEAFbIRAuYeMQOOwIUAY0V1AGFeSQK9UlECPpZBAh69JQNJKJUDr94VA1zwuQBzgZkDIskFAYEQfQJGjNEDtbCVAO4gmQKVOHUAbYTxA5bl1QGuTf0As+ihADvNuQFy0F0CCYjpAicIZQGrHHED0rBpAMwlNQFA0HUAGEFZAH31GQNCIXEAtoVdAmD5dQK+uYEAPzRZAfv9PQJ8eFUBMahNARsKQQD0tgkCqiEVAndOKQIOfaEA6gYZAB+w9QCJBd0Auu5ZAOWBjQMosg0Dn5YlAbrWLQIqEgEDrNZFAlH6SQKesmED3iRNA1oBeQA==",
          "dtype": "f4"
         },
         "z": {
          "_inputArray": {
           "0": 1.1273709535598755,
           "1": 0.6612133383750916,
           "10": 2.039057493209839,
           "100": 1.9247201681137085,
           "101": 1.1717082262039185,
           "102": 1.941267967224121,
           "103": 1.3704897165298462,
           "104": 0.7489147782325745,
           "105": 2.230961799621582,
           "106": 1.716766357421875,
           "107": 1.8478811979293823,
           "108": 1.5235589742660522,
           "109": 2.010202169418335,
           "11": 1.7678688764572144,
           "110": 0.6866912245750427,
           "111": 1.0644702911376953,
           "112": 0.954163134098053,
           "113": 1.7797503471374512,
           "114": 1.7674678564071655,
           "115": 1.1660103797912598,
           "116": 0.4486616551876068,
           "117": 0.570557713508606,
           "118": 1.1234359741210938,
           "119": 0.4808289706707001,
           "12": 1.7930957078933716,
           "120": 1.862237572669983,
           "121": 0.5108559727668762,
           "122": 1.9079694747924805,
           "123": 1.1273384094238281,
           "124": 1.6238062381744385,
           "125": 1.7540075778961182,
           "126": 0.6462310552597046,
           "127": 1.9457603693008423,
           "128": 1.3135653734207153,
           "129": 1.3732553720474243,
           "13": 1.8994940519332886,
           "130": 2.0873727798461914,
           "131": 2.1105964183807373,
           "132": 1.0220491886138916,
           "133": 1.6187711954116821,
           "134": 0.8727822303771973,
           "135": 1.4949350357055664,
           "136": 2.2476329803466797,
           "137": 2.0769293308258057,
           "138": 2.1281888484954834,
           "139": 0.77607262134552,
           "14": 0.8747890591621399,
           "140": 2.221658229827881,
           "141": 1.3417414426803589,
           "142": 0.5705133676528931,
           "143": 1.6489384174346924,
           "144": 0.6060329675674438,
           "15": 1.0698367357254028,
           "16": 1.813418984413147,
           "17": 2.2600605487823486,
           "18": 2.2892820835113525,
           "19": 0.7850849628448486,
           "2": 1.456958293914795,
           "20": 1.644645094871521,
           "21": 0.571643054485321,
           "22": 0.4342409074306488,
           "23": 0.5954306721687317,
           "24": 0.17670682072639465,
           "25": 1.377256155014038,
           "26": 2.0782721042633057,
           "27": 0.45426905155181885,
           "28": 0.3782649338245392,
           "29": 0.23798176646232605,
           "3": 0.531792938709259,
           "30": 1.2796969413757324,
           "31": 0.3183183968067169,
           "32": 0.8509448170661926,
           "33": 2.0679752826690674,
           "34": 1.920655608177185,
           "35": 0.35220304131507874,
           "36": 0.2888779640197754,
           "37": 2.0219812393188477,
           "38": 0.2999590337276459,
           "39": 1.4168131351470947,
           "4": 0.5435084104537964,
           "40": 1.4541772603988647,
           "41": 1.1293413639068604,
           "42": 1.6604670286178589,
           "43": 1.1678223609924316,
           "44": 0.5316131711006165,
           "45": 1.727805733680725,
           "46": 1.7566102743148804,
           "47": 1.6591202020645142,
           "48": 0.2699637711048126,
           "49": 0.4415794312953949,
           "5": 0.8007674217224121,
           "50": 0.6515330076217651,
           "51": 0.2748027741909027,
           "52": 0.06934884935617447,
           "53": 2.0237605571746826,
           "54": 1.0397144556045532,
           "55": 1.7821094989776611,
           "56": 0.5852469801902771,
           "57": 0.3881683051586151,
           "58": 1.9362589120864868,
           "59": 1.9659147262573242,
           "6": 0.47883734107017517,
           "60": 0.563848078250885,
           "61": 0.8043299317359924,
           "62": 1.0838382244110107,
           "63": 0.83266681432724,
           "64": 1.1431018114089966,
           "65": 0.9409885406494141,
           "66": 0.24363933503627777,
           "67": 1.5053426027297974,
           "68": 1.101555585861206,
           "69": 0.5557827949523926,
           "7": 0.9763718247413635,
           "70": 0.5939182639122009,
           "71": 0.1875193566083908,
           "72": 0.4717924892902374,
           "73": 1.7671184539794922,
           "74": 1.8939536809921265,
           "75": 0.5881103277206421,
           "76": 1.3656483888626099,
           "77": 1.1083693504333496,
           "78": 0.8731207251548767,
           "79": 1.1438241004943848,
           "8": 0.3508262038230896,
           "80": 1.536687970161438,
           "81": 1.7431764602661133,
           "82": 1.979804515838623,
           "83": 2.0122873783111572,
           "84": 1.1877975463867188,
           "85": 1.0263954401016235,
           "86": 1.5261826515197754,
           "87": 0.9145083427429199,
           "88": 0.9569399356842041,
           "89": 0.43055012822151184,
           "9": 1.810906171798706,
           "90": 0.8451921343803406,
           "91": 1.0606893301010132,
           "92": 0.22414320707321167,
           "93": 0.23273980617523193,
           "94": 1.8279026746749878,
           "95": 1.738621473312378,
           "96": 0.957760751247406,
           "97": 0.421131432056427,
           "98": 1.727851390838623,
           "99": 1.0845619440078735,
           "bdata": "sU2QP0dFKT+cfbo/lSMIP14jCz8Y/0w/Kyr1PoHzeT9+n7M+xsvnP+t/AkCHSeI/KYTlP58i8z8t8l8/afCIPx0e6D/VpBBAmYMSQFT7SD+7g9I/M1cSP9NU3j4lbhg/ovI0Pu5JsD9pAgVA9JXoPvGrwT5+sXM+HM2jP6H6oj6F11k/tVkEQAvY9T/1U7Q+0OeTPiRoAUA7lJk+Ilq1P3siuj9CjpA/L4rUPzR7lT/NFwg/vSjdP5vY4D8NXtQ/sTiKPrMW4j7eyiY/87KMPsUGjj1LhQFAXRWFPyoc5D+/0hU//73GPlXX9z8Yo/s/WVgQP5HoTT82u4o/pylVPylRkj+g5HA/l3x5PhGvwD/G/4w/yEcOPwcLGD8TBUA+yY7xPvAw4j8TbfI/Zo4WP5HNrj8M340/14RfP9Rokj8xssQ/aCDfPzxq/T9RyQBAwAmYP+1ggz/0WcM/OB1qPwT6dD8Rcdw+g15YP6vEhz/MhWU+WFNuPrf46T8mi94/zy91P4qe1z48Kt0/7dKKPztd9j+J+pU/eHv4PzVsrz/huD8/FMgOQAC/2z9fh+w/+wPDPyenAED/yi8/kECIPwlEdD/czuM/YzziP9Q/lT/7tuU+EhASP8DMjz83L/Y+zV3uP3XHAj9YOPQ/oEyQP+LYzz9Sg+A/Zm8lP60O+T/pIqg/1cavP4SXBUADFAdAgtKCP+Uzzz+obl8/CFq/PzjZD0Bp7ARAPzQIQLKsRj+mLw5AL76rPyoNEj9qENM/+iQbPw==",
           "dtype": "f4",
           "shape": "145"
          },
          "bdata": "sU2QP0dFKT+cfbo/lSMIP14jCz8Y/0w/Kyr1PoHzeT9+n7M+xsvnP+t/AkCHSeI/KYTlP58i8z8t8l8/afCIPx0e6D/VpBBAmYMSQFT7SD+7g9I/M1cSP9NU3j4lbhg/ovI0Pu5JsD9pAgVA9JXoPvGrwT5+sXM+HM2jP6H6oj6F11k/tVkEQAvY9T/1U7Q+0OeTPiRoAUA7lJk+Ilq1P3siuj9CjpA/L4rUPzR7lT/NFwg/vSjdP5vY4D8NXtQ/sTiKPrMW4j7eyiY/87KMPsUGjj1LhQFAXRWFPyoc5D+/0hU//73GPlXX9z8Yo/s/WVgQP5HoTT82u4o/pylVPylRkj+g5HA/l3x5PhGvwD/G/4w/yEcOPwcLGD8TBUA+yY7xPvAw4j8TbfI/Zo4WP5HNrj8M340/14RfP9Rokj8xssQ/aCDfPzxq/T9RyQBAwAmYP+1ggz/0WcM/OB1qPwT6dD8Rcdw+g15YP6vEhz/MhWU+WFNuPrf46T8mi94/zy91P4qe1z48Kt0/7dKKPztd9j+J+pU/eHv4PzVsrz/huD8/FMgOQAC/2z9fh+w/+wPDPyenAED/yi8/kECIPwlEdD/czuM/YzziP9Q/lT/7tuU+EhASP8DMjz83L/Y+zV3uP3XHAj9YOPQ/oEyQP+LYzz9Sg+A/Zm8lP60O+T/pIqg/1cavP4SXBUADFAdAgtKCP+Uzzz+obl8/CFq/PzjZD0Bp7ARAPzQIQLKsRj+mLw5AL76rPyoNEj9qENM/+iQbPw==",
          "dtype": "f4"
         }
        },
        {
         "hovertemplate": "%{text}<extra></extra>",
         "marker": {
          "color": "rgb(255,255,179)",
          "opacity": 0.7,
          "size": 6
         },
         "mode": "markers",
         "name": "EJA",
         "text": [
          "Programa: EJA<br>Tópico: Educação de Jovens e Adultos<br>Pergunta: O que é EJA?",
          "Programa: EJA<br>Tópico: Educação de Jovens e Adultos<br>Pergunta: Quem pode participar do EJA?",
          "Programa: EJA<br>Tópico: Educação de Jovens e Adultos<br>Pergunta: Como funciona o EJA?",
          "Programa: EJA<br>Tópico: Educação de Jovens e Adultos<br>Pergunta: Onde encontrar o EJA?"
         ],
         "type": "scatter3d",
         "x": {
          "_inputArray": {
           "0": -2.2458553314208984,
           "1": -2.322939395904541,
           "2": -2.1827211380004883,
           "3": -2.169130802154541,
           "bdata": "GLwPwAqrFMC0sQvACtMKwA==",
           "dtype": "f4",
           "shape": "4"
          },
          "bdata": "GLwPwAqrFMC0sQvACtMKwA==",
          "dtype": "f4"
         },
         "y": {
          "_inputArray": {
           "0": 2.2064452171325684,
           "1": 2.2505626678466797,
           "2": 2.30916166305542,
           "3": 2.313127040863037,
           "bdata": "ZjYNQDgJEEBOyRNARgoUQA==",
           "dtype": "f4",
           "shape": "4"
          },
          "bdata": "ZjYNQDgJEEBOyRNARgoUQA==",
          "dtype": "f4"
         },
         "z": {
          "_inputArray": {
           "0": 1.2550486326217651,
           "1": 1.2386252880096436,
           "2": 1.1980223655700684,
           "3": 1.1611580848693848,
           "bdata": "b6WgP0aLnj/MWJk/1KCUPw==",
           "dtype": "f4",
           "shape": "4"
          },
          "bdata": "b6WgP0aLnj/MWJk/1KCUPw==",
          "dtype": "f4"
         }
        },
        {
         "hovertemplate": "%{text}<extra></extra>",
         "marker": {
          "color": "rgb(190,186,218)",
          "opacity": 0.7,
          "size": 6
         },
         "mode": "markers",
         "name": "PROEJA",
         "text": [
          "Programa: PROEJA<br>Tópico: Educação de Jovens e Adultos<br>Pergunta: Como o EJA pode me preparar para o mercado de trabalho?",
          "Programa: PROEJA<br>Tópico: Educação de Jovens e Adultos<br>Pergunta: Quais são as instituições que ofertam os cursos?",
          "Programa: PROEJA<br>Tópico: Educação de Jovens e Adultos<br>Pergunta: Como é feita a seleção para os cursos Proeja?",
          "Programa: PROEJA<br>Tópico: Educação de Jovens e Adultos<br>Pergunta: Eu já concluí o ensino médio, posso cursar o Proeja ?"
         ],
         "type": "scatter3d",
         "x": {
          "_inputArray": {
           "0": -2.0061354637145996,
           "1": -1.1525789499282837,
           "2": -1.4616334438323975,
           "3": -1.4102873802185059,
           "bdata": "hmQAwLWHk7/OFru/TIS0vw==",
           "dtype": "f4",
           "shape": "4"
          },
          "bdata": "hmQAwLWHk7/OFru/TIS0vw==",
          "dtype": "f4"
         },
         "y": {
          "_inputArray": {
           "0": 2.40372896194458,
           "1": 2.636017084121704,
           "2": 2.527571439743042,
           "3": 2.629485845565796,
           "bdata": "stYZQIG0KEC7wyFAf0koQA==",
           "dtype": "f4",
           "shape": "4"
          },
          "bdata": "stYZQIG0KEC7wyFAf0koQA==",
          "dtype": "f4"
         },
         "z": {
          "_inputArray": {
           "0": 1.3110435009002686,
           "1": 1.7809386253356934,
           "2": 1.5723665952682495,
           "3": 1.432989239692688,
           "bdata": "RtCnP8z14z9PQ8k/MWy3Pw==",
           "dtype": "f4",
           "shape": "4"
          },
          "bdata": "RtCnP8z14z9PQ8k/MWy3Pw==",
          "dtype": "f4"
         }
        },
        {
         "hovertemplate": "%{text}<extra></extra>",
         "marker": {
          "color": "rgb(251,128,114)",
          "opacity": 0.7,
          "size": 6
         },
         "mode": "markers",
         "name": "Pé-de-meia/EJA",
         "text": [
          "Programa: Pé-de-meia/EJA<br>Tópico: Educação de Jovens e Adultos<br>Pergunta: Alunos da EJA têm direito ao recebimento do Pé de Meia?"
         ],
         "type": "scatter3d",
         "x": {
          "_inputArray": {
           "0": -3.1183464527130127,
           "bdata": "/ZJHwA==",
           "dtype": "f4",
           "shape": "1"
          },
          "bdata": "/ZJHwA==",
          "dtype": "f4"
         },
         "y": {
          "_inputArray": {
           "0": 2.853799343109131,
           "bdata": "pqQ2QA==",
           "dtype": "f4",
           "shape": "1"
          },
          "bdata": "pqQ2QA==",
          "dtype": "f4"
         },
         "z": {
          "_inputArray": {
           "0": 1.044613242149353,
           "bdata": "47WFPw==",
           "dtype": "f4",
           "shape": "1"
          },
          "bdata": "47WFPw==",
          "dtype": "f4"
         }
        },
        {
         "hovertemplate": "%{text}<extra></extra>",
         "marker": {
          "color": "rgb(128,177,211)",
          "opacity": 0.7,
          "size": 6
         },
         "mode": "markers",
         "name": "Certificação Ensino Médio",
         "text": [
          "Programa: Certificação Ensino Médio<br>Tópico: Educação Básica<br>Pergunta: Como ter acesso a certificação do ensino médio?"
         ],
         "type": "scatter3d",
         "x": {
          "_inputArray": {
           "0": -1.287447452545166,
           "bdata": "FMukvw==",
           "dtype": "f4",
           "shape": "1"
          },
          "bdata": "FMukvw==",
          "dtype": "f4"
         },
         "y": {
          "_inputArray": {
           "0": 2.463273525238037,
           "bdata": "RqYdQA==",
           "dtype": "f4",
           "shape": "1"
          },
          "bdata": "RqYdQA==",
          "dtype": "f4"
         },
         "z": {
          "_inputArray": {
           "0": 0.7842165231704712,
           "bdata": "asJIPw==",
           "dtype": "f4",
           "shape": "1"
          },
          "bdata": "asJIPw==",
          "dtype": "f4"
         }
        },
        {
         "hovertemplate": "%{text}<extra></extra>",
         "marker": {
          "color": "rgb(253,180,98)",
          "opacity": 0.7,
          "size": 6
         },
         "mode": "markers",
         "name": "Encceja",
         "text": [
          "Programa: Encceja<br>Tópico: Educação Básica<br>Pergunta: O que é Encceja?",
          "Programa: Encceja<br>Tópico: Educação Básica<br>Pergunta: Para que serve o Encceja?",
          "Programa: Encceja<br>Tópico: Educação Básica<br>Pergunta: Como obter o certificado de conclusão da educação básica através do Encceja?",
          "Programa: Encceja<br>Tópico: Educação Básica<br>Pergunta: Onde e quando acontecem as inscrições e provas?"
         ],
         "type": "scatter3d",
         "x": {
          "_inputArray": {
           "0": -1.7024906873703003,
           "1": -1.6488133668899536,
           "2": -1.411249041557312,
           "3": -1.527490258216858,
           "bdata": "N+vZv1EM07/Po7S/zYTDvw==",
           "dtype": "f4",
           "shape": "4"
          },
          "bdata": "N+vZv1EM07/Po7S/zYTDvw==",
          "dtype": "f4"
         },
         "y": {
          "_inputArray": {
           "0": 2.0729591846466064,
           "1": 2.180692434310913,
           "2": 2.314281702041626,
           "3": 2.114187240600586,
           "bdata": "XasEQHeQC0AxHRRA2E4HQA==",
           "dtype": "f4",
           "shape": "4"
          },
          "bdata": "XasEQHeQC0AxHRRA2E4HQA==",
          "dtype": "f4"
         },
         "z": {
          "_inputArray": {
           "0": 1.056641697883606,
           "1": 1.0760116577148438,
           "2": 0.9060420393943787,
           "3": 1.1437358856201172,
           "bdata": "CUCHP8C6iT9f8mc/8GWSPw==",
           "dtype": "f4",
           "shape": "4"
          },
          "bdata": "CUCHP8C6iT9f8mc/8GWSPw==",
          "dtype": "f4"
         }
        },
        {
         "hovertemplate": "%{text}<extra></extra>",
         "marker": {
          "color": "rgb(179,222,105)",
          "opacity": 0.7,
          "size": 6
         },
         "mode": "markers",
         "name": "ENEM",
         "text": [
          "Programa: ENEM<br>Tópico: Educação Básica<br>Pergunta: Como obter o certificado do Ensino Médio através do ENEM?",
          "Programa: ENEM<br>Tópico: Educação Básica<br>Pergunta: Conseguir alcançar a pontuação necessária para o certificado, como posso emiti-lo?"
         ],
         "type": "scatter3d",
         "x": {
          "_inputArray": {
           "0": -1.0834729671478271,
           "1": -0.9913011193275452,
           "bdata": "Pq+Kv+nFfb8=",
           "dtype": "f4",
           "shape": "2"
          },
          "bdata": "Pq+Kv+nFfb8=",
          "dtype": "f4"
         },
         "y": {
          "_inputArray": {
           "0": 2.5112786293029785,
           "1": 2.451772689819336,
           "bdata": "yrggQNjpHEA=",
           "dtype": "f4",
           "shape": "2"
          },
          "bdata": "yrggQNjpHEA=",
          "dtype": "f4"
         },
         "z": {
          "_inputArray": {
           "0": 0.5452290177345276,
           "1": 0.48222506046295166,
           "bdata": "IZQLPzTm9j4=",
           "dtype": "f4",
           "shape": "2"
          },
          "bdata": "IZQLPzTm9j4=",
          "dtype": "f4"
         }
        },
        {
         "hovertemplate": "%{text}<extra></extra>",
         "marker": {
          "color": "rgb(252,205,229)",
          "opacity": 0.7,
          "size": 6
         },
         "mode": "markers",
         "name": "Cursinho Popular",
         "text": [
          "Programa: Cursinho Popular<br>Tópico: Educação Básica<br>Pergunta: O que é o CPOP?",
          "Programa: Cursinho Popular<br>Tópico: Educação Básica<br>Pergunta: O que a CPOP fornece para os alunos de cursinhos populares?",
          "Programa: Cursinho Popular<br>Tópico: Educação Básica<br>Pergunta: Quem pode ser estudante do CPOP?",
          "Programa: Cursinho Popular<br>Tópico: Educação Básica<br>Pergunta: Quanto é a bolsa para o estudante do cursinho popular selecionado?",
          "Programa: Cursinho Popular<br>Tópico: Preparação para acesso ao Ensino Superior<br>Pergunta: O que é um Cursinho Popular?",
          "Programa: Cursinho Popular<br>Tópico: Preparação para acesso ao Ensino Superior<br>Pergunta: Quem tem direito a fazer Cursinho Popular?",
          "Programa: Cursinho Popular<br>Tópico: Preparação para acesso ao Ensino Superior<br>Pergunta: Por que o Cursinho Popular é importante?",
          "Programa: Cursinho Popular<br>Tópico: Preparação para acesso ao Ensino Superior<br>Pergunta: Quando é possível se inscrever no Cursinho Popular?",
          "Programa: Cursinho Popular<br>Tópico: Preparação para acesso ao Ensino Superior<br>Pergunta: Como se inscrever para o Cursinho Popular?"
         ],
         "type": "scatter3d",
         "x": {
          "_inputArray": {
           "0": 8.402039527893066,
           "1": 8.423078536987305,
           "2": 8.488182067871094,
           "3": 8.72896671295166,
           "4": 8.588054656982422,
           "5": 8.677544593811035,
           "6": 8.670145988464355,
           "7": 8.531579971313477,
           "8": 8.64664077758789,
           "bdata": "wW4GQe7EBkGYzwdB2akLQaxoCUE51wpB67gKQVqBCEGkWApB",
           "dtype": "f4",
           "shape": "9"
          },
          "bdata": "wW4GQe7EBkGYzwdB2akLQaxoCUE51wpB67gKQVqBCEGkWApB",
          "dtype": "f4"
         },
         "y": {
          "_inputArray": {
           "0": 3.596924066543579,
           "1": 3.477564811706543,
           "2": 3.518303871154785,
           "3": 3.351935386657715,
           "4": 3.4598300457000732,
           "5": 3.5610454082489014,
           "6": 3.557671308517456,
           "7": 3.6674327850341797,
           "8": 3.4540205001831055,
           "bdata": "ATRmQGyQXkDkK2FAHIZWQNttXUAr6GNA47BjQDi3akCsDl1A",
           "dtype": "f4",
           "shape": "9"
          },
          "bdata": "ATRmQGyQXkDkK2FAHIZWQNttXUAr6GNA47BjQDi3akCsDl1A",
          "dtype": "f4"
         },
         "z": {
          "_inputArray": {
           "0": 10.013023376464844,
           "1": 10.119695663452148,
           "2": 10.0819673538208,
           "3": 10.160478591918945,
           "4": 10.055944442749023,
           "5": 10.209888458251953,
           "6": 9.933347702026367,
           "7": 10.253981590270996,
           "8": 10.109891891479492,
           "bdata": "WDUgQUbqIUG9TyFBUpEiQSblIEG0WyNB/u4eQU8QJEEewiFB",
           "dtype": "f4",
           "shape": "9"
          },
          "bdata": "WDUgQUbqIUG9TyFBUpEiQSblIEG0WyNB/u4eQU8QJEEewiFB",
          "dtype": "f4"
         }
        },
        {
         "hovertemplate": "%{text}<extra></extra>",
         "marker": {
          "color": "rgb(217,217,217)",
          "opacity": 0.7,
          "size": 6
         },
         "mode": "markers",
         "name": "SISU",
         "text": [
          "Programa: SISU<br>Tópico: Acesso ao Ensino Superior<br>Pergunta: O que é o SISU?",
          "Programa: SISU<br>Tópico: Acesso ao Ensino Superior<br>Pergunta: Quem pode se inscrever no SISU?",
          "Programa: SISU<br>Tópico: Acesso ao Ensino Superior<br>Pergunta: Posso escolher qual semestre irei cursar?",
          "Programa: SISU<br>Tópico: Acesso ao Ensino Superior<br>Pergunta: O candidato que participou do Sisu em edições anteriores e foi selecionado pode concorrer nesta edição?",
          "Programa: SISU<br>Tópico: Acesso ao Ensino Superior<br>Pergunta: O candidato matriculado em instituição de educação superior pode concorrer no processo seletivo desta edição do Sisu?",
          "Programa: SISU<br>Tópico: Acesso ao Ensino Superior<br>Pergunta: É cobrada alguma taxa para a realização da inscrição?",
          "Programa: SISU<br>Tópico: Acesso ao Ensino Superior<br>Pergunta: Quais os documentos necessários para fazer a inscrição no Sisu?"
         ],
         "type": "scatter3d",
         "x": {
          "_inputArray": {
           "0": -2.440333843231201,
           "1": -2.5441153049468994,
           "2": -2.600202798843384,
           "3": -2.4281578063964844,
           "4": -2.5233535766601562,
           "5": -2.564992666244507,
           "6": -2.651521682739258,
           "bdata": "bi4cwMnSIsC5aSbA8GYbwKB+IcDXKCTAiLIpwA==",
           "dtype": "f4",
           "shape": "7"
          },
          "bdata": "bi4cwMnSIsC5aSbA8GYbwKB+IcDXKCTAiLIpwA==",
          "dtype": "f4"
         },
         "y": {
          "_inputArray": {
           "0": 3.9875845909118652,
           "1": 3.995490789413452,
           "2": 4.0838189125061035,
           "3": 3.883312463760376,
           "4": 3.8754284381866455,
           "5": 3.835407257080078,
           "6": 3.877721071243286,
           "bdata": "ljR/QB+2f0ClroJAMYh4QAUHeEBQd3VAlSx4QA==",
           "dtype": "f4",
           "shape": "7"
          },
          "bdata": "ljR/QB+2f0ClroJAMYh4QAUHeEBQd3VAlSx4QA==",
          "dtype": "f4"
         },
         "z": {
          "_inputArray": {
           "0": 5.6833696365356445,
           "1": 5.924196720123291,
           "2": 6.041753768920898,
           "3": 5.906641483306885,
           "4": 5.970690727233887,
           "5": 5.739455699920654,
           "6": 5.9658284187316895,
           "bdata": "Kt61QAWTvUAMVsFANQO9QOYPv0CfqbdAEei+QA==",
           "dtype": "f4",
           "shape": "7"
          },
          "bdata": "Kt61QAWTvUAMVsFANQO9QOYPv0CfqbdAEei+QA==",
          "dtype": "f4"
         }
        },
        {
         "hovertemplate": "%{text}<extra></extra>",
         "marker": {
          "color": "rgb(188,128,189)",
          "opacity": 0.7,
          "size": 6
         },
         "mode": "markers",
         "name": "Programa Progredir",
         "text": [
          "Programa: Programa Progredir<br>Tópico: Acesso a emprego<br>Pergunta: O que é o Programa Progredir?",
          "Programa: Programa Progredir<br>Tópico: Acesso a emprego<br>Pergunta: Quem pode participar do Programa Progredir?"
         ],
         "type": "scatter3d",
         "x": {
          "_inputArray": {
           "0": -4.004358291625977,
           "1": -3.8190886974334717,
           "bdata": "tCOAwPNrdMA=",
           "dtype": "f4",
           "shape": "2"
          },
          "bdata": "tCOAwPNrdMA=",
          "dtype": "f4"
         },
         "y": {
          "_inputArray": {
           "0": 2.029481887817383,
           "1": 1.9918140172958374,
           "bdata": "COMBQMPz/j8=",
           "dtype": "f4",
           "shape": "2"
          },
          "bdata": "COMBQMPz/j8=",
          "dtype": "f4"
         },
         "z": {
          "_inputArray": {
           "0": 2.7041497230529785,
           "1": 2.645169496536255,
           "bdata": "yhAtQHVKKUA=",
           "dtype": "f4",
           "shape": "2"
          },
          "bdata": "yhAtQHVKKUA=",
          "dtype": "f4"
         }
        },
        {
         "hovertemplate": "%{text}<extra></extra>",
         "marker": {
          "color": "rgb(204,235,197)",
          "opacity": 0.7,
          "size": 6
         },
         "mode": "markers",
         "name": "CadEJA",
         "text": [
          "Programa: CadEJA<br>Tópico: Preparação para acesso ao Ensino Superior<br>Pergunta: O que é o CadEJA?",
          "Programa: CadEJA<br>Tópico: Preparação para acesso ao Ensino Superior<br>Pergunta: Quem tem direito a acessar o CADEJA?",
          "Programa: CadEJA<br>Tópico: Preparação para acesso ao Ensino Superior<br>Pergunta: Por que o CADEJA é importante?",
          "Programa: CadEJA<br>Tópico: Preparação para acesso ao Ensino Superior<br>Pergunta: Quando é possível se inscrever no CADEJA?",
          "Programa: CadEJA<br>Tópico: Preparação para acesso ao Ensino Superior<br>Pergunta: Como se inscrever no CadEJA?"
         ],
         "type": "scatter3d",
         "x": {
          "_inputArray": {
           "0": -2.119387626647949,
           "1": -2.2794604301452637,
           "2": -2.1567134857177734,
           "3": -2.1843793392181396,
           "4": -1.982324242591858,
           "bdata": "DKQHwK7iEcCYBwrA38wLwM28/b8=",
           "dtype": "f4",
           "shape": "5"
          },
          "bdata": "DKQHwK7iEcCYBwrA38wLwM28/b8=",
          "dtype": "f4"
         },
         "y": {
          "_inputArray": {
           "0": 2.0002801418304443,
           "1": 1.9140790700912476,
           "2": 1.9318790435791016,
           "3": 1.8741697072982788,
           "4": 1.9737766981124878,
           "bdata": "lwQAQIsA9T/QR/c/y+TvP7ek/D8=",
           "dtype": "f4",
           "shape": "5"
          },
          "bdata": "lwQAQIsA9T/QR/c/y+TvP7ek/D8=",
          "dtype": "f4"
         },
         "z": {
          "_inputArray": {
           "0": 1.4097871780395508,
           "1": 1.729305386543274,
           "2": 1.5807483196258545,
           "3": 1.6074925661087036,
           "4": 1.3690053224563599,
           "bdata": "6HO0P+FZ3T/2Vco/UcLNP5E7rz8=",
           "dtype": "f4",
           "shape": "5"
          },
          "bdata": "6HO0P+FZ3T/2Vco/UcLNP5E7rz8=",
          "dtype": "f4"
         }
        },
        {
         "hovertemplate": "%{text}<extra></extra>",
         "marker": {
          "color": "rgb(255,237,111)",
          "opacity": 0.7,
          "size": 6
         },
         "mode": "markers",
         "name": "ProCampo",
         "text": [
          "Programa: ProCampo<br>Tópico: Formação de professores<br>Pergunta: O que é o ProCampo?",
          "Programa: ProCampo<br>Tópico: Formação de professores<br>Pergunta: Quem tem direito a fazer ProCampo?",
          "Programa: ProCampo<br>Tópico: Formação de professores<br>Pergunta: Por que o ProCampo é importante?",
          "Programa: ProCampo<br>Tópico: Formação de professores<br>Pergunta: Quando é possível se inscrever no ProCampo?",
          "Programa: ProCampo<br>Tópico: Formação de professores<br>Pergunta: Como se inscrever para o ProCampo?"
         ],
         "type": "scatter3d",
         "x": {
          "_inputArray": {
           "0": -3.50787091255188,
           "1": -3.4343979358673096,
           "2": -3.443791151046753,
           "3": -3.3621153831481934,
           "4": -3.341561794281006,
           "bdata": "9YBgwC3NW8ATZ1zA5ixXwCbcVcA=",
           "dtype": "f4",
           "shape": "5"
          },
          "bdata": "9YBgwC3NW8ATZ1zA5ixXwCbcVcA=",
          "dtype": "f4"
         },
         "y": {
          "_inputArray": {
           "0": 1.7596187591552734,
           "1": 1.7747015953063965,
           "2": 1.8863989114761353,
           "3": 1.712018609046936,
           "4": 1.713938593864441,
           "bdata": "MDvhP2wp4z+FdfE/bSPbP1di2z8=",
           "dtype": "f4",
           "shape": "5"
          },
          "bdata": "MDvhP2wp4z+FdfE/bSPbP1di2z8=",
          "dtype": "f4"
         },
         "z": {
          "_inputArray": {
           "0": 2.979074716567993,
           "1": 2.913820266723633,
           "2": 3.0274834632873535,
           "3": 2.8626620769500732,
           "4": 2.7377212047576904,
           "bdata": "Kak+QAh8OkBKwkFA2zU3QNM2L0A=",
           "dtype": "f4",
           "shape": "5"
          },
          "bdata": "Kak+QAh8OkBKwkFA2zU3QNM2L0A=",
          "dtype": "f4"
         }
        },
        {
         "hovertemplate": "%{text}<extra></extra>",
         "marker": {
          "color": "rgb(141,211,199)",
          "opacity": 0.7,
          "size": 6
         },
         "mode": "markers",
         "name": "Cadastro Único (CadÚnico)",
         "text": [
          "Programa: Cadastro Único (CadÚnico)<br>Tópico: Educação Básica<br>Pergunta: O que é o Cadastro Único (CadÚnico)?",
          "Programa: Cadastro Único (CadÚnico)<br>Tópico: Educação Básica<br>Pergunta: Por que o Cadastro Único é importante para um estudante?",
          "Programa: Cadastro Único (CadÚnico)<br>Tópico: Educação Básica<br>Pergunta: Como minha família se inscreve no Cadastro Único?"
         ],
         "type": "scatter3d",
         "x": {
          "_inputArray": {
           "0": -4.096164703369141,
           "1": -4.061180591583252,
           "2": -3.9348390102386475,
           "bdata": "yBODwDH1gcBn1HvA",
           "dtype": "f4",
           "shape": "3"
          },
          "bdata": "yBODwDH1gcBn1HvA",
          "dtype": "f4"
         },
         "y": {
          "_inputArray": {
           "0": 4.63145112991333,
           "1": 4.6250386238098145,
           "2": 4.614451885223389,
           "bdata": "2TSUQFEAlECXqZNA",
           "dtype": "f4",
           "shape": "3"
          },
          "bdata": "2TSUQFEAlECXqZNA",
          "dtype": "f4"
         },
         "z": {
          "_inputArray": {
           "0": 2.5631067752838135,
           "1": 2.5931246280670166,
           "2": 2.458216905593872,
           "bdata": "8QkkQMH1JUBtUx1A",
           "dtype": "f4",
           "shape": "3"
          },
          "bdata": "8QkkQMH1JUBtUx1A",
          "dtype": "f4"
         }
        },
        {
         "hovertemplate": "%{text}<extra></extra>",
         "marker": {
          "color": "rgb(255,255,179)",
          "opacity": 0.7,
          "size": 6
         },
         "mode": "markers",
         "name": "CPOP (Rede Nacional de Cursinhos Populares)",
         "text": [
          "Programa: CPOP (Rede Nacional de Cursinhos Populares)<br>Tópico: Acesso ao Ensino Superior<br>Pergunta: O que é um cursinho popular?",
          "Programa: CPOP (Rede Nacional de Cursinhos Populares)<br>Tópico: Acesso ao Ensino Superior<br>Pergunta: O que é a Rede Nacional de Cursinhos Populares (CPOP)?",
          "Programa: CPOP (Rede Nacional de Cursinhos Populares)<br>Tópico: Acesso ao Ensino Superior<br>Pergunta: Como um cursinho entra para a CPOP?",
          "Programa: CPOP (Rede Nacional de Cursinhos Populares)<br>Tópico: Acesso ao Ensino Superior<br>Pergunta: Como sei os cursinhos populares que fazem parte da CPOP?",
          "Programa: CPOP (Rede Nacional de Cursinhos Populares)<br>Tópico: Acesso ao Ensino Superior<br>Pergunta: Sou aluno e quero participar de um cursinho da CPOP?",
          "Programa: CPOP (Rede Nacional de Cursinhos Populares)<br>Tópico: Acesso ao Ensino Superior<br>Pergunta: Os alunos de cursinhos da CPOP recebem algum apoio?"
         ],
         "type": "scatter3d",
         "x": {
          "_inputArray": {
           "0": 8.273414611816406,
           "1": 8.196747779846191,
           "2": 8.286266326904297,
           "3": 8.247708320617676,
           "4": 8.374964714050293,
           "5": 8.19566535949707,
           "bdata": "6F8EQeElA0GMlARBnfYDQdv/BUFyIQNB",
           "dtype": "f4",
           "shape": "6"
          },
          "bdata": "6F8EQeElA0GMlARBnfYDQdv/BUFyIQNB",
          "dtype": "f4"
         },
         "y": {
          "_inputArray": {
           "0": 3.7890818119049072,
           "1": 3.7955589294433594,
           "2": 3.620527744293213,
           "3": 3.7283167839050293,
           "4": 3.7122185230255127,
           "5": 3.8209457397460938,
           "bdata": "UYByQHDqckC6tmdAvpxuQP2UbUBginRA",
           "dtype": "f4",
           "shape": "6"
          },
          "bdata": "UYByQHDqckC6tmdAvpxuQP2UbUBginRA",
          "dtype": "f4"
         },
         "z": {
          "_inputArray": {
           "0": 10.287933349609375,
           "1": 10.23093032836914,
           "2": 10.175261497497559,
           "3": 10.327153205871582,
           "4": 10.321056365966797,
           "5": 10.310256958007812,
           "bdata": "YJskQeSxI0HfzSJBBTwlQQwjJUHQ9iRB",
           "dtype": "f4",
           "shape": "6"
          },
          "bdata": "YJskQeSxI0HfzSJBBTwlQQwjJUHQ9iRB",
          "dtype": "f4"
         }
        },
        {
         "hovertemplate": "%{text}<extra></extra>",
         "marker": {
          "color": "rgb(190,186,218)",
          "opacity": 0.7,
          "size": 6
         },
         "mode": "markers",
         "name": "ENEM (Exame Nacional do Ensino Médio)",
         "text": [
          "Programa: ENEM (Exame Nacional do Ensino Médio)<br>Tópico: Acesso ao Ensino Superior<br>Pergunta: O que é o ENEM?",
          "Programa: ENEM (Exame Nacional do Ensino Médio)<br>Tópico: Acesso ao Ensino Superior<br>Pergunta: Para que serve a nota do ENEM?",
          "Programa: ENEM (Exame Nacional do Ensino Médio)<br>Tópico: Acesso ao Ensino Superior<br>Pergunta: Quem pode fazer a prova do ENEM?",
          "Programa: ENEM (Exame Nacional do Ensino Médio)<br>Tópico: Acesso ao Ensino Superior<br>Pergunta: Como faço para me inscrever no ENEM?",
          "Programa: ENEM (Exame Nacional do Ensino Médio)<br>Tópico: Acesso ao Ensino Superior<br>Pergunta: Preciso pagar para fazer o ENEM?",
          "Programa: ENEM (Exame Nacional do Ensino Médio)<br>Tópico: Acesso ao Ensino Superior<br>Pergunta: Existe isenção da taxa de inscrição do ENEM?",
          "Programa: ENEM (Exame Nacional do Ensino Médio)<br>Tópico: Acesso ao Ensino Superior<br>Pergunta: Se eu conseguir a isenção da taxa, minha inscrição no ENEM está garantida?",
          "Programa: ENEM (Exame Nacional do Ensino Médio)<br>Tópico: Acesso ao Ensino Superior<br>Pergunta: Sou aluno de escola pública, minha inscrição no ENEM é automática?",
          "Programa: ENEM (Exame Nacional do Ensino Médio)<br>Tópico: Acesso ao Ensino Superior<br>Pergunta: Como são as provas do ENEM?",
          "Programa: ENEM (Exame Nacional do Ensino Médio)<br>Tópico: Acesso ao Ensino Superior<br>Pergunta: Posso usar minha nota do ENEM para estudar fora do Brasil?",
          "Programa: ENEM (Exame Nacional do Ensino Médio)<br>Tópico: Acesso ao Ensino Superior<br>Pergunta: Não consegui fazer a prova em um dos dias. Posso refazer?",
          "Programa: ENEM (Exame Nacional do Ensino Médio)<br>Tópico: Acesso ao Ensino Superior<br>Pergunta: O ENEM tem prazo de validade?",
          "Programa: ENEM (Exame Nacional do Ensino Médio)<br>Tópico: Acesso ao Ensino Superior<br>Pergunta: O que é o programa \"Pé-de-Meia\" e qual a relação com o ENEM?"
         ],
         "type": "scatter3d",
         "x": {
          "_inputArray": {
           "0": -1.1189992427825928,
           "1": -1.0050101280212402,
           "10": -0.7718153595924377,
           "11": -0.9965452551841736,
           "12": -1.6775985956192017,
           "2": -0.7699155211448669,
           "3": -0.8448662161827087,
           "4": -0.9394339919090271,
           "5": -0.9131028652191162,
           "6": -0.7514318227767944,
           "7": -0.7674381136894226,
           "8": -1.0471937656402588,
           "9": -0.9283766746520996,
           "bdata": "XjuPvyykgL8vGUW/J0lYv79+cL8cwWm/1l1Av9N2RL9yCoa/GKptv7GVRb+XHX+/jbvWvw==",
           "dtype": "f4",
           "shape": "13"
          },
          "bdata": "XjuPvyykgL8vGUW/J0lYv79+cL8cwWm/1l1Av9N2RL9yCoa/GKptv7GVRb+XHX+/jbvWvw==",
          "dtype": "f4"
         },
         "y": {
          "_inputArray": {
           "0": 2.5249722003936768,
           "1": 2.6664538383483887,
           "10": 2.464632511138916,
           "11": 2.576228380203247,
           "12": 2.710191249847412,
           "2": 2.5157032012939453,
           "3": 2.512589454650879,
           "4": 2.7149477005004883,
           "5": 2.8779408931732178,
           "6": 2.872272491455078,
           "7": 2.6414554119110107,
           "8": 2.5455422401428223,
           "9": 2.679107904434204,
           "bdata": "JZkhQC6nKkBIASFARM4gQLTBLUAvMDhAUNM3QJsNKUAq6iJAgXYrQIq8HUDt4CRAxnMtQA==",
           "dtype": "f4",
           "shape": "13"
          },
          "bdata": "JZkhQC6nKkBIASFARM4gQLTBLUAvMDhAUNM3QJsNKUAq6iJAgXYrQIq8HUDt4CRAxnMtQA==",
          "dtype": "f4"
         },
         "z": {
          "_inputArray": {
           "0": 0.20244574546813965,
           "1": 0.3632297217845917,
           "10": 0.3066670596599579,
           "11": 0.0827644020318985,
           "12": 0.3898274004459381,
           "2": 0.25168395042419434,
           "3": 0.2546790838241577,
           "4": 0.07432661205530167,
           "5": 0.13509251177310944,
           "6": 0.3745459020137787,
           "7": 0.32784131169319153,
           "8": 0.2755269706249237,
           "9": 0.3545878529548645,
           "bdata": "8E1PPj/5uT643IA+TGWCPo04mD2xVQo+e8S/PtHapz7fEY0+ioy1PncDnT5igKk9dZfHPg==",
           "dtype": "f4",
           "shape": "13"
          },
          "bdata": "8E1PPj/5uT643IA+TGWCPo04mD2xVQo+e8S/PtHapz7fEY0+ioy1PncDnT5igKk9dZfHPg==",
          "dtype": "f4"
         }
        },
        {
         "hovertemplate": "%{text}<extra></extra>",
         "marker": {
          "color": "rgb(251,128,114)",
          "opacity": 0.7,
          "size": 6
         },
         "mode": "markers",
         "name": "SISU (Sistema de Seleção Unificada)",
         "text": [
          "Programa: SISU (Sistema de Seleção Unificada)<br>Tópico: Acesso ao Ensino Superior<br>Pergunta: O que é o SISU?",
          "Programa: SISU (Sistema de Seleção Unificada)<br>Tópico: Acesso ao Ensino Superior<br>Pergunta: Quem pode se inscrever no SISU?",
          "Programa: SISU (Sistema de Seleção Unificada)<br>Tópico: Acesso ao Ensino Superior<br>Pergunta: Como funciona a inscrição no SISU?",
          "Programa: SISU (Sistema de Seleção Unificada)<br>Tópico: Acesso ao Ensino Superior<br>Pergunta: O que é a \"nota de corte\" do SISU?",
          "Programa: SISU (Sistema de Seleção Unificada)<br>Tópico: Acesso ao Ensino Superior<br>Pergunta: E se eu não for aprovado na chamada regular do SISU?"
         ],
         "type": "scatter3d",
         "x": {
          "_inputArray": {
           "0": -2.4347774982452393,
           "1": -2.4273386001586914,
           "2": -2.434849977493286,
           "3": -2.4930295944213867,
           "4": -2.421933174133301,
           "bdata": "ZdMbwIRZG8CV1BvAzI0fwPQAG8A=",
           "dtype": "f4",
           "shape": "5"
          },
          "bdata": "ZdMbwIRZG8CV1BvAzI0fwPQAG8A=",
          "dtype": "f4"
         },
         "y": {
          "_inputArray": {
           "0": 4.0430426597595215,
           "1": 4.030263900756836,
           "2": 3.9211463928222656,
           "3": 3.940124273300171,
           "4": 4.068234443664551,
           "bdata": "m2CBQOz3gEAQ9HpA/yp8QPougkA=",
           "dtype": "f4",
           "shape": "5"
          },
          "bdata": "m2CBQOz3gEAQ9HpA/yp8QPougkA=",
          "dtype": "f4"
         },
         "z": {
          "_inputArray": {
           "0": 5.592109203338623,
           "1": 5.759870529174805,
           "2": 5.660510063171387,
           "3": 5.673798561096191,
           "4": 5.757696151733398,
           "bdata": "j/KyQNxQuEDmIrVAwo+1QAw/uEA=",
           "dtype": "f4",
           "shape": "5"
          },
          "bdata": "j/KyQNxQuEDmIrVAwo+1QAw/uEA=",
          "dtype": "f4"
         }
        },
        {
         "hovertemplate": "%{text}<extra></extra>",
         "marker": {
          "color": "rgb(128,177,211)",
          "opacity": 0.7,
          "size": 6
         },
         "mode": "markers",
         "name": "Lei de Cotas",
         "text": [
          "Programa: Lei de Cotas<br>Tópico: Acesso ao Ensino Superior<br>Pergunta: O que é o sistema de cotas?",
          "Programa: Lei de Cotas<br>Tópico: Acesso ao Ensino Superior<br>Pergunta: Como saber se tenho direito às cotas?",
          "Programa: Lei de Cotas<br>Tópico: Acesso ao Ensino Superior<br>Pergunta: Onde indico que quero concorrer pelas cotas?"
         ],
         "type": "scatter3d",
         "x": {
          "_inputArray": {
           "0": -2.585301637649536,
           "1": -2.6594059467315674,
           "2": -2.6839029788970947,
           "bdata": "lXUlwLUzKsARxSvA",
           "dtype": "f4",
           "shape": "3"
          },
          "bdata": "lXUlwLUzKsARxSvA",
          "dtype": "f4"
         },
         "y": {
          "_inputArray": {
           "0": 3.9299886226654053,
           "1": 3.8889355659484863,
           "2": 3.8998076915740967,
           "bdata": "74R7QFLkeEBzlnlA",
           "dtype": "f4",
           "shape": "3"
          },
          "bdata": "74R7QFLkeEBzlnlA",
          "dtype": "f4"
         },
         "z": {
          "_inputArray": {
           "0": 4.985495567321777,
           "1": 4.850531101226807,
           "2": 4.849522113800049,
           "bdata": "LomfQI03m0BJL5tA",
           "dtype": "f4",
           "shape": "3"
          },
          "bdata": "LomfQI03m0BJL5tA",
          "dtype": "f4"
         }
        },
        {
         "hovertemplate": "%{text}<extra></extra>",
         "marker": {
          "color": "rgb(253,180,98)",
          "opacity": 0.7,
          "size": 6
         },
         "mode": "markers",
         "name": "ProUni (Programa Universidade para Todos)",
         "text": [
          "Programa: ProUni (Programa Universidade para Todos)<br>Tópico: Acesso ao Ensino Superior<br>Pergunta: O que é o ProUni?",
          "Programa: ProUni (Programa Universidade para Todos)<br>Tópico: Acesso ao Ensino Superior<br>Pergunta: Quem pode se inscrever no ProUni?",
          "Programa: ProUni (Programa Universidade para Todos)<br>Tópico: Acesso ao Ensino Superior<br>Pergunta: Qual o critério de renda para o ProUni?",
          "Programa: ProUni (Programa Universidade para Todos)<br>Tópico: Acesso ao Ensino Superior<br>Pergunta: Fui pré-selecionado no ProUni, isso garante minha bolsa?",
          "Programa: ProUni (Programa Universidade para Todos)<br>Tópico: Acesso ao Ensino Superior<br>Pergunta: Consegui uma bolsa de 50% do ProUni, mas não posso pagar o resto. O que faço?",
          "Programa: ProUni (Programa Universidade para Todos)<br>Tópico: Acesso ao Ensino Superior<br>Pergunta: Posso escolher qualquer curso no ProUni?",
          "Programa: ProUni (Programa Universidade para Todos)<br>Tópico: Acesso ao Ensino Superior<br>Pergunta: Posso me inscrever no ProUni e no Fies ao mesmo tempo?",
          "Programa: ProUni (Programa Universidade para Todos)<br>Tópico: Acesso ao Ensino Superior<br>Pergunta: E se eu perder o prazo de comprovação de documentos?",
          "Programa: ProUni (Programa Universidade para Todos)<br>Tópico: Acesso ao Ensino Superior<br>Pergunta: Quem já tem diploma pode participar do ProUni?"
         ],
         "type": "scatter3d",
         "x": {
          "_inputArray": {
           "0": -2.6270081996917725,
           "1": -2.602830648422241,
           "2": -2.741334915161133,
           "3": -2.6566243171691895,
           "4": -2.6942038536071777,
           "5": -2.511273145675659,
           "6": -2.400794267654419,
           "7": -2.6031863689422607,
           "8": -2.5930428504943848,
           "bdata": "5yAowMeUJsAIci/AIgYqwNZtLMCzuCDAnaYZwJuaJsBq9CXA",
           "dtype": "f4",
           "shape": "9"
          },
          "bdata": "5yAowMeUJsAIci/AIgYqwNZtLMCzuCDAnaYZwJuaJsBq9CXA",
          "dtype": "f4"
         },
         "y": {
          "_inputArray": {
           "0": 4.087665557861328,
           "1": 3.971588611602783,
           "2": 3.9480533599853516,
           "3": 4.037269592285156,
           "4": 4.014362812042236,
           "5": 4.137411117553711,
           "6": 4.294796466827393,
           "7": 4.105109691619873,
           "8": 3.987039089202881,
           "bdata": "KM6CQIIufkDorHxAUDGBQKl1gECsZYRA+W6JQA9dg0CmK39A",
           "dtype": "f4",
           "shape": "9"
          },
          "bdata": "KM6CQIIufkDorHxAUDGBQKl1gECsZYRA+W6JQA9dg0CmK39A",
          "dtype": "f4"
         },
         "z": {
          "_inputArray": {
           "0": 6.793970108032227,
           "1": 6.478216648101807,
           "2": 6.735054969787598,
           "3": 6.820074558258057,
           "4": 6.822368621826172,
           "5": 6.669888973236084,
           "6": 7.082666397094727,
           "7": 6.890734672546387,
           "8": 6.529541969299316,
           "bdata": "NGjZQI1Nz0CShddADT7aQNhQ2kC7b9VANKXiQOaA3EAC8tBA",
           "dtype": "f4",
           "shape": "9"
          },
          "bdata": "NGjZQI1Nz0CShddADT7aQNhQ2kC7b9VANKXiQOaA3EAC8tBA",
          "dtype": "f4"
         }
        },
        {
         "hovertemplate": "%{text}<extra></extra>",
         "marker": {
          "color": "rgb(179,222,105)",
          "opacity": 0.7,
          "size": 6
         },
         "mode": "markers",
         "name": "FIES (Fundo de Financiamento Estudantil)",
         "text": [
          "Programa: FIES (Fundo de Financiamento Estudantil)<br>Tópico: Acesso ao Ensino Superior<br>Pergunta: O que é o FIES?",
          "Programa: FIES (Fundo de Financiamento Estudantil)<br>Tópico: Acesso ao Ensino Superior<br>Pergunta: Qual a diferença entre FIES e ProUni?",
          "Programa: FIES (Fundo de Financiamento Estudantil)<br>Tópico: Acesso ao Ensino Superior<br>Pergunta: Quais os requisitos para pedir o FIES?",
          "Programa: FIES (Fundo de Financiamento Estudantil)<br>Tópico: Acesso ao Ensino Superior<br>Pergunta: Como funciona o processo para conseguir o FIES?",
          "Programa: FIES (Fundo de Financiamento Estudantil)<br>Tópico: Acesso ao Ensino Superior<br>Pergunta: Posso me inscrever no Fies e no Prouni ao mesmo tempo?",
          "Programa: FIES (Fundo de Financiamento Estudantil)<br>Tópico: Acesso ao Ensino Superior<br>Pergunta: Posso financiar qualquer curso no Fies?",
          "Programa: FIES (Fundo de Financiamento Estudantil)<br>Tópico: Acesso ao Ensino Superior<br>Pergunta: Preciso ter fiador para o Fies?",
          "Programa: FIES (Fundo de Financiamento Estudantil)<br>Tópico: Acesso ao Ensino Superior<br>Pergunta: Como funcionam os pagamentos durante o curso?",
          "Programa: FIES (Fundo de Financiamento Estudantil)<br>Tópico: Acesso ao Ensino Superior<br>Pergunta: E se eu perder o prazo de comprovação de documentos?",
          "Programa: FIES (Fundo de Financiamento Estudantil)<br>Tópico: Acesso ao Ensino Superior<br>Pergunta: Posso adiantar parcelas do Fies?",
          "Programa: FIES (Fundo de Financiamento Estudantil)<br>Tópico: Acesso ao Ensino Superior<br>Pergunta: E se eu desistir do curso?",
          "Programa: FIES (Fundo de Financiamento Estudantil)<br>Tópico: Acesso ao Ensino Superior<br>Pergunta: Tabela Comparativa: SISU, ProUni e FIES"
         ],
         "type": "scatter3d",
         "x": {
          "_inputArray": {
           "0": -2.25510835647583,
           "1": -2.369422674179077,
           "10": -2.1761953830718994,
           "11": -2.3447976112365723,
           "2": -2.1309821605682373,
           "3": -2.10286545753479,
           "4": -2.2358009815216064,
           "5": -2.1173856258392334,
           "6": -2.1297435760498047,
           "7": -2.123201608657837,
           "8": -2.178121566772461,
           "9": -2.040813446044922,
           "bdata": "slMQwJ+kF8ADYgjAWZUGwF0XD8A/gwfAuE0IwIniB8BYZgvAsJwCwMlGC8AqERbA",
           "dtype": "f4",
           "shape": "12"
          },
          "bdata": "slMQwJ+kF8ADYgjAWZUGwF0XD8A/gwfAuE0IwIniB8BYZgvAsJwCwMlGC8AqERbA",
          "dtype": "f4"
         },
         "y": {
          "_inputArray": {
           "0": 4.498452663421631,
           "1": 4.397281169891357,
           "10": 4.681828022003174,
           "11": 4.527431488037109,
           "2": 4.624854564666748,
           "3": 4.485150337219238,
           "4": 4.427020072937012,
           "5": 4.604468822479248,
           "6": 4.646383285522461,
           "7": 4.449276447296143,
           "8": 4.636888027191162,
           "9": 4.612072467803955,
           "bdata": "U/OPQIe2jEDP/pNAWoaPQCaqjUDPV5NALK+UQHlgjkBjYZRAGZaTQInRlUC44JBA",
           "dtype": "f4",
           "shape": "12"
          },
          "bdata": "U/OPQIe2jEDP/pNAWoaPQCaqjUDPV5NALK+UQHlgjkBjYZRAGZaTQInRlUC44JBA",
          "dtype": "f4"
         },
         "z": {
          "_inputArray": {
           "0": 7.488264560699463,
           "1": 7.3056640625,
           "10": 7.6379780769348145,
           "11": 7.417117595672607,
           "2": 7.627008438110352,
           "3": 7.510538101196289,
           "4": 7.367483139038086,
           "5": 7.631744384765625,
           "6": 7.671317100524902,
           "7": 7.501657962799072,
           "8": 7.6112589836120605,
           "9": 7.714456081390381,
           "bdata": "3Z/vQADI6UB0EPRAVFbwQGzC60BAN/RAbnv1QJUN8EBvj/NA09z2QFFq9EAHWe1A",
           "dtype": "f4",
           "shape": "12"
          },
          "bdata": "3Z/vQADI6UB0EPRAVFbwQGzC60BAN/RAbnv1QJUN8EBvj/NA09z2QFFq9EAHWe1A",
          "dtype": "f4"
         }
        },
        {
         "hovertemplate": "%{text}<extra></extra>",
         "marker": {
          "color": "rgb(252,205,229)",
          "opacity": 0.7,
          "size": 6
         },
         "mode": "markers",
         "name": "Institutos Federais",
         "text": [
          "Programa: Institutos Federais<br>Tópico: Formação técnica<br>Pergunta: Posso fazer um curso técnico depois do ensino médio?",
          "Programa: Institutos Federais<br>Tópico: Formação técnica<br>Pergunta: Onde encontro cursos técnicos gratuitos perto de mim?",
          "Programa: Institutos Federais<br>Tópico: Formação técnica<br>Pergunta: Posso fazer um curso técnico sem ter feito o Enem?",
          "Programa: Institutos Federais<br>Tópico: Formação técnica<br>Pergunta: Quanto tempo dura um curso técnico?",
          "Programa: Institutos Federais<br>Tópico: Formação técnica<br>Pergunta: Que áreas de cursos técnicos posso fazer?",
          "Programa: Institutos Federais<br>Tópico: Formação técnica<br>Pergunta: Existe bolsa ou ajuda de custo para quem faz curso técnico?"
         ],
         "type": "scatter3d",
         "x": {
          "_inputArray": {
           "0": -0.41317111253738403,
           "1": -0.5133017897605896,
           "2": -0.4459344446659088,
           "3": -0.442654550075531,
           "4": -0.5410913228988647,
           "5": -0.5314853191375732,
           "bdata": "KovTvr9nA7+FUeS+nqPivvaECr9sDwi/",
           "dtype": "f4",
           "shape": "6"
          },
          "bdata": "KovTvr9nA7+FUeS+nqPivvaECr9sDwi/",
          "dtype": "f4"
         },
         "y": {
          "_inputArray": {
           "0": 2.9221928119659424,
           "1": 2.8181209564208984,
           "2": 2.851318597793579,
           "3": 2.8214495182037354,
           "4": 2.806448459625244,
           "5": 2.845953941345215,
           "bdata": "NQU7QBhcNEABfDZAoZI0QNqcM0AcJDZA",
           "dtype": "f4",
           "shape": "6"
          },
          "bdata": "NQU7QBhcNEABfDZAoZI0QNqcM0AcJDZA",
          "dtype": "f4"
         },
         "z": {
          "_inputArray": {
           "0": 2.072000741958618,
           "1": 2.0181851387023926,
           "2": 1.9270577430725098,
           "3": 2.0649609565734863,
           "4": 2.0846107006073,
           "5": 2.0190846920013428,
           "bdata": "qZsEQPIpAUDUqfY/UigEQENqBUCvOAFA",
           "dtype": "f4",
           "shape": "6"
          },
          "bdata": "qZsEQPIpAUDUqfY/UigEQENqBUCvOAFA",
          "dtype": "f4"
         }
        }
       ],
       "layout": {
        "height": 768,
        "legend": {
         "x": 0.01,
         "xanchor": "left",
         "y": 0.99,
         "yanchor": "top"
        },
        "scene": {
         "aspectmode": "auto",
         "aspectratio": {
          "x": 1,
          "y": 1,
          "z": 1
         },
         "camera": {
          "eye": {
           "x": 1.5,
           "y": 1.5,
           "z": 1.5
          }
         },
         "xaxis": {
          "title": {
           "text": "Component 1"
          },
          "type": "linear"
         },
         "yaxis": {
          "title": {
           "text": "Component 2"
          },
          "type": "linear"
         },
         "zaxis": {
          "title": {
           "text": "Component 3"
          },
          "type": "linear"
         }
        },
        "template": {
         "data": {
          "bar": [
           {
            "error_x": {
             "color": "#2a3f5f"
            },
            "error_y": {
             "color": "#2a3f5f"
            },
            "marker": {
             "line": {
              "color": "#E5ECF6",
              "width": 0.5
             },
             "pattern": {
              "fillmode": "overlay",
              "size": 10,
              "solidity": 0.2
             }
            },
            "type": "bar"
           }
          ],
          "barpolar": [
           {
            "marker": {
             "line": {
              "color": "#E5ECF6",
              "width": 0.5
             },
             "pattern": {
              "fillmode": "overlay",
              "size": 10,
              "solidity": 0.2
             }
            },
            "type": "barpolar"
           }
          ],
          "carpet": [
           {
            "aaxis": {
             "endlinecolor": "#2a3f5f",
             "gridcolor": "white",
             "linecolor": "white",
             "minorgridcolor": "white",
             "startlinecolor": "#2a3f5f"
            },
            "baxis": {
             "endlinecolor": "#2a3f5f",
             "gridcolor": "white",
             "linecolor": "white",
             "minorgridcolor": "white",
             "startlinecolor": "#2a3f5f"
            },
            "type": "carpet"
           }
          ],
          "choropleth": [
           {
            "colorbar": {
             "outlinewidth": 0,
             "ticks": ""
            },
            "type": "choropleth"
           }
          ],
          "contour": [
           {
            "colorbar": {
             "outlinewidth": 0,
             "ticks": ""
            },
            "colorscale": [
             [
              0,
              "#0d0887"
             ],
             [
              0.1111111111111111,
              "#46039f"
             ],
             [
              0.2222222222222222,
              "#7201a8"
             ],
             [
              0.3333333333333333,
              "#9c179e"
             ],
             [
              0.4444444444444444,
              "#bd3786"
             ],
             [
              0.5555555555555556,
              "#d8576b"
             ],
             [
              0.6666666666666666,
              "#ed7953"
             ],
             [
              0.7777777777777778,
              "#fb9f3a"
             ],
             [
              0.8888888888888888,
              "#fdca26"
             ],
             [
              1,
              "#f0f921"
             ]
            ],
            "type": "contour"
           }
          ],
          "contourcarpet": [
           {
            "colorbar": {
             "outlinewidth": 0,
             "ticks": ""
            },
            "type": "contourcarpet"
           }
          ],
          "heatmap": [
           {
            "colorbar": {
             "outlinewidth": 0,
             "ticks": ""
            },
            "colorscale": [
             [
              0,
              "#0d0887"
             ],
             [
              0.1111111111111111,
              "#46039f"
             ],
             [
              0.2222222222222222,
              "#7201a8"
             ],
             [
              0.3333333333333333,
              "#9c179e"
             ],
             [
              0.4444444444444444,
              "#bd3786"
             ],
             [
              0.5555555555555556,
              "#d8576b"
             ],
             [
              0.6666666666666666,
              "#ed7953"
             ],
             [
              0.7777777777777778,
              "#fb9f3a"
             ],
             [
              0.8888888888888888,
              "#fdca26"
             ],
             [
              1,
              "#f0f921"
             ]
            ],
            "type": "heatmap"
           }
          ],
          "histogram": [
           {
            "marker": {
             "pattern": {
              "fillmode": "overlay",
              "size": 10,
              "solidity": 0.2
             }
            },
            "type": "histogram"
           }
          ],
          "histogram2d": [
           {
            "colorbar": {
             "outlinewidth": 0,
             "ticks": ""
            },
            "colorscale": [
             [
              0,
              "#0d0887"
             ],
             [
              0.1111111111111111,
              "#46039f"
             ],
             [
              0.2222222222222222,
              "#7201a8"
             ],
             [
              0.3333333333333333,
              "#9c179e"
             ],
             [
              0.4444444444444444,
              "#bd3786"
             ],
             [
              0.5555555555555556,
              "#d8576b"
             ],
             [
              0.6666666666666666,
              "#ed7953"
             ],
             [
              0.7777777777777778,
              "#fb9f3a"
             ],
             [
              0.8888888888888888,
              "#fdca26"
             ],
             [
              1,
              "#f0f921"
             ]
            ],
            "type": "histogram2d"
           }
          ],
          "histogram2dcontour": [
           {
            "colorbar": {
             "outlinewidth": 0,
             "ticks": ""
            },
            "colorscale": [
             [
              0,
              "#0d0887"
             ],
             [
              0.1111111111111111,
              "#46039f"
             ],
             [
              0.2222222222222222,
              "#7201a8"
             ],
             [
              0.3333333333333333,
              "#9c179e"
             ],
             [
              0.4444444444444444,
              "#bd3786"
             ],
             [
              0.5555555555555556,
              "#d8576b"
             ],
             [
              0.6666666666666666,
              "#ed7953"
             ],
             [
              0.7777777777777778,
              "#fb9f3a"
             ],
             [
              0.8888888888888888,
              "#fdca26"
             ],
             [
              1,
              "#f0f921"
             ]
            ],
            "type": "histogram2dcontour"
           }
          ],
          "mesh3d": [
           {
            "colorbar": {
             "outlinewidth": 0,
             "ticks": ""
            },
            "type": "mesh3d"
           }
          ],
          "parcoords": [
           {
            "line": {
             "colorbar": {
              "outlinewidth": 0,
              "ticks": ""
             }
            },
            "type": "parcoords"
           }
          ],
          "pie": [
           {
            "automargin": true,
            "type": "pie"
           }
          ],
          "scatter": [
           {
            "fillpattern": {
             "fillmode": "overlay",
             "size": 10,
             "solidity": 0.2
            },
            "type": "scatter"
           }
          ],
          "scatter3d": [
           {
            "line": {
             "colorbar": {
              "outlinewidth": 0,
              "ticks": ""
             }
            },
            "marker": {
             "colorbar": {
              "outlinewidth": 0,
              "ticks": ""
             }
            },
            "type": "scatter3d"
           }
          ],
          "scattercarpet": [
           {
            "marker": {
             "colorbar": {
              "outlinewidth": 0,
              "ticks": ""
             }
            },
            "type": "scattercarpet"
           }
          ],
          "scattergeo": [
           {
            "marker": {
             "colorbar": {
              "outlinewidth": 0,
              "ticks": ""
             }
            },
            "type": "scattergeo"
           }
          ],
          "scattergl": [
           {
            "marker": {
             "colorbar": {
              "outlinewidth": 0,
              "ticks": ""
             }
            },
            "type": "scattergl"
           }
          ],
          "scattermap": [
           {
            "marker": {
             "colorbar": {
              "outlinewidth": 0,
              "ticks": ""
             }
            },
            "type": "scattermap"
           }
          ],
          "scattermapbox": [
           {
            "marker": {
             "colorbar": {
              "outlinewidth": 0,
              "ticks": ""
             }
            },
            "type": "scattermapbox"
           }
          ],
          "scatterpolar": [
           {
            "marker": {
             "colorbar": {
              "outlinewidth": 0,
              "ticks": ""
             }
            },
            "type": "scatterpolar"
           }
          ],
          "scatterpolargl": [
           {
            "marker": {
             "colorbar": {
              "outlinewidth": 0,
              "ticks": ""
             }
            },
            "type": "scatterpolargl"
           }
          ],
          "scatterternary": [
           {
            "marker": {
             "colorbar": {
              "outlinewidth": 0,
              "ticks": ""
             }
            },
            "type": "scatterternary"
           }
          ],
          "surface": [
           {
            "colorbar": {
             "outlinewidth": 0,
             "ticks": ""
            },
            "colorscale": [
             [
              0,
              "#0d0887"
             ],
             [
              0.1111111111111111,
              "#46039f"
             ],
             [
              0.2222222222222222,
              "#7201a8"
             ],
             [
              0.3333333333333333,
              "#9c179e"
             ],
             [
              0.4444444444444444,
              "#bd3786"
             ],
             [
              0.5555555555555556,
              "#d8576b"
             ],
             [
              0.6666666666666666,
              "#ed7953"
             ],
             [
              0.7777777777777778,
              "#fb9f3a"
             ],
             [
              0.8888888888888888,
              "#fdca26"
             ],
             [
              1,
              "#f0f921"
             ]
            ],
            "type": "surface"
           }
          ],
          "table": [
           {
            "cells": {
             "fill": {
              "color": "#EBF0F8"
             },
             "line": {
              "color": "white"
             }
            },
            "header": {
             "fill": {
              "color": "#C8D4E3"
             },
             "line": {
              "color": "white"
             }
            },
            "type": "table"
           }
          ]
         },
         "layout": {
          "annotationdefaults": {
           "arrowcolor": "#2a3f5f",
           "arrowhead": 0,
           "arrowwidth": 1
          },
          "autotypenumbers": "strict",
          "coloraxis": {
           "colorbar": {
            "outlinewidth": 0,
            "ticks": ""
           }
          },
          "colorscale": {
           "diverging": [
            [
             0,
             "#8e0152"
            ],
            [
             0.1,
             "#c51b7d"
            ],
            [
             0.2,
             "#de77ae"
            ],
            [
             0.3,
             "#f1b6da"
            ],
            [
             0.4,
             "#fde0ef"
            ],
            [
             0.5,
             "#f7f7f7"
            ],
            [
             0.6,
             "#e6f5d0"
            ],
            [
             0.7,
             "#b8e186"
            ],
            [
             0.8,
             "#7fbc41"
            ],
            [
             0.9,
             "#4d9221"
            ],
            [
             1,
             "#276419"
            ]
           ],
           "sequential": [
            [
             0,
             "#0d0887"
            ],
            [
             0.1111111111111111,
             "#46039f"
            ],
            [
             0.2222222222222222,
             "#7201a8"
            ],
            [
             0.3333333333333333,
             "#9c179e"
            ],
            [
             0.4444444444444444,
             "#bd3786"
            ],
            [
             0.5555555555555556,
             "#d8576b"
            ],
            [
             0.6666666666666666,
             "#ed7953"
            ],
            [
             0.7777777777777778,
             "#fb9f3a"
            ],
            [
             0.8888888888888888,
             "#fdca26"
            ],
            [
             1,
             "#f0f921"
            ]
           ],
           "sequentialminus": [
            [
             0,
             "#0d0887"
            ],
            [
             0.1111111111111111,
             "#46039f"
            ],
            [
             0.2222222222222222,
             "#7201a8"
            ],
            [
             0.3333333333333333,
             "#9c179e"
            ],
            [
             0.4444444444444444,
             "#bd3786"
            ],
            [
             0.5555555555555556,
             "#d8576b"
            ],
            [
             0.6666666666666666,
             "#ed7953"
            ],
            [
             0.7777777777777778,
             "#fb9f3a"
            ],
            [
             0.8888888888888888,
             "#fdca26"
            ],
            [
             1,
             "#f0f921"
            ]
           ]
          },
          "colorway": [
           "#636efa",
           "#EF553B",
           "#00cc96",
           "#ab63fa",
           "#FFA15A",
           "#19d3f3",
           "#FF6692",
           "#B6E880",
           "#FF97FF",
           "#FECB52"
          ],
          "font": {
           "color": "#2a3f5f"
          },
          "geo": {
           "bgcolor": "white",
           "lakecolor": "white",
           "landcolor": "#E5ECF6",
           "showlakes": true,
           "showland": true,
           "subunitcolor": "white"
          },
          "hoverlabel": {
           "align": "left"
          },
          "hovermode": "closest",
          "mapbox": {
           "style": "light"
          },
          "paper_bgcolor": "white",
          "plot_bgcolor": "#E5ECF6",
          "polar": {
           "angularaxis": {
            "gridcolor": "white",
            "linecolor": "white",
            "ticks": ""
           },
           "bgcolor": "#E5ECF6",
           "radialaxis": {
            "gridcolor": "white",
            "linecolor": "white",
            "ticks": ""
           }
          },
          "scene": {
           "xaxis": {
            "backgroundcolor": "#E5ECF6",
            "gridcolor": "white",
            "gridwidth": 2,
            "linecolor": "white",
            "showbackground": true,
            "ticks": "",
            "zerolinecolor": "white"
           },
           "yaxis": {
            "backgroundcolor": "#E5ECF6",
            "gridcolor": "white",
            "gridwidth": 2,
            "linecolor": "white",
            "showbackground": true,
            "ticks": "",
            "zerolinecolor": "white"
           },
           "zaxis": {
            "backgroundcolor": "#E5ECF6",
            "gridcolor": "white",
            "gridwidth": 2,
            "linecolor": "white",
            "showbackground": true,
            "ticks": "",
            "zerolinecolor": "white"
           }
          },
          "shapedefaults": {
           "line": {
            "color": "#2a3f5f"
           }
          },
          "ternary": {
           "aaxis": {
            "gridcolor": "white",
            "linecolor": "white",
            "ticks": ""
           },
           "baxis": {
            "gridcolor": "white",
            "linecolor": "white",
            "ticks": ""
           },
           "bgcolor": "#E5ECF6",
           "caxis": {
            "gridcolor": "white",
            "linecolor": "white",
            "ticks": ""
           }
          },
          "title": {
           "x": 0.05
          },
          "xaxis": {
           "automargin": true,
           "gridcolor": "white",
           "linecolor": "white",
           "ticks": "",
           "title": {
            "standoff": 15
           },
           "zerolinecolor": "white",
           "zerolinewidth": 2
          },
          "yaxis": {
           "automargin": true,
           "gridcolor": "white",
           "linecolor": "white",
           "ticks": "",
           "title": {
            "standoff": 15
           },
           "zerolinecolor": "white",
           "zerolinewidth": 2
          }
         }
        },
        "title": {
         "text": "3D UMAP Visualization of Q&A Embeddings"
        },
        "width": 1024
       }
      }
     },
     "metadata": {},
     "output_type": "display_data"
    }
   ],
   "source": [
    "create_3d_plot(embeddings_3d_umap, embeddings_df, \"3D UMAP Visualization of Q&A Embeddings\")"
   ]
  },
  {
   "cell_type": "markdown",
   "id": "c6a9bd97-b863-48ee-9687-5804050095c2",
   "metadata": {},
   "source": [
    "### Plots 2D"
   ]
  },
  {
   "cell_type": "code",
   "execution_count": 19,
   "id": "a2f7dbcc-7509-4a4e-b709-0ba326e06108",
   "metadata": {},
   "outputs": [
    {
     "data": {
      "image/png": "[encoded data removed]",
      "text/plain": [
       "<Figure size 1200x800 with 1 Axes>"
      ]
     },
     "metadata": {},
     "output_type": "display_data"
    }
   ],
   "source": [
    "create_2d_plot(embeddings_2d_tsne, embeddings_df, '2D t-SNE Visualization of Q&A Embeddings')"
   ]
  },
  {
   "cell_type": "code",
   "execution_count": 20,
   "id": "71e6304e-a0da-4819-8499-c3a590a87e74",
   "metadata": {},
   "outputs": [
    {
     "data": {
      "image/png": "[encoded data removed]",
      "text/plain": [
       "<Figure size 1200x800 with 1 Axes>"
      ]
     },
     "metadata": {},
     "output_type": "display_data"
    }
   ],
   "source": [
    "create_2d_plot(embeddings_2d_pca, embeddings_df, '2D PCA Visualization of Q&A Embeddings')"
   ]
  },
  {
   "cell_type": "code",
   "execution_count": 21,
   "id": "563be93d-a24c-4669-95af-6d20d8a9f787",
   "metadata": {},
   "outputs": [
    {
     "data": {
      "image/png": "[encoded data removed]",
      "text/plain": [
       "<Figure size 1200x800 with 1 Axes>"
      ]
     },
     "metadata": {},
     "output_type": "display_data"
    }
   ],
   "source": [
    "create_2d_plot(embeddings_2d_umap, embeddings_df, '2D UMAP Visualization of Q&A Embeddings')"
   ]
  },
  {
   "cell_type": "code",
   "execution_count": null,
   "id": "5da888bb-638e-44f7-8cfd-8cf51376cd94",
   "metadata": {},
   "outputs": [],
   "source": []
  }
 ],
 "metadata": {
  "kernelspec": {
   "display_name": "Python 3 (ipykernel)",
   "language": "python",
   "name": "python3"
  },
  "language_info": {
   "codemirror_mode": {
    "name": "ipython",
    "version": 3
   },
   "file_extension": ".py",
   "mimetype": "text/x-python",
   "name": "python",
   "nbconvert_exporter": "python",
   "pygments_lexer": "ipython3",
   "version": "3.10.18"
  }
 },
 "nbformat": 4,
 "nbformat_minor": 5
}
